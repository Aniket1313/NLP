{
  "nbformat": 4,
  "nbformat_minor": 0,
  "metadata": {
    "colab": {
      "name": "Color_similarity.ipynb",
      "provenance": [],
      "collapsed_sections": []
    },
    "kernelspec": {
      "name": "python3",
      "display_name": "Python 3"
    }
  },
  "cells": [
    {
      "cell_type": "markdown",
      "metadata": {
        "id": "5cmV_ZIxqYQX",
        "colab_type": "text"
      },
      "source": [
        "## Finding Color Similarity using Spacy"
      ]
    },
    {
      "cell_type": "code",
      "metadata": {
        "id": "lBkhj4urrwYA",
        "colab_type": "code",
        "colab": {}
      },
      "source": [
        "import json\n",
        "import pandas as pd"
      ],
      "execution_count": null,
      "outputs": []
    },
    {
      "cell_type": "code",
      "metadata": {
        "id": "Hj6Li4LSCvZ9",
        "colab_type": "code",
        "colab": {}
      },
      "source": [
        "url ='https://raw.githubusercontent.com/dariusk/corpora/master/data/colors/xkcd.json'"
      ],
      "execution_count": null,
      "outputs": []
    },
    {
      "cell_type": "code",
      "metadata": {
        "id": "TCy0sAzkA9kQ",
        "colab_type": "code",
        "colab": {}
      },
      "source": [
        "color_data = json.load(open('colors.json.txt'))"
      ],
      "execution_count": null,
      "outputs": []
    },
    {
      "cell_type": "code",
      "metadata": {
        "id": "jG0P3MDBGHIg",
        "colab_type": "code",
        "colab": {
          "base_uri": "https://localhost:8080/",
          "height": 343
        },
        "outputId": "adfcdc66-a29b-4cd7-dd93-f713a3f67a5b"
      },
      "source": [
        "\n",
        "df_colors = pd.read_json(r'https://raw.githubusercontent.com/dariusk/corpora/master/data/colors/xkcd.json')\n",
        "df_colors.head(10)"
      ],
      "execution_count": null,
      "outputs": [
        {
          "output_type": "execute_result",
          "data": {
            "text/html": [
              "<div>\n",
              "<style scoped>\n",
              "    .dataframe tbody tr th:only-of-type {\n",
              "        vertical-align: middle;\n",
              "    }\n",
              "\n",
              "    .dataframe tbody tr th {\n",
              "        vertical-align: top;\n",
              "    }\n",
              "\n",
              "    .dataframe thead th {\n",
              "        text-align: right;\n",
              "    }\n",
              "</style>\n",
              "<table border=\"1\" class=\"dataframe\">\n",
              "  <thead>\n",
              "    <tr style=\"text-align: right;\">\n",
              "      <th></th>\n",
              "      <th>description</th>\n",
              "      <th>colors</th>\n",
              "    </tr>\n",
              "  </thead>\n",
              "  <tbody>\n",
              "    <tr>\n",
              "      <th>0</th>\n",
              "      <td>The 954 most common RGB monitor colors, as def...</td>\n",
              "      <td>{'color': 'cloudy blue', 'hex': '#acc2d9'}</td>\n",
              "    </tr>\n",
              "    <tr>\n",
              "      <th>1</th>\n",
              "      <td>The 954 most common RGB monitor colors, as def...</td>\n",
              "      <td>{'color': 'dark pastel green', 'hex': '#56ae57'}</td>\n",
              "    </tr>\n",
              "    <tr>\n",
              "      <th>2</th>\n",
              "      <td>The 954 most common RGB monitor colors, as def...</td>\n",
              "      <td>{'color': 'dust', 'hex': '#b2996e'}</td>\n",
              "    </tr>\n",
              "    <tr>\n",
              "      <th>3</th>\n",
              "      <td>The 954 most common RGB monitor colors, as def...</td>\n",
              "      <td>{'color': 'electric lime', 'hex': '#a8ff04'}</td>\n",
              "    </tr>\n",
              "    <tr>\n",
              "      <th>4</th>\n",
              "      <td>The 954 most common RGB monitor colors, as def...</td>\n",
              "      <td>{'color': 'fresh green', 'hex': '#69d84f'}</td>\n",
              "    </tr>\n",
              "    <tr>\n",
              "      <th>5</th>\n",
              "      <td>The 954 most common RGB monitor colors, as def...</td>\n",
              "      <td>{'color': 'light eggplant', 'hex': '#894585'}</td>\n",
              "    </tr>\n",
              "    <tr>\n",
              "      <th>6</th>\n",
              "      <td>The 954 most common RGB monitor colors, as def...</td>\n",
              "      <td>{'color': 'nasty green', 'hex': '#70b23f'}</td>\n",
              "    </tr>\n",
              "    <tr>\n",
              "      <th>7</th>\n",
              "      <td>The 954 most common RGB monitor colors, as def...</td>\n",
              "      <td>{'color': 'really light blue', 'hex': '#d4ffff'}</td>\n",
              "    </tr>\n",
              "    <tr>\n",
              "      <th>8</th>\n",
              "      <td>The 954 most common RGB monitor colors, as def...</td>\n",
              "      <td>{'color': 'tea', 'hex': '#65ab7c'}</td>\n",
              "    </tr>\n",
              "    <tr>\n",
              "      <th>9</th>\n",
              "      <td>The 954 most common RGB monitor colors, as def...</td>\n",
              "      <td>{'color': 'warm purple', 'hex': '#952e8f'}</td>\n",
              "    </tr>\n",
              "  </tbody>\n",
              "</table>\n",
              "</div>"
            ],
            "text/plain": [
              "                                         description                                            colors\n",
              "0  The 954 most common RGB monitor colors, as def...        {'color': 'cloudy blue', 'hex': '#acc2d9'}\n",
              "1  The 954 most common RGB monitor colors, as def...  {'color': 'dark pastel green', 'hex': '#56ae57'}\n",
              "2  The 954 most common RGB monitor colors, as def...               {'color': 'dust', 'hex': '#b2996e'}\n",
              "3  The 954 most common RGB monitor colors, as def...      {'color': 'electric lime', 'hex': '#a8ff04'}\n",
              "4  The 954 most common RGB monitor colors, as def...        {'color': 'fresh green', 'hex': '#69d84f'}\n",
              "5  The 954 most common RGB monitor colors, as def...     {'color': 'light eggplant', 'hex': '#894585'}\n",
              "6  The 954 most common RGB monitor colors, as def...        {'color': 'nasty green', 'hex': '#70b23f'}\n",
              "7  The 954 most common RGB monitor colors, as def...  {'color': 'really light blue', 'hex': '#d4ffff'}\n",
              "8  The 954 most common RGB monitor colors, as def...                {'color': 'tea', 'hex': '#65ab7c'}\n",
              "9  The 954 most common RGB monitor colors, as def...        {'color': 'warm purple', 'hex': '#952e8f'}"
            ]
          },
          "metadata": {
            "tags": []
          },
          "execution_count": 78
        }
      ]
    },
    {
      "cell_type": "code",
      "metadata": {
        "id": "Rbun_L93F5Sx",
        "colab_type": "code",
        "colab": {}
      },
      "source": [
        "df_colors.drop(['description'], axis = 1,inplace =True) "
      ],
      "execution_count": null,
      "outputs": []
    },
    {
      "cell_type": "code",
      "metadata": {
        "id": "4XtMpJV4GzaO",
        "colab_type": "code",
        "colab": {
          "base_uri": "https://localhost:8080/",
          "height": 343
        },
        "outputId": "23ec2c6f-a48c-4c1d-91bd-c43e70e2a38a"
      },
      "source": [
        "df_colors.tail(10)"
      ],
      "execution_count": null,
      "outputs": [
        {
          "output_type": "execute_result",
          "data": {
            "text/html": [
              "<div>\n",
              "<style scoped>\n",
              "    .dataframe tbody tr th:only-of-type {\n",
              "        vertical-align: middle;\n",
              "    }\n",
              "\n",
              "    .dataframe tbody tr th {\n",
              "        vertical-align: top;\n",
              "    }\n",
              "\n",
              "    .dataframe thead th {\n",
              "        text-align: right;\n",
              "    }\n",
              "</style>\n",
              "<table border=\"1\" class=\"dataframe\">\n",
              "  <thead>\n",
              "    <tr style=\"text-align: right;\">\n",
              "      <th></th>\n",
              "      <th>colors</th>\n",
              "    </tr>\n",
              "  </thead>\n",
              "  <tbody>\n",
              "    <tr>\n",
              "      <th>939</th>\n",
              "      <td>{'color': 'light green', 'hex': '#96f97b'}</td>\n",
              "    </tr>\n",
              "    <tr>\n",
              "      <th>940</th>\n",
              "      <td>{'color': 'orange', 'hex': '#f97306'}</td>\n",
              "    </tr>\n",
              "    <tr>\n",
              "      <th>941</th>\n",
              "      <td>{'color': 'teal', 'hex': '#029386'}</td>\n",
              "    </tr>\n",
              "    <tr>\n",
              "      <th>942</th>\n",
              "      <td>{'color': 'light blue', 'hex': '#95d0fc'}</td>\n",
              "    </tr>\n",
              "    <tr>\n",
              "      <th>943</th>\n",
              "      <td>{'color': 'red', 'hex': '#e50000'}</td>\n",
              "    </tr>\n",
              "    <tr>\n",
              "      <th>944</th>\n",
              "      <td>{'color': 'brown', 'hex': '#653700'}</td>\n",
              "    </tr>\n",
              "    <tr>\n",
              "      <th>945</th>\n",
              "      <td>{'color': 'pink', 'hex': '#ff81c0'}</td>\n",
              "    </tr>\n",
              "    <tr>\n",
              "      <th>946</th>\n",
              "      <td>{'color': 'blue', 'hex': '#0343df'}</td>\n",
              "    </tr>\n",
              "    <tr>\n",
              "      <th>947</th>\n",
              "      <td>{'color': 'green', 'hex': '#15b01a'}</td>\n",
              "    </tr>\n",
              "    <tr>\n",
              "      <th>948</th>\n",
              "      <td>{'color': 'purple', 'hex': '#7e1e9c'}</td>\n",
              "    </tr>\n",
              "  </tbody>\n",
              "</table>\n",
              "</div>"
            ],
            "text/plain": [
              "                                         colors\n",
              "939  {'color': 'light green', 'hex': '#96f97b'}\n",
              "940       {'color': 'orange', 'hex': '#f97306'}\n",
              "941         {'color': 'teal', 'hex': '#029386'}\n",
              "942   {'color': 'light blue', 'hex': '#95d0fc'}\n",
              "943          {'color': 'red', 'hex': '#e50000'}\n",
              "944        {'color': 'brown', 'hex': '#653700'}\n",
              "945         {'color': 'pink', 'hex': '#ff81c0'}\n",
              "946         {'color': 'blue', 'hex': '#0343df'}\n",
              "947        {'color': 'green', 'hex': '#15b01a'}\n",
              "948       {'color': 'purple', 'hex': '#7e1e9c'}"
            ]
          },
          "metadata": {
            "tags": []
          },
          "execution_count": 80
        }
      ]
    },
    {
      "cell_type": "code",
      "metadata": {
        "id": "uzLJl05nHY0e",
        "colab_type": "code",
        "colab": {}
      },
      "source": [
        "col_json = json.loads(open(\"xkcd.json\").read())"
      ],
      "execution_count": null,
      "outputs": []
    },
    {
      "cell_type": "code",
      "metadata": {
        "id": "nKN5DX0XHzSp",
        "colab_type": "code",
        "colab": {
          "base_uri": "https://localhost:8080/",
          "height": 1000
        },
        "outputId": "0bd11815-a917-4296-e566-5f29a0282e30"
      },
      "source": [
        "col_json"
      ],
      "execution_count": null,
      "outputs": [
        {
          "output_type": "execute_result",
          "data": {
            "text/plain": [
              "{'colors': [{'color': 'cloudy blue', 'hex': '#acc2d9'},\n",
              "  {'color': 'dark pastel green', 'hex': '#56ae57'},\n",
              "  {'color': 'dust', 'hex': '#b2996e'},\n",
              "  {'color': 'electric lime', 'hex': '#a8ff04'},\n",
              "  {'color': 'fresh green', 'hex': '#69d84f'},\n",
              "  {'color': 'light eggplant', 'hex': '#894585'},\n",
              "  {'color': 'nasty green', 'hex': '#70b23f'},\n",
              "  {'color': 'really light blue', 'hex': '#d4ffff'},\n",
              "  {'color': 'tea', 'hex': '#65ab7c'},\n",
              "  {'color': 'warm purple', 'hex': '#952e8f'},\n",
              "  {'color': 'yellowish tan', 'hex': '#fcfc81'},\n",
              "  {'color': 'cement', 'hex': '#a5a391'},\n",
              "  {'color': 'dark grass green', 'hex': '#388004'},\n",
              "  {'color': 'dusty teal', 'hex': '#4c9085'},\n",
              "  {'color': 'grey teal', 'hex': '#5e9b8a'},\n",
              "  {'color': 'macaroni and cheese', 'hex': '#efb435'},\n",
              "  {'color': 'pinkish tan', 'hex': '#d99b82'},\n",
              "  {'color': 'spruce', 'hex': '#0a5f38'},\n",
              "  {'color': 'strong blue', 'hex': '#0c06f7'},\n",
              "  {'color': 'toxic green', 'hex': '#61de2a'},\n",
              "  {'color': 'windows blue', 'hex': '#3778bf'},\n",
              "  {'color': 'blue blue', 'hex': '#2242c7'},\n",
              "  {'color': 'blue with a hint of purple', 'hex': '#533cc6'},\n",
              "  {'color': 'booger', 'hex': '#9bb53c'},\n",
              "  {'color': 'bright sea green', 'hex': '#05ffa6'},\n",
              "  {'color': 'dark green blue', 'hex': '#1f6357'},\n",
              "  {'color': 'deep turquoise', 'hex': '#017374'},\n",
              "  {'color': 'green teal', 'hex': '#0cb577'},\n",
              "  {'color': 'strong pink', 'hex': '#ff0789'},\n",
              "  {'color': 'bland', 'hex': '#afa88b'},\n",
              "  {'color': 'deep aqua', 'hex': '#08787f'},\n",
              "  {'color': 'lavender pink', 'hex': '#dd85d7'},\n",
              "  {'color': 'light moss green', 'hex': '#a6c875'},\n",
              "  {'color': 'light seafoam green', 'hex': '#a7ffb5'},\n",
              "  {'color': 'olive yellow', 'hex': '#c2b709'},\n",
              "  {'color': 'pig pink', 'hex': '#e78ea5'},\n",
              "  {'color': 'deep lilac', 'hex': '#966ebd'},\n",
              "  {'color': 'desert', 'hex': '#ccad60'},\n",
              "  {'color': 'dusty lavender', 'hex': '#ac86a8'},\n",
              "  {'color': 'purpley grey', 'hex': '#947e94'},\n",
              "  {'color': 'purply', 'hex': '#983fb2'},\n",
              "  {'color': 'candy pink', 'hex': '#ff63e9'},\n",
              "  {'color': 'light pastel green', 'hex': '#b2fba5'},\n",
              "  {'color': 'boring green', 'hex': '#63b365'},\n",
              "  {'color': 'kiwi green', 'hex': '#8ee53f'},\n",
              "  {'color': 'light grey green', 'hex': '#b7e1a1'},\n",
              "  {'color': 'orange pink', 'hex': '#ff6f52'},\n",
              "  {'color': 'tea green', 'hex': '#bdf8a3'},\n",
              "  {'color': 'very light brown', 'hex': '#d3b683'},\n",
              "  {'color': 'egg shell', 'hex': '#fffcc4'},\n",
              "  {'color': 'eggplant purple', 'hex': '#430541'},\n",
              "  {'color': 'powder pink', 'hex': '#ffb2d0'},\n",
              "  {'color': 'reddish grey', 'hex': '#997570'},\n",
              "  {'color': 'baby shit brown', 'hex': '#ad900d'},\n",
              "  {'color': 'liliac', 'hex': '#c48efd'},\n",
              "  {'color': 'stormy blue', 'hex': '#507b9c'},\n",
              "  {'color': 'ugly brown', 'hex': '#7d7103'},\n",
              "  {'color': 'custard', 'hex': '#fffd78'},\n",
              "  {'color': 'darkish pink', 'hex': '#da467d'},\n",
              "  {'color': 'deep brown', 'hex': '#410200'},\n",
              "  {'color': 'greenish beige', 'hex': '#c9d179'},\n",
              "  {'color': 'manilla', 'hex': '#fffa86'},\n",
              "  {'color': 'off blue', 'hex': '#5684ae'},\n",
              "  {'color': 'battleship grey', 'hex': '#6b7c85'},\n",
              "  {'color': 'browny green', 'hex': '#6f6c0a'},\n",
              "  {'color': 'bruise', 'hex': '#7e4071'},\n",
              "  {'color': 'kelley green', 'hex': '#009337'},\n",
              "  {'color': 'sickly yellow', 'hex': '#d0e429'},\n",
              "  {'color': 'sunny yellow', 'hex': '#fff917'},\n",
              "  {'color': 'azul', 'hex': '#1d5dec'},\n",
              "  {'color': 'darkgreen', 'hex': '#054907'},\n",
              "  {'color': 'green/yellow', 'hex': '#b5ce08'},\n",
              "  {'color': 'lichen', 'hex': '#8fb67b'},\n",
              "  {'color': 'light light green', 'hex': '#c8ffb0'},\n",
              "  {'color': 'pale gold', 'hex': '#fdde6c'},\n",
              "  {'color': 'sun yellow', 'hex': '#ffdf22'},\n",
              "  {'color': 'tan green', 'hex': '#a9be70'},\n",
              "  {'color': 'burple', 'hex': '#6832e3'},\n",
              "  {'color': 'butterscotch', 'hex': '#fdb147'},\n",
              "  {'color': 'toupe', 'hex': '#c7ac7d'},\n",
              "  {'color': 'dark cream', 'hex': '#fff39a'},\n",
              "  {'color': 'indian red', 'hex': '#850e04'},\n",
              "  {'color': 'light lavendar', 'hex': '#efc0fe'},\n",
              "  {'color': 'poison green', 'hex': '#40fd14'},\n",
              "  {'color': 'baby puke green', 'hex': '#b6c406'},\n",
              "  {'color': 'bright yellow green', 'hex': '#9dff00'},\n",
              "  {'color': 'charcoal grey', 'hex': '#3c4142'},\n",
              "  {'color': 'squash', 'hex': '#f2ab15'},\n",
              "  {'color': 'cinnamon', 'hex': '#ac4f06'},\n",
              "  {'color': 'light pea green', 'hex': '#c4fe82'},\n",
              "  {'color': 'radioactive green', 'hex': '#2cfa1f'},\n",
              "  {'color': 'raw sienna', 'hex': '#9a6200'},\n",
              "  {'color': 'baby purple', 'hex': '#ca9bf7'},\n",
              "  {'color': 'cocoa', 'hex': '#875f42'},\n",
              "  {'color': 'light royal blue', 'hex': '#3a2efe'},\n",
              "  {'color': 'orangeish', 'hex': '#fd8d49'},\n",
              "  {'color': 'rust brown', 'hex': '#8b3103'},\n",
              "  {'color': 'sand brown', 'hex': '#cba560'},\n",
              "  {'color': 'swamp', 'hex': '#698339'},\n",
              "  {'color': 'tealish green', 'hex': '#0cdc73'},\n",
              "  {'color': 'burnt siena', 'hex': '#b75203'},\n",
              "  {'color': 'camo', 'hex': '#7f8f4e'},\n",
              "  {'color': 'dusk blue', 'hex': '#26538d'},\n",
              "  {'color': 'fern', 'hex': '#63a950'},\n",
              "  {'color': 'old rose', 'hex': '#c87f89'},\n",
              "  {'color': 'pale light green', 'hex': '#b1fc99'},\n",
              "  {'color': 'peachy pink', 'hex': '#ff9a8a'},\n",
              "  {'color': 'rosy pink', 'hex': '#f6688e'},\n",
              "  {'color': 'light bluish green', 'hex': '#76fda8'},\n",
              "  {'color': 'light bright green', 'hex': '#53fe5c'},\n",
              "  {'color': 'light neon green', 'hex': '#4efd54'},\n",
              "  {'color': 'light seafoam', 'hex': '#a0febf'},\n",
              "  {'color': 'tiffany blue', 'hex': '#7bf2da'},\n",
              "  {'color': 'washed out green', 'hex': '#bcf5a6'},\n",
              "  {'color': 'browny orange', 'hex': '#ca6b02'},\n",
              "  {'color': 'nice blue', 'hex': '#107ab0'},\n",
              "  {'color': 'sapphire', 'hex': '#2138ab'},\n",
              "  {'color': 'greyish teal', 'hex': '#719f91'},\n",
              "  {'color': 'orangey yellow', 'hex': '#fdb915'},\n",
              "  {'color': 'parchment', 'hex': '#fefcaf'},\n",
              "  {'color': 'straw', 'hex': '#fcf679'},\n",
              "  {'color': 'very dark brown', 'hex': '#1d0200'},\n",
              "  {'color': 'terracota', 'hex': '#cb6843'},\n",
              "  {'color': 'ugly blue', 'hex': '#31668a'},\n",
              "  {'color': 'clear blue', 'hex': '#247afd'},\n",
              "  {'color': 'creme', 'hex': '#ffffb6'},\n",
              "  {'color': 'foam green', 'hex': '#90fda9'},\n",
              "  {'color': 'grey/green', 'hex': '#86a17d'},\n",
              "  {'color': 'light gold', 'hex': '#fddc5c'},\n",
              "  {'color': 'seafoam blue', 'hex': '#78d1b6'},\n",
              "  {'color': 'topaz', 'hex': '#13bbaf'},\n",
              "  {'color': 'violet pink', 'hex': '#fb5ffc'},\n",
              "  {'color': 'wintergreen', 'hex': '#20f986'},\n",
              "  {'color': 'yellow tan', 'hex': '#ffe36e'},\n",
              "  {'color': 'dark fuchsia', 'hex': '#9d0759'},\n",
              "  {'color': 'indigo blue', 'hex': '#3a18b1'},\n",
              "  {'color': 'light yellowish green', 'hex': '#c2ff89'},\n",
              "  {'color': 'pale magenta', 'hex': '#d767ad'},\n",
              "  {'color': 'rich purple', 'hex': '#720058'},\n",
              "  {'color': 'sunflower yellow', 'hex': '#ffda03'},\n",
              "  {'color': 'green/blue', 'hex': '#01c08d'},\n",
              "  {'color': 'leather', 'hex': '#ac7434'},\n",
              "  {'color': 'racing green', 'hex': '#014600'},\n",
              "  {'color': 'vivid purple', 'hex': '#9900fa'},\n",
              "  {'color': 'dark royal blue', 'hex': '#02066f'},\n",
              "  {'color': 'hazel', 'hex': '#8e7618'},\n",
              "  {'color': 'muted pink', 'hex': '#d1768f'},\n",
              "  {'color': 'booger green', 'hex': '#96b403'},\n",
              "  {'color': 'canary', 'hex': '#fdff63'},\n",
              "  {'color': 'cool grey', 'hex': '#95a3a6'},\n",
              "  {'color': 'dark taupe', 'hex': '#7f684e'},\n",
              "  {'color': 'darkish purple', 'hex': '#751973'},\n",
              "  {'color': 'true green', 'hex': '#089404'},\n",
              "  {'color': 'coral pink', 'hex': '#ff6163'},\n",
              "  {'color': 'dark sage', 'hex': '#598556'},\n",
              "  {'color': 'dark slate blue', 'hex': '#214761'},\n",
              "  {'color': 'flat blue', 'hex': '#3c73a8'},\n",
              "  {'color': 'mushroom', 'hex': '#ba9e88'},\n",
              "  {'color': 'rich blue', 'hex': '#021bf9'},\n",
              "  {'color': 'dirty purple', 'hex': '#734a65'},\n",
              "  {'color': 'greenblue', 'hex': '#23c48b'},\n",
              "  {'color': 'icky green', 'hex': '#8fae22'},\n",
              "  {'color': 'light khaki', 'hex': '#e6f2a2'},\n",
              "  {'color': 'warm blue', 'hex': '#4b57db'},\n",
              "  {'color': 'dark hot pink', 'hex': '#d90166'},\n",
              "  {'color': 'deep sea blue', 'hex': '#015482'},\n",
              "  {'color': 'carmine', 'hex': '#9d0216'},\n",
              "  {'color': 'dark yellow green', 'hex': '#728f02'},\n",
              "  {'color': 'pale peach', 'hex': '#ffe5ad'},\n",
              "  {'color': 'plum purple', 'hex': '#4e0550'},\n",
              "  {'color': 'golden rod', 'hex': '#f9bc08'},\n",
              "  {'color': 'neon red', 'hex': '#ff073a'},\n",
              "  {'color': 'old pink', 'hex': '#c77986'},\n",
              "  {'color': 'very pale blue', 'hex': '#d6fffe'},\n",
              "  {'color': 'blood orange', 'hex': '#fe4b03'},\n",
              "  {'color': 'grapefruit', 'hex': '#fd5956'},\n",
              "  {'color': 'sand yellow', 'hex': '#fce166'},\n",
              "  {'color': 'clay brown', 'hex': '#b2713d'},\n",
              "  {'color': 'dark blue grey', 'hex': '#1f3b4d'},\n",
              "  {'color': 'flat green', 'hex': '#699d4c'},\n",
              "  {'color': 'light green blue', 'hex': '#56fca2'},\n",
              "  {'color': 'warm pink', 'hex': '#fb5581'},\n",
              "  {'color': 'dodger blue', 'hex': '#3e82fc'},\n",
              "  {'color': 'gross green', 'hex': '#a0bf16'},\n",
              "  {'color': 'ice', 'hex': '#d6fffa'},\n",
              "  {'color': 'metallic blue', 'hex': '#4f738e'},\n",
              "  {'color': 'pale salmon', 'hex': '#ffb19a'},\n",
              "  {'color': 'sap green', 'hex': '#5c8b15'},\n",
              "  {'color': 'algae', 'hex': '#54ac68'},\n",
              "  {'color': 'bluey grey', 'hex': '#89a0b0'},\n",
              "  {'color': 'greeny grey', 'hex': '#7ea07a'},\n",
              "  {'color': 'highlighter green', 'hex': '#1bfc06'},\n",
              "  {'color': 'light light blue', 'hex': '#cafffb'},\n",
              "  {'color': 'light mint', 'hex': '#b6ffbb'},\n",
              "  {'color': 'raw umber', 'hex': '#a75e09'},\n",
              "  {'color': 'vivid blue', 'hex': '#152eff'},\n",
              "  {'color': 'deep lavender', 'hex': '#8d5eb7'},\n",
              "  {'color': 'dull teal', 'hex': '#5f9e8f'},\n",
              "  {'color': 'light greenish blue', 'hex': '#63f7b4'},\n",
              "  {'color': 'mud green', 'hex': '#606602'},\n",
              "  {'color': 'pinky', 'hex': '#fc86aa'},\n",
              "  {'color': 'red wine', 'hex': '#8c0034'},\n",
              "  {'color': 'shit green', 'hex': '#758000'},\n",
              "  {'color': 'tan brown', 'hex': '#ab7e4c'},\n",
              "  {'color': 'darkblue', 'hex': '#030764'},\n",
              "  {'color': 'rosa', 'hex': '#fe86a4'},\n",
              "  {'color': 'lipstick', 'hex': '#d5174e'},\n",
              "  {'color': 'pale mauve', 'hex': '#fed0fc'},\n",
              "  {'color': 'claret', 'hex': '#680018'},\n",
              "  {'color': 'dandelion', 'hex': '#fedf08'},\n",
              "  {'color': 'orangered', 'hex': '#fe420f'},\n",
              "  {'color': 'poop green', 'hex': '#6f7c00'},\n",
              "  {'color': 'ruby', 'hex': '#ca0147'},\n",
              "  {'color': 'dark', 'hex': '#1b2431'},\n",
              "  {'color': 'greenish turquoise', 'hex': '#00fbb0'},\n",
              "  {'color': 'pastel red', 'hex': '#db5856'},\n",
              "  {'color': 'piss yellow', 'hex': '#ddd618'},\n",
              "  {'color': 'bright cyan', 'hex': '#41fdfe'},\n",
              "  {'color': 'dark coral', 'hex': '#cf524e'},\n",
              "  {'color': 'algae green', 'hex': '#21c36f'},\n",
              "  {'color': 'darkish red', 'hex': '#a90308'},\n",
              "  {'color': 'reddy brown', 'hex': '#6e1005'},\n",
              "  {'color': 'blush pink', 'hex': '#fe828c'},\n",
              "  {'color': 'camouflage green', 'hex': '#4b6113'},\n",
              "  {'color': 'lawn green', 'hex': '#4da409'},\n",
              "  {'color': 'putty', 'hex': '#beae8a'},\n",
              "  {'color': 'vibrant blue', 'hex': '#0339f8'},\n",
              "  {'color': 'dark sand', 'hex': '#a88f59'},\n",
              "  {'color': 'purple/blue', 'hex': '#5d21d0'},\n",
              "  {'color': 'saffron', 'hex': '#feb209'},\n",
              "  {'color': 'twilight', 'hex': '#4e518b'},\n",
              "  {'color': 'warm brown', 'hex': '#964e02'},\n",
              "  {'color': 'bluegrey', 'hex': '#85a3b2'},\n",
              "  {'color': 'bubble gum pink', 'hex': '#ff69af'},\n",
              "  {'color': 'duck egg blue', 'hex': '#c3fbf4'},\n",
              "  {'color': 'greenish cyan', 'hex': '#2afeb7'},\n",
              "  {'color': 'petrol', 'hex': '#005f6a'},\n",
              "  {'color': 'royal', 'hex': '#0c1793'},\n",
              "  {'color': 'butter', 'hex': '#ffff81'},\n",
              "  {'color': 'dusty orange', 'hex': '#f0833a'},\n",
              "  {'color': 'off yellow', 'hex': '#f1f33f'},\n",
              "  {'color': 'pale olive green', 'hex': '#b1d27b'},\n",
              "  {'color': 'orangish', 'hex': '#fc824a'},\n",
              "  {'color': 'leaf', 'hex': '#71aa34'},\n",
              "  {'color': 'light blue grey', 'hex': '#b7c9e2'},\n",
              "  {'color': 'dried blood', 'hex': '#4b0101'},\n",
              "  {'color': 'lightish purple', 'hex': '#a552e6'},\n",
              "  {'color': 'rusty red', 'hex': '#af2f0d'},\n",
              "  {'color': 'lavender blue', 'hex': '#8b88f8'},\n",
              "  {'color': 'light grass green', 'hex': '#9af764'},\n",
              "  {'color': 'light mint green', 'hex': '#a6fbb2'},\n",
              "  {'color': 'sunflower', 'hex': '#ffc512'},\n",
              "  {'color': 'velvet', 'hex': '#750851'},\n",
              "  {'color': 'brick orange', 'hex': '#c14a09'},\n",
              "  {'color': 'lightish red', 'hex': '#fe2f4a'},\n",
              "  {'color': 'pure blue', 'hex': '#0203e2'},\n",
              "  {'color': 'twilight blue', 'hex': '#0a437a'},\n",
              "  {'color': 'violet red', 'hex': '#a50055'},\n",
              "  {'color': 'yellowy brown', 'hex': '#ae8b0c'},\n",
              "  {'color': 'carnation', 'hex': '#fd798f'},\n",
              "  {'color': 'muddy yellow', 'hex': '#bfac05'},\n",
              "  {'color': 'dark seafoam green', 'hex': '#3eaf76'},\n",
              "  {'color': 'deep rose', 'hex': '#c74767'},\n",
              "  {'color': 'dusty red', 'hex': '#b9484e'},\n",
              "  {'color': 'grey/blue', 'hex': '#647d8e'},\n",
              "  {'color': 'lemon lime', 'hex': '#bffe28'},\n",
              "  {'color': 'purple/pink', 'hex': '#d725de'},\n",
              "  {'color': 'brown yellow', 'hex': '#b29705'},\n",
              "  {'color': 'purple brown', 'hex': '#673a3f'},\n",
              "  {'color': 'wisteria', 'hex': '#a87dc2'},\n",
              "  {'color': 'banana yellow', 'hex': '#fafe4b'},\n",
              "  {'color': 'lipstick red', 'hex': '#c0022f'},\n",
              "  {'color': 'water blue', 'hex': '#0e87cc'},\n",
              "  {'color': 'brown grey', 'hex': '#8d8468'},\n",
              "  {'color': 'vibrant purple', 'hex': '#ad03de'},\n",
              "  {'color': 'baby green', 'hex': '#8cff9e'},\n",
              "  {'color': 'barf green', 'hex': '#94ac02'},\n",
              "  {'color': 'eggshell blue', 'hex': '#c4fff7'},\n",
              "  {'color': 'sandy yellow', 'hex': '#fdee73'},\n",
              "  {'color': 'cool green', 'hex': '#33b864'},\n",
              "  {'color': 'pale', 'hex': '#fff9d0'},\n",
              "  {'color': 'blue/grey', 'hex': '#758da3'},\n",
              "  {'color': 'hot magenta', 'hex': '#f504c9'},\n",
              "  {'color': 'greyblue', 'hex': '#77a1b5'},\n",
              "  {'color': 'purpley', 'hex': '#8756e4'},\n",
              "  {'color': 'baby shit green', 'hex': '#889717'},\n",
              "  {'color': 'brownish pink', 'hex': '#c27e79'},\n",
              "  {'color': 'dark aquamarine', 'hex': '#017371'},\n",
              "  {'color': 'diarrhea', 'hex': '#9f8303'},\n",
              "  {'color': 'light mustard', 'hex': '#f7d560'},\n",
              "  {'color': 'pale sky blue', 'hex': '#bdf6fe'},\n",
              "  {'color': 'turtle green', 'hex': '#75b84f'},\n",
              "  {'color': 'bright olive', 'hex': '#9cbb04'},\n",
              "  {'color': 'dark grey blue', 'hex': '#29465b'},\n",
              "  {'color': 'greeny brown', 'hex': '#696006'},\n",
              "  {'color': 'lemon green', 'hex': '#adf802'},\n",
              "  {'color': 'light periwinkle', 'hex': '#c1c6fc'},\n",
              "  {'color': 'seaweed green', 'hex': '#35ad6b'},\n",
              "  {'color': 'sunshine yellow', 'hex': '#fffd37'},\n",
              "  {'color': 'ugly purple', 'hex': '#a442a0'},\n",
              "  {'color': 'medium pink', 'hex': '#f36196'},\n",
              "  {'color': 'puke brown', 'hex': '#947706'},\n",
              "  {'color': 'very light pink', 'hex': '#fff4f2'},\n",
              "  {'color': 'viridian', 'hex': '#1e9167'},\n",
              "  {'color': 'bile', 'hex': '#b5c306'},\n",
              "  {'color': 'faded yellow', 'hex': '#feff7f'},\n",
              "  {'color': 'very pale green', 'hex': '#cffdbc'},\n",
              "  {'color': 'vibrant green', 'hex': '#0add08'},\n",
              "  {'color': 'bright lime', 'hex': '#87fd05'},\n",
              "  {'color': 'spearmint', 'hex': '#1ef876'},\n",
              "  {'color': 'light aquamarine', 'hex': '#7bfdc7'},\n",
              "  {'color': 'light sage', 'hex': '#bcecac'},\n",
              "  {'color': 'yellowgreen', 'hex': '#bbf90f'},\n",
              "  {'color': 'baby poo', 'hex': '#ab9004'},\n",
              "  {'color': 'dark seafoam', 'hex': '#1fb57a'},\n",
              "  {'color': 'deep teal', 'hex': '#00555a'},\n",
              "  {'color': 'heather', 'hex': '#a484ac'},\n",
              "  {'color': 'rust orange', 'hex': '#c45508'},\n",
              "  {'color': 'dirty blue', 'hex': '#3f829d'},\n",
              "  {'color': 'fern green', 'hex': '#548d44'},\n",
              "  {'color': 'bright lilac', 'hex': '#c95efb'},\n",
              "  {'color': 'weird green', 'hex': '#3ae57f'},\n",
              "  {'color': 'peacock blue', 'hex': '#016795'},\n",
              "  {'color': 'avocado green', 'hex': '#87a922'},\n",
              "  {'color': 'faded orange', 'hex': '#f0944d'},\n",
              "  {'color': 'grape purple', 'hex': '#5d1451'},\n",
              "  {'color': 'hot green', 'hex': '#25ff29'},\n",
              "  {'color': 'lime yellow', 'hex': '#d0fe1d'},\n",
              "  {'color': 'mango', 'hex': '#ffa62b'},\n",
              "  {'color': 'shamrock', 'hex': '#01b44c'},\n",
              "  {'color': 'bubblegum', 'hex': '#ff6cb5'},\n",
              "  {'color': 'purplish brown', 'hex': '#6b4247'},\n",
              "  {'color': 'vomit yellow', 'hex': '#c7c10c'},\n",
              "  {'color': 'pale cyan', 'hex': '#b7fffa'},\n",
              "  {'color': 'key lime', 'hex': '#aeff6e'},\n",
              "  {'color': 'tomato red', 'hex': '#ec2d01'},\n",
              "  {'color': 'lightgreen', 'hex': '#76ff7b'},\n",
              "  {'color': 'merlot', 'hex': '#730039'},\n",
              "  {'color': 'night blue', 'hex': '#040348'},\n",
              "  {'color': 'purpleish pink', 'hex': '#df4ec8'},\n",
              "  {'color': 'apple', 'hex': '#6ecb3c'},\n",
              "  {'color': 'baby poop green', 'hex': '#8f9805'},\n",
              "  {'color': 'green apple', 'hex': '#5edc1f'},\n",
              "  {'color': 'heliotrope', 'hex': '#d94ff5'},\n",
              "  {'color': 'yellow/green', 'hex': '#c8fd3d'},\n",
              "  {'color': 'almost black', 'hex': '#070d0d'},\n",
              "  {'color': 'cool blue', 'hex': '#4984b8'},\n",
              "  {'color': 'leafy green', 'hex': '#51b73b'},\n",
              "  {'color': 'mustard brown', 'hex': '#ac7e04'},\n",
              "  {'color': 'dusk', 'hex': '#4e5481'},\n",
              "  {'color': 'dull brown', 'hex': '#876e4b'},\n",
              "  {'color': 'frog green', 'hex': '#58bc08'},\n",
              "  {'color': 'vivid green', 'hex': '#2fef10'},\n",
              "  {'color': 'bright light green', 'hex': '#2dfe54'},\n",
              "  {'color': 'fluro green', 'hex': '#0aff02'},\n",
              "  {'color': 'kiwi', 'hex': '#9cef43'},\n",
              "  {'color': 'seaweed', 'hex': '#18d17b'},\n",
              "  {'color': 'navy green', 'hex': '#35530a'},\n",
              "  {'color': 'ultramarine blue', 'hex': '#1805db'},\n",
              "  {'color': 'iris', 'hex': '#6258c4'},\n",
              "  {'color': 'pastel orange', 'hex': '#ff964f'},\n",
              "  {'color': 'yellowish orange', 'hex': '#ffab0f'},\n",
              "  {'color': 'perrywinkle', 'hex': '#8f8ce7'},\n",
              "  {'color': 'tealish', 'hex': '#24bca8'},\n",
              "  {'color': 'dark plum', 'hex': '#3f012c'},\n",
              "  {'color': 'pear', 'hex': '#cbf85f'},\n",
              "  {'color': 'pinkish orange', 'hex': '#ff724c'},\n",
              "  {'color': 'midnight purple', 'hex': '#280137'},\n",
              "  {'color': 'light urple', 'hex': '#b36ff6'},\n",
              "  {'color': 'dark mint', 'hex': '#48c072'},\n",
              "  {'color': 'greenish tan', 'hex': '#bccb7a'},\n",
              "  {'color': 'light burgundy', 'hex': '#a8415b'},\n",
              "  {'color': 'turquoise blue', 'hex': '#06b1c4'},\n",
              "  {'color': 'ugly pink', 'hex': '#cd7584'},\n",
              "  {'color': 'sandy', 'hex': '#f1da7a'},\n",
              "  {'color': 'electric pink', 'hex': '#ff0490'},\n",
              "  {'color': 'muted purple', 'hex': '#805b87'},\n",
              "  {'color': 'mid green', 'hex': '#50a747'},\n",
              "  {'color': 'greyish', 'hex': '#a8a495'},\n",
              "  {'color': 'neon yellow', 'hex': '#cfff04'},\n",
              "  {'color': 'banana', 'hex': '#ffff7e'},\n",
              "  {'color': 'carnation pink', 'hex': '#ff7fa7'},\n",
              "  {'color': 'tomato', 'hex': '#ef4026'},\n",
              "  {'color': 'sea', 'hex': '#3c9992'},\n",
              "  {'color': 'muddy brown', 'hex': '#886806'},\n",
              "  {'color': 'turquoise green', 'hex': '#04f489'},\n",
              "  {'color': 'buff', 'hex': '#fef69e'},\n",
              "  {'color': 'fawn', 'hex': '#cfaf7b'},\n",
              "  {'color': 'muted blue', 'hex': '#3b719f'},\n",
              "  {'color': 'pale rose', 'hex': '#fdc1c5'},\n",
              "  {'color': 'dark mint green', 'hex': '#20c073'},\n",
              "  {'color': 'amethyst', 'hex': '#9b5fc0'},\n",
              "  {'color': 'blue/green', 'hex': '#0f9b8e'},\n",
              "  {'color': 'chestnut', 'hex': '#742802'},\n",
              "  {'color': 'sick green', 'hex': '#9db92c'},\n",
              "  {'color': 'pea', 'hex': '#a4bf20'},\n",
              "  {'color': 'rusty orange', 'hex': '#cd5909'},\n",
              "  {'color': 'stone', 'hex': '#ada587'},\n",
              "  {'color': 'rose red', 'hex': '#be013c'},\n",
              "  {'color': 'pale aqua', 'hex': '#b8ffeb'},\n",
              "  {'color': 'deep orange', 'hex': '#dc4d01'},\n",
              "  {'color': 'earth', 'hex': '#a2653e'},\n",
              "  {'color': 'mossy green', 'hex': '#638b27'},\n",
              "  {'color': 'grassy green', 'hex': '#419c03'},\n",
              "  {'color': 'pale lime green', 'hex': '#b1ff65'},\n",
              "  {'color': 'light grey blue', 'hex': '#9dbcd4'},\n",
              "  {'color': 'pale grey', 'hex': '#fdfdfe'},\n",
              "  {'color': 'asparagus', 'hex': '#77ab56'},\n",
              "  {'color': 'blueberry', 'hex': '#464196'},\n",
              "  {'color': 'purple red', 'hex': '#990147'},\n",
              "  {'color': 'pale lime', 'hex': '#befd73'},\n",
              "  {'color': 'greenish teal', 'hex': '#32bf84'},\n",
              "  {'color': 'caramel', 'hex': '#af6f09'},\n",
              "  {'color': 'deep magenta', 'hex': '#a0025c'},\n",
              "  {'color': 'light peach', 'hex': '#ffd8b1'},\n",
              "  {'color': 'milk chocolate', 'hex': '#7f4e1e'},\n",
              "  {'color': 'ocher', 'hex': '#bf9b0c'},\n",
              "  {'color': 'off green', 'hex': '#6ba353'},\n",
              "  {'color': 'purply pink', 'hex': '#f075e6'},\n",
              "  {'color': 'lightblue', 'hex': '#7bc8f6'},\n",
              "  {'color': 'dusky blue', 'hex': '#475f94'},\n",
              "  {'color': 'golden', 'hex': '#f5bf03'},\n",
              "  {'color': 'light beige', 'hex': '#fffeb6'},\n",
              "  {'color': 'butter yellow', 'hex': '#fffd74'},\n",
              "  {'color': 'dusky purple', 'hex': '#895b7b'},\n",
              "  {'color': 'french blue', 'hex': '#436bad'},\n",
              "  {'color': 'ugly yellow', 'hex': '#d0c101'},\n",
              "  {'color': 'greeny yellow', 'hex': '#c6f808'},\n",
              "  {'color': 'orangish red', 'hex': '#f43605'},\n",
              "  {'color': 'shamrock green', 'hex': '#02c14d'},\n",
              "  {'color': 'orangish brown', 'hex': '#b25f03'},\n",
              "  {'color': 'tree green', 'hex': '#2a7e19'},\n",
              "  {'color': 'deep violet', 'hex': '#490648'},\n",
              "  {'color': 'gunmetal', 'hex': '#536267'},\n",
              "  {'color': 'blue/purple', 'hex': '#5a06ef'},\n",
              "  {'color': 'cherry', 'hex': '#cf0234'},\n",
              "  {'color': 'sandy brown', 'hex': '#c4a661'},\n",
              "  {'color': 'warm grey', 'hex': '#978a84'},\n",
              "  {'color': 'dark indigo', 'hex': '#1f0954'},\n",
              "  {'color': 'midnight', 'hex': '#03012d'},\n",
              "  {'color': 'bluey green', 'hex': '#2bb179'},\n",
              "  {'color': 'grey pink', 'hex': '#c3909b'},\n",
              "  {'color': 'soft purple', 'hex': '#a66fb5'},\n",
              "  {'color': 'blood', 'hex': '#770001'},\n",
              "  {'color': 'brown red', 'hex': '#922b05'},\n",
              "  {'color': 'medium grey', 'hex': '#7d7f7c'},\n",
              "  {'color': 'berry', 'hex': '#990f4b'},\n",
              "  {'color': 'poo', 'hex': '#8f7303'},\n",
              "  {'color': 'purpley pink', 'hex': '#c83cb9'},\n",
              "  {'color': 'light salmon', 'hex': '#fea993'},\n",
              "  {'color': 'snot', 'hex': '#acbb0d'},\n",
              "  {'color': 'easter purple', 'hex': '#c071fe'},\n",
              "  {'color': 'light yellow green', 'hex': '#ccfd7f'},\n",
              "  {'color': 'dark navy blue', 'hex': '#00022e'},\n",
              "  {'color': 'drab', 'hex': '#828344'},\n",
              "  {'color': 'light rose', 'hex': '#ffc5cb'},\n",
              "  {'color': 'rouge', 'hex': '#ab1239'},\n",
              "  {'color': 'purplish red', 'hex': '#b0054b'},\n",
              "  {'color': 'slime green', 'hex': '#99cc04'},\n",
              "  {'color': 'baby poop', 'hex': '#937c00'},\n",
              "  {'color': 'irish green', 'hex': '#019529'},\n",
              "  {'color': 'pink/purple', 'hex': '#ef1de7'},\n",
              "  {'color': 'dark navy', 'hex': '#000435'},\n",
              "  {'color': 'greeny blue', 'hex': '#42b395'},\n",
              "  {'color': 'light plum', 'hex': '#9d5783'},\n",
              "  {'color': 'pinkish grey', 'hex': '#c8aca9'},\n",
              "  {'color': 'dirty orange', 'hex': '#c87606'},\n",
              "  {'color': 'rust red', 'hex': '#aa2704'},\n",
              "  {'color': 'pale lilac', 'hex': '#e4cbff'},\n",
              "  {'color': 'orangey red', 'hex': '#fa4224'},\n",
              "  {'color': 'primary blue', 'hex': '#0804f9'},\n",
              "  {'color': 'kermit green', 'hex': '#5cb200'},\n",
              "  {'color': 'brownish purple', 'hex': '#76424e'},\n",
              "  {'color': 'murky green', 'hex': '#6c7a0e'},\n",
              "  {'color': 'wheat', 'hex': '#fbdd7e'},\n",
              "  {'color': 'very dark purple', 'hex': '#2a0134'},\n",
              "  {'color': 'bottle green', 'hex': '#044a05'},\n",
              "  {'color': 'watermelon', 'hex': '#fd4659'},\n",
              "  {'color': 'deep sky blue', 'hex': '#0d75f8'},\n",
              "  {'color': 'fire engine red', 'hex': '#fe0002'},\n",
              "  {'color': 'yellow ochre', 'hex': '#cb9d06'},\n",
              "  {'color': 'pumpkin orange', 'hex': '#fb7d07'},\n",
              "  {'color': 'pale olive', 'hex': '#b9cc81'},\n",
              "  {'color': 'light lilac', 'hex': '#edc8ff'},\n",
              "  {'color': 'lightish green', 'hex': '#61e160'},\n",
              "  {'color': 'carolina blue', 'hex': '#8ab8fe'},\n",
              "  {'color': 'mulberry', 'hex': '#920a4e'},\n",
              "  {'color': 'shocking pink', 'hex': '#fe02a2'},\n",
              "  {'color': 'auburn', 'hex': '#9a3001'},\n",
              "  {'color': 'bright lime green', 'hex': '#65fe08'},\n",
              "  {'color': 'celadon', 'hex': '#befdb7'},\n",
              "  {'color': 'pinkish brown', 'hex': '#b17261'},\n",
              "  {'color': 'poo brown', 'hex': '#885f01'},\n",
              "  {'color': 'bright sky blue', 'hex': '#02ccfe'},\n",
              "  {'color': 'celery', 'hex': '#c1fd95'},\n",
              "  {'color': 'dirt brown', 'hex': '#836539'},\n",
              "  {'color': 'strawberry', 'hex': '#fb2943'},\n",
              "  {'color': 'dark lime', 'hex': '#84b701'},\n",
              "  {'color': 'copper', 'hex': '#b66325'},\n",
              "  {'color': 'medium brown', 'hex': '#7f5112'},\n",
              "  {'color': 'muted green', 'hex': '#5fa052'},\n",
              "  {'color': \"robin's egg\", 'hex': '#6dedfd'},\n",
              "  {'color': 'bright aqua', 'hex': '#0bf9ea'},\n",
              "  {'color': 'bright lavender', 'hex': '#c760ff'},\n",
              "  {'color': 'ivory', 'hex': '#ffffcb'},\n",
              "  {'color': 'very light purple', 'hex': '#f6cefc'},\n",
              "  {'color': 'light navy', 'hex': '#155084'},\n",
              "  {'color': 'pink red', 'hex': '#f5054f'},\n",
              "  {'color': 'olive brown', 'hex': '#645403'},\n",
              "  {'color': 'poop brown', 'hex': '#7a5901'},\n",
              "  {'color': 'mustard green', 'hex': '#a8b504'},\n",
              "  {'color': 'ocean green', 'hex': '#3d9973'},\n",
              "  {'color': 'very dark blue', 'hex': '#000133'},\n",
              "  {'color': 'dusty green', 'hex': '#76a973'},\n",
              "  {'color': 'light navy blue', 'hex': '#2e5a88'},\n",
              "  {'color': 'minty green', 'hex': '#0bf77d'},\n",
              "  {'color': 'adobe', 'hex': '#bd6c48'},\n",
              "  {'color': 'barney', 'hex': '#ac1db8'},\n",
              "  {'color': 'jade green', 'hex': '#2baf6a'},\n",
              "  {'color': 'bright light blue', 'hex': '#26f7fd'},\n",
              "  {'color': 'light lime', 'hex': '#aefd6c'},\n",
              "  {'color': 'dark khaki', 'hex': '#9b8f55'},\n",
              "  {'color': 'orange yellow', 'hex': '#ffad01'},\n",
              "  {'color': 'ocre', 'hex': '#c69c04'},\n",
              "  {'color': 'maize', 'hex': '#f4d054'},\n",
              "  {'color': 'faded pink', 'hex': '#de9dac'},\n",
              "  {'color': 'british racing green', 'hex': '#05480d'},\n",
              "  {'color': 'sandstone', 'hex': '#c9ae74'},\n",
              "  {'color': 'mud brown', 'hex': '#60460f'},\n",
              "  {'color': 'light sea green', 'hex': '#98f6b0'},\n",
              "  {'color': 'robin egg blue', 'hex': '#8af1fe'},\n",
              "  {'color': 'aqua marine', 'hex': '#2ee8bb'},\n",
              "  {'color': 'dark sea green', 'hex': '#11875d'},\n",
              "  {'color': 'soft pink', 'hex': '#fdb0c0'},\n",
              "  {'color': 'orangey brown', 'hex': '#b16002'},\n",
              "  {'color': 'cherry red', 'hex': '#f7022a'},\n",
              "  {'color': 'burnt yellow', 'hex': '#d5ab09'},\n",
              "  {'color': 'brownish grey', 'hex': '#86775f'},\n",
              "  {'color': 'camel', 'hex': '#c69f59'},\n",
              "  {'color': 'purplish grey', 'hex': '#7a687f'},\n",
              "  {'color': 'marine', 'hex': '#042e60'},\n",
              "  {'color': 'greyish pink', 'hex': '#c88d94'},\n",
              "  {'color': 'pale turquoise', 'hex': '#a5fbd5'},\n",
              "  {'color': 'pastel yellow', 'hex': '#fffe71'},\n",
              "  {'color': 'bluey purple', 'hex': '#6241c7'},\n",
              "  {'color': 'canary yellow', 'hex': '#fffe40'},\n",
              "  {'color': 'faded red', 'hex': '#d3494e'},\n",
              "  {'color': 'sepia', 'hex': '#985e2b'},\n",
              "  {'color': 'coffee', 'hex': '#a6814c'},\n",
              "  {'color': 'bright magenta', 'hex': '#ff08e8'},\n",
              "  {'color': 'mocha', 'hex': '#9d7651'},\n",
              "  {'color': 'ecru', 'hex': '#feffca'},\n",
              "  {'color': 'purpleish', 'hex': '#98568d'},\n",
              "  {'color': 'cranberry', 'hex': '#9e003a'},\n",
              "  {'color': 'darkish green', 'hex': '#287c37'},\n",
              "  {'color': 'brown orange', 'hex': '#b96902'},\n",
              "  {'color': 'dusky rose', 'hex': '#ba6873'},\n",
              "  {'color': 'melon', 'hex': '#ff7855'},\n",
              "  {'color': 'sickly green', 'hex': '#94b21c'},\n",
              "  {'color': 'silver', 'hex': '#c5c9c7'},\n",
              "  {'color': 'purply blue', 'hex': '#661aee'},\n",
              "  {'color': 'purpleish blue', 'hex': '#6140ef'},\n",
              "  {'color': 'hospital green', 'hex': '#9be5aa'},\n",
              "  {'color': 'shit brown', 'hex': '#7b5804'},\n",
              "  {'color': 'mid blue', 'hex': '#276ab3'},\n",
              "  {'color': 'amber', 'hex': '#feb308'},\n",
              "  {'color': 'easter green', 'hex': '#8cfd7e'},\n",
              "  {'color': 'soft blue', 'hex': '#6488ea'},\n",
              "  {'color': 'cerulean blue', 'hex': '#056eee'},\n",
              "  {'color': 'golden brown', 'hex': '#b27a01'},\n",
              "  {'color': 'bright turquoise', 'hex': '#0ffef9'},\n",
              "  {'color': 'red pink', 'hex': '#fa2a55'},\n",
              "  {'color': 'red purple', 'hex': '#820747'},\n",
              "  {'color': 'greyish brown', 'hex': '#7a6a4f'},\n",
              "  {'color': 'vermillion', 'hex': '#f4320c'},\n",
              "  {'color': 'russet', 'hex': '#a13905'},\n",
              "  {'color': 'steel grey', 'hex': '#6f828a'},\n",
              "  {'color': 'lighter purple', 'hex': '#a55af4'},\n",
              "  {'color': 'bright violet', 'hex': '#ad0afd'},\n",
              "  {'color': 'prussian blue', 'hex': '#004577'},\n",
              "  {'color': 'slate green', 'hex': '#658d6d'},\n",
              "  {'color': 'dirty pink', 'hex': '#ca7b80'},\n",
              "  {'color': 'dark blue green', 'hex': '#005249'},\n",
              "  {'color': 'pine', 'hex': '#2b5d34'},\n",
              "  {'color': 'yellowy green', 'hex': '#bff128'},\n",
              "  {'color': 'dark gold', 'hex': '#b59410'},\n",
              "  {'color': 'bluish', 'hex': '#2976bb'},\n",
              "  {'color': 'darkish blue', 'hex': '#014182'},\n",
              "  {'color': 'dull red', 'hex': '#bb3f3f'},\n",
              "  {'color': 'pinky red', 'hex': '#fc2647'},\n",
              "  {'color': 'bronze', 'hex': '#a87900'},\n",
              "  {'color': 'pale teal', 'hex': '#82cbb2'},\n",
              "  {'color': 'military green', 'hex': '#667c3e'},\n",
              "  {'color': 'barbie pink', 'hex': '#fe46a5'},\n",
              "  {'color': 'bubblegum pink', 'hex': '#fe83cc'},\n",
              "  {'color': 'pea soup green', 'hex': '#94a617'},\n",
              "  {'color': 'dark mustard', 'hex': '#a88905'},\n",
              "  {'color': 'shit', 'hex': '#7f5f00'},\n",
              "  {'color': 'medium purple', 'hex': '#9e43a2'},\n",
              "  {'color': 'very dark green', 'hex': '#062e03'},\n",
              "  {'color': 'dirt', 'hex': '#8a6e45'},\n",
              "  {'color': 'dusky pink', 'hex': '#cc7a8b'},\n",
              "  {'color': 'red violet', 'hex': '#9e0168'},\n",
              "  {'color': 'lemon yellow', 'hex': '#fdff38'},\n",
              "  {'color': 'pistachio', 'hex': '#c0fa8b'},\n",
              "  {'color': 'dull yellow', 'hex': '#eedc5b'},\n",
              "  {'color': 'dark lime green', 'hex': '#7ebd01'},\n",
              "  {'color': 'denim blue', 'hex': '#3b5b92'},\n",
              "  {'color': 'teal blue', 'hex': '#01889f'},\n",
              "  {'color': 'lightish blue', 'hex': '#3d7afd'},\n",
              "  {'color': 'purpley blue', 'hex': '#5f34e7'},\n",
              "  {'color': 'light indigo', 'hex': '#6d5acf'},\n",
              "  {'color': 'swamp green', 'hex': '#748500'},\n",
              "  {'color': 'brown green', 'hex': '#706c11'},\n",
              "  {'color': 'dark maroon', 'hex': '#3c0008'},\n",
              "  {'color': 'hot purple', 'hex': '#cb00f5'},\n",
              "  {'color': 'dark forest green', 'hex': '#002d04'},\n",
              "  {'color': 'faded blue', 'hex': '#658cbb'},\n",
              "  {'color': 'drab green', 'hex': '#749551'},\n",
              "  {'color': 'light lime green', 'hex': '#b9ff66'},\n",
              "  {'color': 'snot green', 'hex': '#9dc100'},\n",
              "  {'color': 'yellowish', 'hex': '#faee66'},\n",
              "  {'color': 'light blue green', 'hex': '#7efbb3'},\n",
              "  {'color': 'bordeaux', 'hex': '#7b002c'},\n",
              "  {'color': 'light mauve', 'hex': '#c292a1'},\n",
              "  {'color': 'ocean', 'hex': '#017b92'},\n",
              "  {'color': 'marigold', 'hex': '#fcc006'},\n",
              "  {'color': 'muddy green', 'hex': '#657432'},\n",
              "  {'color': 'dull orange', 'hex': '#d8863b'},\n",
              "  {'color': 'steel', 'hex': '#738595'},\n",
              "  {'color': 'electric purple', 'hex': '#aa23ff'},\n",
              "  {'color': 'fluorescent green', 'hex': '#08ff08'},\n",
              "  {'color': 'yellowish brown', 'hex': '#9b7a01'},\n",
              "  {'color': 'blush', 'hex': '#f29e8e'},\n",
              "  {'color': 'soft green', 'hex': '#6fc276'},\n",
              "  {'color': 'bright orange', 'hex': '#ff5b00'},\n",
              "  {'color': 'lemon', 'hex': '#fdff52'},\n",
              "  {'color': 'purple grey', 'hex': '#866f85'},\n",
              "  {'color': 'acid green', 'hex': '#8ffe09'},\n",
              "  {'color': 'pale lavender', 'hex': '#eecffe'},\n",
              "  {'color': 'violet blue', 'hex': '#510ac9'},\n",
              "  {'color': 'light forest green', 'hex': '#4f9153'},\n",
              "  {'color': 'burnt red', 'hex': '#9f2305'},\n",
              "  {'color': 'khaki green', 'hex': '#728639'},\n",
              "  {'color': 'cerise', 'hex': '#de0c62'},\n",
              "  {'color': 'faded purple', 'hex': '#916e99'},\n",
              "  {'color': 'apricot', 'hex': '#ffb16d'},\n",
              "  {'color': 'dark olive green', 'hex': '#3c4d03'},\n",
              "  {'color': 'grey brown', 'hex': '#7f7053'},\n",
              "  {'color': 'green grey', 'hex': '#77926f'},\n",
              "  {'color': 'true blue', 'hex': '#010fcc'},\n",
              "  {'color': 'pale violet', 'hex': '#ceaefa'},\n",
              "  {'color': 'periwinkle blue', 'hex': '#8f99fb'},\n",
              "  {'color': 'light sky blue', 'hex': '#c6fcff'},\n",
              "  {'color': 'blurple', 'hex': '#5539cc'},\n",
              "  {'color': 'green brown', 'hex': '#544e03'},\n",
              "  {'color': 'bluegreen', 'hex': '#017a79'},\n",
              "  {'color': 'bright teal', 'hex': '#01f9c6'},\n",
              "  {'color': 'brownish yellow', 'hex': '#c9b003'},\n",
              "  {'color': 'pea soup', 'hex': '#929901'},\n",
              "  {'color': 'forest', 'hex': '#0b5509'},\n",
              "  {'color': 'barney purple', 'hex': '#a00498'},\n",
              "  {'color': 'ultramarine', 'hex': '#2000b1'},\n",
              "  {'color': 'purplish', 'hex': '#94568c'},\n",
              "  {'color': 'puke yellow', 'hex': '#c2be0e'},\n",
              "  {'color': 'bluish grey', 'hex': '#748b97'},\n",
              "  {'color': 'dark periwinkle', 'hex': '#665fd1'},\n",
              "  {'color': 'dark lilac', 'hex': '#9c6da5'},\n",
              "  {'color': 'reddish', 'hex': '#c44240'},\n",
              "  {'color': 'light maroon', 'hex': '#a24857'},\n",
              "  {'color': 'dusty purple', 'hex': '#825f87'},\n",
              "  {'color': 'terra cotta', 'hex': '#c9643b'},\n",
              "  {'color': 'avocado', 'hex': '#90b134'},\n",
              "  {'color': 'marine blue', 'hex': '#01386a'},\n",
              "  {'color': 'teal green', 'hex': '#25a36f'},\n",
              "  {'color': 'slate grey', 'hex': '#59656d'},\n",
              "  {'color': 'lighter green', 'hex': '#75fd63'},\n",
              "  {'color': 'electric green', 'hex': '#21fc0d'},\n",
              "  {'color': 'dusty blue', 'hex': '#5a86ad'},\n",
              "  {'color': 'golden yellow', 'hex': '#fec615'},\n",
              "  {'color': 'bright yellow', 'hex': '#fffd01'},\n",
              "  {'color': 'light lavender', 'hex': '#dfc5fe'},\n",
              "  {'color': 'umber', 'hex': '#b26400'},\n",
              "  {'color': 'poop', 'hex': '#7f5e00'},\n",
              "  {'color': 'dark peach', 'hex': '#de7e5d'},\n",
              "  {'color': 'jungle green', 'hex': '#048243'},\n",
              "  {'color': 'eggshell', 'hex': '#ffffd4'},\n",
              "  {'color': 'denim', 'hex': '#3b638c'},\n",
              "  {'color': 'yellow brown', 'hex': '#b79400'},\n",
              "  {'color': 'dull purple', 'hex': '#84597e'},\n",
              "  {'color': 'chocolate brown', 'hex': '#411900'},\n",
              "  {'color': 'wine red', 'hex': '#7b0323'},\n",
              "  {'color': 'neon blue', 'hex': '#04d9ff'},\n",
              "  {'color': 'dirty green', 'hex': '#667e2c'},\n",
              "  {'color': 'light tan', 'hex': '#fbeeac'},\n",
              "  {'color': 'ice blue', 'hex': '#d7fffe'},\n",
              "  {'color': 'cadet blue', 'hex': '#4e7496'},\n",
              "  {'color': 'dark mauve', 'hex': '#874c62'},\n",
              "  {'color': 'very light blue', 'hex': '#d5ffff'},\n",
              "  {'color': 'grey purple', 'hex': '#826d8c'},\n",
              "  {'color': 'pastel pink', 'hex': '#ffbacd'},\n",
              "  {'color': 'very light green', 'hex': '#d1ffbd'},\n",
              "  {'color': 'dark sky blue', 'hex': '#448ee4'},\n",
              "  {'color': 'evergreen', 'hex': '#05472a'},\n",
              "  {'color': 'dull pink', 'hex': '#d5869d'},\n",
              "  {'color': 'aubergine', 'hex': '#3d0734'},\n",
              "  {'color': 'mahogany', 'hex': '#4a0100'},\n",
              "  {'color': 'reddish orange', 'hex': '#f8481c'},\n",
              "  {'color': 'deep green', 'hex': '#02590f'},\n",
              "  {'color': 'vomit green', 'hex': '#89a203'},\n",
              "  {'color': 'purple pink', 'hex': '#e03fd8'},\n",
              "  {'color': 'dusty pink', 'hex': '#d58a94'},\n",
              "  {'color': 'faded green', 'hex': '#7bb274'},\n",
              "  {'color': 'camo green', 'hex': '#526525'},\n",
              "  {'color': 'pinky purple', 'hex': '#c94cbe'},\n",
              "  {'color': 'pink purple', 'hex': '#db4bda'},\n",
              "  {'color': 'brownish red', 'hex': '#9e3623'},\n",
              "  {'color': 'dark rose', 'hex': '#b5485d'},\n",
              "  {'color': 'mud', 'hex': '#735c12'},\n",
              "  {'color': 'brownish', 'hex': '#9c6d57'},\n",
              "  {'color': 'emerald green', 'hex': '#028f1e'},\n",
              "  {'color': 'pale brown', 'hex': '#b1916e'},\n",
              "  {'color': 'dull blue', 'hex': '#49759c'},\n",
              "  {'color': 'burnt umber', 'hex': '#a0450e'},\n",
              "  {'color': 'medium green', 'hex': '#39ad48'},\n",
              "  {'color': 'clay', 'hex': '#b66a50'},\n",
              "  {'color': 'light aqua', 'hex': '#8cffdb'},\n",
              "  {'color': 'light olive green', 'hex': '#a4be5c'},\n",
              "  {'color': 'brownish orange', 'hex': '#cb7723'},\n",
              "  {'color': 'dark aqua', 'hex': '#05696b'},\n",
              "  {'color': 'purplish pink', 'hex': '#ce5dae'},\n",
              "  {'color': 'dark salmon', 'hex': '#c85a53'},\n",
              "  {'color': 'greenish grey', 'hex': '#96ae8d'},\n",
              "  {'color': 'jade', 'hex': '#1fa774'},\n",
              "  {'color': 'ugly green', 'hex': '#7a9703'},\n",
              "  {'color': 'dark beige', 'hex': '#ac9362'},\n",
              "  {'color': 'emerald', 'hex': '#01a049'},\n",
              "  {'color': 'pale red', 'hex': '#d9544d'},\n",
              "  {'color': 'light magenta', 'hex': '#fa5ff7'},\n",
              "  {'color': 'sky', 'hex': '#82cafc'},\n",
              "  {'color': 'light cyan', 'hex': '#acfffc'},\n",
              "  {'color': 'yellow orange', 'hex': '#fcb001'},\n",
              "  {'color': 'reddish purple', 'hex': '#910951'},\n",
              "  {'color': 'reddish pink', 'hex': '#fe2c54'},\n",
              "  {'color': 'orchid', 'hex': '#c875c4'},\n",
              "  {'color': 'dirty yellow', 'hex': '#cdc50a'},\n",
              "  {'color': 'orange red', 'hex': '#fd411e'},\n",
              "  {'color': 'deep red', 'hex': '#9a0200'},\n",
              "  {'color': 'orange brown', 'hex': '#be6400'},\n",
              "  {'color': 'cobalt blue', 'hex': '#030aa7'},\n",
              "  {'color': 'neon pink', 'hex': '#fe019a'},\n",
              "  {'color': 'rose pink', 'hex': '#f7879a'},\n",
              "  {'color': 'greyish purple', 'hex': '#887191'},\n",
              "  {'color': 'raspberry', 'hex': '#b00149'},\n",
              "  {'color': 'aqua green', 'hex': '#12e193'},\n",
              "  {'color': 'salmon pink', 'hex': '#fe7b7c'},\n",
              "  {'color': 'tangerine', 'hex': '#ff9408'},\n",
              "  {'color': 'brownish green', 'hex': '#6a6e09'},\n",
              "  {'color': 'red brown', 'hex': '#8b2e16'},\n",
              "  {'color': 'greenish brown', 'hex': '#696112'},\n",
              "  {'color': 'pumpkin', 'hex': '#e17701'},\n",
              "  {'color': 'pine green', 'hex': '#0a481e'},\n",
              "  {'color': 'charcoal', 'hex': '#343837'},\n",
              "  {'color': 'baby pink', 'hex': '#ffb7ce'},\n",
              "  {'color': 'cornflower', 'hex': '#6a79f7'},\n",
              "  {'color': 'blue violet', 'hex': '#5d06e9'},\n",
              "  {'color': 'chocolate', 'hex': '#3d1c02'},\n",
              "  {'color': 'greyish green', 'hex': '#82a67d'},\n",
              "  {'color': 'scarlet', 'hex': '#be0119'},\n",
              "  {'color': 'green yellow', 'hex': '#c9ff27'},\n",
              "  {'color': 'dark olive', 'hex': '#373e02'},\n",
              "  {'color': 'sienna', 'hex': '#a9561e'},\n",
              "  {'color': 'pastel purple', 'hex': '#caa0ff'},\n",
              "  {'color': 'terracotta', 'hex': '#ca6641'},\n",
              "  {'color': 'aqua blue', 'hex': '#02d8e9'},\n",
              "  {'color': 'sage green', 'hex': '#88b378'},\n",
              "  {'color': 'blood red', 'hex': '#980002'},\n",
              "  {'color': 'deep pink', 'hex': '#cb0162'},\n",
              "  {'color': 'grass', 'hex': '#5cac2d'},\n",
              "  {'color': 'moss', 'hex': '#769958'},\n",
              "  {'color': 'pastel blue', 'hex': '#a2bffe'},\n",
              "  {'color': 'bluish green', 'hex': '#10a674'},\n",
              "  {'color': 'green blue', 'hex': '#06b48b'},\n",
              "  {'color': 'dark tan', 'hex': '#af884a'},\n",
              "  {'color': 'greenish blue', 'hex': '#0b8b87'},\n",
              "  {'color': 'pale orange', 'hex': '#ffa756'},\n",
              "  {'color': 'vomit', 'hex': '#a2a415'},\n",
              "  {'color': 'forrest green', 'hex': '#154406'},\n",
              "  {'color': 'dark lavender', 'hex': '#856798'},\n",
              "  {'color': 'dark violet', 'hex': '#34013f'},\n",
              "  {'color': 'purple blue', 'hex': '#632de9'},\n",
              "  {'color': 'dark cyan', 'hex': '#0a888a'},\n",
              "  {'color': 'olive drab', 'hex': '#6f7632'},\n",
              "  {'color': 'pinkish', 'hex': '#d46a7e'},\n",
              "  {'color': 'cobalt', 'hex': '#1e488f'},\n",
              "  {'color': 'neon purple', 'hex': '#bc13fe'},\n",
              "  {'color': 'light turquoise', 'hex': '#7ef4cc'},\n",
              "  {'color': 'apple green', 'hex': '#76cd26'},\n",
              "  {'color': 'dull green', 'hex': '#74a662'},\n",
              "  {'color': 'wine', 'hex': '#80013f'},\n",
              "  {'color': 'powder blue', 'hex': '#b1d1fc'},\n",
              "  {'color': 'off white', 'hex': '#ffffe4'},\n",
              "  {'color': 'electric blue', 'hex': '#0652ff'},\n",
              "  {'color': 'dark turquoise', 'hex': '#045c5a'},\n",
              "  {'color': 'blue purple', 'hex': '#5729ce'},\n",
              "  {'color': 'azure', 'hex': '#069af3'},\n",
              "  {'color': 'bright red', 'hex': '#ff000d'},\n",
              "  {'color': 'pinkish red', 'hex': '#f10c45'},\n",
              "  {'color': 'cornflower blue', 'hex': '#5170d7'},\n",
              "  {'color': 'light olive', 'hex': '#acbf69'},\n",
              "  {'color': 'grape', 'hex': '#6c3461'},\n",
              "  {'color': 'greyish blue', 'hex': '#5e819d'},\n",
              "  {'color': 'purplish blue', 'hex': '#601ef9'},\n",
              "  {'color': 'yellowish green', 'hex': '#b0dd16'},\n",
              "  {'color': 'greenish yellow', 'hex': '#cdfd02'},\n",
              "  {'color': 'medium blue', 'hex': '#2c6fbb'},\n",
              "  {'color': 'dusty rose', 'hex': '#c0737a'},\n",
              "  {'color': 'light violet', 'hex': '#d6b4fc'},\n",
              "  {'color': 'midnight blue', 'hex': '#020035'},\n",
              "  {'color': 'bluish purple', 'hex': '#703be7'},\n",
              "  {'color': 'red orange', 'hex': '#fd3c06'},\n",
              "  {'color': 'dark magenta', 'hex': '#960056'},\n",
              "  {'color': 'greenish', 'hex': '#40a368'},\n",
              "  {'color': 'ocean blue', 'hex': '#03719c'},\n",
              "  {'color': 'coral', 'hex': '#fc5a50'},\n",
              "  {'color': 'cream', 'hex': '#ffffc2'},\n",
              "  {'color': 'reddish brown', 'hex': '#7f2b0a'},\n",
              "  {'color': 'burnt sienna', 'hex': '#b04e0f'},\n",
              "  {'color': 'brick', 'hex': '#a03623'},\n",
              "  {'color': 'sage', 'hex': '#87ae73'},\n",
              "  {'color': 'grey green', 'hex': '#789b73'},\n",
              "  {'color': 'white', 'hex': '#ffffff'},\n",
              "  {'color': \"robin's egg blue\", 'hex': '#98eff9'},\n",
              "  {'color': 'moss green', 'hex': '#658b38'},\n",
              "  {'color': 'steel blue', 'hex': '#5a7d9a'},\n",
              "  {'color': 'eggplant', 'hex': '#380835'},\n",
              "  {'color': 'light yellow', 'hex': '#fffe7a'},\n",
              "  {'color': 'leaf green', 'hex': '#5ca904'},\n",
              "  {'color': 'light grey', 'hex': '#d8dcd6'},\n",
              "  {'color': 'puke', 'hex': '#a5a502'},\n",
              "  {'color': 'pinkish purple', 'hex': '#d648d7'},\n",
              "  {'color': 'sea blue', 'hex': '#047495'},\n",
              "  {'color': 'pale purple', 'hex': '#b790d4'},\n",
              "  {'color': 'slate blue', 'hex': '#5b7c99'},\n",
              "  {'color': 'blue grey', 'hex': '#607c8e'},\n",
              "  {'color': 'hunter green', 'hex': '#0b4008'},\n",
              "  {'color': 'fuchsia', 'hex': '#ed0dd9'},\n",
              "  {'color': 'crimson', 'hex': '#8c000f'},\n",
              "  {'color': 'pale yellow', 'hex': '#ffff84'},\n",
              "  {'color': 'ochre', 'hex': '#bf9005'},\n",
              "  {'color': 'mustard yellow', 'hex': '#d2bd0a'},\n",
              "  {'color': 'light red', 'hex': '#ff474c'},\n",
              "  {'color': 'cerulean', 'hex': '#0485d1'},\n",
              "  {'color': 'pale pink', 'hex': '#ffcfdc'},\n",
              "  {'color': 'deep blue', 'hex': '#040273'},\n",
              "  {'color': 'rust', 'hex': '#a83c09'},\n",
              "  {'color': 'light teal', 'hex': '#90e4c1'},\n",
              "  {'color': 'slate', 'hex': '#516572'},\n",
              "  {'color': 'goldenrod', 'hex': '#fac205'},\n",
              "  {'color': 'dark yellow', 'hex': '#d5b60a'},\n",
              "  {'color': 'dark grey', 'hex': '#363737'},\n",
              "  {'color': 'army green', 'hex': '#4b5d16'},\n",
              "  {'color': 'grey blue', 'hex': '#6b8ba4'},\n",
              "  {'color': 'seafoam', 'hex': '#80f9ad'},\n",
              "  {'color': 'puce', 'hex': '#a57e52'},\n",
              "  {'color': 'spring green', 'hex': '#a9f971'},\n",
              "  {'color': 'dark orange', 'hex': '#c65102'},\n",
              "  {'color': 'sand', 'hex': '#e2ca76'},\n",
              "  {'color': 'pastel green', 'hex': '#b0ff9d'},\n",
              "  {'color': 'mint', 'hex': '#9ffeb0'},\n",
              "  {'color': 'light orange', 'hex': '#fdaa48'},\n",
              "  {'color': 'bright pink', 'hex': '#fe01b1'},\n",
              "  {'color': 'chartreuse', 'hex': '#c1f80a'},\n",
              "  {'color': 'deep purple', 'hex': '#36013f'},\n",
              "  {'color': 'dark brown', 'hex': '#341c02'},\n",
              "  {'color': 'taupe', 'hex': '#b9a281'},\n",
              "  {'color': 'pea green', 'hex': '#8eab12'},\n",
              "  {'color': 'puke green', 'hex': '#9aae07'},\n",
              "  {'color': 'kelly green', 'hex': '#02ab2e'},\n",
              "  {'color': 'seafoam green', 'hex': '#7af9ab'},\n",
              "  {'color': 'blue green', 'hex': '#137e6d'},\n",
              "  {'color': 'khaki', 'hex': '#aaa662'},\n",
              "  {'color': 'burgundy', 'hex': '#610023'},\n",
              "  {'color': 'dark teal', 'hex': '#014d4e'},\n",
              "  {'color': 'brick red', 'hex': '#8f1402'},\n",
              "  {'color': 'royal purple', 'hex': '#4b006e'},\n",
              "  {'color': 'plum', 'hex': '#580f41'},\n",
              "  {'color': 'mint green', 'hex': '#8fff9f'},\n",
              "  {'color': 'gold', 'hex': '#dbb40c'},\n",
              "  {'color': 'baby blue', 'hex': '#a2cffe'},\n",
              "  {'color': 'yellow green', 'hex': '#c0fb2d'},\n",
              "  {'color': 'bright purple', 'hex': '#be03fd'},\n",
              "  {'color': 'dark red', 'hex': '#840000'},\n",
              "  {'color': 'pale blue', 'hex': '#d0fefe'},\n",
              "  {'color': 'grass green', 'hex': '#3f9b0b'},\n",
              "  {'color': 'navy', 'hex': '#01153e'},\n",
              "  {'color': 'aquamarine', 'hex': '#04d8b2'},\n",
              "  {'color': 'burnt orange', 'hex': '#c04e01'},\n",
              "  {'color': 'neon green', 'hex': '#0cff0c'},\n",
              "  {'color': 'bright blue', 'hex': '#0165fc'},\n",
              "  {'color': 'rose', 'hex': '#cf6275'},\n",
              "  {'color': 'light pink', 'hex': '#ffd1df'},\n",
              "  {'color': 'mustard', 'hex': '#ceb301'},\n",
              "  {'color': 'indigo', 'hex': '#380282'},\n",
              "  {'color': 'lime', 'hex': '#aaff32'},\n",
              "  {'color': 'sea green', 'hex': '#53fca1'},\n",
              "  {'color': 'periwinkle', 'hex': '#8e82fe'},\n",
              "  {'color': 'dark pink', 'hex': '#cb416b'},\n",
              "  {'color': 'olive green', 'hex': '#677a04'},\n",
              "  {'color': 'peach', 'hex': '#ffb07c'},\n",
              "  {'color': 'pale green', 'hex': '#c7fdb5'},\n",
              "  {'color': 'light brown', 'hex': '#ad8150'},\n",
              "  {'color': 'hot pink', 'hex': '#ff028d'},\n",
              "  {'color': 'black', 'hex': '#000000'},\n",
              "  {'color': 'lilac', 'hex': '#cea2fd'},\n",
              "  {'color': 'navy blue', 'hex': '#001146'},\n",
              "  {'color': 'royal blue', 'hex': '#0504aa'},\n",
              "  {'color': 'beige', 'hex': '#e6daa6'},\n",
              "  {'color': 'salmon', 'hex': '#ff796c'},\n",
              "  {'color': 'olive', 'hex': '#6e750e'},\n",
              "  {'color': 'maroon', 'hex': '#650021'},\n",
              "  {'color': 'bright green', 'hex': '#01ff07'},\n",
              "  {'color': 'dark purple', 'hex': '#35063e'},\n",
              "  {'color': 'mauve', 'hex': '#ae7181'},\n",
              "  {'color': 'forest green', 'hex': '#06470c'},\n",
              "  {'color': 'aqua', 'hex': '#13eac9'},\n",
              "  {'color': 'cyan', 'hex': '#00ffff'},\n",
              "  {'color': 'tan', 'hex': '#d1b26f'},\n",
              "  {'color': 'dark blue', 'hex': '#00035b'},\n",
              "  {'color': 'lavender', 'hex': '#c79fef'},\n",
              "  {'color': 'turquoise', 'hex': '#06c2ac'},\n",
              "  {'color': 'dark green', 'hex': '#033500'},\n",
              "  {'color': 'violet', 'hex': '#9a0eea'},\n",
              "  {'color': 'light purple', 'hex': '#bf77f6'},\n",
              "  {'color': 'lime green', 'hex': '#89fe05'},\n",
              "  {'color': 'grey', 'hex': '#929591'},\n",
              "  {'color': 'sky blue', 'hex': '#75bbfd'},\n",
              "  {'color': 'yellow', 'hex': '#ffff14'},\n",
              "  {'color': 'magenta', 'hex': '#c20078'},\n",
              "  {'color': 'light green', 'hex': '#96f97b'},\n",
              "  {'color': 'orange', 'hex': '#f97306'},\n",
              "  {'color': 'teal', 'hex': '#029386'},\n",
              "  {'color': 'light blue', 'hex': '#95d0fc'},\n",
              "  {'color': 'red', 'hex': '#e50000'},\n",
              "  {'color': 'brown', 'hex': '#653700'},\n",
              "  {'color': 'pink', 'hex': '#ff81c0'},\n",
              "  {'color': 'blue', 'hex': '#0343df'},\n",
              "  {'color': 'green', 'hex': '#15b01a'},\n",
              "  {'color': 'purple', 'hex': '#7e1e9c'}],\n",
              " 'description': 'The 954 most common RGB monitor colors, as defined by several hundred thousand participants in the xkcd color name survey.'}"
            ]
          },
          "metadata": {
            "tags": []
          },
          "execution_count": 82
        }
      ]
    },
    {
      "cell_type": "code",
      "metadata": {
        "id": "cSh8WMfEJYCw",
        "colab_type": "code",
        "colab": {
          "base_uri": "https://localhost:8080/",
          "height": 34
        },
        "outputId": "06a8cea7-6123-41ee-e2d1-707bc056f56a"
      },
      "source": [
        "type(col_json)"
      ],
      "execution_count": null,
      "outputs": [
        {
          "output_type": "execute_result",
          "data": {
            "text/plain": [
              "dict"
            ]
          },
          "metadata": {
            "tags": []
          },
          "execution_count": 83
        }
      ]
    },
    {
      "cell_type": "code",
      "metadata": {
        "id": "K4yh5B-JKlK1",
        "colab_type": "code",
        "colab": {
          "base_uri": "https://localhost:8080/",
          "height": 34
        },
        "outputId": "f91b45fb-9bed-4af3-d1e7-3e3ae2074c97"
      },
      "source": [
        "len(col_json)"
      ],
      "execution_count": null,
      "outputs": [
        {
          "output_type": "execute_result",
          "data": {
            "text/plain": [
              "2"
            ]
          },
          "metadata": {
            "tags": []
          },
          "execution_count": 84
        }
      ]
    },
    {
      "cell_type": "code",
      "metadata": {
        "id": "3cOvc4rUJoCD",
        "colab_type": "code",
        "colab": {
          "base_uri": "https://localhost:8080/",
          "height": 34
        },
        "outputId": "1b0af021-b47a-4e6c-93ff-61857fea8d9b"
      },
      "source": [
        "type(df_colors)"
      ],
      "execution_count": null,
      "outputs": [
        {
          "output_type": "execute_result",
          "data": {
            "text/plain": [
              "pandas.core.frame.DataFrame"
            ]
          },
          "metadata": {
            "tags": []
          },
          "execution_count": 85
        }
      ]
    },
    {
      "cell_type": "markdown",
      "metadata": {
        "id": "C7E3RJWhK8xT",
        "colab_type": "text"
      },
      "source": [
        "Converts hex to int"
      ]
    },
    {
      "cell_type": "code",
      "metadata": {
        "id": "rkmcv9z7JtSa",
        "colab_type": "code",
        "colab": {}
      },
      "source": [
        "def hex_to_int(s):\n",
        "    s = s.lstrip(\"#\")\n",
        "    return int(s[:2], 16), int(s[2:4], 16), int(s[4:6], 16)"
      ],
      "execution_count": null,
      "outputs": []
    },
    {
      "cell_type": "code",
      "metadata": {
        "id": "KETcnkIiKYFg",
        "colab_type": "code",
        "colab": {}
      },
      "source": [
        "colors = dict()\n",
        "for item in color_data['colors']:\n",
        "    colors[item[\"color\"]] = hex_to_int(item[\"hex\"])"
      ],
      "execution_count": null,
      "outputs": []
    },
    {
      "cell_type": "code",
      "metadata": {
        "id": "EUhmcGG1LEny",
        "colab_type": "code",
        "colab": {
          "base_uri": "https://localhost:8080/",
          "height": 1000
        },
        "outputId": "959441d8-655e-4d57-c21f-b23087288c2c"
      },
      "source": [
        "colors"
      ],
      "execution_count": null,
      "outputs": [
        {
          "output_type": "execute_result",
          "data": {
            "text/plain": [
              "{'acid green': (143, 254, 9),\n",
              " 'adobe': (189, 108, 72),\n",
              " 'algae': (84, 172, 104),\n",
              " 'algae green': (33, 195, 111),\n",
              " 'almost black': (7, 13, 13),\n",
              " 'amber': (254, 179, 8),\n",
              " 'amethyst': (155, 95, 192),\n",
              " 'apple': (110, 203, 60),\n",
              " 'apple green': (118, 205, 38),\n",
              " 'apricot': (255, 177, 109),\n",
              " 'aqua': (19, 234, 201),\n",
              " 'aqua blue': (2, 216, 233),\n",
              " 'aqua green': (18, 225, 147),\n",
              " 'aqua marine': (46, 232, 187),\n",
              " 'aquamarine': (4, 216, 178),\n",
              " 'army green': (75, 93, 22),\n",
              " 'asparagus': (119, 171, 86),\n",
              " 'aubergine': (61, 7, 52),\n",
              " 'auburn': (154, 48, 1),\n",
              " 'avocado': (144, 177, 52),\n",
              " 'avocado green': (135, 169, 34),\n",
              " 'azul': (29, 93, 236),\n",
              " 'azure': (6, 154, 243),\n",
              " 'baby blue': (162, 207, 254),\n",
              " 'baby green': (140, 255, 158),\n",
              " 'baby pink': (255, 183, 206),\n",
              " 'baby poo': (171, 144, 4),\n",
              " 'baby poop': (147, 124, 0),\n",
              " 'baby poop green': (143, 152, 5),\n",
              " 'baby puke green': (182, 196, 6),\n",
              " 'baby purple': (202, 155, 247),\n",
              " 'baby shit brown': (173, 144, 13),\n",
              " 'baby shit green': (136, 151, 23),\n",
              " 'banana': (255, 255, 126),\n",
              " 'banana yellow': (250, 254, 75),\n",
              " 'barbie pink': (254, 70, 165),\n",
              " 'barf green': (148, 172, 2),\n",
              " 'barney': (172, 29, 184),\n",
              " 'barney purple': (160, 4, 152),\n",
              " 'battleship grey': (107, 124, 133),\n",
              " 'beige': (230, 218, 166),\n",
              " 'berry': (153, 15, 75),\n",
              " 'bile': (181, 195, 6),\n",
              " 'black': (0, 0, 0),\n",
              " 'bland': (175, 168, 139),\n",
              " 'blood': (119, 0, 1),\n",
              " 'blood orange': (254, 75, 3),\n",
              " 'blood red': (152, 0, 2),\n",
              " 'blue': (3, 67, 223),\n",
              " 'blue blue': (34, 66, 199),\n",
              " 'blue green': (19, 126, 109),\n",
              " 'blue grey': (96, 124, 142),\n",
              " 'blue purple': (87, 41, 206),\n",
              " 'blue violet': (93, 6, 233),\n",
              " 'blue with a hint of purple': (83, 60, 198),\n",
              " 'blue/green': (15, 155, 142),\n",
              " 'blue/grey': (117, 141, 163),\n",
              " 'blue/purple': (90, 6, 239),\n",
              " 'blueberry': (70, 65, 150),\n",
              " 'bluegreen': (1, 122, 121),\n",
              " 'bluegrey': (133, 163, 178),\n",
              " 'bluey green': (43, 177, 121),\n",
              " 'bluey grey': (137, 160, 176),\n",
              " 'bluey purple': (98, 65, 199),\n",
              " 'bluish': (41, 118, 187),\n",
              " 'bluish green': (16, 166, 116),\n",
              " 'bluish grey': (116, 139, 151),\n",
              " 'bluish purple': (112, 59, 231),\n",
              " 'blurple': (85, 57, 204),\n",
              " 'blush': (242, 158, 142),\n",
              " 'blush pink': (254, 130, 140),\n",
              " 'booger': (155, 181, 60),\n",
              " 'booger green': (150, 180, 3),\n",
              " 'bordeaux': (123, 0, 44),\n",
              " 'boring green': (99, 179, 101),\n",
              " 'bottle green': (4, 74, 5),\n",
              " 'brick': (160, 54, 35),\n",
              " 'brick orange': (193, 74, 9),\n",
              " 'brick red': (143, 20, 2),\n",
              " 'bright aqua': (11, 249, 234),\n",
              " 'bright blue': (1, 101, 252),\n",
              " 'bright cyan': (65, 253, 254),\n",
              " 'bright green': (1, 255, 7),\n",
              " 'bright lavender': (199, 96, 255),\n",
              " 'bright light blue': (38, 247, 253),\n",
              " 'bright light green': (45, 254, 84),\n",
              " 'bright lilac': (201, 94, 251),\n",
              " 'bright lime': (135, 253, 5),\n",
              " 'bright lime green': (101, 254, 8),\n",
              " 'bright magenta': (255, 8, 232),\n",
              " 'bright olive': (156, 187, 4),\n",
              " 'bright orange': (255, 91, 0),\n",
              " 'bright pink': (254, 1, 177),\n",
              " 'bright purple': (190, 3, 253),\n",
              " 'bright red': (255, 0, 13),\n",
              " 'bright sea green': (5, 255, 166),\n",
              " 'bright sky blue': (2, 204, 254),\n",
              " 'bright teal': (1, 249, 198),\n",
              " 'bright turquoise': (15, 254, 249),\n",
              " 'bright violet': (173, 10, 253),\n",
              " 'bright yellow': (255, 253, 1),\n",
              " 'bright yellow green': (157, 255, 0),\n",
              " 'british racing green': (5, 72, 13),\n",
              " 'bronze': (168, 121, 0),\n",
              " 'brown': (101, 55, 0),\n",
              " 'brown green': (112, 108, 17),\n",
              " 'brown grey': (141, 132, 104),\n",
              " 'brown orange': (185, 105, 2),\n",
              " 'brown red': (146, 43, 5),\n",
              " 'brown yellow': (178, 151, 5),\n",
              " 'brownish': (156, 109, 87),\n",
              " 'brownish green': (106, 110, 9),\n",
              " 'brownish grey': (134, 119, 95),\n",
              " 'brownish orange': (203, 119, 35),\n",
              " 'brownish pink': (194, 126, 121),\n",
              " 'brownish purple': (118, 66, 78),\n",
              " 'brownish red': (158, 54, 35),\n",
              " 'brownish yellow': (201, 176, 3),\n",
              " 'browny green': (111, 108, 10),\n",
              " 'browny orange': (202, 107, 2),\n",
              " 'bruise': (126, 64, 113),\n",
              " 'bubble gum pink': (255, 105, 175),\n",
              " 'bubblegum': (255, 108, 181),\n",
              " 'bubblegum pink': (254, 131, 204),\n",
              " 'buff': (254, 246, 158),\n",
              " 'burgundy': (97, 0, 35),\n",
              " 'burnt orange': (192, 78, 1),\n",
              " 'burnt red': (159, 35, 5),\n",
              " 'burnt siena': (183, 82, 3),\n",
              " 'burnt sienna': (176, 78, 15),\n",
              " 'burnt umber': (160, 69, 14),\n",
              " 'burnt yellow': (213, 171, 9),\n",
              " 'burple': (104, 50, 227),\n",
              " 'butter': (255, 255, 129),\n",
              " 'butter yellow': (255, 253, 116),\n",
              " 'butterscotch': (253, 177, 71),\n",
              " 'cadet blue': (78, 116, 150),\n",
              " 'camel': (198, 159, 89),\n",
              " 'camo': (127, 143, 78),\n",
              " 'camo green': (82, 101, 37),\n",
              " 'camouflage green': (75, 97, 19),\n",
              " 'canary': (253, 255, 99),\n",
              " 'canary yellow': (255, 254, 64),\n",
              " 'candy pink': (255, 99, 233),\n",
              " 'caramel': (175, 111, 9),\n",
              " 'carmine': (157, 2, 22),\n",
              " 'carnation': (253, 121, 143),\n",
              " 'carnation pink': (255, 127, 167),\n",
              " 'carolina blue': (138, 184, 254),\n",
              " 'celadon': (190, 253, 183),\n",
              " 'celery': (193, 253, 149),\n",
              " 'cement': (165, 163, 145),\n",
              " 'cerise': (222, 12, 98),\n",
              " 'cerulean': (4, 133, 209),\n",
              " 'cerulean blue': (5, 110, 238),\n",
              " 'charcoal': (52, 56, 55),\n",
              " 'charcoal grey': (60, 65, 66),\n",
              " 'chartreuse': (193, 248, 10),\n",
              " 'cherry': (207, 2, 52),\n",
              " 'cherry red': (247, 2, 42),\n",
              " 'chestnut': (116, 40, 2),\n",
              " 'chocolate': (61, 28, 2),\n",
              " 'chocolate brown': (65, 25, 0),\n",
              " 'cinnamon': (172, 79, 6),\n",
              " 'claret': (104, 0, 24),\n",
              " 'clay': (182, 106, 80),\n",
              " 'clay brown': (178, 113, 61),\n",
              " 'clear blue': (36, 122, 253),\n",
              " 'cloudy blue': (172, 194, 217),\n",
              " 'cobalt': (30, 72, 143),\n",
              " 'cobalt blue': (3, 10, 167),\n",
              " 'cocoa': (135, 95, 66),\n",
              " 'coffee': (166, 129, 76),\n",
              " 'cool blue': (73, 132, 184),\n",
              " 'cool green': (51, 184, 100),\n",
              " 'cool grey': (149, 163, 166),\n",
              " 'copper': (182, 99, 37),\n",
              " 'coral': (252, 90, 80),\n",
              " 'coral pink': (255, 97, 99),\n",
              " 'cornflower': (106, 121, 247),\n",
              " 'cornflower blue': (81, 112, 215),\n",
              " 'cranberry': (158, 0, 58),\n",
              " 'cream': (255, 255, 194),\n",
              " 'creme': (255, 255, 182),\n",
              " 'crimson': (140, 0, 15),\n",
              " 'custard': (255, 253, 120),\n",
              " 'cyan': (0, 255, 255),\n",
              " 'dandelion': (254, 223, 8),\n",
              " 'dark': (27, 36, 49),\n",
              " 'dark aqua': (5, 105, 107),\n",
              " 'dark aquamarine': (1, 115, 113),\n",
              " 'dark beige': (172, 147, 98),\n",
              " 'dark blue': (0, 3, 91),\n",
              " 'dark blue green': (0, 82, 73),\n",
              " 'dark blue grey': (31, 59, 77),\n",
              " 'dark brown': (52, 28, 2),\n",
              " 'dark coral': (207, 82, 78),\n",
              " 'dark cream': (255, 243, 154),\n",
              " 'dark cyan': (10, 136, 138),\n",
              " 'dark forest green': (0, 45, 4),\n",
              " 'dark fuchsia': (157, 7, 89),\n",
              " 'dark gold': (181, 148, 16),\n",
              " 'dark grass green': (56, 128, 4),\n",
              " 'dark green': (3, 53, 0),\n",
              " 'dark green blue': (31, 99, 87),\n",
              " 'dark grey': (54, 55, 55),\n",
              " 'dark grey blue': (41, 70, 91),\n",
              " 'dark hot pink': (217, 1, 102),\n",
              " 'dark indigo': (31, 9, 84),\n",
              " 'dark khaki': (155, 143, 85),\n",
              " 'dark lavender': (133, 103, 152),\n",
              " 'dark lilac': (156, 109, 165),\n",
              " 'dark lime': (132, 183, 1),\n",
              " 'dark lime green': (126, 189, 1),\n",
              " 'dark magenta': (150, 0, 86),\n",
              " 'dark maroon': (60, 0, 8),\n",
              " 'dark mauve': (135, 76, 98),\n",
              " 'dark mint': (72, 192, 114),\n",
              " 'dark mint green': (32, 192, 115),\n",
              " 'dark mustard': (168, 137, 5),\n",
              " 'dark navy': (0, 4, 53),\n",
              " 'dark navy blue': (0, 2, 46),\n",
              " 'dark olive': (55, 62, 2),\n",
              " 'dark olive green': (60, 77, 3),\n",
              " 'dark orange': (198, 81, 2),\n",
              " 'dark pastel green': (86, 174, 87),\n",
              " 'dark peach': (222, 126, 93),\n",
              " 'dark periwinkle': (102, 95, 209),\n",
              " 'dark pink': (203, 65, 107),\n",
              " 'dark plum': (63, 1, 44),\n",
              " 'dark purple': (53, 6, 62),\n",
              " 'dark red': (132, 0, 0),\n",
              " 'dark rose': (181, 72, 93),\n",
              " 'dark royal blue': (2, 6, 111),\n",
              " 'dark sage': (89, 133, 86),\n",
              " 'dark salmon': (200, 90, 83),\n",
              " 'dark sand': (168, 143, 89),\n",
              " 'dark sea green': (17, 135, 93),\n",
              " 'dark seafoam': (31, 181, 122),\n",
              " 'dark seafoam green': (62, 175, 118),\n",
              " 'dark sky blue': (68, 142, 228),\n",
              " 'dark slate blue': (33, 71, 97),\n",
              " 'dark tan': (175, 136, 74),\n",
              " 'dark taupe': (127, 104, 78),\n",
              " 'dark teal': (1, 77, 78),\n",
              " 'dark turquoise': (4, 92, 90),\n",
              " 'dark violet': (52, 1, 63),\n",
              " 'dark yellow': (213, 182, 10),\n",
              " 'dark yellow green': (114, 143, 2),\n",
              " 'darkblue': (3, 7, 100),\n",
              " 'darkgreen': (5, 73, 7),\n",
              " 'darkish blue': (1, 65, 130),\n",
              " 'darkish green': (40, 124, 55),\n",
              " 'darkish pink': (218, 70, 125),\n",
              " 'darkish purple': (117, 25, 115),\n",
              " 'darkish red': (169, 3, 8),\n",
              " 'deep aqua': (8, 120, 127),\n",
              " 'deep blue': (4, 2, 115),\n",
              " 'deep brown': (65, 2, 0),\n",
              " 'deep green': (2, 89, 15),\n",
              " 'deep lavender': (141, 94, 183),\n",
              " 'deep lilac': (150, 110, 189),\n",
              " 'deep magenta': (160, 2, 92),\n",
              " 'deep orange': (220, 77, 1),\n",
              " 'deep pink': (203, 1, 98),\n",
              " 'deep purple': (54, 1, 63),\n",
              " 'deep red': (154, 2, 0),\n",
              " 'deep rose': (199, 71, 103),\n",
              " 'deep sea blue': (1, 84, 130),\n",
              " 'deep sky blue': (13, 117, 248),\n",
              " 'deep teal': (0, 85, 90),\n",
              " 'deep turquoise': (1, 115, 116),\n",
              " 'deep violet': (73, 6, 72),\n",
              " 'denim': (59, 99, 140),\n",
              " 'denim blue': (59, 91, 146),\n",
              " 'desert': (204, 173, 96),\n",
              " 'diarrhea': (159, 131, 3),\n",
              " 'dirt': (138, 110, 69),\n",
              " 'dirt brown': (131, 101, 57),\n",
              " 'dirty blue': (63, 130, 157),\n",
              " 'dirty green': (102, 126, 44),\n",
              " 'dirty orange': (200, 118, 6),\n",
              " 'dirty pink': (202, 123, 128),\n",
              " 'dirty purple': (115, 74, 101),\n",
              " 'dirty yellow': (205, 197, 10),\n",
              " 'dodger blue': (62, 130, 252),\n",
              " 'drab': (130, 131, 68),\n",
              " 'drab green': (116, 149, 81),\n",
              " 'dried blood': (75, 1, 1),\n",
              " 'duck egg blue': (195, 251, 244),\n",
              " 'dull blue': (73, 117, 156),\n",
              " 'dull brown': (135, 110, 75),\n",
              " 'dull green': (116, 166, 98),\n",
              " 'dull orange': (216, 134, 59),\n",
              " 'dull pink': (213, 134, 157),\n",
              " 'dull purple': (132, 89, 126),\n",
              " 'dull red': (187, 63, 63),\n",
              " 'dull teal': (95, 158, 143),\n",
              " 'dull yellow': (238, 220, 91),\n",
              " 'dusk': (78, 84, 129),\n",
              " 'dusk blue': (38, 83, 141),\n",
              " 'dusky blue': (71, 95, 148),\n",
              " 'dusky pink': (204, 122, 139),\n",
              " 'dusky purple': (137, 91, 123),\n",
              " 'dusky rose': (186, 104, 115),\n",
              " 'dust': (178, 153, 110),\n",
              " 'dusty blue': (90, 134, 173),\n",
              " 'dusty green': (118, 169, 115),\n",
              " 'dusty lavender': (172, 134, 168),\n",
              " 'dusty orange': (240, 131, 58),\n",
              " 'dusty pink': (213, 138, 148),\n",
              " 'dusty purple': (130, 95, 135),\n",
              " 'dusty red': (185, 72, 78),\n",
              " 'dusty rose': (192, 115, 122),\n",
              " 'dusty teal': (76, 144, 133),\n",
              " 'earth': (162, 101, 62),\n",
              " 'easter green': (140, 253, 126),\n",
              " 'easter purple': (192, 113, 254),\n",
              " 'ecru': (254, 255, 202),\n",
              " 'egg shell': (255, 252, 196),\n",
              " 'eggplant': (56, 8, 53),\n",
              " 'eggplant purple': (67, 5, 65),\n",
              " 'eggshell': (255, 255, 212),\n",
              " 'eggshell blue': (196, 255, 247),\n",
              " 'electric blue': (6, 82, 255),\n",
              " 'electric green': (33, 252, 13),\n",
              " 'electric lime': (168, 255, 4),\n",
              " 'electric pink': (255, 4, 144),\n",
              " 'electric purple': (170, 35, 255),\n",
              " 'emerald': (1, 160, 73),\n",
              " 'emerald green': (2, 143, 30),\n",
              " 'evergreen': (5, 71, 42),\n",
              " 'faded blue': (101, 140, 187),\n",
              " 'faded green': (123, 178, 116),\n",
              " 'faded orange': (240, 148, 77),\n",
              " 'faded pink': (222, 157, 172),\n",
              " 'faded purple': (145, 110, 153),\n",
              " 'faded red': (211, 73, 78),\n",
              " 'faded yellow': (254, 255, 127),\n",
              " 'fawn': (207, 175, 123),\n",
              " 'fern': (99, 169, 80),\n",
              " 'fern green': (84, 141, 68),\n",
              " 'fire engine red': (254, 0, 2),\n",
              " 'flat blue': (60, 115, 168),\n",
              " 'flat green': (105, 157, 76),\n",
              " 'fluorescent green': (8, 255, 8),\n",
              " 'fluro green': (10, 255, 2),\n",
              " 'foam green': (144, 253, 169),\n",
              " 'forest': (11, 85, 9),\n",
              " 'forest green': (6, 71, 12),\n",
              " 'forrest green': (21, 68, 6),\n",
              " 'french blue': (67, 107, 173),\n",
              " 'fresh green': (105, 216, 79),\n",
              " 'frog green': (88, 188, 8),\n",
              " 'fuchsia': (237, 13, 217),\n",
              " 'gold': (219, 180, 12),\n",
              " 'golden': (245, 191, 3),\n",
              " 'golden brown': (178, 122, 1),\n",
              " 'golden rod': (249, 188, 8),\n",
              " 'golden yellow': (254, 198, 21),\n",
              " 'goldenrod': (250, 194, 5),\n",
              " 'grape': (108, 52, 97),\n",
              " 'grape purple': (93, 20, 81),\n",
              " 'grapefruit': (253, 89, 86),\n",
              " 'grass': (92, 172, 45),\n",
              " 'grass green': (63, 155, 11),\n",
              " 'grassy green': (65, 156, 3),\n",
              " 'green': (21, 176, 26),\n",
              " 'green apple': (94, 220, 31),\n",
              " 'green blue': (6, 180, 139),\n",
              " 'green brown': (84, 78, 3),\n",
              " 'green grey': (119, 146, 111),\n",
              " 'green teal': (12, 181, 119),\n",
              " 'green yellow': (201, 255, 39),\n",
              " 'green/blue': (1, 192, 141),\n",
              " 'green/yellow': (181, 206, 8),\n",
              " 'greenblue': (35, 196, 139),\n",
              " 'greenish': (64, 163, 104),\n",
              " 'greenish beige': (201, 209, 121),\n",
              " 'greenish blue': (11, 139, 135),\n",
              " 'greenish brown': (105, 97, 18),\n",
              " 'greenish cyan': (42, 254, 183),\n",
              " 'greenish grey': (150, 174, 141),\n",
              " 'greenish tan': (188, 203, 122),\n",
              " 'greenish teal': (50, 191, 132),\n",
              " 'greenish turquoise': (0, 251, 176),\n",
              " 'greenish yellow': (205, 253, 2),\n",
              " 'greeny blue': (66, 179, 149),\n",
              " 'greeny brown': (105, 96, 6),\n",
              " 'greeny grey': (126, 160, 122),\n",
              " 'greeny yellow': (198, 248, 8),\n",
              " 'grey': (146, 149, 145),\n",
              " 'grey blue': (107, 139, 164),\n",
              " 'grey brown': (127, 112, 83),\n",
              " 'grey green': (120, 155, 115),\n",
              " 'grey pink': (195, 144, 155),\n",
              " 'grey purple': (130, 109, 140),\n",
              " 'grey teal': (94, 155, 138),\n",
              " 'grey/blue': (100, 125, 142),\n",
              " 'grey/green': (134, 161, 125),\n",
              " 'greyblue': (119, 161, 181),\n",
              " 'greyish': (168, 164, 149),\n",
              " 'greyish blue': (94, 129, 157),\n",
              " 'greyish brown': (122, 106, 79),\n",
              " 'greyish green': (130, 166, 125),\n",
              " 'greyish pink': (200, 141, 148),\n",
              " 'greyish purple': (136, 113, 145),\n",
              " 'greyish teal': (113, 159, 145),\n",
              " 'gross green': (160, 191, 22),\n",
              " 'gunmetal': (83, 98, 103),\n",
              " 'hazel': (142, 118, 24),\n",
              " 'heather': (164, 132, 172),\n",
              " 'heliotrope': (217, 79, 245),\n",
              " 'highlighter green': (27, 252, 6),\n",
              " 'hospital green': (155, 229, 170),\n",
              " 'hot green': (37, 255, 41),\n",
              " 'hot magenta': (245, 4, 201),\n",
              " 'hot pink': (255, 2, 141),\n",
              " 'hot purple': (203, 0, 245),\n",
              " 'hunter green': (11, 64, 8),\n",
              " 'ice': (214, 255, 250),\n",
              " 'ice blue': (215, 255, 254),\n",
              " 'icky green': (143, 174, 34),\n",
              " 'indian red': (133, 14, 4),\n",
              " 'indigo': (56, 2, 130),\n",
              " 'indigo blue': (58, 24, 177),\n",
              " 'iris': (98, 88, 196),\n",
              " 'irish green': (1, 149, 41),\n",
              " 'ivory': (255, 255, 203),\n",
              " 'jade': (31, 167, 116),\n",
              " 'jade green': (43, 175, 106),\n",
              " 'jungle green': (4, 130, 67),\n",
              " 'kelley green': (0, 147, 55),\n",
              " 'kelly green': (2, 171, 46),\n",
              " 'kermit green': (92, 178, 0),\n",
              " 'key lime': (174, 255, 110),\n",
              " 'khaki': (170, 166, 98),\n",
              " 'khaki green': (114, 134, 57),\n",
              " 'kiwi': (156, 239, 67),\n",
              " 'kiwi green': (142, 229, 63),\n",
              " 'lavender': (199, 159, 239),\n",
              " 'lavender blue': (139, 136, 248),\n",
              " 'lavender pink': (221, 133, 215),\n",
              " 'lawn green': (77, 164, 9),\n",
              " 'leaf': (113, 170, 52),\n",
              " 'leaf green': (92, 169, 4),\n",
              " 'leafy green': (81, 183, 59),\n",
              " 'leather': (172, 116, 52),\n",
              " 'lemon': (253, 255, 82),\n",
              " 'lemon green': (173, 248, 2),\n",
              " 'lemon lime': (191, 254, 40),\n",
              " 'lemon yellow': (253, 255, 56),\n",
              " 'lichen': (143, 182, 123),\n",
              " 'light aqua': (140, 255, 219),\n",
              " 'light aquamarine': (123, 253, 199),\n",
              " 'light beige': (255, 254, 182),\n",
              " 'light blue': (149, 208, 252),\n",
              " 'light blue green': (126, 251, 179),\n",
              " 'light blue grey': (183, 201, 226),\n",
              " 'light bluish green': (118, 253, 168),\n",
              " 'light bright green': (83, 254, 92),\n",
              " 'light brown': (173, 129, 80),\n",
              " 'light burgundy': (168, 65, 91),\n",
              " 'light cyan': (172, 255, 252),\n",
              " 'light eggplant': (137, 69, 133),\n",
              " 'light forest green': (79, 145, 83),\n",
              " 'light gold': (253, 220, 92),\n",
              " 'light grass green': (154, 247, 100),\n",
              " 'light green': (150, 249, 123),\n",
              " 'light green blue': (86, 252, 162),\n",
              " 'light greenish blue': (99, 247, 180),\n",
              " 'light grey': (216, 220, 214),\n",
              " 'light grey blue': (157, 188, 212),\n",
              " 'light grey green': (183, 225, 161),\n",
              " 'light indigo': (109, 90, 207),\n",
              " 'light khaki': (230, 242, 162),\n",
              " 'light lavendar': (239, 192, 254),\n",
              " 'light lavender': (223, 197, 254),\n",
              " 'light light blue': (202, 255, 251),\n",
              " 'light light green': (200, 255, 176),\n",
              " 'light lilac': (237, 200, 255),\n",
              " 'light lime': (174, 253, 108),\n",
              " 'light lime green': (185, 255, 102),\n",
              " 'light magenta': (250, 95, 247),\n",
              " 'light maroon': (162, 72, 87),\n",
              " 'light mauve': (194, 146, 161),\n",
              " 'light mint': (182, 255, 187),\n",
              " 'light mint green': (166, 251, 178),\n",
              " 'light moss green': (166, 200, 117),\n",
              " 'light mustard': (247, 213, 96),\n",
              " 'light navy': (21, 80, 132),\n",
              " 'light navy blue': (46, 90, 136),\n",
              " 'light neon green': (78, 253, 84),\n",
              " 'light olive': (172, 191, 105),\n",
              " 'light olive green': (164, 190, 92),\n",
              " 'light orange': (253, 170, 72),\n",
              " 'light pastel green': (178, 251, 165),\n",
              " 'light pea green': (196, 254, 130),\n",
              " 'light peach': (255, 216, 177),\n",
              " 'light periwinkle': (193, 198, 252),\n",
              " 'light pink': (255, 209, 223),\n",
              " 'light plum': (157, 87, 131),\n",
              " 'light purple': (191, 119, 246),\n",
              " 'light red': (255, 71, 76),\n",
              " 'light rose': (255, 197, 203),\n",
              " 'light royal blue': (58, 46, 254),\n",
              " 'light sage': (188, 236, 172),\n",
              " 'light salmon': (254, 169, 147),\n",
              " 'light sea green': (152, 246, 176),\n",
              " 'light seafoam': (160, 254, 191),\n",
              " 'light seafoam green': (167, 255, 181),\n",
              " 'light sky blue': (198, 252, 255),\n",
              " 'light tan': (251, 238, 172),\n",
              " 'light teal': (144, 228, 193),\n",
              " 'light turquoise': (126, 244, 204),\n",
              " 'light urple': (179, 111, 246),\n",
              " 'light violet': (214, 180, 252),\n",
              " 'light yellow': (255, 254, 122),\n",
              " 'light yellow green': (204, 253, 127),\n",
              " 'light yellowish green': (194, 255, 137),\n",
              " 'lightblue': (123, 200, 246),\n",
              " 'lighter green': (117, 253, 99),\n",
              " 'lighter purple': (165, 90, 244),\n",
              " 'lightgreen': (118, 255, 123),\n",
              " 'lightish blue': (61, 122, 253),\n",
              " 'lightish green': (97, 225, 96),\n",
              " 'lightish purple': (165, 82, 230),\n",
              " 'lightish red': (254, 47, 74),\n",
              " 'lilac': (206, 162, 253),\n",
              " 'liliac': (196, 142, 253),\n",
              " 'lime': (170, 255, 50),\n",
              " 'lime green': (137, 254, 5),\n",
              " 'lime yellow': (208, 254, 29),\n",
              " 'lipstick': (213, 23, 78),\n",
              " 'lipstick red': (192, 2, 47),\n",
              " 'macaroni and cheese': (239, 180, 53),\n",
              " 'magenta': (194, 0, 120),\n",
              " 'mahogany': (74, 1, 0),\n",
              " 'maize': (244, 208, 84),\n",
              " 'mango': (255, 166, 43),\n",
              " 'manilla': (255, 250, 134),\n",
              " 'marigold': (252, 192, 6),\n",
              " 'marine': (4, 46, 96),\n",
              " 'marine blue': (1, 56, 106),\n",
              " 'maroon': (101, 0, 33),\n",
              " 'mauve': (174, 113, 129),\n",
              " 'medium blue': (44, 111, 187),\n",
              " 'medium brown': (127, 81, 18),\n",
              " 'medium green': (57, 173, 72),\n",
              " 'medium grey': (125, 127, 124),\n",
              " 'medium pink': (243, 97, 150),\n",
              " 'medium purple': (158, 67, 162),\n",
              " 'melon': (255, 120, 85),\n",
              " 'merlot': (115, 0, 57),\n",
              " 'metallic blue': (79, 115, 142),\n",
              " 'mid blue': (39, 106, 179),\n",
              " 'mid green': (80, 167, 71),\n",
              " 'midnight': (3, 1, 45),\n",
              " 'midnight blue': (2, 0, 53),\n",
              " 'midnight purple': (40, 1, 55),\n",
              " 'military green': (102, 124, 62),\n",
              " 'milk chocolate': (127, 78, 30),\n",
              " 'mint': (159, 254, 176),\n",
              " 'mint green': (143, 255, 159),\n",
              " 'minty green': (11, 247, 125),\n",
              " 'mocha': (157, 118, 81),\n",
              " 'moss': (118, 153, 88),\n",
              " 'moss green': (101, 139, 56),\n",
              " 'mossy green': (99, 139, 39),\n",
              " 'mud': (115, 92, 18),\n",
              " 'mud brown': (96, 70, 15),\n",
              " 'mud green': (96, 102, 2),\n",
              " 'muddy brown': (136, 104, 6),\n",
              " 'muddy green': (101, 116, 50),\n",
              " 'muddy yellow': (191, 172, 5),\n",
              " 'mulberry': (146, 10, 78),\n",
              " 'murky green': (108, 122, 14),\n",
              " 'mushroom': (186, 158, 136),\n",
              " 'mustard': (206, 179, 1),\n",
              " 'mustard brown': (172, 126, 4),\n",
              " 'mustard green': (168, 181, 4),\n",
              " 'mustard yellow': (210, 189, 10),\n",
              " 'muted blue': (59, 113, 159),\n",
              " 'muted green': (95, 160, 82),\n",
              " 'muted pink': (209, 118, 143),\n",
              " 'muted purple': (128, 91, 135),\n",
              " 'nasty green': (112, 178, 63),\n",
              " 'navy': (1, 21, 62),\n",
              " 'navy blue': (0, 17, 70),\n",
              " 'navy green': (53, 83, 10),\n",
              " 'neon blue': (4, 217, 255),\n",
              " 'neon green': (12, 255, 12),\n",
              " 'neon pink': (254, 1, 154),\n",
              " 'neon purple': (188, 19, 254),\n",
              " 'neon red': (255, 7, 58),\n",
              " 'neon yellow': (207, 255, 4),\n",
              " 'nice blue': (16, 122, 176),\n",
              " 'night blue': (4, 3, 72),\n",
              " 'ocean': (1, 123, 146),\n",
              " 'ocean blue': (3, 113, 156),\n",
              " 'ocean green': (61, 153, 115),\n",
              " 'ocher': (191, 155, 12),\n",
              " 'ochre': (191, 144, 5),\n",
              " 'ocre': (198, 156, 4),\n",
              " 'off blue': (86, 132, 174),\n",
              " 'off green': (107, 163, 83),\n",
              " 'off white': (255, 255, 228),\n",
              " 'off yellow': (241, 243, 63),\n",
              " 'old pink': (199, 121, 134),\n",
              " 'old rose': (200, 127, 137),\n",
              " 'olive': (110, 117, 14),\n",
              " 'olive brown': (100, 84, 3),\n",
              " 'olive drab': (111, 118, 50),\n",
              " 'olive green': (103, 122, 4),\n",
              " 'olive yellow': (194, 183, 9),\n",
              " 'orange': (249, 115, 6),\n",
              " 'orange brown': (190, 100, 0),\n",
              " 'orange pink': (255, 111, 82),\n",
              " 'orange red': (253, 65, 30),\n",
              " 'orange yellow': (255, 173, 1),\n",
              " 'orangeish': (253, 141, 73),\n",
              " 'orangered': (254, 66, 15),\n",
              " 'orangey brown': (177, 96, 2),\n",
              " 'orangey red': (250, 66, 36),\n",
              " 'orangey yellow': (253, 185, 21),\n",
              " 'orangish': (252, 130, 74),\n",
              " 'orangish brown': (178, 95, 3),\n",
              " 'orangish red': (244, 54, 5),\n",
              " 'orchid': (200, 117, 196),\n",
              " 'pale': (255, 249, 208),\n",
              " 'pale aqua': (184, 255, 235),\n",
              " 'pale blue': (208, 254, 254),\n",
              " 'pale brown': (177, 145, 110),\n",
              " 'pale cyan': (183, 255, 250),\n",
              " 'pale gold': (253, 222, 108),\n",
              " 'pale green': (199, 253, 181),\n",
              " 'pale grey': (253, 253, 254),\n",
              " 'pale lavender': (238, 207, 254),\n",
              " 'pale light green': (177, 252, 153),\n",
              " 'pale lilac': (228, 203, 255),\n",
              " 'pale lime': (190, 253, 115),\n",
              " 'pale lime green': (177, 255, 101),\n",
              " 'pale magenta': (215, 103, 173),\n",
              " 'pale mauve': (254, 208, 252),\n",
              " 'pale olive': (185, 204, 129),\n",
              " 'pale olive green': (177, 210, 123),\n",
              " 'pale orange': (255, 167, 86),\n",
              " 'pale peach': (255, 229, 173),\n",
              " 'pale pink': (255, 207, 220),\n",
              " 'pale purple': (183, 144, 212),\n",
              " 'pale red': (217, 84, 77),\n",
              " 'pale rose': (253, 193, 197),\n",
              " 'pale salmon': (255, 177, 154),\n",
              " 'pale sky blue': (189, 246, 254),\n",
              " 'pale teal': (130, 203, 178),\n",
              " 'pale turquoise': (165, 251, 213),\n",
              " 'pale violet': (206, 174, 250),\n",
              " 'pale yellow': (255, 255, 132),\n",
              " 'parchment': (254, 252, 175),\n",
              " 'pastel blue': (162, 191, 254),\n",
              " 'pastel green': (176, 255, 157),\n",
              " 'pastel orange': (255, 150, 79),\n",
              " 'pastel pink': (255, 186, 205),\n",
              " 'pastel purple': (202, 160, 255),\n",
              " 'pastel red': (219, 88, 86),\n",
              " 'pastel yellow': (255, 254, 113),\n",
              " 'pea': (164, 191, 32),\n",
              " 'pea green': (142, 171, 18),\n",
              " 'pea soup': (146, 153, 1),\n",
              " 'pea soup green': (148, 166, 23),\n",
              " 'peach': (255, 176, 124),\n",
              " 'peachy pink': (255, 154, 138),\n",
              " 'peacock blue': (1, 103, 149),\n",
              " 'pear': (203, 248, 95),\n",
              " 'periwinkle': (142, 130, 254),\n",
              " 'periwinkle blue': (143, 153, 251),\n",
              " 'perrywinkle': (143, 140, 231),\n",
              " 'petrol': (0, 95, 106),\n",
              " 'pig pink': (231, 142, 165),\n",
              " 'pine': (43, 93, 52),\n",
              " 'pine green': (10, 72, 30),\n",
              " 'pink': (255, 129, 192),\n",
              " 'pink purple': (219, 75, 218),\n",
              " 'pink red': (245, 5, 79),\n",
              " 'pink/purple': (239, 29, 231),\n",
              " 'pinkish': (212, 106, 126),\n",
              " 'pinkish brown': (177, 114, 97),\n",
              " 'pinkish grey': (200, 172, 169),\n",
              " 'pinkish orange': (255, 114, 76),\n",
              " 'pinkish purple': (214, 72, 215),\n",
              " 'pinkish red': (241, 12, 69),\n",
              " 'pinkish tan': (217, 155, 130),\n",
              " 'pinky': (252, 134, 170),\n",
              " 'pinky purple': (201, 76, 190),\n",
              " 'pinky red': (252, 38, 71),\n",
              " 'piss yellow': (221, 214, 24),\n",
              " 'pistachio': (192, 250, 139),\n",
              " 'plum': (88, 15, 65),\n",
              " 'plum purple': (78, 5, 80),\n",
              " 'poison green': (64, 253, 20),\n",
              " 'poo': (143, 115, 3),\n",
              " 'poo brown': (136, 95, 1),\n",
              " 'poop': (127, 94, 0),\n",
              " 'poop brown': (122, 89, 1),\n",
              " 'poop green': (111, 124, 0),\n",
              " 'powder blue': (177, 209, 252),\n",
              " 'powder pink': (255, 178, 208),\n",
              " 'primary blue': (8, 4, 249),\n",
              " 'prussian blue': (0, 69, 119),\n",
              " 'puce': (165, 126, 82),\n",
              " 'puke': (165, 165, 2),\n",
              " 'puke brown': (148, 119, 6),\n",
              " 'puke green': (154, 174, 7),\n",
              " 'puke yellow': (194, 190, 14),\n",
              " 'pumpkin': (225, 119, 1),\n",
              " 'pumpkin orange': (251, 125, 7),\n",
              " 'pure blue': (2, 3, 226),\n",
              " 'purple': (126, 30, 156),\n",
              " 'purple blue': (99, 45, 233),\n",
              " 'purple brown': (103, 58, 63),\n",
              " 'purple grey': (134, 111, 133),\n",
              " 'purple pink': (224, 63, 216),\n",
              " 'purple red': (153, 1, 71),\n",
              " 'purple/blue': (93, 33, 208),\n",
              " 'purple/pink': (215, 37, 222),\n",
              " 'purpleish': (152, 86, 141),\n",
              " 'purpleish blue': (97, 64, 239),\n",
              " 'purpleish pink': (223, 78, 200),\n",
              " 'purpley': (135, 86, 228),\n",
              " 'purpley blue': (95, 52, 231),\n",
              " 'purpley grey': (148, 126, 148),\n",
              " 'purpley pink': (200, 60, 185),\n",
              " 'purplish': (148, 86, 140),\n",
              " 'purplish blue': (96, 30, 249),\n",
              " 'purplish brown': (107, 66, 71),\n",
              " 'purplish grey': (122, 104, 127),\n",
              " 'purplish pink': (206, 93, 174),\n",
              " 'purplish red': (176, 5, 75),\n",
              " 'purply': (152, 63, 178),\n",
              " 'purply blue': (102, 26, 238),\n",
              " 'purply pink': (240, 117, 230),\n",
              " 'putty': (190, 174, 138),\n",
              " 'racing green': (1, 70, 0),\n",
              " 'radioactive green': (44, 250, 31),\n",
              " 'raspberry': (176, 1, 73),\n",
              " 'raw sienna': (154, 98, 0),\n",
              " 'raw umber': (167, 94, 9),\n",
              " 'really light blue': (212, 255, 255),\n",
              " 'red': (229, 0, 0),\n",
              " 'red brown': (139, 46, 22),\n",
              " 'red orange': (253, 60, 6),\n",
              " 'red pink': (250, 42, 85),\n",
              " 'red purple': (130, 7, 71),\n",
              " 'red violet': (158, 1, 104),\n",
              " 'red wine': (140, 0, 52),\n",
              " 'reddish': (196, 66, 64),\n",
              " 'reddish brown': (127, 43, 10),\n",
              " 'reddish grey': (153, 117, 112),\n",
              " 'reddish orange': (248, 72, 28),\n",
              " 'reddish pink': (254, 44, 84),\n",
              " 'reddish purple': (145, 9, 81),\n",
              " 'reddy brown': (110, 16, 5),\n",
              " 'rich blue': (2, 27, 249),\n",
              " 'rich purple': (114, 0, 88),\n",
              " 'robin egg blue': (138, 241, 254),\n",
              " \"robin's egg\": (109, 237, 253),\n",
              " \"robin's egg blue\": (152, 239, 249),\n",
              " 'rosa': (254, 134, 164),\n",
              " 'rose': (207, 98, 117),\n",
              " 'rose pink': (247, 135, 154),\n",
              " 'rose red': (190, 1, 60),\n",
              " 'rosy pink': (246, 104, 142),\n",
              " 'rouge': (171, 18, 57),\n",
              " 'royal': (12, 23, 147),\n",
              " 'royal blue': (5, 4, 170),\n",
              " 'royal purple': (75, 0, 110),\n",
              " 'ruby': (202, 1, 71),\n",
              " 'russet': (161, 57, 5),\n",
              " 'rust': (168, 60, 9),\n",
              " 'rust brown': (139, 49, 3),\n",
              " 'rust orange': (196, 85, 8),\n",
              " 'rust red': (170, 39, 4),\n",
              " 'rusty orange': (205, 89, 9),\n",
              " 'rusty red': (175, 47, 13),\n",
              " 'saffron': (254, 178, 9),\n",
              " 'sage': (135, 174, 115),\n",
              " 'sage green': (136, 179, 120),\n",
              " 'salmon': (255, 121, 108),\n",
              " 'salmon pink': (254, 123, 124),\n",
              " 'sand': (226, 202, 118),\n",
              " 'sand brown': (203, 165, 96),\n",
              " 'sand yellow': (252, 225, 102),\n",
              " 'sandstone': (201, 174, 116),\n",
              " 'sandy': (241, 218, 122),\n",
              " 'sandy brown': (196, 166, 97),\n",
              " 'sandy yellow': (253, 238, 115),\n",
              " 'sap green': (92, 139, 21),\n",
              " 'sapphire': (33, 56, 171),\n",
              " 'scarlet': (190, 1, 25),\n",
              " 'sea': (60, 153, 146),\n",
              " 'sea blue': (4, 116, 149),\n",
              " 'sea green': (83, 252, 161),\n",
              " 'seafoam': (128, 249, 173),\n",
              " 'seafoam blue': (120, 209, 182),\n",
              " 'seafoam green': (122, 249, 171),\n",
              " 'seaweed': (24, 209, 123),\n",
              " 'seaweed green': (53, 173, 107),\n",
              " 'sepia': (152, 94, 43),\n",
              " 'shamrock': (1, 180, 76),\n",
              " 'shamrock green': (2, 193, 77),\n",
              " 'shit': (127, 95, 0),\n",
              " 'shit brown': (123, 88, 4),\n",
              " 'shit green': (117, 128, 0),\n",
              " 'shocking pink': (254, 2, 162),\n",
              " 'sick green': (157, 185, 44),\n",
              " 'sickly green': (148, 178, 28),\n",
              " 'sickly yellow': (208, 228, 41),\n",
              " 'sienna': (169, 86, 30),\n",
              " 'silver': (197, 201, 199),\n",
              " 'sky': (130, 202, 252),\n",
              " 'sky blue': (117, 187, 253),\n",
              " 'slate': (81, 101, 114),\n",
              " 'slate blue': (91, 124, 153),\n",
              " 'slate green': (101, 141, 109),\n",
              " 'slate grey': (89, 101, 109),\n",
              " 'slime green': (153, 204, 4),\n",
              " 'snot': (172, 187, 13),\n",
              " 'snot green': (157, 193, 0),\n",
              " 'soft blue': (100, 136, 234),\n",
              " 'soft green': (111, 194, 118),\n",
              " 'soft pink': (253, 176, 192),\n",
              " 'soft purple': (166, 111, 181),\n",
              " 'spearmint': (30, 248, 118),\n",
              " 'spring green': (169, 249, 113),\n",
              " 'spruce': (10, 95, 56),\n",
              " 'squash': (242, 171, 21),\n",
              " 'steel': (115, 133, 149),\n",
              " 'steel blue': (90, 125, 154),\n",
              " 'steel grey': (111, 130, 138),\n",
              " 'stone': (173, 165, 135),\n",
              " 'stormy blue': (80, 123, 156),\n",
              " 'straw': (252, 246, 121),\n",
              " 'strawberry': (251, 41, 67),\n",
              " 'strong blue': (12, 6, 247),\n",
              " 'strong pink': (255, 7, 137),\n",
              " 'sun yellow': (255, 223, 34),\n",
              " 'sunflower': (255, 197, 18),\n",
              " 'sunflower yellow': (255, 218, 3),\n",
              " 'sunny yellow': (255, 249, 23),\n",
              " 'sunshine yellow': (255, 253, 55),\n",
              " 'swamp': (105, 131, 57),\n",
              " 'swamp green': (116, 133, 0),\n",
              " 'tan': (209, 178, 111),\n",
              " 'tan brown': (171, 126, 76),\n",
              " 'tan green': (169, 190, 112),\n",
              " 'tangerine': (255, 148, 8),\n",
              " 'taupe': (185, 162, 129),\n",
              " 'tea': (101, 171, 124),\n",
              " 'tea green': (189, 248, 163),\n",
              " 'teal': (2, 147, 134),\n",
              " 'teal blue': (1, 136, 159),\n",
              " 'teal green': (37, 163, 111),\n",
              " 'tealish': (36, 188, 168),\n",
              " 'tealish green': (12, 220, 115),\n",
              " 'terra cotta': (201, 100, 59),\n",
              " 'terracota': (203, 104, 67),\n",
              " 'terracotta': (202, 102, 65),\n",
              " 'tiffany blue': (123, 242, 218),\n",
              " 'tomato': (239, 64, 38),\n",
              " 'tomato red': (236, 45, 1),\n",
              " 'topaz': (19, 187, 175),\n",
              " 'toupe': (199, 172, 125),\n",
              " 'toxic green': (97, 222, 42),\n",
              " 'tree green': (42, 126, 25),\n",
              " 'true blue': (1, 15, 204),\n",
              " 'true green': (8, 148, 4),\n",
              " 'turquoise': (6, 194, 172),\n",
              " 'turquoise blue': (6, 177, 196),\n",
              " 'turquoise green': (4, 244, 137),\n",
              " 'turtle green': (117, 184, 79),\n",
              " 'twilight': (78, 81, 139),\n",
              " 'twilight blue': (10, 67, 122),\n",
              " 'ugly blue': (49, 102, 138),\n",
              " 'ugly brown': (125, 113, 3),\n",
              " 'ugly green': (122, 151, 3),\n",
              " 'ugly pink': (205, 117, 132),\n",
              " 'ugly purple': (164, 66, 160),\n",
              " 'ugly yellow': (208, 193, 1),\n",
              " 'ultramarine': (32, 0, 177),\n",
              " 'ultramarine blue': (24, 5, 219),\n",
              " 'umber': (178, 100, 0),\n",
              " 'velvet': (117, 8, 81),\n",
              " 'vermillion': (244, 50, 12),\n",
              " 'very dark blue': (0, 1, 51),\n",
              " 'very dark brown': (29, 2, 0),\n",
              " 'very dark green': (6, 46, 3),\n",
              " 'very dark purple': (42, 1, 52),\n",
              " 'very light blue': (213, 255, 255),\n",
              " 'very light brown': (211, 182, 131),\n",
              " 'very light green': (209, 255, 189),\n",
              " 'very light pink': (255, 244, 242),\n",
              " 'very light purple': (246, 206, 252),\n",
              " 'very pale blue': (214, 255, 254),\n",
              " 'very pale green': (207, 253, 188),\n",
              " 'vibrant blue': (3, 57, 248),\n",
              " 'vibrant green': (10, 221, 8),\n",
              " 'vibrant purple': (173, 3, 222),\n",
              " 'violet': (154, 14, 234),\n",
              " 'violet blue': (81, 10, 201),\n",
              " 'violet pink': (251, 95, 252),\n",
              " 'violet red': (165, 0, 85),\n",
              " 'viridian': (30, 145, 103),\n",
              " 'vivid blue': (21, 46, 255),\n",
              " 'vivid green': (47, 239, 16),\n",
              " 'vivid purple': (153, 0, 250),\n",
              " 'vomit': (162, 164, 21),\n",
              " 'vomit green': (137, 162, 3),\n",
              " 'vomit yellow': (199, 193, 12),\n",
              " 'warm blue': (75, 87, 219),\n",
              " 'warm brown': (150, 78, 2),\n",
              " 'warm grey': (151, 138, 132),\n",
              " 'warm pink': (251, 85, 129),\n",
              " 'warm purple': (149, 46, 143),\n",
              " 'washed out green': (188, 245, 166),\n",
              " 'water blue': (14, 135, 204),\n",
              " 'watermelon': (253, 70, 89),\n",
              " 'weird green': (58, 229, 127),\n",
              " 'wheat': (251, 221, 126),\n",
              " 'white': (255, 255, 255),\n",
              " 'windows blue': (55, 120, 191),\n",
              " 'wine': (128, 1, 63),\n",
              " 'wine red': (123, 3, 35),\n",
              " 'wintergreen': (32, 249, 134),\n",
              " 'wisteria': (168, 125, 194),\n",
              " 'yellow': (255, 255, 20),\n",
              " 'yellow brown': (183, 148, 0),\n",
              " 'yellow green': (192, 251, 45),\n",
              " 'yellow ochre': (203, 157, 6),\n",
              " 'yellow orange': (252, 176, 1),\n",
              " 'yellow tan': (255, 227, 110),\n",
              " 'yellow/green': (200, 253, 61),\n",
              " 'yellowgreen': (187, 249, 15),\n",
              " 'yellowish': (250, 238, 102),\n",
              " 'yellowish brown': (155, 122, 1),\n",
              " 'yellowish green': (176, 221, 22),\n",
              " 'yellowish orange': (255, 171, 15),\n",
              " 'yellowish tan': (252, 252, 129),\n",
              " 'yellowy brown': (174, 139, 12),\n",
              " 'yellowy green': (191, 241, 40)}"
            ]
          },
          "metadata": {
            "tags": []
          },
          "execution_count": 88
        }
      ]
    },
    {
      "cell_type": "code",
      "metadata": {
        "id": "nn45liDKLGdS",
        "colab_type": "code",
        "colab": {
          "base_uri": "https://localhost:8080/",
          "height": 1000
        },
        "outputId": "3693b296-641b-41e6-85bf-f64ace93ad52"
      },
      "source": [
        "sample_100 = dict(list(colors.items())[0:100]) \n",
        "sample_100 \n"
      ],
      "execution_count": null,
      "outputs": [
        {
          "output_type": "execute_result",
          "data": {
            "text/plain": [
              "{'azul': (29, 93, 236),\n",
              " 'baby puke green': (182, 196, 6),\n",
              " 'baby purple': (202, 155, 247),\n",
              " 'baby shit brown': (173, 144, 13),\n",
              " 'battleship grey': (107, 124, 133),\n",
              " 'bland': (175, 168, 139),\n",
              " 'blue blue': (34, 66, 199),\n",
              " 'blue with a hint of purple': (83, 60, 198),\n",
              " 'booger': (155, 181, 60),\n",
              " 'boring green': (99, 179, 101),\n",
              " 'bright sea green': (5, 255, 166),\n",
              " 'bright yellow green': (157, 255, 0),\n",
              " 'browny green': (111, 108, 10),\n",
              " 'bruise': (126, 64, 113),\n",
              " 'burple': (104, 50, 227),\n",
              " 'butterscotch': (253, 177, 71),\n",
              " 'candy pink': (255, 99, 233),\n",
              " 'cement': (165, 163, 145),\n",
              " 'charcoal grey': (60, 65, 66),\n",
              " 'cinnamon': (172, 79, 6),\n",
              " 'cloudy blue': (172, 194, 217),\n",
              " 'cocoa': (135, 95, 66),\n",
              " 'custard': (255, 253, 120),\n",
              " 'dark cream': (255, 243, 154),\n",
              " 'dark grass green': (56, 128, 4),\n",
              " 'dark green blue': (31, 99, 87),\n",
              " 'dark pastel green': (86, 174, 87),\n",
              " 'darkgreen': (5, 73, 7),\n",
              " 'darkish pink': (218, 70, 125),\n",
              " 'deep aqua': (8, 120, 127),\n",
              " 'deep brown': (65, 2, 0),\n",
              " 'deep lilac': (150, 110, 189),\n",
              " 'deep turquoise': (1, 115, 116),\n",
              " 'desert': (204, 173, 96),\n",
              " 'dust': (178, 153, 110),\n",
              " 'dusty lavender': (172, 134, 168),\n",
              " 'dusty teal': (76, 144, 133),\n",
              " 'egg shell': (255, 252, 196),\n",
              " 'eggplant purple': (67, 5, 65),\n",
              " 'electric lime': (168, 255, 4),\n",
              " 'fresh green': (105, 216, 79),\n",
              " 'green teal': (12, 181, 119),\n",
              " 'green/yellow': (181, 206, 8),\n",
              " 'greenish beige': (201, 209, 121),\n",
              " 'grey teal': (94, 155, 138),\n",
              " 'indian red': (133, 14, 4),\n",
              " 'kelley green': (0, 147, 55),\n",
              " 'kiwi green': (142, 229, 63),\n",
              " 'lavender pink': (221, 133, 215),\n",
              " 'lichen': (143, 182, 123),\n",
              " 'light eggplant': (137, 69, 133),\n",
              " 'light grey green': (183, 225, 161),\n",
              " 'light lavendar': (239, 192, 254),\n",
              " 'light light green': (200, 255, 176),\n",
              " 'light moss green': (166, 200, 117),\n",
              " 'light pastel green': (178, 251, 165),\n",
              " 'light pea green': (196, 254, 130),\n",
              " 'light royal blue': (58, 46, 254),\n",
              " 'light seafoam green': (167, 255, 181),\n",
              " 'liliac': (196, 142, 253),\n",
              " 'macaroni and cheese': (239, 180, 53),\n",
              " 'manilla': (255, 250, 134),\n",
              " 'nasty green': (112, 178, 63),\n",
              " 'off blue': (86, 132, 174),\n",
              " 'olive yellow': (194, 183, 9),\n",
              " 'orange pink': (255, 111, 82),\n",
              " 'orangeish': (253, 141, 73),\n",
              " 'pale gold': (253, 222, 108),\n",
              " 'pig pink': (231, 142, 165),\n",
              " 'pinkish tan': (217, 155, 130),\n",
              " 'poison green': (64, 253, 20),\n",
              " 'powder pink': (255, 178, 208),\n",
              " 'purpley grey': (148, 126, 148),\n",
              " 'purply': (152, 63, 178),\n",
              " 'radioactive green': (44, 250, 31),\n",
              " 'raw sienna': (154, 98, 0),\n",
              " 'really light blue': (212, 255, 255),\n",
              " 'reddish grey': (153, 117, 112),\n",
              " 'rust brown': (139, 49, 3),\n",
              " 'sand brown': (203, 165, 96),\n",
              " 'sickly yellow': (208, 228, 41),\n",
              " 'spruce': (10, 95, 56),\n",
              " 'squash': (242, 171, 21),\n",
              " 'stormy blue': (80, 123, 156),\n",
              " 'strong blue': (12, 6, 247),\n",
              " 'strong pink': (255, 7, 137),\n",
              " 'sun yellow': (255, 223, 34),\n",
              " 'sunny yellow': (255, 249, 23),\n",
              " 'swamp': (105, 131, 57),\n",
              " 'tan green': (169, 190, 112),\n",
              " 'tea': (101, 171, 124),\n",
              " 'tea green': (189, 248, 163),\n",
              " 'tealish green': (12, 220, 115),\n",
              " 'toupe': (199, 172, 125),\n",
              " 'toxic green': (97, 222, 42),\n",
              " 'ugly brown': (125, 113, 3),\n",
              " 'very light brown': (211, 182, 131),\n",
              " 'warm purple': (149, 46, 143),\n",
              " 'windows blue': (55, 120, 191),\n",
              " 'yellowish tan': (252, 252, 129)}"
            ]
          },
          "metadata": {
            "tags": []
          },
          "execution_count": 89
        }
      ]
    },
    {
      "cell_type": "code",
      "metadata": {
        "id": "xEHd6MeNLp4v",
        "colab_type": "code",
        "colab": {
          "base_uri": "https://localhost:8080/",
          "height": 34
        },
        "outputId": "75bd966f-1890-451a-901a-0847e02de619"
      },
      "source": [
        "sample_100['sand brown']"
      ],
      "execution_count": null,
      "outputs": [
        {
          "output_type": "execute_result",
          "data": {
            "text/plain": [
              "(203, 165, 96)"
            ]
          },
          "metadata": {
            "tags": []
          },
          "execution_count": 90
        }
      ]
    },
    {
      "cell_type": "markdown",
      "metadata": {
        "id": "2zz6ambGM6Js",
        "colab_type": "text"
      },
      "source": [
        "Adding two vectors"
      ]
    },
    {
      "cell_type": "code",
      "metadata": {
        "id": "gF3OYgNFMAXa",
        "colab_type": "code",
        "colab": {
          "base_uri": "https://localhost:8080/",
          "height": 34
        },
        "outputId": "dbf431e4-dd1c-47cd-bc76-3ca6ef95afff"
      },
      "source": [
        "def addv(coord1, coord2):\n",
        "    return [x + y for x, y in zip(coord1, coord2)]\n",
        "addv([10, 1], [5, 2])"
      ],
      "execution_count": null,
      "outputs": [
        {
          "output_type": "execute_result",
          "data": {
            "text/plain": [
              "[15, 3]"
            ]
          },
          "metadata": {
            "tags": []
          },
          "execution_count": 91
        }
      ]
    },
    {
      "cell_type": "code",
      "metadata": {
        "id": "YKm38uhIMmu5",
        "colab_type": "code",
        "colab": {}
      },
      "source": [
        ""
      ],
      "execution_count": null,
      "outputs": []
    },
    {
      "cell_type": "markdown",
      "metadata": {
        "id": "ufwD5uUaNtHe",
        "colab_type": "text"
      },
      "source": [
        " meanv function takes a list of vectors and finds their mean or average:"
      ]
    },
    {
      "cell_type": "code",
      "metadata": {
        "id": "qhTSQbEkNvBi",
        "colab_type": "code",
        "colab": {
          "base_uri": "https://localhost:8080/",
          "height": 34
        },
        "outputId": "0f0c7a09-61a5-4796-8c02-bf5d7fbcfb72"
      },
      "source": [
        "\n",
        "def meanv(coords):\n",
        "    # assumes every item in coords has same length as item 0\n",
        "    sumv = [0] * len(coords[0])\n",
        "    for item in coords:\n",
        "        for i in range(len(item)):\n",
        "            sumv[i] += item[i]\n",
        "    mean = [0] * len(sumv)\n",
        "    for i in range(len(sumv)):\n",
        "        mean[i] = float(sumv[i]) / len(coords)\n",
        "    return mean\n",
        "meanv([[0, 1], [2, 2], [4, 3]])"
      ],
      "execution_count": null,
      "outputs": [
        {
          "output_type": "execute_result",
          "data": {
            "text/plain": [
              "[2.0, 2.0]"
            ]
          },
          "metadata": {
            "tags": []
          },
          "execution_count": 92
        }
      ]
    },
    {
      "cell_type": "code",
      "metadata": {
        "id": "4UcOTW75N5rg",
        "colab_type": "code",
        "colab": {
          "base_uri": "https://localhost:8080/",
          "height": 34
        },
        "outputId": "1c06c091-aadf-4d11-8dec-d551f8799cdf"
      },
      "source": [
        "\n",
        "def addv(coord1, coord2):\n",
        "    return [c1 + c2 for c1, c2 in zip(coord1, coord2)]\n",
        "addv([10, 1,5], [5, 2, 1])"
      ],
      "execution_count": null,
      "outputs": [
        {
          "output_type": "execute_result",
          "data": {
            "text/plain": [
              "[15, 3, 6]"
            ]
          },
          "metadata": {
            "tags": []
          },
          "execution_count": 93
        }
      ]
    },
    {
      "cell_type": "markdown",
      "metadata": {
        "id": "BkB85QZzQcsF",
        "colab_type": "text"
      },
      "source": [
        "## Function Closest to cacl. distance from target vector to a fixed pt (Mean)   "
      ]
    },
    {
      "cell_type": "code",
      "metadata": {
        "id": "CVwFQngNOy2h",
        "colab_type": "code",
        "colab": {}
      },
      "source": [
        "def closest(space, coord, n=10):\n",
        "    closest = []\n",
        "    for key in sorted(space.keys(),\n",
        "                        key=lambda x: distance(coord, space[x]))[:n]:\n",
        "        closest.append(key)\n",
        "    return closest"
      ],
      "execution_count": null,
      "outputs": []
    },
    {
      "cell_type": "code",
      "metadata": {
        "id": "I2mSxcQ6Qa81",
        "colab_type": "code",
        "colab": {
          "base_uri": "https://localhost:8080/",
          "height": 185
        },
        "outputId": "b20e4f39-0195-4049-d3ec-386c09734d6c"
      },
      "source": [
        "closest(colors, colors['red'])\n"
      ],
      "execution_count": null,
      "outputs": [
        {
          "output_type": "execute_result",
          "data": {
            "text/plain": [
              "['red',\n",
              " 'fire engine red',\n",
              " 'bright red',\n",
              " 'tomato red',\n",
              " 'cherry red',\n",
              " 'scarlet',\n",
              " 'vermillion',\n",
              " 'orangish red',\n",
              " 'cherry',\n",
              " 'lipstick red']"
            ]
          },
          "metadata": {
            "tags": []
          },
          "execution_count": 95
        }
      ]
    },
    {
      "cell_type": "code",
      "metadata": {
        "id": "o2D-4pbtRHie",
        "colab_type": "code",
        "colab": {
          "base_uri": "https://localhost:8080/",
          "height": 34
        },
        "outputId": "5e638f3b-4605-48b8-ccfd-25b697f596d6"
      },
      "source": [
        "import math\n",
        "def distance(coord1, coord2):\n",
        "    # note, this is VERY SLOW, don't use for actual code\n",
        "    return math.sqrt(sum([(i - j)**2 for i, j in zip(coord1, coord2)]))\n",
        "distance([10, 1], [5, 2])"
      ],
      "execution_count": null,
      "outputs": [
        {
          "output_type": "execute_result",
          "data": {
            "text/plain": [
              "5.0990195135927845"
            ]
          },
          "metadata": {
            "tags": []
          },
          "execution_count": 96
        }
      ]
    },
    {
      "cell_type": "markdown",
      "metadata": {
        "id": "eXMn7VfY269U",
        "colab_type": "text"
      },
      "source": [
        "## Finding the Closest"
      ]
    },
    {
      "cell_type": "code",
      "metadata": {
        "id": "G2AA8ZhqRnkL",
        "colab_type": "code",
        "colab": {}
      },
      "source": [
        "def closest(space, coord, n=10):\n",
        "    closest = []\n",
        "    for key in sorted(space.keys(),\n",
        "                        key=lambda x: distance(coord, space[x]))[:n]:\n",
        "        closest.append(key)\n",
        "    return closest"
      ],
      "execution_count": null,
      "outputs": []
    },
    {
      "cell_type": "code",
      "metadata": {
        "id": "1ic0FpMFU9zh",
        "colab_type": "code",
        "colab": {
          "base_uri": "https://localhost:8080/",
          "height": 185
        },
        "outputId": "fbb3d817-9fb8-4dcb-e29d-c01335108987"
      },
      "source": [
        "closest(colors, addv(colors['blue'], colors['green']))\n"
      ],
      "execution_count": null,
      "outputs": [
        {
          "output_type": "execute_result",
          "data": {
            "text/plain": [
              "['bright turquoise',\n",
              " 'bright light blue',\n",
              " 'bright aqua',\n",
              " 'cyan',\n",
              " 'neon blue',\n",
              " 'aqua blue',\n",
              " 'bright cyan',\n",
              " 'bright sky blue',\n",
              " 'aqua',\n",
              " 'bright teal']"
            ]
          },
          "metadata": {
            "tags": []
          },
          "execution_count": 98
        }
      ]
    },
    {
      "cell_type": "code",
      "metadata": {
        "id": "2CdigzvUX7oB",
        "colab_type": "code",
        "colab": {
          "base_uri": "https://localhost:8080/",
          "height": 185
        },
        "outputId": "ef22d099-6070-43eb-8c10-e7d562b706ad"
      },
      "source": [
        "closest(colors, [150, 60, 150])"
      ],
      "execution_count": null,
      "outputs": [
        {
          "output_type": "execute_result",
          "data": {
            "text/plain": [
              "['warm purple',\n",
              " 'medium purple',\n",
              " 'ugly purple',\n",
              " 'light eggplant',\n",
              " 'purpleish',\n",
              " 'purplish',\n",
              " 'purply',\n",
              " 'light plum',\n",
              " 'purple',\n",
              " 'muted purple']"
            ]
          },
          "metadata": {
            "tags": []
          },
          "execution_count": 99
        }
      ]
    },
    {
      "cell_type": "markdown",
      "metadata": {
        "id": "w9Eo1suEbxCJ",
        "colab_type": "text"
      },
      "source": [
        "Meaning Black and white "
      ]
    },
    {
      "cell_type": "code",
      "metadata": {
        "id": "LGOs8R_AYKnt",
        "colab_type": "code",
        "colab": {
          "base_uri": "https://localhost:8080/",
          "height": 185
        },
        "outputId": "c96de737-6d6b-45b8-b1be-5f032075061b"
      },
      "source": [
        "closest(colors,meanv([colors['black'], colors['white']]))"
      ],
      "execution_count": null,
      "outputs": [
        {
          "output_type": "execute_result",
          "data": {
            "text/plain": [
              "['medium grey',\n",
              " 'purple grey',\n",
              " 'steel grey',\n",
              " 'battleship grey',\n",
              " 'grey purple',\n",
              " 'purplish grey',\n",
              " 'greyish purple',\n",
              " 'steel',\n",
              " 'warm grey',\n",
              " 'green grey']"
            ]
          },
          "metadata": {
            "tags": []
          },
          "execution_count": 100
        }
      ]
    },
    {
      "cell_type": "code",
      "metadata": {
        "id": "ZzDC7nKYhtK2",
        "colab_type": "code",
        "colab": {}
      },
      "source": [
        ""
      ],
      "execution_count": null,
      "outputs": []
    },
    {
      "cell_type": "markdown",
      "metadata": {
        "id": "AZPendgShtmL",
        "colab_type": "text"
      },
      "source": [
        "Random Sentences Generating using red blue colors "
      ]
    },
    {
      "cell_type": "code",
      "metadata": {
        "id": "Jd3X5i7LYmfO",
        "colab_type": "code",
        "colab": {
          "base_uri": "https://localhost:8080/",
          "height": 252
        },
        "outputId": "965525b3-bf47-457f-f095-7943864bd152"
      },
      "source": [
        "import random\n",
        "red = colors['red']\n",
        "blue = colors['blue']\n",
        "for i in range(14):\n",
        "    rednames = closest(colors, red)\n",
        "    bluenames = closest(colors, blue)\n",
        "    print(\"Roses are \" + rednames[0] + \", violets are \" + bluenames[0])\n",
        "    red = colors[random.choice(rednames[1:])]\n",
        "    blue = colors[random.choice(bluenames[1:])]"
      ],
      "execution_count": null,
      "outputs": [
        {
          "output_type": "stream",
          "text": [
            "Roses are red, violets are blue\n",
            "Roses are tomato red, violets are cerulean blue\n",
            "Roses are tomato, violets are deep sky blue\n",
            "Roses are reddish orange, violets are cerulean blue\n",
            "Roses are tomato, violets are clear blue\n",
            "Roses are orangish red, violets are bright blue\n",
            "Roses are blood orange, violets are blue\n",
            "Roses are orangered, violets are bright blue\n",
            "Roses are blood orange, violets are azul\n",
            "Roses are orangish red, violets are blue\n",
            "Roses are orange red, violets are rich blue\n",
            "Roses are red orange, violets are true blue\n",
            "Roses are orangish red, violets are rich blue\n",
            "Roses are red orange, violets are pure blue\n"
          ],
          "name": "stdout"
        }
      ]
    },
    {
      "cell_type": "markdown",
      "metadata": {
        "id": "o9X675zM7oQu",
        "colab_type": "text"
      },
      "source": [
        "# SPACY NLP\n",
        "\n"
      ]
    },
    {
      "cell_type": "code",
      "metadata": {
        "id": "KSjRXd6rH44S",
        "colab_type": "code",
        "colab": {
          "base_uri": "https://localhost:8080/",
          "height": 50
        },
        "outputId": "8f84af23-ce78-46f5-b48d-11826ec0fb57"
      },
      "source": [
        "import spacy.cli\n",
        "spacy.cli.download(\"en_core_web_md\")"
      ],
      "execution_count": null,
      "outputs": [
        {
          "output_type": "stream",
          "text": [
            "\u001b[38;5;2m✔ Download and installation successful\u001b[0m\n",
            "You can now load the model via spacy.load('en_core_web_md')\n"
          ],
          "name": "stdout"
        }
      ]
    },
    {
      "cell_type": "code",
      "metadata": {
        "id": "7JmytyqMH_C3",
        "colab_type": "code",
        "colab": {}
      },
      "source": [
        "import en_core_web_md\n"
      ],
      "execution_count": null,
      "outputs": []
    },
    {
      "cell_type": "code",
      "metadata": {
        "id": "JoxJQ8peb3rR",
        "colab_type": "code",
        "colab": {}
      },
      "source": [
        "import spacy\n",
        "nlp = en_core_web_md.load()\n"
      ],
      "execution_count": null,
      "outputs": []
    },
    {
      "cell_type": "code",
      "metadata": {
        "id": "jjCQQW5GHS8-",
        "colab_type": "code",
        "colab": {}
      },
      "source": [
        ""
      ],
      "execution_count": null,
      "outputs": []
    },
    {
      "cell_type": "markdown",
      "metadata": {
        "id": "ZagooeHi8gx1",
        "colab_type": "text"
      },
      "source": [
        "Download a random paragraph containing colors"
      ]
    },
    {
      "cell_type": "markdown",
      "metadata": {
        "id": "mwKpf38K9KZ2",
        "colab_type": "text"
      },
      "source": [
        "Link for data : http://www.gutenberg.org/cache/epub/345/pg345.txt\n"
      ]
    },
    {
      "cell_type": "code",
      "metadata": {
        "id": "GAFRcWoF2R7C",
        "colab_type": "code",
        "colab": {
          "base_uri": "https://localhost:8080/",
          "height": 34
        },
        "outputId": "0dcfb5a6-26ba-436f-d1f5-82b34eb314b2"
      },
      "source": [
        "doc = nlp(open(\"pg345.txt\").read())\n",
        "# use word.lower_ to normalize case\n",
        "drac_colors = [colors[word.lower_] for word in doc if word.lower_ in colors]\n",
        "avg_color = meanv(drac_colors)\n",
        "print(avg_color)"
      ],
      "execution_count": null,
      "outputs": [
        {
          "output_type": "stream",
          "text": [
            "[147.44839067702551, 113.65371809100999, 100.13540510543841]\n"
          ],
          "name": "stdout"
        }
      ]
    },
    {
      "cell_type": "code",
      "metadata": {
        "id": "J7TEHF03__oS",
        "colab_type": "code",
        "colab": {}
      },
      "source": [
        "\n",
        "from __future__ import unicode_literals\n"
      ],
      "execution_count": null,
      "outputs": []
    },
    {
      "cell_type": "code",
      "metadata": {
        "id": "t3b5Z8seBy4x",
        "colab_type": "code",
        "colab": {
          "base_uri": "https://localhost:8080/",
          "height": 54
        },
        "outputId": "da7c3f6c-4ead-4808-ffff-e95c63da9096"
      },
      "source": [
        "tokens = list(set([w.text for w in doc if w.is_alpha]))\n",
        "print(tokens)"
      ],
      "execution_count": null,
      "outputs": [
        {
          "output_type": "stream",
          "text": [
            "['oddness', 'courteous', 'tolerant', 'rapid', 'grains', 'licensed', 'boards', 'nineteenth', 'romantic', 'wrought', 'pretense', 'Dos', 'universally', 'carved', 'Finis', 'moonrise', 'signalled', 'hush', 'imitatin', 'wry', 'eccentricities', 'born', 'drooped', 'attentively', 'commence', 'pityingly', 'scuppers', 'vaporous', 'sashes', 'operating', 'sensation', 'confide', 'archway', 'Edward', 'transcript', 'thocht', 'opens', 'transfixed', 'jobs', 'during', 'smith', 'rising', 'makes', 'transcription', 'f', 'tumultuous', 'stole', 'incoherent', 'sting', 's', 'her', 'Soon', 'Regaining', 'confirmed', 'determine', 'indexy', 'quay', 'limbs', 'vaults', 'rest', 'Because', 'Bring', 'diver', 'India', 'rich', 'melting', 'planning', 'oppression', 'THAT', 'disastrous', 'match', 'characteristics', 'ease', 'puss', 'carafe', 'locality', 'twelve', 'credentials', 'patience', 'emotion', 'flange', 'Street', 'incision', 'Work', 'Fiction', 'Of', 'lawn', 'lass', 'mule', 'Captain', 'dusk', 'your', 'mariners', 'hardly', 'disappointment', 'briefly', 'Dacians', 'beard', 'motto', 'materialise', 'precipice', 'donors', 'Value', 'congealed', 'weapons', 'uneasily', 'evidence', 'towered', 'trip', 'ptomaines', 'loved', 'drew', 'threads', 'bury', 'CO', 'These', 'chaff', 'reduce', 'galley', 'rests', 'snog', 'oppressive', 'exerted', 'pang', 'feathers', 'tired', 'politely', 'follows', 'collection', 'Runswick', 'baptism', 'touch', 'gaunt', 'inquisition', 'Indeed', 'QUINCEY', 'chest', 'despite', 'Manlike', 'trusting', 'carpet', 'jesting', 'Time', 'satisfactorily', 'chosen', 'XXII', 'proper', 'Full', 'inquiries', 'slowly', 'holdin', 'imagining', 'fallen', 'Paterson', 'imposed', 'Dressing', 'aurora', 'tenses', 'undertake', 'HILL', 'chilling', 'gravel', 'counteractant', 'druv', 'Huns', 'grating', 'Grosset', 'breast', 'moth', 'slab', 'reticence', 'relying', 'Lincoln', 'heart', 'awed', 'shocks', 'suspicions', 'finished', 'lashes', 'polyandrist', 'see', 'pleases', 'sperm', 'WARGRAVE', 'deem', 'freely', 'moonlight', 'banks', 'Archimedes', 'hesitation', 'healing', 'wonders', 'joining', 'grief', 'stepping', 'finally', 'suavest', 'sufferer', 'visits', 'fatted', 'style', 'refusals', 'objection', 'enjoyed', 'depths', 'acknowledge', 'desperate', 'flit', 'baleful', 'grant', 'moan', 'conclusions', 'plunged', 'propelled', 'excuse', 'achieve', 'man', 'arose', 'commanding', 'succumbed', 'flagboat', 'woe', 'diet', 'allow', 'tossing', 'acant', 'anyone', 'painful', 'cherry', 'waist', 'calculations', 'Either', 'group', 'hateful', 'catalog', 'behalf', 'accepts', 'powerless', 'suspect', 'White', 'Through', 'day', 'growth', 'courtliness', 'April', 'Norfolk', 'bedside', 'handles', 'lake', 'mates', 'Towards', 'SLADE', 'reflex', 'lumbering', 'tingling', 'Burgen', 'fainter', 'Jack', 'victim', 'lap', 'grown', 'Service', 'realisation', 'reflection', 'criminals', 'dread', 'lazily', 'debased', 'redeeming', 'constrained', 'loss', 'Tyke', 'dawdle', 'intervening', 'riot', 'parched', 'madness', 'remind', 'Junior', 'complaint', 'OWNER', 'laid', 'descending', 'lord', 'hammered', 'slighted', 'bunch', 'Several', 'draws', 'exceeding', 'prosaic', 'toll', 'covered', 'overtook', 'yourself', 'fog', 'planted', 'northward', 'telegraphed', 'outrages', 'mangled', 'background', 'indignation', 'virus', 'teachings', 'own', 'refuge', 'And', 'SPOKEN', 'scientists', 'Lordship', 'JONATHAN', 'breeze', 'deer', 'smothered', 'looming', 'grims', 'shipped', 'desperately', 'trained', 'doctrine', 'quarter', 'younger', 'dangerous', 'within', 'Big', 'leaves', 'eight', 'Mulgrave', 'severed', 'A', 'furthest', 'hero', 'XI', 'companions', 'bands', 'features', 'quickening', 'Evil', 'chivalrous', 'succeeding', 'melt', 'wondering', 'Compliance', 'fracture', 'may', 'courtesy', 'doubtless', 'seemingly', 'flirt', 'parallel', 'solicitors', 'Illustration', 'Strange', 'statesman', 'sounded', 'permanence', 'eaten', 'acres', 'lethal', 'Gregory', 'Euthanasia', 'sprout', 'youthful', 'asinine', 'Revenue', 'mell', 'screeching', 'phrases', 'booming', 'scrap', 'hedged', 'bent', 'teapot', 'right', 'Heaven', 'exquisite', 'ripened', 'widest', 'confines', 'provision', 'overwrought', 'sealed', 'coroner', 'matchbox', 'transformed', 'struck', 'THOSE', 'benign', 'aud', 'helpers', 'paroxysms', 'bled', 'swooped', 'detect', 'tinges', 'approval', 'smote', 'Bank', 'instant', 'spreading', 'out', 'undeveloped', 'since', 'turned', 'sorrowfully', 'instincts', 'butchery', 'withered', 'quest', 'FULL', 'irritable', 'upstairs', 'dies', 'piteously', 'proceeding', 'Diary', 'allusion', 'strong', 'lived', 'influences', 'modest', 'chilled', 'overcome', 'researches', 'Also', 'rifts', 'uncommunicative', 'auspices', 'development', 'turning', 'Whatever', 'impossibility', 'NOTICE', 'Terrace', 'thoughtlessness', 'remonstrance', 'tickle', 'pick', 'adhered', 'landscape', 'the', 'track', 'also', 'precision', 'format', 'scattered', 'devil', 'sparkling', 'typewriter', 'intent', 'lordly', 'woodwork', 'demonstrative', 'verbatim', 'intrude', 'choosing', 'allayed', 'watered', 'Hapgood', 'tough', 'aught', 'Kettleness', 'materialised', 'flattering', 'slight', 'flung', 'need', 'handy', 'remiss', 'undulating', 'stupidity', 'confidently', 'sharper', 'esteem', 'cheering', 'certain', 'recalls', 'Mittel', 'daresay', 'ordeal', 'clean', 'undergoing', 'underlying', 'May', 'retrograde', 'respectfully', 'bye', 'leiter', 'alliance', 'metaphor', 'Mary', 'laws', 'habitable', 'king', 'inaccessible', 'Never', 'soul', 'Thomas', 'boxes', 'send', 'art', 'Close', 'vote', 'Harbour', 'hypnotism', 'Africa', 'Not', 'abide', 'martyr', 'housebreaker', 'dough', 'bill', 'Quick', 'envelopes', 'answer', 'ghastly', 'manuscript', 'INCLUDING', 'owing', 'calmly', 'tolling', 'fear', 'finishing', 'helpless', 'dire', 'level', 'speech', 'softly', 'vapour', 'designs', 'Rejoiced', 'journey', 'Veresti', 'bell', 'music', 'hate', 'justice', 'Such', 'thunderous', 'would', 'protested', 'neighbourhood', 'roll', 'balanced', 'teaming', 'protective', 'Rats', 'elude', 'Alley', 'phases', 'stertorous', 'appreciation', 'arched', 'cudgelling', 'dirty', 'windpipes', 'virtues', 'delirium', 'coax', 'performed', 'lolling', 'muffled', 'laughing', 'hardening', 'summit', 'welcome', 'species', 'restoring', 'impulse', 'clawed', 'pinching', 'kitten', 'Inured', 'Roumanian', 'emanate', 'came', 'interrogatively', 'offices', 'excuses', 'INDEMNITY', 'orders', 'interruption', 'obeisance', 'Doubtless', 'resolve', 'True', 'keys', 'fly', 'cerements', 'Nearly', 'clasp', 'wynds', 'nest', 'truth', 'reads', 'enclosure', 'idiotic', 'Pall', 'height', 'abut', 'phonograph', 'journal', 'Orange', 'quicksand', 'Hold', 'matter', 'exquisitely', 'brigands', 'holiest', 'protections', 'sparkled', 'shorter', 'passages', 'vendor', 'wasting', 'UNDER', 'escaped', 'garden', 'kodak', 'trunk', 'shortened', 'Rents', 'others', 'toom', 'evidently', 'indomitable', 'nothings', 'eager', 'endured', 'deceived', 'are', 'cabin', 'pillow', 'furious', 'handkerchief', 'yes', 'celerity', 'eyebrows', 'German', 'sayin', 'immortal', 'SOCIETY', 'vitality', 'twittering', 'descended', 'Byron', 'stops', 'war', 'specialty', 'professional', 'sprang', 'passage', 'Coming', 'ironbound', 'vanish', 'Hermanstadt', 'treasure', 'had', 'bid', 'boxful', 'entering', 'safer', 'messenger', 'belongs', 'Pro', 'whiter', 'sparks', 'adornments', 'believe', 'far', 'responsibility', 'moral', 'essay', 'god', 'butterfly', 'private', 'fond', 'having', 'snapped', 'Prelude', 'ninety', 'jackets', 'feel', 'cheerily', 'unrest', 'latch', 'praise', 'devoted', 'salt', 'emphasised', 'Jonathan', 'thumb', 'Wrapper', 'intrigued', 'c', 'ensuring', 'stage', 'preceding', 'missing', 'resolution', 'scolded', 'rubbed', 'realise', 'dine', 'deal', 'reasons', 'thereon', 'deference', 'heavens', 'incidents', 'meal', 'translated', 'funny', 'Dardanelles', 'affright', 'baggage', 'crows', 'rebuff', 'souls', 'Petrofsky', 'Nonsense', 'cake', 'greens', 'Carfax', 'pets', 'Death', 'While', 'fired', 'SECRET', 'diagram', 'email', 'protectingly', 'situated', 'store', 'pitiful', 'gown', 'Yesterday', 'sovereign', 'MANY', 'Survey', 'restlessly', 'cloth', 'fervour', 'Fifty', 'Telegram', 'topped', 'sighing', 'pharmacopoeia', 'tasks', 'travesty', 'whinnied', 'II', 'nails', 'suspected', 'developed', 'cares', 'volunteers', 'nostrum', 'wealth', 'craving', 'versus', 'determination', 'Another', 'couch', 'excited', 'In', 'velvety', 'woke', 'ignorance', 'ordog', 'watches', 'dried', 'Dead', 'vicious', 'supper', 'proposal', 'ahead', 'two', 'previous', 'brooked', 'thrust', 'anceterer', 'eard', 'Greek', 'bus', 'alder', 'miniature', 'banqueted', 'Was', 'Fortunately', 'Suddenly', 'mutilation', 'dozing', 'his', 'however', 'working', 'status', 'party', 'pleasantly', 'heights', 'Hampton', 'points', 'melancholy', 'receptivity', 'ears', 'fooled', 'unattended', 'salvation', 'peaks', 'callous', 'fashion', 'succeeded', 'phlegmatic', 'Ca', 'include', 'growl', 'favouring', 'waved', 'pierce', 'mind', 'Consul', 'Did', 'alive', 'arrives', 'whitish', 'gather', 'Walworth', 'again', 'queried', 'foot', 'lady', 'illsome', 'carried', 'perfect', 'not', 'withdrawn', 'morbidly', 'Scholomance', 'i', 'cumbrous', 'emergency', 'theory', 'unwisely', 'Lombard', 'consider', 'tombstones', 'benignly', 'nicht', 'acting', 'cheered', 'dared', 'impulsively', 'Out', 'acquired', 'makers', 'After', 'ascertained', 'Found', 'earnest', 'Sister', 'relaxed', 'cheap', 'concealment', 'Horror', 'lumps', 'PIN', 'coasting', 'undressing', 'entire', 'medicines', 'sojourn', 'prevalent', 'crawled', 'sheltered', 'September', 'bred', 'Hennessey', 'grew', 'bestrewed', 'additional', 'merely', 'cardinal', 'consignment', 'walkin', 'traffic', 'egotist', 'graveyard', 'glasses', 'borrowed', 'drip', 'pleaded', 'unhook', 'Westminster', 'purify', 'grandeur', 'argue', 'home', 'repress', 'dark', 'shivered', 'kindness', 'MORRIS', 'argumentative', 'produce', 'torturing', 'sorry', 'profit', 'hafflin', 'revolutionised', 'whom', 'click', 'borne', 'mountains', 'secrecy', 'bobbing', 'basement', 'b', 'mania', 'hatchways', 'conferences', 'exceeded', 'nigh', 'Ye', 'financial', 'obtained', 'Tom', 'reet', 'British', 'wisely', 'west', 'providin', 'exercise', 'arf', 'fade', 'Amsterdam', 'loathe', 'swan', 'bruised', 'troubling', 'unthinking', 'Yet', 'Storm', 'Shooter', 'branches', 'asserting', 'Gardens', 'active', 'soundly', 'logs', 'patronymic', 'sword', 'stupidly', 'manner', 'desert', 'larboard', 'carrier', 'hysterical', 'Gutenberg', 'interviewer', 'invader', 'bat', 'doubted', 'results', 'taught', 'term', 'carnivora', 'beneficent', 'toilet', 'Norway', 'bolder', 'CUTTING', 'remain', 'loop', 'shrillness', 'Damn', 'temptation', 'enlightened', 'exclamation', 'Lor', 'sets', 'edges', 'care', 'rusty', 'SAMUEL', 'impatiently', 'greenish', 'dealings', 'pajamas', 'therefore', 'err', 'ones', 'garlanded', 'VALLEY', 'brool', 'expelled', 'measure', 'temples', 'Nations', 'nethermost', 'jealous', 'funereal', 'counting', 'prosecuting', 'greeting', 'furtherer', 'frankly', 'leave', 'worth', 'clanged', 'argy', 'sto', 'vehicle', 'mistaking', 'Mrs', 'guns', 'Despite', 'stupendous', 'Henceforth', 'jubilant', 'equal', 'grimly', 'leads', 'needs', 'spangled', 'calèche', 'will', 'comprehend', 'lily', 'flashing', 'bustling', 'aside', 'Redistribution', 'stimulating', 'officers', 'breathe', 'victory', 'splendidly', 'smelling', 'advancement', 'file', 'III', 'comers', 'members', 'Lower', 'sheep', 'class', 'swarm', 'appetite', 'congenitally', 'hunger', 'velvet', 'Where', 'learn', 'patronised', 'antique', 'low', 'honest', 'place', 'pile', 'dexterity', 'understanding', 'thankfulness', 'transfer', 'render', 'establishment', 'vault', 'feelings', 'Between', 'thrill', 'heaved', 'unknowing', 'printed', 'gnarled', 'slightest', 'year', 'impotent', 'chew', 'query', 'partial', 'pear', 'struggle', 'exclusive', 'None', 'guide', 'Have', 'questioningly', 'bogles', 'tethers', 'strange', 'Aërated', 'cabmen', 'beuk', 'secondly', 'fogs', 'stillness', 'meat', 'animile', 'Yorkshire', 'and', 'adjusted', 'unquestionable', 'jutting', 'youth', 'compliance', 'slender', 'Lists', 'drowning', 'puzzle', 'basket', 'slung', 'truck', 'clearin', 'swore', 'rift', 'striving', 'studies', 'Hardly', 'died', 'building', 'suggested', 'burial', 'unturned', 'barely', 'heredity', 'clung', 're', 'barrel', 'sorrowin', 'brass', 'emblemship', 'strangely', 'languorous', 'separated', 'ominous', 'rattle', 'hopeless', 'egg', 'boon', 'DRACULA', 'traps', 'apprehend', 'severe', 'FOR', 'Merciful', 'towards', 'bravely', 'rescript', 'rust', 'wrenching', 'Theatre', 'x', 'ended', 'subjects', 'Is', 'scientific', 'final', 'horizon', 'clot', 'nationalities', 'departure', 'hay', 'workmen', 'oath', 'doer', 'completely', 'nt', 'kink', 'Newcastle', 'Bulgar', 'tempt', 'brightest', 'balcony', 'briskly', 'flown', 'arrow', 'Herr', 'sentience', 'SEND', 'pink', 'conceal', 'strengthened', 'booze', 'persistence', 'departments', 'enriched', 'shone', 'limitation', 'braw', 'proved', 'order', 'Go', 'poke', 'weapon', 'less', 'month', 'flicker', 'has', 'interstice', 'charge', 'southern', 'HEADSTRONG', 'insanity', 'corridor', 'tax', 'pleasanter', 'utter', 'Secondly', 'freedom', 'Answer', 'cattle', 'clumsy', 'grey', 'orf', 'pronounced', 'accurately', 'unnatural', 'Proofreading', 'happened', 'trim', 'try', 'tinkle', 'filled', 'madams', 'keenly', 'Unconscious', 'average', 'egoist', 'fortunately', 'conviction', 'chronological', 'facility', 'hills', 'fixedly', 'stayed', 'beautifully', 'Deil', 'currency', 'anchor', 'sidelong', 'weakness', 'Klausenburg', 'combination', 'Pruth', 'confided', 'Texas', 'ark', 'UNITED', 'Lidderdale', 'amount', 'school', 'joost', 'AT', 'insisted', 'steam', 'band', 'mischief', 'swelling', 'Vice', 'lured', 'juniper', 'inmate', 'Heavens', 'actions', 'wi', 'scribe', 'alley', 'eatin', 'ejaculation', 'elect', 'Think', 'valley', 'mein', 'fable', 'fluffy', 'jug', 'tame', 'contravention', 'political', 'happiest', 'hideous', 'yelping', 'stolidly', 'analysis', 'corporeal', 'undress', 'followed', 'frenzied', 'grimaced', 'volunteered', 'flinch', 'honoured', 'sincerely', 'quondam', 'kissed', 'hide', 'attitude', 'efforts', 'accessible', 'inn', 'kicked', 'homicidal', 'Excuse', 'imagination', 'mental', 'garb', 'resurrection', 'Doctor', 'scruff', 'wound', 'petted', 'longest', 'wearied', 'causes', 'experimental', 'rewards', 'gaslight', 'comfortable', 'practitioner', 'thrive', 'travelling', 'orchestra', 'hit', 'Guard', 'ash', 'wearily', 'accursed', 'dragged', 'rudder', 'BEG', 'restored', 'pillar', 'milk', 'Use', 'Here', 'surrender', 'irresistibly', 'projected', 'Rig', 'seeing', 'Oriental', 'nimbleness', 'ripples', 'carving', 'width', 'derived', 'goitre', 'calmness', 'Archibald', 'Oceans', 'necessarily', 'drink', 'suspense', 'thousands', 'by', 'noted', 'charities', 'similarly', 'prayers', 'admirable', 'compunction', 'devotion', 'blinked', 'convulsed', 'rooks', 'favoured', 'Mine', 'seeking', 'larst', 'Alas', 'making', 'hillsides', 'conversations', 'raging', 'Omnia', 'beloved', 'recover', 'submit', 'berserker', 'rifle', 'Canvas', 'Biscay', 'contrary', 'murmur', 'lit', 'goods', 'dusty', 'back', 'improve', 'thread', 'paralysis', 'appointed', 'repletion', 'fill', 'straight', 'sacrificed', 'though', 'coevals', 'glow', 'ordered', 'seamanship', 'convinced', 'distraction', 'coils', 'pack', 'shot', 'philosophically', 'balance', 'stagnant', 'Denn', 'waiter', 'trailing', 'bans', 'vif', 'proving', 'Yus', 'But', 'bloomin', 'supremely', 'taking', 'crowds', 'Lively', 'bold', 'XXVII', 'GREEN', 'wherever', 'bellow', 'river', 'IX', 'touched', 'minutely', 'absent', 'blackness', 'enduring', 'covers', 'discussing', 'explained', 'ow', 'trouble', 'reassured', 'Chatham', 'dyin', 'mixture', 'Mein', 'words', 'masks', 'blowin', 'vaulted', 'Brave', 'fashioned', 'humans', 'Bistritza', 'Bats', 'bristling', 'proposals', 'bodies', 'coarse', 'converging', 'protest', 'successfully', 'farmers', 'foliage', 'luggage', 'next', 'glitter', 'resilience', 'whistled', 'Early', 'suffered', 'wo', 'solicitor', 'An', 'paltry', 'gala', 'fortune', 'acute', 'Page', 'body', 'yell', 'ledger', 'violate', 'beauties', 'carnival', 'angrily', 'vague', 'rent', 'mislike', 'halted', 'clear', 'glassy', 'flagged', 'shifted', 'Gott', 'trusted', 'Windham', 'toads', 'shear', 'nuisance', 'investigation', 'religious', 'astral', 'welled', 'awake', 'dishonour', 'middle', 'once', 'burnt', 'proprietary', 'flask', 'pose', 'off', 'calculated', 'due', 'staves', 'disappeared', 'March', 'boy', 'fro', 'instantly', 'exciting', 'reference', 'Angel', 'polished', 'pit', 'them', 'belderin', 'relentlessly', 'cackled', 'Fools', 'blinds', 'donate', 'sharpened', 'cronies', 'tortoise', 'seein', 'Seventy', 'distinguish', 'Title', 'novice', 'gradually', 'rested', 'Bersicker', 'referring', 'forestalling', 'moods', 'receipt', 'hurried', 'comically', 'stupor', 'included', 'collision', 'bestow', 'desolate', 'begins', 'Internal', 'quare', 'amongst', 'flush', 'rendered', 'neutral', 'assent', 'optical', 'Were', 'pell', 'Council', 'spilt', 'endeavour', 'haunted', 'Marquand', 'nostril', 'supersteetion', 'handle', 'mentally', 'neglecting', 'fez', 'wits', 'jurist', 'habit', 'pursuit', 'scythe', 'pull', 'sugar', 'Winter', 'impression', 'brushing', 'aloft', 'Right', 'whale', 'Corner', 'Surely', 'lente', 'wiped', 'moaned', 'hotel', 'depth', 'cover', 'saddles', 'Yard', 'ray', 'swayed', 'applied', 'sceptic', 'quivering', 'green', 'explanation', 'rudiment', 'rifles', 'address', 'cartload', 'Purfect', 'wills', 'hyenas', 'knives', 'survived', 'representing', 'mud', 'LIMITED', 'rebelled', 'seal', 'parti', 'makin', 'residence', 'via', 'correct', 'sloping', 'shape', 'stone', 'advise', 'egotistical', 'wakeful', 'gaps', 'Winchester', 'towel', 'local', 'veritable', 'Despises', 'emerge', 'stolen', 'fails', 'reckoned', 'horrible', 'befallen', 'toleration', 'computers', 'response', 'Archive', 'unutterably', 'nowt', 'atmospheres', 'wafer', 'quite', 'faintly', 'offensively', 'Presently', 'sanity', 'Check', 'clay', 'emboldened', 'better', 'luck', 'ladder', 'worst', 'Action', 'shapes', 'This', 'happening', 'whether', 'ultimate', 'lifted', 'Men', 'Attila', 'panther', 'Still', 'statutes', 'danced', 'shelves', 'scope', 'chatting', 'labour', 'fouled', 'crisp', 'lowering', 'Wallach', 'perceptible', 'bats', 'creation', 'remembering', 'oblivion', 'COURT', 'smaller', 'late', 'swing', 'blood', 'employer', 'path', 'positively', 'existing', 'knights', 'consequences', 'truths', 'writes', 'keen', 'experience', 'sickened', 'really', 'finger', 'Chernosese', 'heel', 'suite', 'cuttin', 'grip', 'medicinal', 'brought', 'deepened', 'Sereth', 'elaborate', 'yields', 'lightly', 'rag', 'tread', 'with', 'Hillingham', 'Company', 'shuts', 'assumption', 'half', 'Foundation', 'forbidden', 'began', 'woman', 'westward', 'regret', 'broaden', 'displayed', 'exactness', 'cumulative', 'phosphorescence', 'save', 'distort', 'finish', 'which', 'memory', 'whispers', 'surgical', 'clap', 'attempted', 'Defects', 'poignant', 'insensibly', 'clears', 'mass', 'XXI', 'travels', 'fatigues', 'washed', 'varieties', 'aback', 'passing', 'at', 'crested', 'stray', 'During', 'maps', 'granite', 'curved', 'wrapping', 'bigger', 'assures', 'patches', 'zealous', 'character', 'drug', 'erected', 'Americanism', 'coup', 'department', 'voice', 'gums', 'beast', 'advice', 'He', 'Mina', 'Northern', 'baying', 'none', 'memoranda', 'Do', 'philosophy', 'numbering', 'delightful', 'ledge', 'long', 'misjudge', 'rachet', 'curiosity', 'sobbed', 'motion', 'kill', 'services', 'curtains', 'Typographical', 'hoofs', 'rapture', 'seasoned', 'twisted', 'boulder', 'receive', 'grinning', 'doctor', 'tale', 'beginning', 'reiten', 'isolation', 'sterilise', 'red', 'blind', 'ætat', 'factor', 'filthy', 'singleness', 'Courage', 'displaying', 'haunting', 'temperament', 'slammed', 'creaked', 'forego', 'loathing', 'Hawkins', 'Crescent', 'fiend', 'encourages', 'someone', 'stop', 'network', 'Sunday', 'thanking', 'Romany', 'cared', 'drain', 'caricaturists', 'dispirited', 'protuberant', 'fights', 'Back', 'INJURED', 'robber', 'consigning', 'piercing', 'willingly', 'dissatisfied', 'headlines', 'carry', 'exultation', 'Tally', 'joint', 'study', 'repose', 'Section', 'robe', 'writers', 'gable', 'Herewith', 'intently', 'China', 'solder', 'DIRECT', 'pet', 'drive', 'spasm', 'blamed', 'merry', 'handsome', 'bee', 'assert', 'entirely', 'cuttings', 'Date', 'Un', 'unvaried', 'Court', 'consate', 'handed', 'pillows', 'strenuous', 'policemen', 'please', 'straggling', 'adamantine', 'placidly', 'donations', 'perturbation', 'peered', 'Corcoran', 'packed', 'ship', 'stealing', 'curve', 'motions', 'landing', 'empowered', 'Bloxam', 'lookin', 'removals', 'mouth', 'conspicuously', 'violent', 'draining', 'Sussex', 'diabolically', 'turnings', 'but', 'mighty', 'spitting', 'fasten', 'ploughshare', 'Say', 'perhaps', 'horsemen', 'porridge', 'baffled', 'owned', 'meet', 'hunter', 'castle', 'distrustful', 'Sincerity', 'mansion', 'invented', 'afterwards', 'knew', 'length', 'saucer', 'midnight', 'thrilled', 'apprehension', 'continue', 'grieved', 'sternness', 'Tobolsk', 'Under', 'common', 'existent', 'Seeing', 'other', 'teacher', 'Presence', 'specks', 'Incorporated', 'version', 'Moreover', 'Thames', 'superiority', 'materials', 'disgorged', 'United', 'proverb', 'pistol', 'fore', 'scene', 'rooms', 'LOG', 'More', 'scratchin', 'horseshoe', 'sensitive', 'listen', 'boh', 'sadly', 'dilemma', 'nosferatu', 'span', 'overpowered', 'gloves', 'redistribute', 'worry', 'stairway', 'gay', 'hotch', 'such', 'replace', 'whoever', 'trituration', 'thankful', 'harder', 'mortar', 'AMALGAMATION', 'logic', 'undisciplined', 'silences', 'experimentally', 'fold', 'yoke', 'barking', 'failure', 'Perhaps', 'ABRAHAM', 'despairingly', 'mercy', 'old', 'mobile', 'Gibraltar', 'lanthorns', 'sway', 'merciful', 'hansom', 'beacon', 'only', 'pearl', 'appetites', 'rail', 'insists', 'XX', 'lies', 'chaplain', 'copying', 'laughed', 'rushing', 'Louder', 'warn', 'employed', 'arrival', 'council', 'Quicker', 'forcing', 'Vienna', 'utterly', 'possessed', 'OF', 'arisen', 'tore', 'transform', 'imperative', 'bishops', 'gasped', 'embrace', 'Second', 'following', 'strangest', 'shut', 'hoast', 'Tells', 'bath', 'PATERSON', 'Shortly', 'yarns', 'Each', 'ead', 'influence', 'Wolves', 'smelled', 'worship', 'drives', 'despairing', 'darken', 'thud', 'ravages', 'prick', 'LIFE', 'Pulling', 'inexpressible', 'husbandman', 'free', 'immense', 'entity', 'deux', 'rigorously', 'lightning', 'dad', 'functional', 'interrupted', 'puzzles', 'smallest', 'anticipation', 'suggestion', 'acutely', 'solved', 'Paris', 'flushed', 'amuse', 'Slovak', 'sophistic', 'arrangement', 'chapelle', 'love', 'beds', 'simultaneously', 'wildest', 'screwed', 'sleep', 'dove', 'invalidity', 'roses', 'guessed', 'able', 'learning', 'injection', 'ketch', 'seaboards', 'shield', 'chatted', 'wrinkles', 'tarnished', 'summertime', 'allaying', 'all', 'vanity', 'discord', 'eyelashes', 'forests', 'gathering', 'mistress', 'Mohács', 'bursts', 'wiser', 'aft', 'awful', 'cope', 'nations', 'humbly', 'pirates', 'agglomeration', 'fools', 'touters', 'Inn', 'sees', 'system', 'bacon', 'speaking', 'overslept', 'surmise', 'realize', 'joke', 'Cort', 'wants', 'root', 'courteously', 'hesitancy', 'Ste', 'go', 'roofs', 'whirl', 'melts', 'warmed', 'imagine', 'dreaminess', 'ineffably', 'rails', 'ordained', 'Language', 'engage', 'five', 'intellect', 'kind', 'trial', 'typescript', 'counsel', 'above', 'paved', 'tree', 'Pouf', 'variety', 'registered', 'mamaliga', 'millions', 'Drawbridge', 'bleeding', 'apparent', 'circling', 'fully', 'MERCHANTABILITY', 'clumsiness', 'spelt', 'cracks', 'endless', 'screaming', 'smell', 'poorish', 'slumber', 'else', 'dessay', 'inaccurate', 'die', 'bagful', 'more', 'tomb', 'dutiful', 'GUTENBERG', 'stark', 'Shall', 'MR', 'govern', 'children', 'scratch', 'Leutner', 'crush', 'unstained', 'index', 'visiting', 'teeth', 'UT', 'blew', 'charter', 'intended', 'creature', 'shivering', 'adventure', 'petticoats', 'spiders', 'feedin', 'sanatorium', 'whereon', 'hypnotic', 'madhouse', 'flakes', 'reverently', 'multiplying', 'courtly', 'dense', 'chink', 'clog', 'raving', 'foresight', 'bride', 'Real', 'workbasket', 'memories', 'harmony', 'rung', 'lovingly', 'china', 'Westminister', 'outwards', 'built', 'seamen', 'alternative', 'gap', 'decided', 'soothing', 'demons', 'alarming', 'nebulous', 'choice', 'precious', 'experimenting', 'strongest', 'colder', 'bustled', 'waves', 'Burial', 'unreal', 'sill', 'contented', 'deck', 'incoming', 'suavely', 'bundle', 'clumps', 'later', 'limit', 'description', 'east', 'Most', 'mornin', 'proofs', 'sudden', 'bare', 'miserable', 'affected', 'badly', 'created', 'road', 'warrant', 'fasting', 'neighbours', 'reason', 'jouped', 'bar', 'hobnails', 'endure', 'lectures', 'chap', 'central', 'satisfy', 'rare', 'obsequious', 'direst', 'start', 'daylight', 'idly', 'centre', 'offered', 'nobles', 'appositeness', 'double', 'sworn', 'duty', 'doorway', 'loosened', 'field', 'chivyin', 'employee', 'bonds', 'refoosin', 'Remain', 'Hitherto', 'excused', 'spirit', 'betrayed', 'manageable', 'enabled', 'cerebral', 'tussock', 'smart', 'Ask', 'reception', 'politic', 'pleasing', 'salutation', 'eagerness', 'forehead', 'stunned', 'upholstery', 'Mem', 'preparing', 'example', 'clouded', 'Burger', 'flood', 'ending', 'pinched', 'capstan', 'chimney', 'fate', 'stubble', 'Passing', 'be', 'thence', 'snow', 'months', 'town', 'groove', 'rolling', 'darts', 'followers', 'chick', 'detail', 'downloading', 'maniac', 'improved', 'elements', 'elementary', 'secure', 'tries', 'gold', 'Row', 'grim', 'superficial', 'EBook', 'premise', 'Despair', 'hidden', 'Forgiven', 'scatter', 'knitting', 'straining', 'finite', 'everywhere', 'costliest', 'plank', 'begotten', 'outer', 'subscribe', 'observes', 'compel', 'bearable', 'father', 'hitch', 'knelt', 'under', 'patted', 'tune', 'oppose', 'wreck', 'butcher', 'Lucy', 'guilt', 'Write', 'stenography', 'noticed', 'NEW', 'nodded', 'lots', 'adopted', 'obscene', 'Castle', 'fiancée', 'husband', 'Important', 'fisherman', 'kirk', 'girls', 'suavity', 'agreement', 'branch', 'graceful', 'casualties', 'immortality', 'deep', 'LIABLE', 'took', 'boatman', 'madman', 'cautioned', 'perish', 'ate', 'sand', 'bitter', 'cry', 'embracing', 'loafers', 'pencil', 'tumbling', 'convenient', 'Donelson', 'sunt', 'greet', 'crannies', 'acts', 'gravely', 'driven', 'shipping', 'uncertain', 'shine', 'PRINTED', 'WARRANTY', 'mysterious', 'Ah', 'gipsy', 'nurses', 'perched', 'Sunrise', 'Thank', 'electricity', 'whithersoever', 'blindfold', 'attributes', 'verdict', 'Your', 'atonement', 'installed', 'sweeps', 'possible', 'great', 'lanterns', 'choky', 'seconds', 'litter', 'plague', 'trade', 'placid', 'politics', 'shaggy', 'mourner', 'Quincey', 'lose', 'dressing', 'pall', 'flickered', 'dissipated', 'firing', 'sore', 'softened', 'excite', 'attendant', 'seeming', 'pale', 'wise', 'encamped', 'untouched', 'carrying', 'likely', 'reminded', 'unpleasantness', 'happed', 'often', 'burdened', 'tripped', 'Face', 'Give', 'prevailing', 'sail', 'News', 'end', 'TRADEMARK', 'uniform', 'trap', 'Donations', 'owners', 'sheet', 'apology', 'Unless', 'deepest', 'exhibit', 'light', 'preserve', 'swords', 'coloured', 'vibrate', 'reticent', 'killing', 'America', 'approved', 'paraphernalia', 'surface', 'miraculously', 'skull', 'befriended', 'longer', 'prominence', 'require', 'Dudding', 'invoices', 'distinction', 'excess', 'wives', 'official', 'Adelphi', 'putty', 'summut', 'become', 'beyond', 'providing', 'mundane', 'child', 'noisy', 'characteristic', 'flooded', 'leader', 'illumine', 'tethered', 'dreams', 'escape', 'wink', 'Hyde', 'junior', 'bursting', 'corrected', 'Sometimes', 'itself', 'steadying', 'sullen', 'Abramoff', 'based', 'put', 'hot', 'oars', 'glean', 'armour', 'wonderfully', 'treated', 'proximity', 'cliffs', 'Written', 'basis', 'cheer', 'bringin', 'Laugh', 'pressed', 'mock', 'bloofer', 'idea', 'pure', 'banquet', 'robin', 'Seven', 'loading', 'physiognomist', 'bloom', 'unwonted', 'hinder', 'hunting', 'phrase', 'earthly', 'helps', 'risen', 'openly', 'vain', 'suffusion', 'moths', 'tremulous', 'JOHN', 'exercised', 'directory', 'English', 'Saxons', 'degrees', 'sheepskin', 'hearted', 'disbelief', 'crucifixes', 'echoes', 'Taking', 'tall', 'those', 'geography', 'vile', 'July', 'sleeve', 'interpreting', 'advisable', 'outdated', 'rumours', 'Like', 'whatever', 'scaled', 'titles', 'enlighten', 'patrolled', 'regularity', 'cap', 'Lake', 'glared', 'shrine', 'gallant', 'HENNESSEY', 'ye', 'tumult', 'rosy', 'fast', 'friend', 'applicable', 'withdraw', 'step', 'us', 'curdling', 'toward', 'THIS', 'glances', 'wondrous', 'incurring', 'profusion', 'dog', 'hendl', 'goodness', 'teems', 'pallor', 'Madam', 'Red', 'force', 'him', 'ancient', 'Straits', 'penetrate', 'tied', 'anxiously', 'annoying', 'baby', 'myriads', 'Better', 'native', 'headpiece', 'voluptuous', 'crowding', 'mirabile', 'tots', 'curates', 'warlike', 'NO', 'mushroom', 'infect', 'pique', 'firs', 'glory', 'Sheppard', 'transcriber', 'soulless', 'simoon', 'Till', 'certing', 'Whole', 'Odessus', 'wad', 'lapped', 'sharply', 'choked', 'bankers', 'deeds', 'Produced', 'groups', 'invade', 'emaciated', 'differentiate', 'call', 'hairbreadth', 'stick', 'gaiety', 'sneer', 'Congress', 'mistiness', 'Conquistadores', 'practise', 'age', 'Arsk', 'seaweed', 'distant', 'records', 'Certain', 'vertebra', 'facts', 'peculiarly', 'Union', 'granted', 'aglow', 'prominently', 'raised', 'babby', 'thwart', 'Entered', 'Albemarle', 'perspiration', 'sympathise', 'gently', 'kittens', 'maize', 'puts', 'wagging', 'historical', 'Bloofer', 'nether', 'astray', 'inmates', 'pain', 'wrap', 'E', 'foresee', 'thrall', 'uncanny', 'uses', 'ousted', 'lunched', 'lair', 'hopeful', 'wars', 'temper', 'types', 'Usually', 'decanter', 'Ville', 'became', 'rowlocks', 'ranked', 'site', 'birch', 'forming', 'reopened', 'throats', 'underneath', 'sources', 'narration', 'evil', 'anywhere', 'smile', 'leaning', 'Want', 'Oh', 'occasions', 'foam', 'mischievous', 'un', 'till', 'discretion', 'spider', 'overcoming', 'secrets', 'fleet', 'Moneybag', 'diary', 'puckered', 'pausing', 'arrears', 'places', 'privilege', 'pay', 'moistening', 'incomer', 'horrify', 'First', 'wild', 'ring', 'combinations', 'untrue', 'fastened', 'SISTER', 'bolts', 'returned', 'servants', 'scared', 'readable', 'forgot', 'provide', 'library', 'boot', 'erred', 'X', 'century', 'scunner', 'promises', 'crucifix', 'disdain', 'people', 'chess', 'chiefly', 'closely', 'Whitaker', 'blasts', 'unchecked', 'strenuously', 'distract', 'legs', 'bygone', 'their', 'rains', 'waken', 'ignotum', 'troops', 'cockcrow', 'glimmer', 'exhale', 'Jamaica', 'revolted', 'Thursday', 'remove', 'veins', 'wishful', 'enemy', 'chorus', 'North', 'mile', 'Art', 'daring', 'spoken', 'daubed', 'goals', 'taketh', 'sailors', 'figures', 'deposit', 'aboord', 'specialist', 'clammy', 'act', 'frowning', 'telegraph', 'Salt', 'typical', 'sparrow', 'method', 'south', 'disgusting', 'enforcement', 'look', 'work', 'exporting', 'enjoyment', 'PGLAF', 'watch', 'hindrance', 'deftly', 'squadron', 'lift', 'Hardy', 'safest', 'intonation', 'bullies', 'lids', 'estimate', 'airs', 'pressing', 'garlic', 'walked', 'Japanese', 'sofa', 'stragglers', 'prig', 'sweet', 'sit', 'solemnly', 'page', 'neglect', 'friends', 'ordering', 'astonishing', 'Report', 'price', 'Terms', 'Scarborough', 'quickness', 'discussion', 'record', 'piteous', 'tasted', 'rugs', 'image', 'element', 'journalists', 'bark', 'bein', 'absolved', 'FLETCHER', 'hypertext', 'whereat', 'howled', 'steered', 'custom', 'injunctions', 'bleating', 'ADVENTURE', 'Szgany', 'asserted', 'England', 'gloating', 'flooding', 'Hood', 'Bram', 'Believe', 'Malvolio', 'Murdered', 'tyking', 'images', 'dates', 'creep', 'ago', 'behaved', 'artfully', 'evident', 'principles', 'inhabit', 'grand', 'sissing', 'arbitrary', 'bags', 'vastness', 'stories', 'gasping', 'REPLACEMENT', 'anything', 'bless', 'proportioned', 'fireplace', 'these', 'smoothing', 'reduction', 'rosary', 'civility', 'perfection', 'turn', 'lunching', 'Potter', 'recoiled', 'lighting', 'Charing', 'for', 'bloodedness', 'tissue', 'ANNEXATION', 'casing', 'snub', 'fabrics', 'gases', 'wilderness', 'guess', 'occasionally', 'owes', 'grumpy', 'vindictive', 'invent', 'WITH', 'big', 'heard', 'attracted', 'you', 'difficult', 'abhorred', 'hordes', 'STATES', 'playfully', 'consigned', 'chalkily', 'thousand', 'flannels', 'radius', 'recklessly', 'earliest', 'Archipelago', 'injuries', 'hasty', 'punctured', 'Eight', 'dress', 'food', 'rooted', 'suffused', 'yelpin', 'Devils', 'Or', 'reply', 'closes', 'flick', 'recoil', 'trains', 'exit', 'Interview', 'Hampstead', 'Rawlings', 'earthy', 'daytime', 'kiss', 'lurid', 'interesting', 'prelude', 'woefully', 'weighed', 'Viaduct', 'refraction', 'lights', 'wolf', 'straits', 'Exeter', 'threatening', 'awakened', 'abbey', 'misty', 'deficiencies', 'disappearing', 'wasted', 'blast', 'rigidly', 'excellently', 'en', 'hissing', 'Herren', 'appreciate', 'unaware', 'generously', 'quietly', 'grounds', 'sign', 'corroborated', 'permanent', 'obliging', 'dreary', 'devouring', 'denial', 'scientist', 'spare', 'lustre', 'wanted', 'earlier', 'instruction', 'afraid', 'tigers', 'Lane', 'Ristics', 'descendants', 'yield', 'play', 'VI', 'Servian', 'clever', 'cylinders', 'leaned', 'present', 'cawing', 'Underground', 'vocation', 'sizes', 'week', 'objected', 'irresistible', 'buckled', 'rum', 'wages', 'watching', 'everyone', 'harnessed', 'condemn', 'subtly', 'convey', 'globe', 'treasured', 'farewell', 'nevertheless', 'trance', 'exodus', 'Professor', 'streaming', 'maw', 'summons', 'consulting', 'enkeen', 'radiantly', 'jamb', 'wildly', 'circle', 'animate', 'comin', 'Park', 'wakes', 'expected', 'stature', 'Pray', 'previously', 'noble', 'garding', 'waking', 'lookout', 'frontiers', 'tickets', 'creak', 'snows', 'speer', 'prolonging', 'shorne', 'manhood', 'examine', 'seared', 'bit', 'screech', 'palms', 'bars', 'fresher', 'is', 'Final', 'mean', 'hitching', 'scream', 'mocking', 'Updated', 'pricks', 'desecration', 'Nordau', 'creating', 'Side', 'growls', 'Ten', 'Straw', 'recorded', 'classification', 'theme', 'fish', 'buried', 'surround', 'dictionary', 'fascination', 'Son', 'prompt', 'digital', 'Together', 'energies', 'nicest', 'jackals', 'LICENSE', 'swirling', 'DEMETER', 'vigil', 'Pasted', 'editions', 'ripple', 'threaten', 'brute', 'endorsed', 'remember', 'Campaign', 'paused', 'pg', 'START', 'drugged', 'swear', 'mattock', 'indemnify', 'unlike', 'subduing', 'Smith', 'shoulder', 'deplored', 'harshly', 'hollow', 'produced', 'impalpable', 'GARDEN', 'prayer', 'quâ', 'dying', 'drouth', 'harbour', 'gallop', 'coffined', 'script', 'vampire', 'inciting', 'arrived', 'looks', 'ships', 'Mission', 'masonry', 'malodorous', 'wee', 'reaped', 'harmed', 'overtaken', 'm', 'untrembling', 'coffee', 'elbow', 'dozed', 'smileless', 'stainless', 'siege', 'depressed', 'swiftly', 'enemies', 'Since', 'steadier', 'ask', 'Must', 'nor', 'felt', 'fastening', 'shirt', 'forces', 'instead', 'outcry', 'bedroom', 'Riding', 'Crew', 'national', 'reject', 'Send', 'carrion', 'livin', 'XXIII', 'savagely', 'case', 'gusto', 'marvel', 'abating', 'bows', 'scandal', 'George', 'mute', 'fightin', 'clustered', 'cloud', 'watchman', 'anguish', 'in', 'surgeon', 'thesis', 'braver', 'levelled', 'cool', 'fifteen', 'torture', 'law', 'filed', 'wire', 'Blow', 'charges', 'relapsed', 'increased', 'Souls', 'blazed', 'doomed', 'tackled', 'wreathed', 'Dun', 'swift', 'conquered', 'resonant', 'copies', 'wearing', 'Distributed', 'blush', 'compressed', 'thinnest', 'attracting', 'annual', 'sanest', 'snort', 'original', 'posting', 'rather', 'cats', 'cottages', 'flame', 'topic', 'returns', 'maybe', 'postman', 'comfortably', 'Simmons', 'locked', 'biting', 'foolhardiness', 'Literary', 'consulted', 'equipped', 'porterage', 'swallow', 'propped', 'tireless', 'XIX', 'gals', 'crammle', 'Already', 'thoughtful', 'articulated', 'strasse', 'righteousness', 'moved', 'phase', 'increase', 'beach', 'gladsome', 'liberated', 'rarer', 'elenchi', 'tested', 'suddenest', 'obstinacy', 'Land', 'Popular', 'signs', 'gouts', 'against', 'longing', 'lack', 'chairs', 'paying', 'rises', 'attire', 'much', 'landed', 'Goodness', 'document', 'watchers', 'nauseous', 'perlite', 'unscrew', 'interview', 'bitten', 'careful', 'Far', 'tints', 'health', 'ART', 'seize', 'regular', 'sentence', 'bulls', 'outward', 'rub', 'When', 'frightens', 'sparrows', 'vipers', 'direction', 'admission', 'realized', 'errors', 'Pesth', 'Vampire', 'picturesque', 'grano', 'terrified', 'S', 'Certainly', 'musket', 'colossal', 'close', 'pair', 'complained', 'furniture', 'explaining', 'Crucifix', 'supported', 'screwdriver', 'crazy', 'throughout', 'unsolicited', 'Icelander', 'growths', 'oak', 'pierced', 'jumping', 'boomed', 'type', 'indifferent', 'appalling', 'pantin', 'summoned', 'Same', 'greatest', 'decoction', 'Petrof', 'Zoölogical', 'ceasing', 'Pole', 'spelling', 'garments', 'mysteriously', 'savage', 'fatten', 'wires', 'hauled', 'humoured', 'Himmel', 'honey', 'Holland', 'seek', 'beside', 'chose', 'beliefs', 'shady', 'Can', 'truest', 'coverlet', 'openings', 'facing', 'putting', 'hieroglyphical', 'seized', 'gentleman', 'ponder', 'sighted', 'Woe', 'Which', 'Asylum', 'comforts', 'sowed', 'sash', 'remnant', 'door', 'bargaining', 'wreaths', 'resolved', 'redeemed', 'miller', 'bristles', 'fountain', 'Devotion', 'burden', 'wrongs', 'medico', 'peace', 'natural', 'cow', 'suggesting', 'waistcoats', 'Ittin', 'peril', 'inspector', 'hinges', 'western', 'hats', 'remorseless', 'boiler', 'unhinged', 'originator', 'freight', 'satisfaction', 'where', 'winter', 'coffins', 'tombsteans', 'straying', 'imperceptible', 'occupy', 'learned', 'sheets', 'appeal', 'crumble', 'readily', 'cage', 'informant', 'banished', 'cannot', 'comes', 'upside', 'craft', 'Zoo', 'Gone', 'buckle', 'tamed', 'CHILD', 'hourly', 'Esk', 'corrupt', 'strewn', 'preciously', 'blawin', 'paths', 'weight', 'assented', 'physicians', 'hesitate', 'visible', 'whistles', 'silently', 'lurk', 'return', 'wakened', 'pace', 'God', 'eagerly', 'sane', 'lamiter', 'intends', 'hastened', 'around', 'changes', 'soldered', 'telephoned', 'consent', 'nerve', 'dual', 'Traveller', 'massively', 'consated', 'Germany', 'capture', 'thoughts', 'absolutely', 'insane', 'Exactly', 'cried', 'doubtful', 'Behold', 'vanished', 'Said', 'abstract', 'tinged', 'corruption', 'ropes', 'saints', 'ageeanwards', 'understood', 'unnerve', 'punctuation', 'gave', 'disk', 'delicious', 'Arlington', 'science', 'argued', 'utmost', 'dreamt', 'sunny', 'deign', 'survive', 'Team', 'beginnin', 'Arabian', 'harked', 'delicacy', 'birthday', 'committed', 'afeared', 'handshake', 'pollution', 'poring', 'appear', 'Old', 'Take', 'tells', 'tastes', 'convince', 'lowered', 'enterprise', 'managed', 'delayed', 'Transcendentalism', 'infer', 'yew', 'journeying', 'plan', 'disappearance', 'hisself', 'crept', 'schooner', 'CANDY', 'warmly', 'run', 'Admiralty', 'continuity', 'elbows', 'lasts', 'spurt', 'warnin', 'orange', 'drawing', 'wince', 'feature', 'either', 'Though', 'supply', 'triumphantly', 'Letters', 'headland', 'vitally', 'cracking', 'woeful', 'chests', 'scraping', 'Enter', 'sympathetic', 'Woman', 'procuring', 'unlink', 'Women', 'Web', 'bridges', 'exacting', 'pays', 'purse', 'overcame', 'environment', 'she', 'locally', 'loves', 'carriers', 'steans', 'Outrageous', 'geniality', 'elephant', 'powdery', 'forms', 'New', 'splendour', 'sleeplessness', 'MEN', 'vigour', 'Any', 'labelled', 'processing', 'My', 'quivered', 'Coutts', 'black', 'losing', 'position', 'ell', 'observation', 'manias', 'fiercely', 'Wet', 'brightened', 'particular', 'mist', 'stating', 'cellar', 'elms', 'extending', 'Dark', 'md', 'Omnipotent', 'edge', 'broad', 'easier', 'rapidity', 'numbness', 'Silence', 'agreed', 'Spohr', 'mistake', 'experiments', 'stench', 'book', 'amaze', 'speaks', 'rings', 'cobble', 'lain', 'reconciled', 'acquainted', 'blushing', 'comb', 'begone', 'accessed', 'fun', 'brighter', 'coincidence', 'invoice', 'soldier', 'peak', 'conjointly', 'bloodless', 'married', 'Andersen', 'disuse', 'jommlin', 'pedantry', 'ajar', 'claw', 'deposited', 'mostly', 'fishes', 'entertainment', 'full', 'ideas', 'beaky', 'despatch', 'courage', 'loose', 'gossips', 'physician', 'bunk', 'parried', 'abated', 'did', 'SAFETY', 'exalted', 'exhaustion', 'country', 'dated', 'tip', 'excitement', 'standard', 'asleep', 'bottle', 'throbbing', 'tool', 'chapel', 'conveyed', 'wheeled', 'mother', 'sunset', 'imperious', 'antherums', 'No', 'swooned', 'unshed', 'lancet', 'paucity', 'vilely', 'occult', 'Follow', 'resignation', 'nearly', 'check', 'indeed', 'manifest', 'shrank', 'endorse', 'pooh', 'lance', 'Lady', 'sweat', 'viaduct', 'hastening', 'simplest', 'spikes', 'LAMB', 'attractive', 'sum', 'abed', 'codes', 'narrow', 'menfolk', 'horrid', 'trying', 'Bother', 'monstrous', 'jewelled', 'answering', 'plain', 'communicate', 'notes', 'melted', 'Demeter', 'know', 'twenty', 'snuff', 'pier', 'logically', 'tearin', 'worthy', 'glowed', 'outbreaks', 'ungracious', 'weather', 'squalls', 'comic', 'gravediggers', 'Stay', 'legend', 'traditions', 'borealis', 'trusts', 'sensual', 'candle', 'chances', 'cows', 'caught', 'Royalty', 'date', 'Drink', 'blackest', 'Yabblins', 'cleave', 'kinks', 'hunted', 'favourable', 'skywards', 'nightfall', 'separates', 'stead', 'waits', 'arguments', 'tongue', 'headache', 'former', 'focus', 'continued', 'Thing', 'ear', 'follow', 'doubt', 'lofty', 'paleness', 'wing', 'alarmed', 'polyglot', 'despicable', 'cower', 'concerned', 'batch', 'Westenra', 'pleased', 'doesn', 'Alphabetical', 'Wire', 'asking', 'Society', 'smelt', 'Army', 'shade', 'harness', 'self', 'Deads', 'stood', 'herrin', 'Peter', 'pass', 'sequence', 'acquiescence', 'copper', 'snap', 'eneuch', 'judgment', 'WARRANTIES', 'snarled', 'pouring', 'fretting', 'distribute', 'passionate', 'pallid', 'reproach', 'odorous', 'pinch', 'existence', 'sleepless', 'contact', 'sun', 'November', 'aged', 'jumped', 'thrilling', 'Opposite', 'postponement', 'Boarded', 'shining', 'signed', 'Keeping', 'sending', 'Titicaca', 'meant', 'befooling', 'chill', 'surest', 'dearly', 'slavery', 'dim', 'bracket', 'inscribe', 'assurance', 'running', 'sex', 'deemed', 'phonetic', 'retired', 'wine', 'completion', 'countless', 'soothes', 'sleepy', 'frame', 'part', 'worser', 'storybook', 'through', 'mistrusted', 'aboot', 'indicating', 'board', 'disagrees', 'constraint', 'expose', 'loneliness', 'shrunken', 'ruddy', 'gone', 'Michael', 'Confidence', 'toe', 'Why', 'spark', 'preying', 'yesterday', 'palm', 'familiar', 'dreamily', 'thus', 'angle', 'blame', 'entreat', 'application', 'commit', 'produces', 'selection', 'shook', 'sufficient', 'backed', 'deceive', 'sawed', 'emerald', 'ungrateful', 'swamp', 'Quatre', 'blunt', 'believes', 'drove', 'tides', 'Varna', 'enjealous', 'restraint', 'bauble', 'slit', 'affect', 'blaze', 'oped', 'shore', 'registers', 'centripetal', 'pupil', 'weepy', 'herb', 'evils', 'reliant', 'pole', 'danger', 'references', 'profuse', 'breathless', 'Remember', 'dimly', 'approach', 'wonder', 'colophon', 'emptiness', 'em', 'witch', 'to', 'disturbed', 'sacked', 'tumblin', 'leather', 'unselfish', 'sympathy', 'intense', 'ways', 'changed', 'plant', 'cerebration', 'Whilst', 'superstitious', 'fell', 'prospect', 'Switzerland', 'stamped', 'resource', 'compilation', 'holily', 'sniff', 'perfectly', 'cursory', 'Superior', 'confess', 'paragraph', 'cell', 'dank', 'diffuse', 'quietude', 'straightforwardly', 'charring', 'time', 'yards', 'eminently', 'explain', 'request', 'labours', 'winningly', 'recruiting', 'mingled', 'resistless', 'alas', 'depart', 'bâton', 'revenge', 'pieces', 'tap', 'heaviness', 'blinding', 'cleverest', 'healthy', 'stairs', 'delusion', 'thrown', 'rules', 'four', 'say', 'roared', 'Guiliano', 'straw', 'vulgarised', 'XIV', 'trifle', 'pool', 'disconcert', 'coughed', 'toils', 'prejudice', 'Contact', 'foreigners', 'stretches', 'aspect', 'coastguard', 'sandy', 'Retired', 'mixing', 'crimson', 'world', 'crooked', 'Salvation', 'reserved', 'unexpectedly', 'placing', 'stretch', 'critically', 'genuine', 'schoolmistress', 'HORROR', 'spiritually', 'distress', 'peering', 'stair', 'nursemaid', 'sights', 'hammering', 'port', 'transparent', 'sinking', 'banking', 'furs', 'contracted', 'appreciative', 'appears', 'bits', 'torrent', 'faces', 'adjacent', 'cross', 'geologic', 'rays', 'Amongst', 'Issue', 'introduction', 'usually', 'incredible', 'captains', 'vastly', 'depity', 'Hungarian', 'ignoratio', 'injury', 'gale', 'tongues', 'swirled', 'overplus', 'thinkin', 'hurriedly', 'verified', 'unusual', 'mere', 'heavily', 'consternation', 'thanks', 'skill', 'drinking', 'Mitchell', 'episode', 'laugh', 'superstitions', 'consolation', 'palpitating', 'diabolical', 'heap', 'strikes', 'keeps', 'circumstances', 'unhallowed', 'AK', 'yearn', 'celebrate', 'bees', 'curious', 'implacable', 'thing', 'strewments', 'reminding', 'unthinkingly', 'BEFORE', 'respiration', 'command', 'toiled', 'three', 'expecting', 'steersman', 'missis', 'prove', 'consented', 'print', 'reign', 'available', 'bitterly', 'Executive', 'charm', 'examined', 'friendships', 'create', 'throws', 'AGATHA', 'instinctively', 'kick', 'tubs', 'swirl', 'retain', 'destroyed', 'depression', 'both', 'blissful', 'arsenal', 'Klopstock', 'take', 'forwards', 'WOLF', 'wipe', 'mask', 'shop', 'pursued', 'claimed', 'monsters', 'calmed', 'wizards', 'devotedly', 'Faugh', 'forenoon', 'caused', 'mice', 'hands', 'glinted', 'rang', 'employers', 'Cliff', 'wonderin', 'accidents', 'prisoner', 'encouragement', 'streets', 'brandy', 'flag', 'overwork', 'Great', 'Volunteers', 'pen', 'helped', 'shrink', 'covering', 'devoutly', 'whereby', 'important', 'collar', 'formalities', 'exertions', 'heavy', 'Enoch', 'thorny', 'quieter', 'omitting', 'columns', 'sweep', 'Round', 'ballet', 'Marmion', 'opportunities', 'tension', 'unity', 'Had', 'Pardon', 'meaner', 'Draculas', 'soberly', 'implore', 'testamentary', 'decoyed', 'stuff', 'companionship', 'hug', 'licked', 'different', 'come', 'unholy', 'indicate', 'latitude', 'external', 'States', 'advance', 'identify', 'Aitetropos', 'AUGUST', 'onion', 'freshen', 'known', 'shows', 'demand', 'newspaper', 'speed', 'judging', 'forgetful', 'defibrinate', 'overtopping', 'systematic', 'agone', 'transfused', 'mark', 'Ph', 'sublime', 'prize', 'keepin', 'playing', 'designate', 'medical', 'sung', 'speak', 'conditions', 'counter', 'clatter', 'steal', 'determined', 'tightened', 'tightens', 'unseen', 'smuts', 'here', 'Fortune', 'ascertain', 'slaughtered', 'blotch', 'stages', 'swallowed', 'Burdon', 'soothed', 'stupid', 'forth', 'Sure', 'deletions', 'providence', 'Special', 'weighing', 'pride', 'religion', 'nightingale', 'frightful', 'funeral', 'HAVE', 'instinct', 'triumphant', 'might', 'silk', 'smiling', 'loud', 'detrimentally', 'storm', 'flashed', 'Slav', 'population', 'wrapped', 'startlingly', 'does', 'comatose', 'left', 'obviate', 'plaster', 'June', 'foretold', 'heal', 'Me', 'unspiritual', 'attempting', 'tobacco', 'begun', 'VIII', 'repaired', 'proceeded', 'Church', 'coachman', 'chains', 'payments', 'thoughtfully', 'touches', 'plates', 'holes', 'wavy', 'divination', 'palsy', 'barguests', 'inner', 'display', 'wax', 'keyhole', 'rival', 'correspondent', 'remarkable', 'backs', 'One', 'especially', 'simple', 'just', 'Standard', 'dialect', 'CONTENTS', 'basely', 'You', 'blandly', 'faltered', 'eyed', 'taint', 'tm', 'yelling', 'derive', 'guardian', 'water', 'mixup', 'stream', 'imaginings', 'Bilder', 'President', 'conceive', 'individual', 'mews', 'instructed', 'contents', 'afflicted', 'squat', 'grooms', 'destroying', 'tenth', 'descriptions', 'positive', 'dawn', 'loathsomeness', 'was', 'thoroughly', 'replenish', 'marks', 'pounds', 'its', 'read', 'groping', 'dilapidated', 'hotly', 'scrutinised', 'weird', 'hirritated', 'lordship', 'fears', 'pulpits', 'rate', 'coquetry', 'scorn', 'matrimonial', 'snatched', 'punish', 'approaching', 'sap', 'stuffed', 'exposure', 'moistened', 'interval', 'trades', 'buoy', 'acquiring', 'lay', 'exertion', 'looked', 'slay', 'hilt', 'recall', 'route', 'tacit', 'confusion', 'wore', 'list', 'pictures', 'If', 'compelled', 'possession', 'necessity', 'knee', 'inasmuch', 'horrors', 'gifted', 'quantity', 'razor', 'prostrate', 'conveyance', 'beggar', 'glimpse', 'accordance', 'smoky', 'inert', 'goings', 'Sacred', 'belongings', 'bridge', 'loaves', 'doggedly', 'gasps', 'livid', 'knife', 'petals', 'grasp', 'true', 'wonderful', 'tainted', 'wheel', 'fire', 'Western', 'informed', 'tight', 'affording', 'contributions', 'Cassova', 'Aud', 'Methuselah', 'carriages', 'glories', 'Town', 'ACTUAL', 'Monster', 'liked', 'suffer', 'complying', 'family', 'cracked', 'murders', 'endlessly', 'manners', 'crack', 'legends', 'alongside', 'bank', 'skipper', 'adventures', 'spiritual', 'sown', 'bicyclists', 'Murray', 'rats', 'tidings', 'met', 'laconic', 'matured', 'porter', 'tidying', 'solid', 'promptly', 'MURDER', 'engrossed', 'offers', 'plans', 'view', 'hypnotised', 'mortmain', 'recent', 'repetition', 'metal', 'frank', 'before', 'terriers', 'devilish', 'donkey', 'slow', 'drag', 'given', 'producing', 'tone', 'nodding', 'wit', 'tail', 'Domine', 'void', 'Gibralter', 'numbers', 'affair', 'maiden', 'found', 'e', 'LUCY', 'stay', 'Lies', 'gazing', 'wiping', 'peculiar', 'brightening', 'linked', 'rider', 'wretch', 'minute', 'beads', 'formal', 'Newby', 'Bradshaw', 'agonising', 'busy', 'legally', 'stumbled', 'rents', 'turnin', 'sprawling', 'charming', 'awoke', 'foreheads', 'dawned', 'comparative', 'disease', 'shrinking', 'leaped', 'crew', 'bleed', 'utterance', 'gross', 'rob', 'terrors', 'twinkled', 'arm', 'Correspondent', 'await', 'wampyr', 'Holding', 'unpunctual', 'box', 'pointing', 'Look', 'detach', 'sits', 'moonshine', 'pro', 'keeping', 'poohed', 'International', 'difficulty', 'reef', 'bathed', 'brilliant', 'resignedly', 'overwhelmed', 'inquietude', 'string', 'tiptoe', 'Faithfully', 'spar', 'chat', 'strangers', 'Ophelia', 'bought', 'organize', 'canny', 'Carter', 'bumps', 'spoke', 'cured', 'wringing', 'exposed', 'argues', 'than', 'discussed', 'whisper', 'corpse', 'overawe', 'scrambled', 'regulate', 'ever', 'interest', 'Scotland', 'unable', 'requirements', 'fierce', 'sunrise', 'modesty', 'staring', 'patiently', 'range', 'barked', 'carpenter', 'necessary', 'buzz', 'PHONOGRAPH', 'shelter', 'intellectual', 'troubles', 'glare', 'properties', 'sped', 'sincerity', 'formats', 'pursuers', 'controlling', 'Contributions', 'ranks', 'object', 'easiest', 'Mother', 'extreme', 'tremble', 'cessation', 'county', 'bewildering', 'blade', 'disturbance', 'stained', 'wraps', 'infamy', 'hat', 'cunning', 'jealousy', 'decently', 'Romanoffs', 'fascinating', 'firm', 'wagon', 'obedience', 'profound', 'brain', 'Casabianca', 'slate', 'expedition', 'merrily', 'future', 'calling', 'flying', 'twitched', 'enveloped', 'drunk', 'Father', 'floor', 'streamed', 'approached', 'WORK', 'deductible', 'Unopened', 'aloof', 'languid', 'if', 'whereas', 'Purfleet', 'piled', 'widow', 'His', 'MYSTERY', 'cruelly', 'wickedness', 'technical', 'respectable', 'suave', 'bracing', 'peasant', 'shave', 'Roumanians', 'repelled', 'specimen', 'instances', 'wished', 'basin', 'hevening', 'moments', 'rock', 'snatch', 'workman', 'oleander', 'sobered', 'shock', 'hither', 'soothe', 'inheritors', 'entrusted', 'Present', 'restore', 'al', 'facto', 'student', 'answered', 'garment', 'told', 'delegated', 'warnings', 'guided', 'Lit', 'Board', 'concerns', 'marvellous', 'wanton', 'about', 'details', 'Took', 'IS', 'stenographic', 'comparatively', 'AND', 'cleanse', 'worried', 'besides', 'lungs', 'circles', 'particulars', 'Bless', 'causa', 'corner', 'property', 'shaken', 'locations', 'recovery', 'astonishment', 'Forget', 'fled', 'airly', 'foremost', 'harshness', 'thither', 'seizing', 'spent', 'nursing', 'spell', 'obedient', 'fireflies', 'flowing', 'intuition', 'emerged', 'wheeler', 'disposal', 'sigh', 'float', 'committee', 'arriving', 'Casino', 'farmhouse', 'Psalmist', 'sanctified', 'trenchant', 'October', 'coherent', 'miles', 'mockingly', 'ESCAPED', 'motive', 'voices', 'Desdemona', 'EBOOK', 'lean', 'deliberately', 'arrested', 'room', 'stern', 'behave', 'expressions', 'Blessed', 'Arminus', 'instance', 'grotesque', 'aiding', 'differently', 'wantin', 'infringement', 'grees', 'sirs', 'unmoved', 'Foreland', 'Destroyed', 'avoid', 'analysed', 'gracefulness', 'lieu', 'formally', 'sorting', 'drifted', 'battle', 'She', 'how', 'shortly', 'burn', 'beckoned', 'etiquette', 'Come', 'mutilating', 'Kingstead', 'electrical', 'ridges', 'story', 'Behind', 'packet', 'ribald', 'roast', 'sequel', 'savin', 'tattered', 'sons', 'Additional', 'noise', 'sticking', 'arsk', 'concentration', 'howling', 'Sirs', 'broken', 'one', 'NEGLIGENCE', 'inclining', 'twos', 'clue', 'ardour', 'Providence', 'explicit', 'subjectively', 'accept', 'distance', 'constant', 'somewhere', 'clutch', 'gives', 'question', 'grieve', 'cluster', 'judge', 'laudanum', 'dozzened', 'rallied', 'blebs', 'Solicitors', 'gushed', 'same', 'Chuck', 'universal', 'Roman', 'helplessly', 'estate', 'reddened', 'descent', 'kisses', 'decide', 'masts', 'swung', 'throwing', 'sternly', 'Besides', 'untenanted', 'understand', 'unworthy', 'superior', 'disorder', 'runaway', 'Vincent', 'slewed', 'fellow', 'roofed', 'avalanches', 'noses', 'lifts', 'bounded', 'Strasba', 'sticks', 'scouring', 'acquiesced', 'Times', 'despair', 'driving', 'progress', 'anæmic', 'paroxysm', 'Chief', 'insolent', 'manifestations', 'diaries', 'selecting', 'Cape', 'telegram', 'glad', 'stouter', 'purchased', 'outcast', 'On', 'firewood', 'INDIRECT', 'OR', 'depends', 'death', 'dominance', 'wretched', 'Let', 'ard', 'creatures', 'constantly', 'pond', 'Nor', 'blazing', 'semi', 'INTERVIEWER', 'gash', 'promotion', 'bearings', 'Before', 'moves', 'pained', 'ominously', 'gaining', 'wheeling', 'practical', 'motionless', 'blinded', 'Dear', 'comment', 'as', 'Directory', 'crawl', 'notwithstanding', 'reasoning', 'Stars', 'comparing', 'employees', 'fads', 'hailed', 'supposition', 'chop', 'Ugly', 'Fairbanks', 'grass', 'inequality', 'Without', 'statement', 'recuperative', 'quick', 'pens', 'hurrying', 'folks', 'Little', 'phonographs', 'reclining', 'pungent', 'volition', 'helping', 'Ounds', 'swelled', 'castles', 'oblongs', 'directed', 'aërial', 'down', 'frantically', 'whenever', 'hopelessly', 'rage', 'inflicts', 'Haarlem', 'bolting', 'Turkey', 'inland', 'dripping', 'bethought', 'pretty', 'steeply', 'writhing', 'discreetly', 'fruit', 'Internet', 'masquerade', 'fashions', 'forked', 'naked', 'prairies', 'rejoicing', 'politeness', 'grog', 'cook', 'distributing', 'sup', 'magnifico', 'acceptance', 'amateur', 'talent', 'neigh', 'relatives', 'clad', 'Further', 'fail', 'prostration', 'frayed', 'placidity', 'undo', 'swept', 'Should', 'fewer', 'climbing', 'Woodhouse', 'unreality', 'pardon', 'my', 'philosopher', 'Indian', 'engulf', 'hurled', 'principle', 'reward', 'domed', 'disobeying', 'Munich', 'missals', 'Who', 'trees', 'line', 'distorted', 'stalwart', 'paragraphs', 'Letter', 'waltz', 'recognised', 'binding', 'roughly', 'However', 'suppose', 'north', 'pagan', 'investigations', 'o', 'flower', 'bells', 'imaginative', 'sleek', 'discover', 'alter', 'traded', 'nightdress', 'thirty', 'royalties', 'pleasure', 'foulness', 'surprised', 'state', 'flap', 'gipsies', 'conjecture', 'quiver', 'liable', 'Again', 'starts', 'swings', 'breakfasted', 'disclose', 'struggling', 'ashen', 'INK', 'fling', 'adapted', 'agonised', 'located', 'militating', 'strengthening', 'Gulf', 'misery', 'footsteps', 'gossiping', 'among', 'Nothing', 'surrounded', 'remonstrated', 'bidding', 'wandering', 'ministers', 'confidential', 'discoveries', 'collapse', 'disgusted', 'pledged', 'wall', 'MURRAY', 'junction', 'cuts', 'shadder', 'bore', 'pressure', 'remote', 'Just', 'every', 'Dracula', 'War', 'notifies', 'houses', 'pat', 'disagreeable', 'describe', 'mingle', 'exception', 'shovel', 'diorama', 'dividing', 'proofread', 'roaring', 'bade', 'avenue', 'PATRICK', 'excellent', 'boat', 'brace', 'distressing', 'into', 'Beyond', 'betraying', 'murdered', 'scholar', 'electronic', 'encrusted', 'qualities', 'incarnate', 'revilings', 'assure', 'Dunlap', 'writhed', 'horribly', 'vital', 'whence', 'Doolittle', 'stormy', 'wan', 'Europe', 'rough', 'Those', 'washing', 'autumn', 'grandly', 'forethought', 'accidental', 'indirectly', 'screams', 'guard', 'useful', 'gulped', 'mould', 'cringing', 'headed', 'canine', 'hazardous', 'plenty', 'curses', 'burst', 'surroundings', 'drenched', 'revealed', 'safe', 'stretched', 'Hebrew', 'pal', 'sometimes', 'blow', 'disclaimers', 'speechless', 'majority', 'extremely', 'Wallachs', 'ports', 'vulpine', 'Sons', 'cheese', 'To', 'sides', 'preparations', 'swaying', 'Mate', 'extent', 'demon', 'damned', 'accomplished', 'miss', 'thinking', 'diagnosed', 'morphia', 'intolerable', 'destinations', 'agency', 'wind', 'marriage', 'woods', 'fought', 'kin', 'nightmare', 'stable', 'indicative', 'conductor', 'expectations', 'statements', 'responsible', 'rational', 'Cszeks', 'Kukri', 'Tis', 'receipted', 'Somehow', 'professor', 'pleasantry', 'vent', 'disordered', 'nudged', 'maelstrom', 'Billreuth', 'krok', 'contain', 'printin', 'lodging', 'lamplight', 'electric', 'justified', 'Amid', 'outbreak', 'XVIII', 'punishment', 'imploringly', 'unclad', 'Kensington', 'released', 'Korkrans', 'unfitting', 'Honest', 'truism', 'sultry', 'employment', 'strips', 'cike', 'community', 'talkative', 'infinite', 'discovering', 'countermand', 'launch', 'CONSEQUENTIAL', 'seventeenth', 'device', 'sturdy', 'tiger', 'strip', 'momentarily', 'beating', 'noises', 'eastward', 'situation', 'overmastering', 'destined', 'angelic', 'creed', 'painted', 'earth', 'By', 'Bucharest', 'emotions', 'gained', 'enhancing', 'Nights', 'enlargement', 'jest', 'liberty', 'commanded', 'breathes', 'probable', 'specified', 'cargo', 'University', 'promise', 'quietness', 'descends', 'wrong', 'secured', 'quality', 'lighted', 'softer', 'scions', 'approaches', 'mend', 'molecules', 'coming', 'enlivened', 'folly', 'frequently', 'pulling', 'minding', 'badinage', 'belied', 'Harker', 'whose', 'nicely', 'kindly', 'including', 'FOUNDATION', 'evenings', 'suppressed', 'Looking', 'pursuing', 'storms', 'prevail', 'forbid', 'hitherto', 'worn', 'See', 'victims', 'headstones', 'false', 'stammered', 'supped', 'ribbed', 'strength', 'Hark', 'unexpected', 'monkey', 'enclosed', 'specific', 'screwing', 'madam', 'voluptuousness', 'becoming', 'interminable', 'Shipment', 'magazines', 'miseries', 'orbs', 'pig', 'Notwithstanding', 'floating', 'hap', 'appraise', 'sinuous', 'women', 'wooden', 'consuming', 'soft', 'wilder', 'puffin', 'wide', 'Piccadilly', 'clanking', 'petition', 'nut', 'past', 'sunburst', 'cleared', 'hobbled', 'distributed', 'hurry', 'specie', 'company', 'seriously', 'importance', 'hand', 'Hush', 'loveliness', 'vrolok', 'promised', 'aftest', 'knowing', 'Renfield', 'plumbing', 'chord', 'intention', 'Matapan', 'examines', 'animation', 'attract', 'dig', 'Poplar', 'mists', 'hæmorrhage', 'trimmlin', 'magnetic', 'Sir', 'PLEASE', 'curves', 'anew', 'furiously', 'Every', 'outside', 'computer', 'SON', 'Miss', 'outrage', 'disappointed', 'groan', 'folk', 'Online', 'prayed', 'reflected', 'haggard', 'Dress', 'summed', 'battlements', 'shouting', 'label', 'Danube', 'sinewy', 'treat', 'early', 'overcoat', 'binary', 'meals', 'Therefore', 'load', 'slightly', 'wisdom', 'questioned', 'reservations', 'embodiment', 'brow', 'enthrall', 'soon', 'Lombroso', 'climbed', 'circled', 'massive', 'lantern', 'awfully', 'implored', 'Public', 'occurring', 'tempted', 'hasten', 'plural', 'dance', 'gangrene', 'ittin', 'prison', 'bairns', 'bounds', 'DAMAGES', 'mortality', 'preceded', 'gettin', 'arches', 'cheque', 'salient', 'momentous', 'margin', 'fatherland', 'greyness', 'RIGHT', 'inquire', 'recognise', 'skin', 'consequent', 'Straightway', 'power', 'counterpane', 'guarding', 'fat', 'provisions', 'steeps', 'unhesitatingly', 'ends', 'inch', 'Bukovina', 'proportion', 'sunshine', 'responsibilities', 'dispelled', 'belief', 'comprehensive', 'flowers', 'scytheman', 'Poters', 'absence', 'hill', 'values', 'dustiness', 'beneath', 'knowledge', 'subdued', 'hawser', 'tortured', 'examining', 'means', 'Skinsky', 'lamps', 'recuperate', 'magnificent', 'idle', 'gaily', 'quarters', 'addresses', 'Sea', 'poorer', 'FITNESS', 'sailor', 'pou', 'exempt', 'sure', 'well', 'break', 'lessen', 'soil', 'wail', 'tunnel', 'consensus', 'Sorry', 'pitiable', 'wherein', 'placed', 'being', 'performing', 'connection', 'waited', 'heir', 'weakened', 'disturb', 'complains', 'lust', 'reefwards', 'bidden', 'SEWARD', 'opacity', 'attached', 'schooling', 'grave', 'hurting', 'æt', 'useless', 'angry', 'affront', 'drawer', 'bowie', 'incurred', 'Stoker', 'mouthed', 'commercial', 'decay', 'byway', 'fever', 'without', 'Virgin', 'publishers', 'Except', 'bear', 'husbandry', 'cashed', 'Are', 'glittering', 'pretend', 'gambolling', 'changing', 'nerved', 'vampires', 'grateful', 'hints', 'reddish', 'conquering', 'refresh', 'ad', 'pathetic', 'dashed', 'masses', 'unsearched', 'master', 'vivisection', 'hole', 'whip', 'angels', 'opportunity', 'happier', 'smooth', 'Suffield', 'letters', 'flames', 'wander', 'nerves', 'patriots', 'inquiry', 'reach', 'exist', 'garth', 'boys', 'urbane', 'simplify', 'neck', 'Evening', 'reasonable', 'pitched', 'sick', 'tea', 'significantly', 'arranged', 'heaving', 'ANOTHER', 'movements', 'potency', 'unfairly', 'inwardly', 'convert', 'replacement', 'Carpathians', 'highest', 'considered', 'remained', 'diligence', 'armaments', 'cormorant', 'approve', 'breathed', 'agin', 'ruby', 'wood', 'maids', 'inspiration', 'coat', 'sternest', 'least', 'ranged', 'embrasure', 'concept', 'ands', 'forgits', 'this', 'communication', 'discourse', 'ascended', 'porch', 'needful', 'bountiful', 'perforce', 'happily', 'KING', 'various', 'beneficial', 'investigate', 'logical', 'silly', 'flatter', 'jolly', 'rude', 'fuller', 'violates', 'rocks', 'overmastered', 'spontaneous', 'consume', 'Black', 'IRS', 'renting', 'thorn', 'tenderness', 'anger', 'clothes', 'descend', 'pity', 'sized', 'weeping', 'fixed', 'looking', 'DISTRIBUTOR', 'deadly', 'runner', 'Terry', 'along', 'womenkind', 'mood', 'portmanteau', 'Durham', 'batten', 'dues', 'From', 'impossible', 'remembrance', 'film', 'certainty', 'fact', 'tramp', 'encountered', 'thinks', 'apologised', 'burglar', 'enjoying', 'learnt', 'infinitesimal', 'needed', 'operations', 'Abbey', 'exclusions', 'panic', 'vivid', 'abandon', 'Keep', 'advancing', 'fearing', 'Regarding', 'spy', 'nick', 'physiology', 'compliment', 'fourth', 'sledge', 'inches', 'lunatic', 'tangible', 'hiss', 'lonely', 'tramping', 'Am', 'enables', 'telling', 'operation', 'purely', 'faithful', 'bust', 'unobserved', 'from', 'leapt', 'possibility', 'avin', 'feared', 'card', 'must', 'artificial', 'anatomy', 'sleeps', 'spurted', 'nervous', 'crest', 'dismiss', 'git', 'passed', 'obey', 'fight', 'Complete', 'Happily', 'scudding', 'folded', 'avenged', 'elapsed', 'manly', 'lesser', 'brief', 'THE', 'inference', 'category', 'report', 'Bosphorus', 'PG', 'incomplete', 'halt', 'GIVE', 'touching', 'mourners', 'punctures', 'steep', 'replenished', 'score', 'VII', 'tidy', 'carries', 'lands', 'à', 'stuck', 'boldly', 'adduce', 'legal', 'botany', 'wheels', 'animals', 'prolific', 'shelving', 'hinderin', 'spirited', 'grandfather', 'Kiss', 'defect', 'Replacement', 'buy', 'steer', 'households', 'escapade', 'sentiments', 'owe', 'net', 'calculate', 'letter', 'precede', 'tightening', 'posted', 'arrange', 'deil', 'foul', 'considerations', 'Would', 'Acherontia', 'gladly', 'Robin', 'sky', 'guiding', 'federal', 'hoping', 'redress', 'mastiff', 'steel', 'assimilation', 'organised', 'leant', 'lapse', 'bloke', 'partner', 'particularly', 'beetle', 'Making', 'crux', 'intend', 'cigar', 'curly', 'made', 'exists', 'borders', 'saddest', 'seldom', 'commenced', 'undoubtedly', 'forget', 'Mediasch', 'fainted', 'hell', 'afore', 'imperfectly', 'stethoscope', 'purpose', 'import', 'spirits', 'everybody', 'sexton', 'Seemed', 'token', 'folds', 'write', 'build', 'weeps', 'assiduously', 'cords', 'Honfoglalas', 'HARKER', 'ten', 'prevailed', 'defame', 'faint', 'disturbs', 'poles', 'Perversely', 'talisman', 'Channel', 'repulsive', 'lairs', 'excusing', 'tuas', 'pine', 'onlookers', 'splintered', 'smoke', 'Angels', 'twined', 'confidence', 'nought', 'simplicity', 'ocean', 'parties', 'on', 'crouched', 'sake', 'affairs', 'Toll', 'knocked', 'dunno', 'sends', 'content', 'loathsome', 'claims', 'Pop', 'dazzle', 'alight', 'Transylvanian', 'deserts', 'decease', 'Outside', 'mystery', 'dismay', 'standing', 'over', 'opened', 'wolfs', 'marked', 'fix', 'beg', 'whispered', 'leaden', 'thunderstruck', 'continuous', 'have', 'stared', 'hallucination', 'assistance', 'abyss', 'scudded', 'unequalled', 'comedy', 'am', 'growling', 'ither', 'Striking', 'claim', 'lions', 'usin', 'fortified', 'chemical', 'rein', 'downfaces', 'copy', 'lion', 'hoarse', 'assimilating', 'whirling', 'realities', 'entrance', 'ecstasy', 'ghostly', 'service', 'fatal', 'ward', 'Rushing', 'extraordinary', 'Hell', 'hypodermic', 'point', 'grimmer', 'Spiders', 'careless', 'bluff', 'peoples', 'can', 'Mall', 'remains', 'uncommonly', 'shifting', 'Catherine', 'forceful', 'belt', 'lost', 'crushable', 'discharged', 'scar', 'returning', 'aperture', 'many', 'shun', 'lapsing', 'housekeeper', 'exceptional', 'transaction', 'sheltering', 'worthless', 'chirping', 'splendid', 'mantle', 'BREACH', 'hungry', 'piles', 'fust', 'anybody', 'businesslike', 'Breakfast', 'steamers', 'nearer', 'never', 'yellowed', 'realised', 'addendum', 'writing', 'impossibilities', 'countenance', 'forgiven', 'amid', 'lessons', 'metallic', 'used', 'course', 'sullenness', 'distracted', 'fumbling', 'gallopin', 'Port', 'medium', 'growing', 'promising', 'mission', 'liability', 'bowl', 'dipping', 'Other', 'thank', 'crosses', 'expend', 'proposing', 'like', 'kneeling', 'impress', 'damply', 'protruded', 'lock', 'ascertaining', 'calf', 'HEAVEN', 'schoolroom', 'companion', 'King', 'violet', 'crop', 'client', 'recovers', 'contempt', 'Love', 'yours', 'spells', 'live', 'compass', 'alert', 'rush', 'going', 'joined', 'consignments', 'lovely', 'paralyse', 'ave', 'drowse', 'puma', 'Forgive', 'turns', 'clients', 'suitability', 'ornaments', 'consignee', 'allied', 'breed', 'holy', 'shudder', 'grapple', 'glass', 'shudders', 'hated', 'Ho', 'area', 'regarding', 'asks', 'eleven', 'forward', 'vast', 'cat', 'Scythia', 'tears', 'keckle', 'oh', 'reputation', 'Canon', 'Yes', 'setting', 'jostlin', 'minutes', 'catching', 'undoing', 'kep', 'hence', 'engines', 'disfavour', 'Vanderpool', 'telegrams', 'he', 'realm', 'social', 'humming', 'awestruck', 'zoöphagy', 'authority', 'reaching', 'attributed', 'enjoys', 'sell', 'caverns', 'bolted', 'Mill', 'fitfully', 'flocked', 'wisest', 'ponderous', 'rode', 'That', 'reverence', 'allowable', 'prodigal', 'auction', 'cowards', 'disguise', 'nostrils', 'unceasing', 'licking', 'sneered', 'Away', 'sad', 'fateful', 'eased', 'fitting', 'unseat', 'clump', 'selves', 'glance', 'roads', 'nasty', 'enjoy', 'argument', 'Chasing', 'definite', 'unfriendly', 'Telegraph', 'vivacity', 'guarantee', 'Rushed', 'occupation', 'intending', 'defined', 'Snelling', 'stroked', 'dogs', 'discovery', 'PROVIDED', 'periods', 'aggressive', 'barren', 'Something', 'visit', 'curls', 'desire', 'aspen', 'mite', 'snappy', 'boots', 'northern', 'pathology', 'recollect', 'coastguards', 'accident', 'Danes', 'needless', 'proceed', 'gift', 'countries', 'Ellen', 'sin', 'IF', 'criticism', 'trailed', 'fulfilled', 'Nuremberg', 'WAY', 'Joseph', 'weeks', 'stand', 'frequented', 'perspective', 'data', 'studied', 'imagined', 'witness', 'filling', 'accepted', 'rowing', 'expeckit', 'stock', 'rocky', 'adequately', 'gurgling', 'European', 'bravest', 'still', 'racking', 'contract', 'ringing', 'move', 'gatekeeper', 'do', 'egoism', 'Having', 'scratching', 'district', 'plays', 'mysteries', 'supplied', 'eventually', 'boyars', 'lighthouse', 'undiscovered', 'Omne', 'minds', 'resolutely', 'foolish', 'boughs', 'dissolved', 'outburst', 'difficulties', 'WILHELMINA', 'cost', 'public', 'Wodin', 'threats', 'coma', 'non', 'Medusa', 'arrogate', 'flow', 'suck', 'jet', 'civilian', 'choking', 'pray', 'feet', 'trademark', 'rightly', 'Wednesday', 'purchaser', 'Hungary', 'assemblage', 'occur', 'picture', 'beats', 'chagrin', 'tempest', 'embryo', 'burning', 'struggled', 'thicker', 'movable', 'weighs', 'works', 'fishing', 'geology', 'Read', 'arrive', 'release', 'parsons', 'persons', 'impressiveness', 'whistle', 'honesty', 'plight', 'DIARY', 'park', 'showed', 'hysterics', 'imaginable', 'stanchions', 'unsealed', 'played', 'mountain', 'fixin', 'Hospadars', 'successful', 'fleeting', 'abnormally', 'Raising', 'addition', 'restless', 'Suspiciously', 'sands', 'dizzy', 'trips', 'wish', 'decorum', 'Stripes', 'deputy', 'latter', 'across', 'compact', 'universale', 'urged', 'delivery', 'dreamed', 'leisurely', 'reveal', 'shutting', 'phenomenally', 'mullioned', 'subcutaneous', 'done', 'meeting', 'Weather', 'requisitions', 'repugnant', 'fees', 'IV', 'lesson', 'Orient', 'hair', 'helm', 'inquest', 'agreeing', 'registration', 'lasted', 'exigency', 'spruce', 'papers', 'owner', 'stroke', 'unconsciously', 'riser', 'bite', 'kindliest', 'goin', 'bravery', 'imported', 'mortals', 'torn', 'packs', 'Spanish', 'manifold', 'afar', 'directly', 'forced', 'hear', 'beseech', 'dents', 'Transylvania', 'Down', 'vessel', 'rugged', 'prosperity', 'nothink', 'Last', 'ivory', 'Liverpool', 'cupboard', 'Lord', 'Blyme', 'proposed', 'Museum', 'human', 'harvest', 'owlin', 'indraw', 'sorrowing', 'rained', 'Some', 'buffeting', 'blurted', 'tales', 'crave', 'fingers', 'getting', 'ESCAPE', 'whilst', 'acumen', 'similar', 'observe', 'draw', 'sleeves', 'reins', 'endorsement', 'little', 'recently', 'firelight', 'rope', 'consciousness', 'shaven', 'leading', 'darling', 'imprisoned', 'should', 'clang', 'fury', 'abaft', 'murder', 'states', 'sailed', 'resisting', 'eddies', 'STRICT', 'pretending', 'believed', 'soaped', 'abnormal', 'purifying', 'humour', 'betray', 'protecting', 'Arpad', 'webs', 'theer', 'restrict', 'villages', 'lover', 'conversation', 'wishes', 'selfish', 'knit', 'resourceful', 'obstruct', 'American', 'most', 'healed', 'achieved', 'deadening', 'observing', 'apart', 'unheard', 'famine', 'painfully', 'protect', 'occasion', 'profanation', 'cloudiness', 'DUNLAP', 'sober', 'Yours', 'harrowing', 'Madame', 'Saxon', 'hairs', 'lore', 'sarcastic', 'thereto', 'wrinkled', 'fairly', 'afeard', 'leaving', 'yourselves', 'assume', 'nocturnal', 'watched', 'lest', 'leavin', 'Wholeman', 'marry', 'person', 'odium', 'wholesome', 'curate', 'obstructing', 'shrill', 'crumbs', 'includes', 'excessive', 'kawffee', 'vouched', 'evening', 'fumbled', 'remarked', 'talk', 'entente', 'substitute', 'Life', 'weaker', 'diagnosis', 'very', 'imply', 'preference', 'bloodstained', 'arouse', 'championing', 'muster', 'toil', 'ridge', 'actually', 'finality', 'slippy', 'parrot', 'horror', 'plunge', 'projecting', 'talked', 'last', 'arter', 'Her', 'forest', 'uncaring', 'streak', 'DEAR', 'akin', 'repulsion', 'dashing', 'pursue', 'hypnotise', 'LIABILITY', 'realising', 'violences', 'zoöphagous', 'John', 'introducing', 'feed', 'weakest', 'offer', 'Broads', 'sound', 'even', 'negative', 'Wallachian', 'begin', 'nice', 'cruel', 'behind', 'hiding', 'replaced', 'shakes', 'opiate', 'unutterable', 'lank', 'miauing', 'runnin', 'eminence', 'IMPLIED', 'rigid', 'tenderly', 'unmounted', 'unbroken', 'moors', 'Everything', 'air', 'How', 'WINDOWS', 'gun', 'tower', 'Fear', 'missed', 'crowned', 'interests', 'prohibition', 'won', 'Copyrighted', 'closer', 'thirst', 'YOU', 'credit', 'veil', 'psychological', 'exhausted', 'callin', 'bulky', 'gleams', 'proverbs', 'shallows', 'cranny', 'preparatory', 'pods', 'intensity', 'mirth', 'furtively', 'schoolboy', 'pin', 'solemnest', 'whiteness', 'mail', 'scores', 'arise', 'apple', 'relieved', 'Nay', 'bolt', 'tidied', 'beamed', 'sadness', 'Candy', 'super', 'duck', 'wrung', 'language', 'PARAGRAPH', 'knuckles', 'leg', 'repulse', 'exulted', 'shown', 'ablaze', 'intestacy', 'below', 'OTHER', 'name', 'iron', 'happens', 'cases', 'song', 'qualitative', 'altogether', 'roasted', 'bosom', 'Judge', 'currents', 'enveloping', 'unnecessary', 'Jamrach', 'improving', 'word', 'howl', 'wife', 'unison', 'secretary', 'stonework', 'hanging', 'earths', 'vivify', 'slacken', 'rank', 'stirring', 'ca', 'boxed', 'Mon', 'sobbing', 'sweetly', 'slippers', 'withal', 'Staithes', 'penny', 'ragged', 'transference', 'striking', 'fright', 'fee', 'user', 'ticket', 'Mile', 'rapidly', 'purposes', 'normal', 'pious', 'refreshing', 'Tell', 'reaction', 'cling', 'containing', 'allowed', 'invoked', 'flurries', 'voluntarily', 'stripes', 'transcribing', 'averted', 'imperturbable', 'assisted', 'Being', 'lunatics', 'star', 'pitied', 'tingle', 'rocked', 'KIND', 'blessing', 'bay', 'snarl', 'beef', 'dipped', 'travel', 'malice', 'ome', 'falter', 'equipment', 'dint', 'softness', 'notebook', 'momentary', 'search', 'way', 'crystal', 'awkward', 'landlady', 'mistrust', 'surprise', 'passenger', 'downward', 'collating', 'imperfect', 'profits', 'smoothness', 'fall', 'teach', 'unconscious', 'invoiced', 'snug', 'discoloured', 'flourish', 'lashed', 'Emma', 'unawares', 'chafing', 'casting', 'armed', 'duplicate', 'Creating', 'Has', 'bag', 'persistently', 'heresy', 'posture', 'lambs', 'listened', 'moustache', 'indefinitely', 'brains', 'Friend', 'superstition', 'bathe', 'befall', 'Hospital', 'South', 'Phonograph', 'vengeance', 'Geordie', 'interference', 'embarrassed', 'warned', 'accepting', 'gnawing', 'ancients', 'appeased', 'Iceland', 'BILLINGTON', 'passes', 'overwhelming', 'downwards', 'pages', 'peculiarity', 'Viking', 'habitation', 'waving', 'shoulders', 'edition', 'Leeds', 'tripping', 'brethren', 'arrest', 'eyesight', 'Honourable', 'quiet', 'boats', 'locks', 'grabbed', 'personally', 'gateway', 'documents', 'buzzing', 'broke', 'windows', 'choose', 'waters', 'healths', 'avarice', 'wardrobe', 'serpentine', 'AGREEMENT', 'conscience', 'been', 'cigarette', 'mattress', 'talking', 'history', 'summon', 'heads', 'Journal', 'plucked', 'Good', 'gleaming', 'analogy', 'treatment', 'effect', 'intelligible', 'cozy', 'solemnity', 'weakly', 'whole', 'shyme', 'mention', 'unusually', 'expression', 'chin', 'gasp', 'sauntered', 'FRIEND', 'Whereupon', 'oppresses', 'whirled', 'Dailygraph', 'beset', 'scheme', 'surging', 'bound', 'unlucky', 'startled', 'XVII', 'worshipped', 'I', 'chamber', 'fetch', 'queer', 'Dover', 'evolution', 'Christian', 'Poor', 'champ', 'Daily', 'lovelier', 'amused', 'Dr', 'fancy', 'ARTHUR', 'Wilhelmina', 'dead', 'Rome', 'searching', 'Elliot', 'faithfully', 'afoot', 'strings', 'bulging', 'medicine', 'widely', 'hears', 'surmises', 'dealing', 'form', 'church', 'lips', 'valuable', 'dictu', 'raved', 'cease', 'crags', 'beech', 'cup', 'bewildered', 'blots', 'stinted', 'surly', 'sole', 'centres', 'coats', 'an', 'overspread', 'centred', 'good', 'gets', 'patch', 'clutching', 'pours', 'ride', 'caged', 'unasked', 'yet', 'stronger', 'sixty', 'inflict', 'perplexity', 'police', 'thort', 'nearest', 'riding', 'stirred', 'drugs', 'barbarian', 'debauch', 'keeper', 'presage', 'flows', 'COUNTRY', 'fading', 'fur', 'shrubbery', 'fiercer', 'hangs', 'Hear', 'Gin', 'inspired', 'settle', 'ex', 'silvery', 'regulating', 'napkin', 'deliberations', 'snowfall', 'pathway', 'bad', 'antidote', 'dogged', 'reeking', 'desires', 'freer', 'energetically', 'Things', 'quicker', 'predominated', 'enclose', 'Bartel', 'Helsing', 'envelope', 'wrath', 'KISSED', 'Railway', 'crevices', 'fearless', 'Morris', 'doubting', 'althegither', 'hostility', 'clinging', 'Dutchman', 'noblest', 'gentle', 'masel', 'hours', 'involuntary', 'flitted', 'alchemist', 'hout', 'Heath', 'Now', 'brave', 'twilight', 'relieve', 'formed', 'bubbling', 'sister', 'years', 'possibly', 'belly', 'stones', 'perpetually', 'soften', 'devils', 'starting', 'Recorder', 'Braithwaite', 'help', 'As', 'bared', 'gentlemen', 'immensely', 'general', 'punished', 'increasing', 'horsebacking', 'tendencies', 'flickering', 'leech', 'confuse', 'enter', 'Plan', 'nane', 'Ow', 'piercingly', 'partially', 'absolute', 'offensiveness', 'Gradually', 'crackle', 'discontinue', 'Pincher', 'Day', 'wet', 'Devil', 'benefited', 'unfettered', 'flew', 'ink', 'contemptuous', 'spot', 'attended', 'Their', 'underwent', 'reduced', 'recruited', 'depite', 'concerning', 'HOMMY', 'beat', 'suited', 'agent', 'hup', 'nose', 'officials', 'unchanged', 'rivers', 'gents', 'who', 'motioned', 'stake', 'surlier', 'restlessness', 'generations', 'lugubrious', 'stir', 'bloody', 'volumes', 'pains', 'solution', 'miracle', 'worse', 'quieted', 'subtle', 'divided', 'defy', 'colours', 'required', 'feeble', 'searchlight', 'office', 'involuntarily', 'intelligence', 'afford', 'atoms', 'stamping', 'mourn', 'tones', 'cruelty', 'lizard', 'eats', 'etext', 'Promise', 'probably', 'happy', 'peals', 'Moving', 'untellable', 'foreigner', 'restrained', 'Berkeley', 'equilibrium', 'dull', 'attuned', 'XIII', 'AGREE', 'outbursts', 'undoings', 'orderly', 'spurting', 'suitable', 'slope', 'host', 'chooses', 'burly', 'Moon', 'rights', 'floods', 'nurse', 'another', 'giveth', 'wailed', 'silent', 'twice', 'yews', 'yard', 'henceforward', 'want', 'dug', 'yawing', 'terms', 'Could', 'rapids', 'villainy', 'fires', 'sorely', 'something', 'ours', 'Agreed', 'sighed', 'notice', 'larger', 'wrist', 'daughter', 'unclean', 'Memorandum', 'pledge', 'anyhow', 'pleasant', 'wrapper', 'END', 'lintels', 'grace', 'whites', 'snatcher', 'maid', 'Friday', 'space', 'blue', 'purity', 'Gazette', 'skeleton', 'seats', 'customary', 'ting', 'sneering', 'fields', 'blacksmith', 'reeled', 'corners', 'ruffled', 'distinct', 'affection', 'sink', 'owed', 'apron', 'homeward', 'drooping', 'thankfully', 'warningly', 'revived', 'railways', 'blotted', 'Count', 'aquiline', 'synonymous', 'thereinto', 'colony', 'particulari', 'map', 'Then', 'ignorant', 'warmth', 'ability', 'tablets', 'calm', 'stowed', 'dreadfully', 'climb', 'hope', 'mad', 'EVEN', 'plaintive', 'precautions', 'impatient', 'opera', 'demoniac', 'joinings', 'set', 'fash', 'polluted', 'precipices', 'push', 'lip', 'Only', 'entered', 'stertorously', 'carter', 'equality', 'LOST', 'leak', 'beetling', 'cussin', 'knocking', 'liberties', 'appealing', 'verge', 'symptom', 'too', 'adduced', 'sometime', 'doom', 'crashed', 'shattered', 'Aha', 'waitin', 'tombs', 'dish', 'Buda', 'vice', 'errand', 'warranties', 'some', 'strait', 'hetman', 'Once', 'frontier', 'wot', 'instinctive', 'individually', 'readiness', 'CHAPTER', 'sulphurous', 'linen', 'received', 'easy', 'himself', 'overpowering', 'portions', 'Keeper', 'catch', 'considerable', 'near', 'Szekelys', 'taste', 'recipe', 'Farewell', 'XXVI', 'colour', 'leisure', 'languidly', 'strict', 'spiritless', 'nothing', 'Indulgence', 'robbed', 'heaven', 'house', 'fighting', 'aching', 'account', 'gesture', 'tie', 'effective', 'ceaselessly', 'laughter', 'shrunk', 'sufferers', 'ages', 'announce', 'waxen', 'Galatz', 'admire', 'assigned', 'favour', 'Paxton', 'uncommon', 'tempting', 'shopping', 'expressive', 'remaining', 'cab', 'bottles', 'preparation', 'nobody', 'daffled', 'wantonness', 'misled', 'contrast', 'hue', 'senses', 'Holy', 'purchase', 'stilled', 'obliterated', 'sherry', 'handing', 'redeem', 'Kingdom', 'Saturday', 'Lighthouse', 'Dutchmen', 'mercifully', 'redistribution', 'Ring', 'game', 'license', 'Whenever', 'walk', 'preachin', 'correspondence', 'detain', 'It', 'quickest', 'officially', 'talkin', 'fawned', 'questions', 'reddening', 'birth', 'hunt', 'lapping', 'reliable', 'drop', 'ordinary', 'dray', 'plum', 'boast', 'grisly', 'defective', 'dangerously', 'carnal', 'trust', 'kindred', 'signal', 'necromancy', 'obstinately', 'methodicalness', 'forestall', 'igh', 'ghost', 'varied', 'result', 'airt', 'hangings', 'purple', 'strain', 'embarked', 'hooal', 'suffers', 'billows', 'tend', 'merchant', 'engendered', 'distinctly', 'shadowy', 'consult', 'intercede', 'Drive', 'bones', 'urgent', 'galloping', 'mate', 'stopping', 'unknowingly', 'penalties', 'numerous', 'Andrew', 'wanting', 'furnace', 'bothered', 'waistcoat', 'River', 'shirtsleeves', 'lag', 'Neither', 'victoria', 'wolds', 'guest', 'deathly', 'tear', 'links', 'disc', 'squire', 'Deity', 'West', 'ha', 'brushed', 'Bay', 'job', 'At', 'severely', 'street', 'repudiated', 'Treaty', 'impose', 'listens', 'degree', 'wherefore', 'asked', 'now', 'batches', 'organ', 'marble', 'molested', 'Cattle', 'athwart', 'ghosts', 'herewith', 'biscuit', 'falling', 'Afraid', 'NOT', 'spur', 'beautiful', 'Goods', 'paralysed', 'steamboat', 'famished', 'desired', 'explore', 'suddenly', 'cabman', 'dam', 'heroic', 'moaning', 'tuned', 'unfold', 'gog', 'merged', 'news', 'Curse', 'skeer', 'Mind', 'remark', 'drops', 'BUT', 'hundred', 'hunters', 'outlined', 'our', 'balm', 'mentioned', 'capital', 'ole', 'Instinctively', 'piece', 'newspapers', 'puff', 'winds', 'Director', 'lighter', 'proud', 'impressment', 'refusal', 'roadway', 'receptacle', 'fondly', 'tribe', 'jagged', 'spume', 'caffin', 'House', 'ruthless', 'rattling', 'origin', 'calls', 'shaking', 'Steinkoff', 'viewing', 'always', 'dream', 'deserve', 'mixes', 'idolatrous', 'nonproprietary', 'jaw', 'eleventh', 'denied', 'handspike', 'mankind', 'yielded', 'napped', 'Vanilla', 'girl', 'apparently', 'narrative', 'suspicion', 'reflect', 'confessed', 'chunk', 'appearance', 'held', 'reality', 'fain', 'eBooks', 'bowed', 'rags', 'crash', 'deviate', 'demoralise', 'slide', 'endurance', 'period', 'galleries', 'Almanac', 'secret', 'addressing', 'repeating', 'Bermondsey', 'nonsense', 'soldering', 'pipe', 'default', 'menial', 'settled', 'ANYTHING', 'All', 'explored', 'sealing', 'cowering', 'single', 'islands', 'genial', 'We', 'prepossessing', 'pouf', 'Hildesheim', 'contains', 'grammar', 'of', 'sounds', 'amazement', 'opening', 'materialisation', 'bandage', 'searched', 'physically', 'delighted', 'buzzed', 'steady', 'musical', 'safely', 'offence', 'horrified', 'tryin', 'Pier', 'screws', 'resident', 'considerably', 'when', 'commonly', 'ague', 'costs', 'mount', 'wary', 'Golden', 'flags', 'scarlet', 'solicit', 'ho', 'stool', 'interrupt', 'Safety', 'obstruction', 'sought', 'dozen', 'reverse', 'odd', 'therapeutics', 'saved', 'manacled', 'shorthand', 'PRESS', 'apropos', 'violence', 'amidst', 'widens', 'Asia', 'success', 'adding', 'rolled', 'organized', 'blossom', 'identified', 'information', 'ceases', 'inrushing', 'motives', 'DISCLAIMER', 'examination', 'structure', 'strained', 'snare', 'pushing', 'fool', 'inversely', 'gorges', 'powerfully', 'obtain', 'section', 'accord', 'counsels', 'design', 'doze', 'gunwale', 'bone', 'lotus', 'elped', 'accustomed', 'eye', 'hesitatingly', 'den', 'projection', 'Bleeding', 'short', 'Lowrey', 'considering', 'times', 'crumbled', 'sails', 'quicken', 'wery', 'recollection', 'forgive', 'poor', 'Needless', 'civilly', 'aloud', 'risk', 'sittin', 'value', 'issue', 'attic', 'demurred', 'passion', 'Wherever', 'unduly', 'Sackville', 'goodly', 'ashes', 'entrances', 'count', 'staying', 'brutally', 'exchange', 'slave', 'prodigious', 'Czarina', 'implicitly', 'flared', 'fed', 'acquaintanceship', 'grievously', 'alternate', 'mutilate', 'hard', 'clearly', 'prejudiced', 'unhooked', 'rabbit', 'special', 'virgin', 'dreaming', 'sulky', 'picturesqueness', 'sterner', 'humanising', 'principal', 'belonging', 'pacify', 'web', 'XII', 'humanity', 'spontaneously', 'absorb', 'it', 'fresco', 'emblem', 'criminal', 'abroad', 'assembled', 'casement', 'Stores', 'upset', 'silhouettes', 'centaur', 'sounding', 'Farley', 'source', 'shaving', 'Express', 'expanse', 'broadens', 'sobs', 'kem', 'larder', 'coherently', 'hazard', 'concrete', 'genially', 'Spaniards', 'dominant', 'For', 'westwards', 'moonbeams', 'driver', 'bigamist', 'grasping', 'could', 'ordinarily', 'draught', 'difference', 'minister', 'attending', 'towns', 'bearing', 'Madness', 'grubby', 'XXV', 'stoppages', 'ironed', 'advertise', 'online', 'Moldavia', 'sapphires', 'peaceful', 'Listen', 'money', 'Poter', 'Billington', 'dowps', 'unknown', 'nearing', 'emptied', 'eyelids', 'HAMPSTEAD', 'echo', 'executors', 'mixed', 'blown', 'suppress', 'consumed', 'Husband', 'auditors', 'weights', 'repair', 'Whitby', 'barred', 'impetuosity', 'seat', 'Author', 'teeming', 'nature', 'tennis', 'axe', 'coffin', 'find', 'concern', 'cypress', 'crashing', 'awaken', 'bush', 'decision', 'volunteer', 'rarity', 'haunts', 'attendants', 'gout', 'parts', 'seems', 'chiefest', 'poured', 'hospital', 'euthanasia', 'sucked', 'baffle', 'tempered', 'clutched', 'city', 'infinitely', 'miscredit', 'venalia', 'circumstance', 'Hon', 'faced', 'happiness', 'portion', 'Logically', 'measures', 'smiled', 'baneful', 'midst', 'disguised', 'whet', 'tumbled', 'reprehensible', 'satisfactory', 'boudoir', 'pricked', 'sergeant', 'lower', 'mine', 'fretted', 'struggles', 'quaint', 'Gabriel', 'despise', 'resumption', 'asylum', 'loving', 'insensitive', 'Borgo', 'respective', 'Quite', 'sunk', 'studying', 'seven', 'blowed', 'perfeshunal', 'occupied', 'visited', 'Arthur', 'Extra', 'mains', 'praising', 'overmuch', 'coal', 'dressed', 'converge', 'East', 'slang', 'real', 'appealingly', 'oblige', 'daze', 'spin', 'educational', 'modern', 'solemn', 'Hapsburgs', 'insist', 'physiognomy', 'race', 'waiting', 'new', 'troubled', 'stroll', 'camera', 'scriptural', 'instigation', 'winding', 'anent', 'bier', 'apathy', 'Scriptural', 'resonance', 'pearls', 'mourning', 'REMEDIES', 'solely', 'disbelieve', 'Patrick', 'cheek', 'animal', 'overpower', 'mortuary', 'stenograph', 'playful', 'lull', 'extravagant', 'led', 'thwarted', 'buys', 'Somewhere', 'moisture', 'motor', 'unenforceability', 'disappear', 'caresses', 'screamed', 'depriving', 'shillin', 'beer', 'promoting', 'Nature', 'semblance', 'sat', 'gentleness', 'revolving', 'repeater', 'unhuman', 'lunch', 'extra', 'grows', 'roaming', 'mated', 'acrid', 'supplication', 'roof', 'Sale', 'Sections', 'away', 'clanging', 'pretended', 'moonlit', 'overcast', 'meantime', 'somethink', 'went', 'expressed', 'travelled', 'Amen', 'divert', 'young', 'Blue', 'Turk', 'pairfectly', 'opinion', 'several', 'Road', 'refuse', 'AS', 'Ground', 'PERILOUS', 'parted', 'countermining', 'golden', 'engaged', 'humble', 'leper', 'greater', 'Backsheesh', 'faster', 'think', 'direct', 'About', 'vein', 'feeding', 'leagues', 'nausea', 'churchyard', 'grinding', 'weep', 'suit', 'dash', 'Wharf', 'first', 'honestly', 'profusely', 'necks', 'precaution', 'bending', 'rear', 'Wait', 'conclusion', 'shrouds', 'laneway', 'compare', 'resist', 'conveniently', 'takes', 'cure', 'front', 'VAN', 'breathlessly', 'grup', 'representations', 'shifty', 'popular', 'scart', 'feebly', 'stopped', 'rally', 'test', 'keep', 'sensations', 'second', 'instructions', 'typewrite', 'fluttering', 'brows', 'curl', 'sacrifice', 'detained', 'York', 'coast', 'theories', 'onwards', 'symbolic', 'ricks', 'gladdened', 'heated', 'sorrow', 'elsewhere', 'Arminius', 'landlord', 'permitted', 'joy', 'literally', 'bene', 'languages', 'mockery', 'ireful', 'List', 'remorse', 'chambers', 'Be', 'Accurate', 'City', 'abreast', 'Morpheus', 'delight', 'directions', 'serve', 'doubly', 'copied', 'Tokay', 'Ever', 'assured', 'while', 'thorough', 'CONTRACT', 'dangers', 'waste', 'Immanuel', 'sanctuary', 'End', 'smeared', 'messages', 'Morning', 'Up', 'demeanour', 'directing', 'announced', 'calmer', 'Hamburg', 'troughs', 'vigorous', 'typed', 'Churchman', 'beyont', 'fiancé', 'heraldic', 'tradition', 'hospitality', 'apiece', 'crowd', 'bird', 'relapses', 'domain', 'Email', 'maintaining', 'closed', 'metaphysician', 'shake', 'Pampas', 'statue', 'accused', 'allows', 'ribbon', 'associated', 'subjective', 'inquisitive', 'Finland', 'Ghoorka', 'Too', 'tranquil', 'ballast', 'noon', 'servant', 'ruin', 'fancies', 'thanked', 'centrifugal', 'ook', 'perils', 'sale', 'lyin', 'stems', 'ice', 'undertaker', 'piers', 'surer', 'z', 'règle', 'nobly', 'between', 'carriage', 'relief', 'zeal', 'research', 'refreshment', 'bog', 'desolation', 'use', 'enough', 'buying', 'sermon', 'ANY', 'eBook', 'universe', 'avail', 'sleeping', 'confined', 'culverin', 'royal', 'copyright', 'narcotic', 'atlas', 'shuddered', 'Domain', 'sheer', 'whereupon', 'earnestness', 'Bistritz', 'suffocate', 'tinge', 'bringing', 'chucks', 'hostile', 'acted', 'pounding', 'walks', 'imitation', 'derivative', 'sort', 'disturbing', 'typewritten', 'hardened', 'control', 'lately', 'cheerless', 'laziness', 'flesh', 'unrecorded', 'cortège', 'XVI', 'fancied', 'soup', 'sharp', 'undergone', 'perform', 'chained', 'lad', 'malignity', 'feller', 'affectionate', 'Halt', 'chafts', 'Recording', 'suggest', 'answers', 'singing', 'hospitable', 'modernity', 'sickly', 'allies', 'valleys', 'walking', 'Ha', 'conceivable', 'fit', 'symptoms', 'latched', 'Speak', 'nailed', 'Woods', 'immediate', 'Mississippi', 'message', 'few', 'enthusiastically', 'centuries', 'cheerful', 'pendulum', 'lie', 'faculties', 'unavailingness', 'Them', 'whit', 'Plain', 'impartiality', 'roots', 'me', 'enormous', 'forbids', 'region', 'procession', 'complications', 'LINTHWAITE', 'slep', 'Korea', 'chinks', 'Judas', 'Fears', 'reared', 'sundown', 'implied', 'Smollet', 'sorts', 'personal', 'surely', 'traced', 'imitate', 'apply', 'moustaches', 'Closer', 'queerest', 'sloppy', 'desecrate', 'Sent', 'destroy', 'hang', 'drift', 'arms', 'autopsy', 'cum', 'land', 'court', 'presently', 'equally', 'volcanoes', 'frighten', 'hobby', 'cloudy', 'MITCHELL', 'infected', 'Constitutional', 'comforting', 'horn', 'ensure', 'tapping', 'glistened', 'cricketing', 'sold', 'brooding', 'size', 'gripped', 'prey', 'whitening', 'open', 'THREE', 'obscured', 'fangled', 'undressed', 'loins', 'threatened', 'cart', 'PUNITIVE', 'XV', 'complexion', 'Turning', 'individuals', 'gas', 'bacca', 'whispering', 'mirror', 'vendors', 'rid', 'Publishers', 'failed', 'thwarting', 'obtaining', 'Release', 'lowest', 'conduct', 'rushed', 'ai', 'modified', 'economy', 'process', 'unlocked', 'represents', 'window', 'sight', 'blest', 'similarity', 'classify', 'thought', 'prefix', 'implication', 'spring', 'furze', 'smells', 'resistance', 'cigars', 'pent', 'that', 'thick', 'wrenched', 'unspeakable', 'verb', 'remembered', 'swoon', 'sweeter', 'rejoiced', 'gifts', 'square', 'cylinder', 'walkers', 'springs', 'nay', 'performances', 'alike', 'diminished', 'Todten', 'doors', 'alacrity', 'smattering', 'support', 'somewheres', 'awkwardly', 'oblivious', 'row', 'seaman', 'disclaim', 'attack', 'Even', 'dwell', 'uprights', 'accuracy', 'broaching', 'naïveté', 'fearfully', 'lessened', 'round', 'agony', 'Sweeping', 'cries', 'ceremony', 'unique', 'damage', 'comfort', 'recalled', 'ashy', 'tried', 'post', 'virtue', 'hesitated', 'matches', 'stranger', 'disarray', 'beasts', 'books', 'tricks', 'heat', 'apt', 'remissness', 'beauty', 'empty', 'white', 'boulders', 'trumpet', 'matching', 'attend', 'daily', 'malignant', 'Soho', 'faults', 'ascending', 'head', 'passengers', 'despatched', 'strongly', 'With', 'Sleep', 'appliances', 'taken', 'proudly', 'tools', 'glassiness', 'compels', 'properly', 'served', 'prescribe', 'lot', 'meagre', 'tiniest', 'Hotel', 'turnscrew', 'almost', 'mamma', 'anxiety', 'pattering', 'grit', 'abasement', 'creaky', 'hearth', 'allay', 'blessed', 'Him', 'shrieked', 'replied', 'pot', 'assistant', 'farthest', 'deary', 'solve', 'thirsty', 'Soh', 'cliff', 'terribly', 'scantily', 'bushy', 'handful', 'selected', 'Wafer', 'August', 'reopening', 'fault', 'why', 'arsked', 'sank', 'chance', 'Kept', 'kitchen', 'painters', 'Wake', 'TO', 'complete', 'deliberate', 'burglary', 'overland', 'proof', 'rat', 'supplement', 'Ferrier', 'certify', 'naïvely', 'Law', 'MS', 'weaken', 'lines', 'pushed', 'warm', 'travellers', 'stricken', 'whiff', 'drifting', 'outwardly', 'knot', 'distinctions', 'rôle', 'table', 'indrawn', 'missal', 'cheeks', 'coin', 'prejudge', 'brilliantly', 'progressing', 'heave', 'declared', 'hour', 'wept', 'addle', 'Berserkers', 'ahint', 'admitted', 'preliminary', 'entries', 'winning', 'mild', 'READ', 'screw', 'EXCEPT', 'started', 'manifestly', 'giving', 'assail', 'fatalities', 'Harwich', 'wider', 'casually', 'prompted', 'main', 'tombstone', 'couple', 'Surgeon', 'foreman', 'restrictions', 'inky', 'clothing', 'destruction', 'birds', 'up', 'Duck', 'weatherworn', 'fearful', 'burned', 'meddle', 'permit', 'alarms', 'column', 'affliction', 'sensibilities', 'posts', 'Greif', 'mislead', 'owl', 'kid', 'quartered', 'streams', 'herself', 'braced', 'because', 'described', 'concealments', 'fume', 'conventional', 'tumble', 'slopes', 'gawm', 'although', 'BY', 'General', 'impressed', 'obliquity', 'interpreted', 'stab', 'strive', 'renamed', 'gratitude', 'removed', 'actual', 'FROM', 'whips', 'career', 'eyes', 'sustaining', 'pointed', 'premonitory', 'gruesome', 'sheered', 'flash', 'weary', 'blot', 'etymology', 'household', 'Royale', 'brother', 'prepare', 'tolerably', 'distressed', 'repeated', 'spend', 'chase', 'tooked', 'gloom', 'gleam', 'prevent', 'maximum', 'pause', 'listening', 'Lloyd', 'number', 'friendly', 'reined', 'spared', 'v', 'twa', 'rallying', 'delicate', 'leaping', 'peacefully', 'chaffin', 'witches', 'said', 'Finally', 'inspect', 'hopes', 'tender', 'calms', 'Master', 'fox', 'maddening', 'tiny', 'observant', 'uneasy', 'fainting', 'honourable', 'dreadful', 'relating', 'snake', 'jump', 'affects', 'Dare', 'sanctify', 'sofas', 'Instead', 'Navy', 'together', 'Thud', 'resolute', 'names', 'reasonableness', 'stamp', 'craning', 'ridiculous', 'basilisk', 'ardente', 'Sam', 'wring', 'sooner', 'Strangely', 'perfunctory', 'scowled', 'discovered', 'gladness', 'confine', 'dreamy', 'manus', 'sapphire', 'canniness', 'views', 'tossed', 'obsolete', 'runs', 'trousers', 'offend', 'supposed', 'authorities', 'dissociated', 'according', 'damages', 'limitations', 'stiff', 'afresh', 'attach', 'DAILYGRAPH', 'rows', 'fits', 'bullying', 'unharmed', 'nightly', 'fortitude', 'sideboard', 'whirlpool', 'RAYNER', 'whirls', 'son', 'dreamless', 'Wo', 'humorous', 'Greece', 'breathing', 'hid', 'eloquent', 'latest', 'louder', 'angrier', 'Hun', 'stean', 'seem', 'guidance', 'suburban', 'tragedy', 'refreshed', 'division', 'then', 'draweth', 'confused', 'EXPRESS', 'no', 'accounts', 'Knowing', 'seconding', 'unselfishness', 'drinkin', 'ouse', 'illusion', 'patrolling', 'Winchesters', 'victorious', 'motes', 'hoarsely', 'curse', 'ills', 'high', 'corn', 'stars', 'strike', 'entreaty', 'emphatic', 'escaping', 'overwhelm', 'ravings', 'absorbing', 'alone', 'focussing', 'INCIDENTAL', 'Alone', 'selfishness', 'tapped', 'encouraged', 'title', 'gypsy', 'disappears', 'probability', 'incident', 'frightened', 'refine', 'bottom', 'tell', 'Greeks', 'rule', 'Oracle', 'strategic', 'fine', 'SONS', 'cutting', 'heartily', 'regard', 'echoed', 'anywheres', 'business', 'misadventure', 'unhappy', 'leap', 'pockets', 'timber', 'contradict', 'moon', 'weakening', 'PROJECT', 'blushes', 'addressed', 'ruddiness', 'expense', 'encourage', 'paperwork', 'diseases', 'core', 'royalty', 'experiences', 'exploring', 'delivered', 'charitable', 'wisp', 'derogatory', 'PURPOSE', 'decent', 'Swales', 'change', 'wharf', 'MINA', 'Stabbing', 'salad', 'engine', 'inequalities', 'ooman', 'Bah', 'flogging', 'laying', 'men', 'chattering', 'plane', 'refused', 'events', 'delay', 'Thus', 'shawl', 'wag', 'brutes', 'fret', 'separate', 'mare', 'Ordnance', 'shrivelling', 'Russian', 'wounded', 'fakir', 'Well', 'hired', 'nobility', 'sense', 'rejoice', 'written', 'experiencing', 'Young', 'musty', 'assist', 'Does', 'cures', 'effects', 'depended', 'nobleman', 'aghast', 'dares', 'agree', 'Magyars', 'base', 'murmured', 'Cross', 'cheery', 'slapped', 'Festina', 'Within', 'morbid', 'frock', 'Thor', 'shove', 'comforted', 'impletata', 'injure', 'securely', 'quarrel', 'poison', 'tolerate', 'holiday', 'pourparlers', 'huge', 'rustle', 'barometrical', 'DETECTIVE', 'murmuring', 'tombstean', 'ditherin', 'handled', 'smoothest', 'Melan', 'fastnesses', 'shall', 'picked', 'concluded', 'shiver', 'Maybe', 'servile', 'mechanical', 'winked', 'sarks', 'concussion', 'contrasted', 'unmoving', 'slept', 'sharpen', 'error', 'License', 'immeasurable', 'ay', 'formerly', 'eternal', 'clegs', 'cheerfulness', 'powers', 'experiment', 'respects', 'differ', 'saluted', 'kept', 'ceased', 'seriousness', 'Redistributing', 'lawyer', 'deeply', 'choppy', 'hint', 'arskin', 'movement', 'willing', 'so', 'yer', 'Until', 'wedding', 'despondently', 'Pit', 'bizarre', 'manifested', 'encompassed', 'trick', 'proportions', 'swollen', 'smarts', 'French', 'critical', 'threes', 'gang', 'smoked', 'kissing', 'bright', 'parcel', 'Hundreds', 'gardings', 'limited', 'Many', 'conjunction', 'gladder', 'operate', 'horse', 'standstill', 'methods', 'speck', 'lamp', 'fouler', 'penitent', 'digression', 'induce', 'otherwise', 'laconically', 'knock', 'announcing', 'comply', 'bitterness', 'awakes', 'tops', 'snakes', 'cold', 'railed', 'auctioneer', 'mindin', 'Slovaks', 'sang', 'unhurt', 'havoc', 'eagle', 'BE', 'RAVENSDENE', 'elderly', 'traces', 'y', 'impregnable', 'Avar', 'glorious', 'ultimately', 'mortal', 'woes', 'Frenchmen', 'Superintendent', 'fathom', 'discuss', 'fused', 'mirthless', 'Fundu', 'gloated', 'crisis', 'hers', 'hail', 'ain', 'sent', 'bench', 'scare', 'USE', 'NOTE', 'monster', 'market', 'littered', 'mortem', 'froze', 'themes', 'called', 'Monroe', 'gravity', 'unless', 'attempts', 'patients', 'MILL', 'yielding', 'horns', 'cautiously', 'firmly', 'Ugric', 'DAMAGE', 'dear', 'succeed', 'interviewing', 'slack', 'strolled', 'suspicious', 'proprietor', 'shiverin', 'gaol', 'intensified', 'redoubled', 'periodic', 'startling', 'peeped', 'Derby', 'Hull', 'seaward', 'village', 'everlasting', 'wily', 'relapse', 'Fancy', 'Green', 'cicatrised', 'Spencelagh', 'ourselves', 'elemental', 'express', 'knows', 'doing', 'parents', 'convulsively', 'patrol', 'Waterloo', 'captain', 'Trade', 'morrow', 'afforded', 'Stop', 'quid', 'gathered', 'pill', 'doings', 'baggy', 'talks', 'peasants', 'Isten', 'suffice', 'Almighty', 'viewed', 'rise', 'whettin', 'thruff', 'operators', 'frantic', 'renewing', 'mastered', 'feeling', 'mystifying', 'Scott', 'ebb', 'recognize', 'sunlight', 'hearing', 'confident', 'Launceston', 'de', 'tally', 'rug', 'policeman', 'wrecked', 'murdering', 'cut', 'mistaken', 'unmask', 'showing', 'pathos', 'entailed', 'Hart', 'tamers', 'mariner', 'poise', 'forthwith', 'illustrate', 'TEMPLE', 'reported', 'noticing', 'action', 'Seward', 'Project', 'waterway', 'dined', 'owns', 'Wind', 'recovered', 'overhead', 'withdrew', 'aroused', 'item', 'redirect', 'Prund', 'leaders', 'Make', 'any', 'dealt', 'indirect', 'throw', 'MIDDLE', 'meaning', 'rudimentary', 'boiling', 'Shut', 'agitated', 'wailing', 'safety', 'honour', 'punch', 'Please', 'groaned', 'helpful', 'goes', 'delays', 'panes', 'Beware', 'races', 'defeat', 'named', 'Van', 'arranging', 'creeping', 'derelict', 'glee', 'using', 'scarin', 'Caffyn', 'Sanderson', 'silver', 'nuts', 'permission', 'inclination', 'owling', 'paper', 'darknesses', 'romance', 'considerate', 'hatchway', 'lethargic', 'wronged', 'dimness', 'rattled', 'intelligent', 'hearts', 'series', 'dare', 'Hamlet', 'underlip', 'especial', 'ruined', 'shared', 'suicide', 'grumble', 'orthodox', 'evidences', 'controlled', 'amenable', 'Get', 'raising', 'paint', 'ground', 'befriend', 'Ay', 'Voivode', 'Klausenburgh', 'scarcely', 'dresses', 'greatly', 'psychic', 'Englishman', 'they', 'Moth', 'friendship', 'sling', 'heed', 'squeezed', 'aright', 'avoided', 'aware', 'BARBICAN', 'cloak', 'checks', 'hammer', 'paid', 'wards', 'wrote', 'let', 'cheques', 'dishevelled', 'dreaded', 'Unclean', 'soothingly', 'excitable', 'higher', 'confirmation', 'distribution', 'excoose', 'ere', 'gorged', 'JOURNAL', 'occurred', 'give', 'thunder', 'camp', 'undone', 'customs', 'V', 'Antwerp', 'obscure', 'grab', 'dignity', 'terror', 'circular', 'Host', 'assertion', 'rose', 'eater', 'chair', 'Simply', 'Authors', 'champed', 'knocker', 'truly', 'win', 'empirically', 'favourite', 'deed', 'spread', 'were', 'faded', 'faith', 'buoyancy', 'stretching', 'certainly', 'finding', 'mastery', 'WOLVES', 'dropped', 'journeys', 'grassy', 'guesses', 'discreet', 'reasoned', 'springing', 'ricochetting', 'redistributing', 'obligation', 'aided', 'confer', 'kinds', 'originally', 'churning', 'shouldering', 'sailing', 'volcanic', 'share', 'paler', 'terrible', 'folding', 'appearing', 'what', 'gleamed', 'propose', 'suffering', 'exact', 'flour', 'aboon', 'Shakespeare', 'classes', 'deny', 'internal', 'letting', 'lid', 'rummiest', 'generally', 'consequence', 'blanket', 'pondered', 'night', 'flies', 'feels', 'hurt', 'gates', 'teaching', 'yearning', 'electronically', 'corked', 'neither', 'madly', 'horses', 'living', 'Greenland', 'shame', 'likes', 'lead', 'Ordinarily', 'shouted', 'symbols', 'hung', 'wiles', 'duplicates', 'fitted', 'resume', 'hereafter', 'patient', 'tour', 'octroi', 'slivovitz', 'reflectively', 'stuffy', 'pauses', 'belong', 'blowing', 'redder', 'inserted', 'ud', 'plunging', 'helplessness', 'face', 'clasped', 'retire', 'wetted', 'crowded', 'clusters', 'conveying', 'chaplet', 'urtin', 'redden', 'myriad', 'finance', 'completest', 'triumph', 'stripped', 'settling', 'shrouded', 'Carpathian', 'feverish', 'knees', 'Nota', 'slid', 'newsletter', 'census', 'objective', 'communicative', 'dishonourable', 'simile', 'raw', 'multitude', 'perambulator', 'embarrass', 'project', 'breath', 'ruins', 'miasma', 'concentrated', 'platform', 'storage', 'renewed', 'injured', 'acquire', 'legions', 'shoals', 'EIN', 'glanced', 'partly', 'SUCH', 'Index', 'wounds', 'Chicksand', 'Unconsciously', 'bring', 'expenses', 'Harris', 'payment', 'Government', 'taming', 'Draw', 'Guide', 'terrestrial', 'dose', 'sickens', 'mayhap', 'unmistakable', 'flamed', 'dazed', 'bow', 'infallibly', 'perchance', 'condition', 'slowness', 'package', 'nosing', 'wrench', 'durability', 'ASCII', 'Note', 'cathedral', 'curtainless', 'outlet', 'preternatural', 'satisfied', 'exhaled', 'contortions', 'side', 'awe', 'odour', 'foiled', 'dainty', 'improper', 'seemed', 'mounted', 'pulse', 'arrangements', 'vulgar', 'haughty', 'conqueror', 'killed', 'Our', 'downhill', 'stem', 'added', 'apologetic', 'silence', 'swears', 'stain', 'interested', 'greeted', 'saying', 'rain', 'mapped', 'sairly', 'fiends', 'Romæ', 'Floridas', 'trail', 'registrar', 'whither', 'fragments', 'refund', 'upwards', 'largely', 'acquiesce', 'lively', 'incline', 'breeding', 'authorisation', 'scouted', 'jugular', 'forgetfulness', 'strengthen', 'solicitude', 'becomes', 'access', 'potent', 'outset', 'tide', 'foreknowledge', 'exultantly', 'connected', 'earnestly', 'shippers', 'eve', 'eating', 'candles', 'minded', 'militate', 'protection', 'problem', 'foes', 'appeared', 'Blood', 'gypsies', 'budget', 'Outlined', 'resumed', 'plainly', 'except', 'appalled', 'nourishment', 'fashionable', 'Soldier', 'faculty', 'closing', 'Whether', 'powerful', 'satiate', 'additions', 'Hereafter', 'ready', 'creaking', 'beaten', 'scale', 'encounter', 'mrrning', 'or', 'contingent', 'diabolic', 'gloomy', 'IN', 'everything', 'anxious', 'departed', 'blows', 'got', 'whatsoever', 'matters', 'chain', 'housekeeping', 'wishing', 'dynasties', 'jotting', 'dearest', 'Consulate', 'relations', 'appearances', 'duties', 'checked', 'revolver', 'easiness', 'shout', 'accordingly', 'crow', 'battles', 'contend', 'armament', 'WILL', 'stooping', 'dwellers', 'hump', 'gate', 'inside', 'soldiers', 'Krone', 'excepted', 'pitch', 'production', 'reached', 'motioning', 'boyar', 'log', 'flagging', 'padded', 'maidens', 'cock', 'earn', 'clock', 'Four', 'sanction', 'memorandum', 'gear', 'stony', 'make', 'drowned', 'steadily', 'adventurous', 'freshly', 'attempt', 'aids', 'stooped', 'cord', 'Three', 'Solicitor', 'contained', 'paprika', 'Kneeling', 'frisked', 'ran', 'lives', 'descriptive', 'somehow', 'hinfant', 'eastern', 'overboard', 'reassuring', 'fair', 'Bethnal', 'gorge', 'dinner', 'grin', 'holding', 'undergarment', 'naturally', 'six', 'alarm', 'harsh', 'wicked', 'crown', 'Eversfield', 'effected', 'lighthouses', 'mediæval', 'modification', 'farther', 'snowy', 'crying', 'agents', 'choke', 'parting', 'hoped', 'yellow', 'advanced', 'lethargy', 'dooal', 'Welcome', 'experienced', 'opponent', 'crime', 'destiny', 'hellish', 'Place', 'heartless', 'nine', 'Pass', 'weighted', 'questioning', 'drawers', 'etc', 'Austrian', 'steps', 'absorbed', 'sums', 'There', 'inventor', 'destination', 'coach', 'diamond', 'newly', 'haste', 'genuinely', 'dears', 'grasped', 'clouds', 'damp', 'Thorough', 'wolves', 'insurance', 'insensibility', 'Really', 'impassiveness', 'brightly', 'sided', 'cowered', 'crushed', 'sovereigns', 'oil', 'guarded', 'ill', 'eared', 'forcibly', 'demurely', 'shuns', 'Eastern', 'Dame', 'apprenticed', 'scowderment', 'Information', 'uneasiness', 'Save', 'outstretched', 'dip', 'resting', 'Rufus', 'trippers', 'singly', 'subject', 'strung', 'saw', 'inclined', 'disposition', 'bough', 'files', 'pluck', 'prescribed', 'frees', 'salvage', 'praying', 'reading', 'mournful', 'errant', 'steadfastness', 'tiller', 'intentions', 'beings', 'tearing', 'breasts', 'oaken', 'nights', 'guards', 'emotional', 'POSSIBILITY', 'wear', 'attacked', 'dive', 'tremor', 'Sweet', 'navigated', 'platforms', 'extend', 'discontent', 'shadows', 'sordid', 'wreath', 'roved', 'morning', 'signature', 'mouths', 'precedent', 'fitter', 'clarion', 'awaked', 'exclusion', 'downcast', 'stress', 'railway', 'OUR', 'rubbish', 'expostulate', 'weaknesses', 'Happy', 'madmen', 'argumentativeness', 'aboard', 'walls', 'crossing', 'frequent', 'dust', 'accumulation', 'instruments', 'toes', 'frustrate', 'staggered', 'London', 'unloaded', 'furnished', 'harm', 'trifling', 'tucked', 'sir', 'racing', 'depend', 'terrific', 'GROSSET', 'bulwark', 'proves', 'importunate', 'Later', 'unprepared', 'discharge', 'graves', 'refuges', 'Leave', 'chief', 'top', 'sea', 'nationality', 'presume', 'knell', 'peal', 'groundless', 'swiftness', 'carefully', 'teams', 'shutters', 'machine', 'sheepskins', 'Its', 'wondered', 'voyage', 'hoodwink', 'waked', 'huntin', 'pocket', 'easily', 'plug', 'predestinate', 'prepared', 'respect', 'trod', 'conscious', 'courtyard', 'scattering', 'entitled', 'article', 'effacing', 'originated', 'introduced', 'trembled', 'invaders', 'forgetting', 'blessings', 'miserably', 'liquid', 'Unhappily', 'totals', 'steering', 'significance', 'usual', 'wait', 'shoes', 'drawn', 'wafts', 'educated', 'essence', 'gratefully', 'dictation', 'Magyar', 'cursed', 'Two', 'dreads', 'Copyright', 'cabs', 'unhappily', 'strode', 'scarce', 'browns', 'moment', 'sweated', 'obstacle', 'united', 'cheerfully', 'somewhat', 'fabulous', 'champing', 'shrugged', 'STORIES', 'prolong', 'pouches', 'sketches', 'advantage', 'meaningly', 'arrear', 'poser', 'doubts', 'distils', 'meekness', 'fierceness', 'wake', 'agitation', 'sanguine', 'aiming', 'Charcot', 'Dinner', 'happen', 'vernacular', 'probe', 'icy', 'unsteered', 'expectation', 'raise', 'clerk', 'animiles', 'nervousness', 'sisters', 'campaign', 'solicitation', 'warning', 'brush', 'pulled', 'Fenchurch', 'panting', 'grow', 'assumed', 'expect', 'seventh', 'jog', 'noticeable', 'pabulum', 'bullet', 'urging', 'giant', 'sob', 'clues', 'flat', 'knots', 'attention', 'doctors', 'brown', 'eternity', 'loopholes', 'practically', 'awhile', 'sacred', 'train', 'Very', 'illness', 'belts', 'regulations', 'opposite', 'storey', 'Jerusalem', 'wagons', 'involved', 'displeased', 'typewriting', 'ridiculously', 'adopt', 'loath', 'downstairs', 'rides', 'composed', 'haired', 'material', 'threshold', 'breakfast', 'Circus', 'show', 'says', 'Tate', 'HELSING', 'Raised', 'contingencies', 'ought', 'weak', 'wave', 'restraining', 'Man', 'sickness', 'identification', 'entry', 'alteration', 'breaking', 'dining', 'swell', 'doubled', 'coquettishly', 'headlong', 'harmless', 'hundreds', 'consul', 'puddle', 'rinsed', 'farmhouses', 'effort', 'stimulant', 'armony', 'leer', 'YORK', 'generated', 'Will', 'audibly', 'horrorstruck', 'Godalming', 'octagonal', 'intents', 'physical', 'penniless', 'MY', 'jaws', 'shift', 'nail', 'snod', 'DR', 'peasantry', 'prowl', 'small', 'outrider', 'caution', 'reaping', 'threw', 'atmosphere', 'What', 'locking', 'cleft', 'arrayed', 'wings', 'Mackenzie', 'arguing', 'sha', 'juggle', 'bloated', 'whiles', 'Agatha', 'abandoned', 'Call', 'shadow', 'trivial', 'breakable', 'isself', 'tellin', 'butt', 'Thanks', 'thin', 'ascend', 'roar', 'perpetual', 'lifting', 'sharing', 'Wonderful', 'Olgaren', 'immediately', 'note', 'ladies', 'unnerved', 'Flick', 'sensibly', 'trephining', 'slipped', 'task', 'holds', 'forbade', 'already', 'laden', 'eat', 'deserted', 'breadth', 'foreign', 'after', 'practising', 'chasm', 'FINIS', 'sheath', 'radiant', 'notify', 'sorrows', 'ventured', 'respectful', 'trace', 'Act', 'pots', 'gain', 'key', 'ashamed', 'Marquesas', 'intact', 'ingress', 'enthusiasm', 'drained', 'things', 'trephine', 'cordage', 'contemplate', 'shirts', 'puzzled', 'fresh', 'loudly', 'corporation', 'sentimental', 'Judgment', 'padding', 'empiric', 'angel', 'systematically', 'hemmed', 'CARTER', 'harming', 'Hill', 'duly', 'astonished', 'paramount', 'frets', 'trickling', 'seas', 'unmercifully', 'accurate', 'flats', 'fissures', 'darkly', 'Lethe', 'frown', 'DISTRIBUTE', 'donation', 'chloral', 'antagonism', 'improves', 'exactly', 'presence', 'rounds', 'trickled', 'Frankly', 'Tropics', 'worked', 'disclaimer', 'Cutting', 'snuggled', 'laboured', 'stepped', 'parish', 'link', 'rideeculous', 'beams', 'bethink', 'neglected', 'stately', 'join', 'plating', 'commands', 'malign', 'strand', 'France', 'childish', 'wile', 'Parr', 'afternoon', 'current', 'shed', 'bribery', 'CITY', 'natures', 'dulling', 'quickly', 'approving', 'coward', 'shocked', 'seen', 'receiving', 'Straight', 'saturnine', 'further', 'frae', 'aid', 'best', 'Into', 'Turks', 'spade', 'lists', 'routine', 'wrists', 'staff', 'groaning', 'unwound', 'hold', 'there', 'So', 'fishermen', 'Disraeli', 'add', 'imploring', 'hall', 'clamps', 'dropping', 'crants', 'concealed', 'trembling', 'gazed', 'Praised', 'whetting', 'dissolution', 'typified', 'Abraham', 'certificate', 'fellows', 'widening', 'afield', 'station', 'throat', 'They', 'remainder', 'get', 'lying', 'sence', 'forgotten', 'amazed', 'The', 'Holmwood', 'heavier', 'cast', 'irksome', 'restful', 'respond', 'days', 'gent', 'resemblance', 'forcemeat', 'interfere', 'meekly', 'Truly', 'converged', 'unavailing', 'tables', 'life', 'bed', 'malady', 'walled', 'compared', 'irony', 'practice', 'procured', 'flapping', 'holder', 'author', 'brings', 'symbol', 'damaged', 'dictatorial', 'dry', 'Passed', 'falls', 'pleading', 'gathers', 'presses', 'spurs', 'XXIV', 'sitting', 'hearty', 'refer', 'darkness', 'builder', 'DONATIONS', 'quit', 'sweetness', 'slip', 'brook', 'press', 'roadside', 'helper', 'stare', 'concession', 'Andres', 'third', 'brighten', 'stored', 'seated', 'dots', 'upon', 'serious', 'Defect', 'Refund', 'casements', 'fifty', 'each', 'admit', 'phantoms', 'ownership', 'completed', 'array', 'consequently', 'occasional', 'Harkers', 'prolonged', 'humanitarian', 'beforehand', 'REFUND', 'figure', 'robbing', 'beam', 'cause', 'distrust', 'reports', 'obliged', 'fulfilment', 'chicken', 'afflict', 'sceptical', 'nation', 'provided', 'phantom', 'Paddington', 'studded', 'supercargo', 'strangeness', 'until', 'transfusion', 'a', 'locksmith', 'myself', 'Turkish', 'luring', 'crossed', 'framework', 'authentic', 'reeked', 'scenes', 'henceforth', 'earthquake', 'prettily', 'Hans', 'demoralised', 'condescend', 'Bread', 'Expected', 'merge', 'pepper', 'predeceasing', 'deeper', 'steaming', 'mumbled', 'transcribe', 'woven', 'tightly', 'we', 'professionally', 'moving', 'simply', 'definitely', 'accentuated', 'keepers', 'fulcrum', 'large', 'themselves', 'Samuel', 'summer', 'sorrowful', 'blank', 'Customs', 'taxes', 'energy']\n"
          ],
          "name": "stdout"
        }
      ]
    },
    {
      "cell_type": "code",
      "metadata": {
        "id": "aZw-laHQ8am0",
        "colab_type": "code",
        "colab": {
          "base_uri": "https://localhost:8080/",
          "height": 185
        },
        "outputId": "f235f415-ef27-4f37-f0e0-a6d67215fc8e"
      },
      "source": [
        "closest(colors, avg_color)"
      ],
      "execution_count": null,
      "outputs": [
        {
          "output_type": "execute_result",
          "data": {
            "text/plain": [
              "['reddish grey',\n",
              " 'brownish grey',\n",
              " 'brownish',\n",
              " 'brown grey',\n",
              " 'mocha',\n",
              " 'grey brown',\n",
              " 'puce',\n",
              " 'dull brown',\n",
              " 'pinkish brown',\n",
              " 'dark taupe']"
            ]
          },
          "metadata": {
            "tags": []
          },
          "execution_count": 164
        }
      ]
    },
    {
      "cell_type": "code",
      "metadata": {
        "id": "wXNCw1M3ET6T",
        "colab_type": "code",
        "colab": {
          "base_uri": "https://localhost:8080/",
          "height": 185
        },
        "outputId": "bf8c074c-f0f2-49da-e910-9afad82fcd7d"
      },
      "source": [
        "for cname in closest(colors, colors['mauve']):\n",
        "    print(cname + \" trousers\")"
      ],
      "execution_count": null,
      "outputs": [
        {
          "output_type": "stream",
          "text": [
            "mauve trousers\n",
            "dusty rose trousers\n",
            "dusky rose trousers\n",
            "brownish pink trousers\n",
            "old pink trousers\n",
            "reddish grey trousers\n",
            "dirty pink trousers\n",
            "old rose trousers\n",
            "light plum trousers\n",
            "ugly pink trousers\n"
          ],
          "name": "stdout"
        }
      ]
    },
    {
      "cell_type": "code",
      "metadata": {
        "id": "BMaS49UoMRpo",
        "colab_type": "code",
        "colab": {
          "base_uri": "https://localhost:8080/",
          "height": 1000
        },
        "outputId": "86727f68-ba01-450f-dba7-dd3e07608f03"
      },
      "source": [
        "nlp.vocab['cheese'].vector\n"
      ],
      "execution_count": null,
      "outputs": [
        {
          "output_type": "execute_result",
          "data": {
            "text/plain": [
              "array([-5.5252e-01,  1.8894e-01,  6.8737e-01, -1.9789e-01,  7.0575e-02,\n",
              "        1.0075e+00,  5.1789e-02, -1.5603e-01,  3.1941e-01,  1.1702e+00,\n",
              "       -4.7248e-01,  4.2867e-01, -4.2025e-01,  2.4803e-01,  6.8194e-01,\n",
              "       -6.7488e-01,  9.2401e-02,  1.3089e+00, -3.6278e-02,  2.0098e-01,\n",
              "        7.6005e-01, -6.6718e-02, -7.7794e-02,  2.3844e-01, -2.4351e-01,\n",
              "       -5.4164e-01, -3.3540e-01,  2.9805e-01,  3.5269e-01, -8.0594e-01,\n",
              "       -4.3611e-01,  6.1535e-01,  3.4212e-01, -3.3603e-01,  3.3282e-01,\n",
              "        3.8065e-01,  5.7427e-02,  9.9918e-02,  1.2525e-01,  1.1039e+00,\n",
              "        3.6678e-02,  3.0490e-01, -1.4942e-01,  3.2912e-01,  2.3300e-01,\n",
              "        4.3395e-01,  1.5666e-01,  2.2778e-01, -2.5830e-02,  2.4334e-01,\n",
              "       -5.8136e-02, -1.3486e-01,  2.4521e-01, -3.3459e-01,  4.2839e-01,\n",
              "       -4.8181e-01,  1.3403e-01,  2.6049e-01,  8.9933e-02, -9.3770e-02,\n",
              "        3.7672e-01, -2.9558e-02,  4.3841e-01,  6.1212e-01, -2.5720e-01,\n",
              "       -7.8506e-01,  2.3880e-01,  1.3399e-01, -7.9315e-02,  7.0582e-01,\n",
              "        3.9968e-01,  6.7779e-01, -2.0474e-03,  1.9785e-02, -4.2059e-01,\n",
              "       -5.3858e-01, -5.2155e-02,  1.7252e-01,  2.7547e-01, -4.4482e-01,\n",
              "        2.3595e-01, -2.3445e-01,  3.0103e-01, -5.5096e-01, -3.1159e-02,\n",
              "       -3.4433e-01,  1.2386e+00,  1.0317e+00, -2.2728e-01, -9.5207e-03,\n",
              "       -2.5432e-01, -2.9792e-01,  2.5934e-01, -1.0421e-01, -3.3876e-01,\n",
              "        4.2470e-01,  5.8335e-04,  1.3093e-01,  2.8786e-01,  2.3474e-01,\n",
              "        2.5905e-02, -6.4359e-01,  6.1330e-02,  6.3842e-01,  1.4705e-01,\n",
              "       -6.1594e-01,  2.5097e-01, -4.4872e-01,  8.6825e-01,  9.9555e-02,\n",
              "       -4.4734e-02, -7.4239e-01, -5.9147e-01, -5.4929e-01,  3.8108e-01,\n",
              "        5.5177e-02, -1.0487e-01, -1.2838e-01,  6.0521e-03,  2.8743e-01,\n",
              "        2.1592e-01,  7.2871e-02, -3.1644e-01, -4.3321e-01,  1.8682e-01,\n",
              "        6.7274e-02,  2.8115e-01, -4.6222e-02, -9.6803e-02,  5.6091e-01,\n",
              "       -6.7762e-01, -1.6645e-01,  1.5553e-01,  5.2301e-01, -3.0058e-01,\n",
              "       -3.7291e-01,  8.7895e-02, -1.7963e-01, -4.4193e-01, -4.4607e-01,\n",
              "       -2.4122e+00,  3.3738e-01,  6.2416e-01,  4.2787e-01, -2.5386e-01,\n",
              "       -6.1683e-01, -7.0097e-01,  4.9303e-01,  3.6916e-01, -9.7499e-02,\n",
              "        6.1411e-01, -4.7572e-03,  4.3916e-01, -2.1551e-01, -5.6745e-01,\n",
              "       -4.0278e-01,  2.9459e-01, -3.0850e-01,  1.0103e-01,  7.9741e-02,\n",
              "       -6.3811e-01,  2.4781e-01, -4.4546e-01,  1.0828e-01, -2.3624e-01,\n",
              "       -5.0838e-01, -1.7001e-01, -7.8735e-01,  3.4073e-01, -3.1830e-01,\n",
              "        4.5286e-01, -9.5118e-02,  2.0772e-01, -8.0183e-02, -3.7982e-01,\n",
              "       -4.9949e-01,  4.0759e-02, -3.7724e-01, -8.9705e-02, -6.8187e-01,\n",
              "        2.2106e-01, -3.9931e-01,  3.2329e-01, -3.6180e-01, -7.2093e-01,\n",
              "       -6.3404e-01,  4.3125e-01, -4.9743e-01, -1.7395e-01, -3.8779e-01,\n",
              "       -3.2556e-01,  1.4423e-01, -8.3401e-02, -2.2994e-01,  2.7793e-01,\n",
              "        4.9112e-01,  6.4511e-01, -7.8945e-02,  1.1171e-01,  3.7264e-01,\n",
              "        1.3070e-01, -6.1607e-02, -4.3501e-01,  2.8999e-02,  5.6224e-01,\n",
              "        5.8012e-02,  4.7078e-02,  4.2770e-01,  7.3245e-01, -2.1150e-02,\n",
              "        1.1988e-01,  7.8823e-02, -1.9106e-01,  3.5278e-02, -3.1102e-01,\n",
              "        1.3209e-01, -2.8606e-01, -1.5649e-01, -6.4339e-01,  4.4599e-01,\n",
              "       -3.0912e-01,  4.4520e-01, -3.6774e-01,  2.7327e-01,  6.7833e-01,\n",
              "       -8.3830e-02, -4.5120e-01,  1.0754e-01, -4.5908e-01,  1.5095e-01,\n",
              "       -4.5856e-01,  3.4465e-01,  7.8013e-02, -2.8319e-01, -2.8149e-02,\n",
              "        2.4404e-01, -7.1345e-01,  5.2834e-02, -2.8085e-01,  2.5344e-02,\n",
              "        4.2979e-02,  1.5663e-01, -7.4647e-01, -1.1301e+00,  4.4135e-01,\n",
              "        3.1444e-01, -1.0018e-01, -5.3526e-01, -9.0601e-01, -6.4954e-01,\n",
              "        4.2664e-02, -7.9927e-02,  3.2905e-01, -3.0797e-01, -1.9190e-02,\n",
              "        4.2765e-01,  3.1460e-01,  2.9051e-01, -2.7386e-01,  6.8483e-01,\n",
              "        1.9395e-02, -3.2884e-01, -4.8239e-01, -1.5747e-01, -1.6036e-01,\n",
              "        4.9164e-01, -7.0352e-01, -3.5591e-01, -7.4887e-01, -5.2827e-01,\n",
              "        4.4983e-02,  5.9247e-02,  4.6224e-01,  8.9697e-02, -7.5618e-01,\n",
              "        6.3682e-01,  9.0680e-02,  6.8830e-02,  1.8296e-01,  1.0754e-01,\n",
              "        6.7811e-01, -1.4716e-01,  1.7029e-01, -5.2630e-01,  1.9268e-01,\n",
              "        9.3130e-01,  8.0363e-01,  6.1324e-01, -3.0494e-01,  2.0236e-01,\n",
              "        5.8520e-01,  2.6484e-01, -4.5863e-01,  2.1035e-03, -5.6990e-01,\n",
              "       -4.9092e-01,  4.2511e-01, -1.0954e+00,  1.7124e-01,  2.2495e-01],\n",
              "      dtype=float32)"
            ]
          },
          "metadata": {
            "tags": []
          },
          "execution_count": 166
        }
      ]
    },
    {
      "cell_type": "code",
      "metadata": {
        "id": "s7a-N5EoMdN7",
        "colab_type": "code",
        "colab": {}
      },
      "source": [
        "def vec(s):\n",
        "    return nlp.vocab[s].vector"
      ],
      "execution_count": null,
      "outputs": []
    },
    {
      "cell_type": "markdown",
      "metadata": {
        "id": "4_Sg3yZhMsqq",
        "colab_type": "text"
      },
      "source": [
        "Cosine Similarity"
      ]
    },
    {
      "cell_type": "code",
      "metadata": {
        "id": "Kr9ZtYRyMq_u",
        "colab_type": "code",
        "colab": {}
      },
      "source": [
        "from numpy import dot\n",
        "from numpy.linalg import norm\n",
        "\n",
        "# cosine similarity\n",
        "def cosine(v1, v2):\n",
        "    if norm(v1) > 0 and norm(v2) > 0:\n",
        "        return dot(v1, v2) / (norm(v1) * norm(v2))\n",
        "    else:\n",
        "        return 0.0"
      ],
      "execution_count": null,
      "outputs": []
    },
    {
      "cell_type": "code",
      "metadata": {
        "id": "HmGYfeTjMrDE",
        "colab_type": "code",
        "colab": {
          "base_uri": "https://localhost:8080/",
          "height": 34
        },
        "outputId": "18bcf4df-e6d9-4e8f-91b8-0f1ffd443bb7"
      },
      "source": [
        "cosine(vec('dog'), vec('puppy'))\n"
      ],
      "execution_count": null,
      "outputs": [
        {
          "output_type": "execute_result",
          "data": {
            "text/plain": [
              "0.85852146"
            ]
          },
          "metadata": {
            "tags": []
          },
          "execution_count": 171
        }
      ]
    },
    {
      "cell_type": "code",
      "metadata": {
        "id": "l40ES4iPMrFT",
        "colab_type": "code",
        "colab": {
          "base_uri": "https://localhost:8080/",
          "height": 34
        },
        "outputId": "0d704037-cf11-4098-86f9-c05e4a6c38de"
      },
      "source": [
        "cosine(vec('shirt'), vec('jacket'))\n"
      ],
      "execution_count": null,
      "outputs": [
        {
          "output_type": "execute_result",
          "data": {
            "text/plain": [
              "0.7103532"
            ]
          },
          "metadata": {
            "tags": []
          },
          "execution_count": 172
        }
      ]
    },
    {
      "cell_type": "code",
      "metadata": {
        "id": "e5-N-U9-MrM2",
        "colab_type": "code",
        "colab": {
          "base_uri": "https://localhost:8080/",
          "height": 34
        },
        "outputId": "a40c2c13-b56c-42fa-a1da-e285facb152d"
      },
      "source": [
        "cosine(vec('shirt'), vec('shoes'))\n"
      ],
      "execution_count": null,
      "outputs": [
        {
          "output_type": "execute_result",
          "data": {
            "text/plain": [
              "0.50303966"
            ]
          },
          "metadata": {
            "tags": []
          },
          "execution_count": 173
        }
      ]
    },
    {
      "cell_type": "markdown",
      "metadata": {
        "id": "AaPvivtoNmhL",
        "colab_type": "text"
      },
      "source": [
        "Function that takes in a token list and returns "
      ]
    },
    {
      "cell_type": "code",
      "metadata": {
        "id": "MjaHjdVTNaX5",
        "colab_type": "code",
        "colab": {}
      },
      "source": [
        "def spacy_closest(token_list, vec_to_check, n=10):\n",
        "    return sorted(token_list,\n",
        "                  key=lambda x: cosine(vec_to_check, vec(x)),\n",
        "                  reverse=True)[:n]"
      ],
      "execution_count": null,
      "outputs": []
    },
    {
      "cell_type": "code",
      "metadata": {
        "id": "rpCCpYw9NkT7",
        "colab_type": "code",
        "colab": {
          "base_uri": "https://localhost:8080/",
          "height": 185
        },
        "outputId": "ec94430a-fa31-41d3-aa79-e24584fc247e"
      },
      "source": [
        "spacy_closest(tokens, vec(\"shirt\"))\n"
      ],
      "execution_count": null,
      "outputs": [
        {
          "output_type": "execute_result",
          "data": {
            "text/plain": [
              "['shirt',\n",
              " 'shirts',\n",
              " 'waistcoats',\n",
              " 'waistcoat',\n",
              " 'shirtsleeves',\n",
              " 'trousers',\n",
              " 'wearing',\n",
              " 'gown',\n",
              " 'dress',\n",
              " 'Dress']"
            ]
          },
          "metadata": {
            "tags": []
          },
          "execution_count": 177
        }
      ]
    },
    {
      "cell_type": "code",
      "metadata": {
        "id": "LX1gTgh9OzWz",
        "colab_type": "code",
        "colab": {
          "base_uri": "https://localhost:8080/",
          "height": 185
        },
        "outputId": "f56dd285-d899-4b40-965b-bf881bcc9f09"
      },
      "source": [
        "spacy_closest(tokens, vec(\"jacket\"))\n"
      ],
      "execution_count": null,
      "outputs": [
        {
          "output_type": "execute_result",
          "data": {
            "text/plain": [
              "['jackets',\n",
              " 'waistcoats',\n",
              " 'waistcoat',\n",
              " 'shirtsleeves',\n",
              " 'trousers',\n",
              " 'shirt',\n",
              " 'overcoat',\n",
              " 'coat',\n",
              " 'sleeve',\n",
              " 'sheath']"
            ]
          },
          "metadata": {
            "tags": []
          },
          "execution_count": 178
        }
      ]
    },
    {
      "cell_type": "code",
      "metadata": {
        "id": "wRNAvxZtO2Dz",
        "colab_type": "code",
        "colab": {
          "base_uri": "https://localhost:8080/",
          "height": 185
        },
        "outputId": "a77dc9a6-c6a4-440a-bbf8-3a15f888acd6"
      },
      "source": [
        "spacy_closest(tokens, vec(\"collar\"))\n"
      ],
      "execution_count": null,
      "outputs": [
        {
          "output_type": "execute_result",
          "data": {
            "text/plain": [
              "['yoke',\n",
              " 'collar',\n",
              " 'ribbed',\n",
              " 'sleeves',\n",
              " 'hemmed',\n",
              " 'sleeve',\n",
              " 'sheath',\n",
              " 'fastening',\n",
              " 'keyhole',\n",
              " 'clasp']"
            ]
          },
          "metadata": {
            "tags": []
          },
          "execution_count": 179
        }
      ]
    },
    {
      "cell_type": "code",
      "metadata": {
        "id": "xxkiP2qqO4qy",
        "colab_type": "code",
        "colab": {
          "base_uri": "https://localhost:8080/",
          "height": 185
        },
        "outputId": "51331f62-7ffe-4f90-aea4-214d2203ce40"
      },
      "source": [
        "spacy_closest(tokens, vec(\"purse\"))\n"
      ],
      "execution_count": null,
      "outputs": [
        {
          "output_type": "execute_result",
          "data": {
            "text/plain": [
              "['purse',\n",
              " 'bag',\n",
              " 'bags',\n",
              " 'pocket',\n",
              " 'pouches',\n",
              " 'shawl',\n",
              " 'luggage',\n",
              " 'leather',\n",
              " 'studded',\n",
              " 'pockets']"
            ]
          },
          "metadata": {
            "tags": []
          },
          "execution_count": 180
        }
      ]
    },
    {
      "cell_type": "code",
      "metadata": {
        "id": "rtAfm2vGO6vb",
        "colab_type": "code",
        "colab": {}
      },
      "source": [
        ""
      ],
      "execution_count": null,
      "outputs": []
    }
  ]
}