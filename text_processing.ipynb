{
 "cells": [
  {
   "cell_type": "markdown",
   "metadata": {},
   "source": [
    "# Text Processing\n",
    "\n",
    "## Capturing Text Data\n",
    "\n",
    "### Plain Text"
   ]
  },
  {
   "cell_type": "code",
   "execution_count": 1,
   "metadata": {},
   "outputs": [
    {
     "name": "stdout",
     "output_type": "stream",
     "text": [
      "Hieroglyphic writing dates from c. 3000 BC, and is composed of hundreds of symbols. A hieroglyph can represent a word, a sound, or a silent determinative; and the same symbol can serve different purposes in different contexts. Hieroglyphs were a formal script, used on stone monuments and in tombs, that could be as detailed as individual works of art.\n",
      "\n"
     ]
    }
   ],
   "source": [
    "import os\n",
    "\n",
    "# Read in a plain text file\n",
    "with open(os.path.join(\"data\", \"hieroglyph.txt\"), \"r\") as f:\n",
    "    text = f.read()\n",
    "    print(text)"
   ]
  },
  {
   "cell_type": "markdown",
   "metadata": {},
   "source": [
    "### Tabular Data"
   ]
  },
  {
   "cell_type": "code",
   "execution_count": 3,
   "metadata": {
    "scrolled": true
   },
   "outputs": [
    {
     "data": {
      "text/html": [
       "<div>\n",
       "<style scoped>\n",
       "    .dataframe tbody tr th:only-of-type {\n",
       "        vertical-align: middle;\n",
       "    }\n",
       "\n",
       "    .dataframe tbody tr th {\n",
       "        vertical-align: top;\n",
       "    }\n",
       "\n",
       "    .dataframe thead th {\n",
       "        text-align: right;\n",
       "    }\n",
       "</style>\n",
       "<table border=\"1\" class=\"dataframe\">\n",
       "  <thead>\n",
       "    <tr style=\"text-align: right;\">\n",
       "      <th></th>\n",
       "      <th>publisher</th>\n",
       "      <th>title</th>\n",
       "    </tr>\n",
       "  </thead>\n",
       "  <tbody>\n",
       "    <tr>\n",
       "      <th>0</th>\n",
       "      <td>Livemint</td>\n",
       "      <td>fed's charles plosser sees high bar for change...</td>\n",
       "    </tr>\n",
       "    <tr>\n",
       "      <th>1</th>\n",
       "      <td>IFA Magazine</td>\n",
       "      <td>us open: stocks fall after fed official hints ...</td>\n",
       "    </tr>\n",
       "    <tr>\n",
       "      <th>2</th>\n",
       "      <td>IFA Magazine</td>\n",
       "      <td>fed risks falling 'behind the curve', charles ...</td>\n",
       "    </tr>\n",
       "    <tr>\n",
       "      <th>3</th>\n",
       "      <td>Moneynews</td>\n",
       "      <td>fed's plosser: nasty weather has curbed job gr...</td>\n",
       "    </tr>\n",
       "    <tr>\n",
       "      <th>4</th>\n",
       "      <td>NASDAQ</td>\n",
       "      <td>plosser: fed may have to accelerate tapering pace</td>\n",
       "    </tr>\n",
       "    <tr>\n",
       "      <th>5</th>\n",
       "      <td>MarketWatch</td>\n",
       "      <td>fed's plosser: taper pace may be too slow</td>\n",
       "    </tr>\n",
       "    <tr>\n",
       "      <th>6</th>\n",
       "      <td>FXstreet.com</td>\n",
       "      <td>fed's plosser expects us unemployment to fall ...</td>\n",
       "    </tr>\n",
       "    <tr>\n",
       "      <th>7</th>\n",
       "      <td>Economic Times</td>\n",
       "      <td>us jobs growth last month hit by weather:fed p...</td>\n",
       "    </tr>\n",
       "    <tr>\n",
       "      <th>8</th>\n",
       "      <td>Interactive Investor</td>\n",
       "      <td>ecb unlikely to end sterilisation of smp purch...</td>\n",
       "    </tr>\n",
       "    <tr>\n",
       "      <th>9</th>\n",
       "      <td>Reuters India</td>\n",
       "      <td>ecb unlikely to end sterilization of smp purch...</td>\n",
       "    </tr>\n",
       "  </tbody>\n",
       "</table>\n",
       "</div>"
      ],
      "text/plain": [
       "              publisher                                              title\n",
       "0              Livemint  fed's charles plosser sees high bar for change...\n",
       "1          IFA Magazine  us open: stocks fall after fed official hints ...\n",
       "2          IFA Magazine  fed risks falling 'behind the curve', charles ...\n",
       "3             Moneynews  fed's plosser: nasty weather has curbed job gr...\n",
       "4                NASDAQ  plosser: fed may have to accelerate tapering pace\n",
       "5           MarketWatch          fed's plosser: taper pace may be too slow\n",
       "6          FXstreet.com  fed's plosser expects us unemployment to fall ...\n",
       "7        Economic Times  us jobs growth last month hit by weather:fed p...\n",
       "8  Interactive Investor  ecb unlikely to end sterilisation of smp purch...\n",
       "9         Reuters India  ecb unlikely to end sterilization of smp purch..."
      ]
     },
     "execution_count": 3,
     "metadata": {},
     "output_type": "execute_result"
    }
   ],
   "source": [
    "import pandas as pd\n",
    "\n",
    "# Extract text column from a dataframe\n",
    "df = pd.read_csv(os.path.join(\"data\", \"news.csv\"))\n",
    "df.head()[['publisher', 'title']]\n",
    "\n",
    "# Convert text column to lowercase\n",
    "df['title'] = df['title'].str.lower()\n",
    "df.head(10)[['publisher', 'title']]"
   ]
  },
  {
   "cell_type": "code",
   "execution_count": 4,
   "metadata": {},
   "outputs": [
    {
     "data": {
      "text/html": [
       "<div>\n",
       "<style scoped>\n",
       "    .dataframe tbody tr th:only-of-type {\n",
       "        vertical-align: middle;\n",
       "    }\n",
       "\n",
       "    .dataframe tbody tr th {\n",
       "        vertical-align: top;\n",
       "    }\n",
       "\n",
       "    .dataframe thead th {\n",
       "        text-align: right;\n",
       "    }\n",
       "</style>\n",
       "<table border=\"1\" class=\"dataframe\">\n",
       "  <thead>\n",
       "    <tr style=\"text-align: right;\">\n",
       "      <th></th>\n",
       "      <th>id</th>\n",
       "      <th>timestamp</th>\n",
       "    </tr>\n",
       "  </thead>\n",
       "  <tbody>\n",
       "    <tr>\n",
       "      <th>count</th>\n",
       "      <td>100.000000</td>\n",
       "      <td>1.000000e+02</td>\n",
       "    </tr>\n",
       "    <tr>\n",
       "      <th>mean</th>\n",
       "      <td>51.500000</td>\n",
       "      <td>1.394471e+12</td>\n",
       "    </tr>\n",
       "    <tr>\n",
       "      <th>std</th>\n",
       "      <td>29.011492</td>\n",
       "      <td>3.670474e+05</td>\n",
       "    </tr>\n",
       "    <tr>\n",
       "      <th>min</th>\n",
       "      <td>2.000000</td>\n",
       "      <td>1.394470e+12</td>\n",
       "    </tr>\n",
       "    <tr>\n",
       "      <th>25%</th>\n",
       "      <td>26.750000</td>\n",
       "      <td>1.394471e+12</td>\n",
       "    </tr>\n",
       "    <tr>\n",
       "      <th>50%</th>\n",
       "      <td>51.500000</td>\n",
       "      <td>1.394471e+12</td>\n",
       "    </tr>\n",
       "    <tr>\n",
       "      <th>75%</th>\n",
       "      <td>76.250000</td>\n",
       "      <td>1.394471e+12</td>\n",
       "    </tr>\n",
       "    <tr>\n",
       "      <th>max</th>\n",
       "      <td>101.000000</td>\n",
       "      <td>1.394471e+12</td>\n",
       "    </tr>\n",
       "  </tbody>\n",
       "</table>\n",
       "</div>"
      ],
      "text/plain": [
       "               id     timestamp\n",
       "count  100.000000  1.000000e+02\n",
       "mean    51.500000  1.394471e+12\n",
       "std     29.011492  3.670474e+05\n",
       "min      2.000000  1.394470e+12\n",
       "25%     26.750000  1.394471e+12\n",
       "50%     51.500000  1.394471e+12\n",
       "75%     76.250000  1.394471e+12\n",
       "max    101.000000  1.394471e+12"
      ]
     },
     "execution_count": 4,
     "metadata": {},
     "output_type": "execute_result"
    }
   ],
   "source": [
    "df.describe()"
   ]
  },
  {
   "cell_type": "code",
   "execution_count": 5,
   "metadata": {},
   "outputs": [
    {
     "data": {
      "text/plain": [
       "Index(['id', 'title', 'url', 'publisher', 'category', 'story', 'hostname',\n",
       "       'timestamp'],\n",
       "      dtype='object')"
      ]
     },
     "execution_count": 5,
     "metadata": {},
     "output_type": "execute_result"
    }
   ],
   "source": [
    "df.columns"
   ]
  },
  {
   "cell_type": "code",
   "execution_count": 6,
   "metadata": {},
   "outputs": [
    {
     "name": "stdout",
     "output_type": "stream",
     "text": [
      "<class 'pandas.core.frame.DataFrame'>\n",
      "RangeIndex: 100 entries, 0 to 99\n",
      "Data columns (total 8 columns):\n",
      "id           100 non-null int64\n",
      "title        100 non-null object\n",
      "url          100 non-null object\n",
      "publisher    100 non-null object\n",
      "category     100 non-null object\n",
      "story        100 non-null object\n",
      "hostname     100 non-null object\n",
      "timestamp    100 non-null int64\n",
      "dtypes: int64(2), object(6)\n",
      "memory usage: 6.3+ KB\n"
     ]
    }
   ],
   "source": [
    "df.info()"
   ]
  },
  {
   "cell_type": "markdown",
   "metadata": {},
   "source": [
    "### Online Resource"
   ]
  },
  {
   "cell_type": "code",
   "execution_count": 7,
   "metadata": {
    "scrolled": true
   },
   "outputs": [
    {
     "name": "stdout",
     "output_type": "stream",
     "text": [
      "{\n",
      "    \"success\": {\n",
      "        \"total\": 1\n",
      "    },\n",
      "    \"contents\": {\n",
      "        \"quotes\": [\n",
      "            {\n",
      "                \"quote\": \"If you want to test your memory, try to recall what you were worrying about one year ago today.\",\n",
      "                \"length\": \"95\",\n",
      "                \"author\": \"E. Joseph Cossman\",\n",
      "                \"tags\": [\n",
      "                    \"inspire\",\n",
      "                    \"memory\",\n",
      "                    \"tests\"\n",
      "                ],\n",
      "                \"category\": \"inspire\",\n",
      "                \"language\": \"en\",\n",
      "                \"date\": \"2020-05-21\",\n",
      "                \"permalink\": \"https://theysaidso.com/quote/e-joseph-cossman-if-you-want-to-test-your-memory-try-to-recall-what-you-were-wor\",\n",
      "                \"id\": \"hkwVbTc2edsUSvNVnjTrEweF\",\n",
      "                \"background\": \"https://theysaidso.com/img/qod/qod-inspire.jpg\",\n",
      "                \"title\": \"Inspiring Quote of the day\"\n",
      "            }\n",
      "        ]\n",
      "    },\n",
      "    \"baseurl\": \"https://theysaidso.com\",\n",
      "    \"copyright\": {\n",
      "        \"year\": 2022,\n",
      "        \"url\": \"https://theysaidso.com\"\n",
      "    }\n",
      "}\n",
      "If you want to test your memory, try to recall what you were worrying about one year ago today. \n",
      "-- E. Joseph Cossman\n"
     ]
    }
   ],
   "source": [
    "import requests\n",
    "import json\n",
    "\n",
    "# Fetch data from a REST API\n",
    "r = requests.get(\n",
    "    \"https://quotes.rest/qod.json\")\n",
    "res = r.json()\n",
    "print(json.dumps(res, indent=4))\n",
    "\n",
    "# Extract relevant object and field\n",
    "q = res[\"contents\"][\"quotes\"][0]\n",
    "print(q[\"quote\"], \"\\n--\", q[\"author\"])"
   ]
  },
  {
   "cell_type": "markdown",
   "metadata": {},
   "source": [
    "## Cleaning"
   ]
  },
  {
   "cell_type": "code",
   "execution_count": 8,
   "metadata": {
    "scrolled": true
   },
   "outputs": [
    {
     "name": "stdout",
     "output_type": "stream",
     "text": [
      "<html lang=\"en\" op=\"news\"><head><meta name=\"referrer\" content=\"origin\"><meta name=\"viewport\" content=\"width=device-width, initial-scale=1.0\"><link rel=\"stylesheet\" type=\"text/css\" href=\"news.css?UfBXOkGWYp7umUVc7AHl\">\n",
      "        <link rel=\"shortcut icon\" href=\"favicon.ico\">\n",
      "          <link rel=\"alternate\" type=\"application/rss+xml\" title=\"RSS\" href=\"rss\">\n",
      "        <title>Hacker News</title></head><body><center><table id=\"hnmain\" border=\"0\" cellpadding=\"0\" cellspacing=\"0\" width=\"85%\" bgcolor=\"#f6f6ef\">\n",
      "        <tr><td bgcolor=\"#ff6600\"><table border=\"0\" cellpadding=\"0\" cellspacing=\"0\" width=\"100%\" style=\"padding:2px\"><tr><td style=\"width:18px;padding-right:4px\"><a href=\"https://news.ycombinator.com\"><img src=\"y18.gif\" width=\"18\" height=\"18\" style=\"border:1px white solid;\"></a></td>\n",
      "                  <td style=\"line-height:12pt; height:10px;\"><span class=\"pagetop\"><b class=\"hnname\"><a href=\"news\">Hacker News</a></b>\n",
      "              <a href=\"newest\">new</a> | <a href=\"front\">past</a> | <a href=\"newcomments\">comments</a> | <a href=\"ask\">ask</a> | <a href=\"show\">show</a> | <a href=\"jobs\">jobs</a> | <a href=\"submit\">submit</a>            </span></td><td style=\"text-align:right;padding-right:4px;\"><span class=\"pagetop\">\n",
      "                              <a href=\"login?goto=news\">login</a>\n",
      "                          </span></td>\n",
      "              </tr></table></td></tr>\n",
      "<tr id=\"pagespace\" title=\"\" style=\"height:10px\"></tr><tr><td><table border=\"0\" cellpadding=\"0\" cellspacing=\"0\" class=\"itemlist\">\n",
      "              <tr class='athing' id='23258301'>\n",
      "      <td align=\"right\" valign=\"top\" class=\"title\"><span class=\"rank\">1.</span></td>      <td valign=\"top\" class=\"votelinks\"><center><a id='up_23258301' href='vote?id=23258301&amp;how=up&amp;goto=news'><div class='votearrow' title='upvote'></div></a></center></td><td class=\"title\"><a href=\"https://www.erlang-solutions.com/blog/an-introduction-to-rabbitmq-what-is-rabbitmq.html\" class=\"storylink\">An introduction to RabbitMQ</a><span class=\"sitebit comhead\"> (<a href=\"from?site=erlang-solutions.com\"><span class=\"sitestr\">erlang-solutions.com</span></a>)</span></td></tr><tr><td colspan=\"2\"></td><td class=\"subtext\">\n",
      "        <span class=\"score\" id=\"score_23258301\">300 points</span> by <a href=\"user?id=olikas\" class=\"hnuser\">olikas</a> <span class=\"age\"><a href=\"item?id=23258301\">6 hours ago</a></span> <span id=\"unv_23258301\"></span> | <a href=\"hide?id=23258301&amp;goto=news\">hide</a> | <a href=\"item?id=23258301\">135&nbsp;comments</a>              </td></tr>\n",
      "      <tr class=\"spacer\" style=\"height:5px\"></tr>\n",
      "                <tr class='athing' id='23250831'>\n",
      "      <td align=\"right\" valign=\"top\" class=\"title\"><span class=\"rank\">2.</span></td>      <td valign=\"top\" class=\"votelinks\"><center><a id='up_23250831' href='vote?id=23250831&amp;how=up&amp;goto=news'><div class='votearrow' title='upvote'></div></a></center></td><td class=\"title\"><a href=\"https://www.theverge.com/2020/5/20/21262302/ap-test-fail-iphone-photos-glitch-email-college-board-jpeg-heic\" class=\"storylink\">Students are failing AP tests because the College Board can’t handle HEIC images</a><span class=\"sitebit comhead\"> (<a href=\"from?site=theverge.com\"><span class=\"sitestr\">theverge.com</span></a>)</span></td></tr><tr><td colspan=\"2\"></td><td class=\"subtext\">\n",
      "        <span class=\"score\" id=\"score_23250831\">353 points</span> by <a href=\"user?id=danso\" class=\"hnuser\">danso</a> <span class=\"age\"><a href=\"item?id=23250831\">4 hours ago</a></span> <span id=\"unv_23250831\"></span> | <a href=\"hide?id=23250831&amp;goto=news\">hide</a> | <a href=\"item?id=23250831\">300&nbsp;comments</a>              </td></tr>\n",
      "      <tr class=\"spacer\" style=\"height:5px\"></tr>\n",
      "                <tr class='athing' id='23262785'>\n",
      "      <td align=\"right\" valign=\"top\" class=\"title\"><span class=\"rank\">3.</span></td>      <td valign=\"top\" class=\"votelinks\"><center><a id='up_23262785' href='vote?id=23262785&amp;how=up&amp;goto=news'><div class='votearrow' title='upvote'></div></a></center></td><td class=\"title\"><a href=\"https://www.bbc.com/news/technology-52758787\" class=\"storylink\">Grandmother ordered to delete Facebook photos under GDPR</a><span class=\"sitebit comhead\"> (<a href=\"from?site=bbc.com\"><span class=\"sitestr\">bbc.com</span></a>)</span></td></tr><tr><td colspan=\"2\"></td><td class=\"subtext\">\n",
      "        <span class=\"score\" id=\"score_23262785\">30 points</span> by <a href=\"user?id=pseudolus\" class=\"hnuser\">pseudolus</a> <span class=\"age\"><a href=\"item?id=23262785\">1 hour ago</a></span> <span id=\"unv_23262785\"></span> | <a href=\"hide?id=23262785&amp;goto=news\">hide</a> | <a href=\"item?id=23262785\">17&nbsp;comments</a>              </td></tr>\n",
      "      <tr class=\"spacer\" style=\"height:5px\"></tr>\n",
      "                <tr class='athing' id='23256458'>\n",
      "      <td align=\"right\" valign=\"top\" class=\"title\"><span class=\"rank\">4.</span></td>      <td valign=\"top\" class=\"votelinks\"><center><a id='up_23256458' href='vote?id=23256458&amp;how=up&amp;goto=news'><div class='votearrow' title='upvote'></div></a></center></td><td class=\"title\"><a href=\"https://medium.com/@stestagg/stealing-secrets-from-developers-using-websockets-254f98d577a0\" class=\"storylink\">Stealing secrets from developers using WebSockets</a><span class=\"sitebit comhead\"> (<a href=\"from?site=medium.com\"><span class=\"sitestr\">medium.com</span></a>)</span></td></tr><tr><td colspan=\"2\"></td><td class=\"subtext\">\n",
      "        <span class=\"score\" id=\"score_23256458\">257 points</span> by <a href=\"user?id=stestagg\" class=\"hnuser\">stestagg</a> <span class=\"age\"><a href=\"item?id=23256458\">6 hours ago</a></span> <span id=\"unv_23256458\"></span> | <a href=\"hide?id=23256458&amp;goto=news\">hide</a> | <a href=\"item?id=23256458\">65&nbsp;comments</a>              </td></tr>\n",
      "      <tr class=\"spacer\" style=\"height:5px\"></tr>\n",
      "                <tr class='athing' id='23258546'>\n",
      "      <td align=\"right\" valign=\"top\" class=\"title\"><span class=\"rank\">5.</span></td>      <td valign=\"top\" class=\"votelinks\"><center><a id='up_23258546' href='vote?id=23258546&amp;how=up&amp;goto=news'><div class='votearrow' title='upvote'></div></a></center></td><td class=\"title\"><a href=\"https://www.ticalc.org/archives/news/articles/14/149/149342.html\" class=\"storylink\">TI removes access to assembly programs on the TI-83 Premium CE</a><span class=\"sitebit comhead\"> (<a href=\"from?site=ticalc.org\"><span class=\"sitestr\">ticalc.org</span></a>)</span></td></tr><tr><td colspan=\"2\"></td><td class=\"subtext\">\n",
      "        <span class=\"score\" id=\"score_23258546\">137 points</span> by <a href=\"user?id=dTal\" class=\"hnuser\">dTal</a> <span class=\"age\"><a href=\"item?id=23258546\">5 hours ago</a></span> <span id=\"unv_23258546\"></span> | <a href=\"hide?id=23258546&amp;goto=news\">hide</a> | <a href=\"item?id=23258546\">77&nbsp;comments</a>              </td></tr>\n",
      "      <tr class=\"spacer\" style=\"height:5px\"></tr>\n",
      "                <tr class='athing' id='23249572'>\n",
      "      <td align=\"right\" valign=\"top\" class=\"title\"><span class=\"rank\">6.</span></td>      <td valign=\"top\" class=\"votelinks\"><center><a id='up_23249572' href='vote?id=23249572&amp;how=up&amp;goto=news'><div class='votearrow' title='upvote'></div></a></center></td><td class=\"title\"><a href=\"https://www.manchester.ac.uk/discover/news/dead-sea-scroll-fragments-thought-to-be-blank-reveal-text/\" class=\"storylink\">Dead Sea Scroll fragments thought to be blank reveal text</a><span class=\"sitebit comhead\"> (<a href=\"from?site=manchester.ac.uk\"><span class=\"sitestr\">manchester.ac.uk</span></a>)</span></td></tr><tr><td colspan=\"2\"></td><td class=\"subtext\">\n",
      "        <span class=\"score\" id=\"score_23249572\">47 points</span> by <a href=\"user?id=Hooke\" class=\"hnuser\">Hooke</a> <span class=\"age\"><a href=\"item?id=23249572\">3 hours ago</a></span> <span id=\"unv_23249572\"></span> | <a href=\"hide?id=23249572&amp;goto=news\">hide</a> | <a href=\"item?id=23249572\">13&nbsp;comments</a>              </td></tr>\n",
      "      <tr class=\"spacer\" style=\"height:5px\"></tr>\n",
      "                <tr class='athing' id='23263808'>\n",
      "      <td align=\"right\" valign=\"top\" class=\"title\"><span class=\"rank\">7.</span></td>      <td valign=\"top\" class=\"votelinks\"><center><a id='up_23263808' href='vote?id=23263808&amp;how=up&amp;goto=news'><div class='votearrow' title='upvote'></div></a></center></td><td class=\"title\"><a href=\"https://www.axios.com/the-atlantic-layoffs-coronavirus-49cc6ad2-6579-45cd-b816-e20865f7351e.html\" class=\"storylink\" rel=\"nofollow\">The Atlantic lays off almost 20% of staff</a><span class=\"sitebit comhead\"> (<a href=\"from?site=axios.com\"><span class=\"sitestr\">axios.com</span></a>)</span></td></tr><tr><td colspan=\"2\"></td><td class=\"subtext\">\n",
      "        <span class=\"score\" id=\"score_23263808\">8 points</span> by <a href=\"user?id=augustocallejas\" class=\"hnuser\">augustocallejas</a> <span class=\"age\"><a href=\"item?id=23263808\">29 minutes ago</a></span> <span id=\"unv_23263808\"></span> | <a href=\"hide?id=23263808&amp;goto=news\">hide</a> | <a href=\"item?id=23263808\">2&nbsp;comments</a>              </td></tr>\n",
      "      <tr class=\"spacer\" style=\"height:5px\"></tr>\n",
      "                <tr class='athing' id='23257870'>\n",
      "      <td align=\"right\" valign=\"top\" class=\"title\"><span class=\"rank\">8.</span></td>      <td valign=\"top\" class=\"votelinks\"><center><a id='up_23257870' href='vote?id=23257870&amp;how=up&amp;goto=news'><div class='votearrow' title='upvote'></div></a></center></td><td class=\"title\"><a href=\"https://unherd.com/thepost/professor-karol-sikora-fear-is-more-dangerous-than-the-virus/\" class=\"storylink\">YouTube removes interview with professor of medicine on Covid stats and policy</a><span class=\"sitebit comhead\"> (<a href=\"from?site=unherd.com\"><span class=\"sitestr\">unherd.com</span></a>)</span></td></tr><tr><td colspan=\"2\"></td><td class=\"subtext\">\n",
      "        <span class=\"score\" id=\"score_23257870\">117 points</span> by <a href=\"user?id=ppod\" class=\"hnuser\">ppod</a> <span class=\"age\"><a href=\"item?id=23257870\">6 hours ago</a></span> <span id=\"unv_23257870\"></span> | <a href=\"hide?id=23257870&amp;goto=news\">hide</a> | <a href=\"item?id=23257870\">208&nbsp;comments</a>              </td></tr>\n",
      "      <tr class=\"spacer\" style=\"height:5px\"></tr>\n",
      "                <tr class='athing' id='23257543'>\n",
      "      <td align=\"right\" valign=\"top\" class=\"title\"><span class=\"rank\">9.</span></td>      <td valign=\"top\" class=\"votelinks\"><center><a id='up_23257543' href='vote?id=23257543&amp;how=up&amp;goto=news'><div class='votearrow' title='upvote'></div></a></center></td><td class=\"title\"><a href=\"https://ils.unc.edu/callee/gopherpaper.htm\" class=\"storylink\">Where Have all the Gophers Gone? Why the Web beat Gopher (1999)</a><span class=\"sitebit comhead\"> (<a href=\"from?site=unc.edu\"><span class=\"sitestr\">unc.edu</span></a>)</span></td></tr><tr><td colspan=\"2\"></td><td class=\"subtext\">\n",
      "        <span class=\"score\" id=\"score_23257543\">7 points</span> by <a href=\"user?id=alokrai\" class=\"hnuser\">alokrai</a> <span class=\"age\"><a href=\"item?id=23257543\">1 hour ago</a></span> <span id=\"unv_23257543\"></span> | <a href=\"hide?id=23257543&amp;goto=news\">hide</a> | <a href=\"item?id=23257543\">discuss</a>              </td></tr>\n",
      "      <tr class=\"spacer\" style=\"height:5px\"></tr>\n",
      "                <tr class='athing' id='23261394'>\n",
      "      <td align=\"right\" valign=\"top\" class=\"title\"><span class=\"rank\">10.</span></td>      <td valign=\"top\" class=\"votelinks\"><center><a id='up_23261394' href='vote?id=23261394&amp;how=up&amp;goto=news'><div class='votearrow' title='upvote'></div></a></center></td><td class=\"title\"><a href=\"https://www.wsj.com/articles/facebook-to-shift-permanently-toward-more-remote-work-after-coronavirus-11590081300\" class=\"storylink\">Facebook to shift permanently toward more remote work after coronavirus</a><span class=\"sitebit comhead\"> (<a href=\"from?site=wsj.com\"><span class=\"sitestr\">wsj.com</span></a>)</span></td></tr><tr><td colspan=\"2\"></td><td class=\"subtext\">\n",
      "        <span class=\"score\" id=\"score_23261394\">300 points</span> by <a href=\"user?id=Bahamut\" class=\"hnuser\">Bahamut</a> <span class=\"age\"><a href=\"item?id=23261394\">2 hours ago</a></span> <span id=\"unv_23261394\"></span> | <a href=\"hide?id=23261394&amp;goto=news\">hide</a> | <a href=\"item?id=23261394\">308&nbsp;comments</a>              </td></tr>\n",
      "      <tr class=\"spacer\" style=\"height:5px\"></tr>\n",
      "                <tr class='athing' id='23259612'>\n",
      "      <td align=\"right\" valign=\"top\" class=\"title\"><span class=\"rank\">11.</span></td>      <td valign=\"top\" class=\"votelinks\"><center><a id='up_23259612' href='vote?id=23259612&amp;how=up&amp;goto=news'><div class='votearrow' title='upvote'></div></a></center></td><td class=\"title\"><a href=\"https://www.instructables.com/id/Arduino-Pinball-Machine-That-Plays-Itself/\" class=\"storylink\">Arduino Pinball Machine That Plays Itself</a><span class=\"sitebit comhead\"> (<a href=\"from?site=instructables.com\"><span class=\"sitestr\">instructables.com</span></a>)</span></td></tr><tr><td colspan=\"2\"></td><td class=\"subtext\">\n",
      "        <span class=\"score\" id=\"score_23259612\">53 points</span> by <a href=\"user?id=bwidlar\" class=\"hnuser\">bwidlar</a> <span class=\"age\"><a href=\"item?id=23259612\">4 hours ago</a></span> <span id=\"unv_23259612\"></span> | <a href=\"hide?id=23259612&amp;goto=news\">hide</a> | <a href=\"item?id=23259612\">11&nbsp;comments</a>              </td></tr>\n",
      "      <tr class=\"spacer\" style=\"height:5px\"></tr>\n",
      "                <tr class='athing' id='23257303'>\n",
      "      <td align=\"right\" valign=\"top\" class=\"title\"><span class=\"rank\">12.</span></td>      <td valign=\"top\" class=\"votelinks\"><center><a id='up_23257303' href='vote?id=23257303&amp;how=up&amp;goto=news'><div class='votearrow' title='upvote'></div></a></center></td><td class=\"title\"><a href=\"http://www.gutenberg.org/files/33283/33283-pdf.pdf\" class=\"storylink\">Calculus Made Easy (1914) [pdf]</a><span class=\"sitebit comhead\"> (<a href=\"from?site=gutenberg.org\"><span class=\"sitestr\">gutenberg.org</span></a>)</span></td></tr><tr><td colspan=\"2\"></td><td class=\"subtext\">\n",
      "        <span class=\"score\" id=\"score_23257303\">29 points</span> by <a href=\"user?id=luu\" class=\"hnuser\">luu</a> <span class=\"age\"><a href=\"item?id=23257303\">2 hours ago</a></span> <span id=\"unv_23257303\"></span> | <a href=\"hide?id=23257303&amp;goto=news\">hide</a> | <a href=\"item?id=23257303\">6&nbsp;comments</a>              </td></tr>\n",
      "      <tr class=\"spacer\" style=\"height:5px\"></tr>\n",
      "                <tr class='athing' id='23260877'>\n",
      "      <td align=\"right\" valign=\"top\" class=\"title\"><span class=\"rank\">13.</span></td>      <td valign=\"top\" class=\"votelinks\"><center><a id='up_23260877' href='vote?id=23260877&amp;how=up&amp;goto=news'><div class='votearrow' title='upvote'></div></a></center></td><td class=\"title\"><a href=\"https://7news.com.au/news/wildlife/dolphins-bring-gifts-from-sea-in-apparent-response-to-lack-of-human-interaction-c-1049565\" class=\"storylink\">Dolphins at popular spot miss tourists and keep leaving 'gifts' on shore</a><span class=\"sitebit comhead\"> (<a href=\"from?site=7news.com.au\"><span class=\"sitestr\">7news.com.au</span></a>)</span></td></tr><tr><td colspan=\"2\"></td><td class=\"subtext\">\n",
      "        <span class=\"score\" id=\"score_23260877\">138 points</span> by <a href=\"user?id=SirLJ\" class=\"hnuser\">SirLJ</a> <span class=\"age\"><a href=\"item?id=23260877\">3 hours ago</a></span> <span id=\"unv_23260877\"></span> | <a href=\"hide?id=23260877&amp;goto=news\">hide</a> | <a href=\"item?id=23260877\">50&nbsp;comments</a>              </td></tr>\n",
      "      <tr class=\"spacer\" style=\"height:5px\"></tr>\n",
      "                <tr class='athing' id='23259695'>\n",
      "      <td align=\"right\" valign=\"top\" class=\"title\"><span class=\"rank\">14.</span></td>      <td valign=\"top\" class=\"votelinks\"><center><a id='up_23259695' href='vote?id=23259695&amp;how=up&amp;goto=news'><div class='votearrow' title='upvote'></div></a></center></td><td class=\"title\"><a href=\"https://github.com/f-prime/Blunt\" class=\"storylink\">Show HN: Blunt – A CSS Layout Framework for Minimalists</a><span class=\"sitebit comhead\"> (<a href=\"from?site=github.com\"><span class=\"sitestr\">github.com</span></a>)</span></td></tr><tr><td colspan=\"2\"></td><td class=\"subtext\">\n",
      "        <span class=\"score\" id=\"score_23259695\">60 points</span> by <a href=\"user?id=max0563\" class=\"hnuser\">max0563</a> <span class=\"age\"><a href=\"item?id=23259695\">4 hours ago</a></span> <span id=\"unv_23259695\"></span> | <a href=\"hide?id=23259695&amp;goto=news\">hide</a> | <a href=\"item?id=23259695\">27&nbsp;comments</a>              </td></tr>\n",
      "      <tr class=\"spacer\" style=\"height:5px\"></tr>\n",
      "                <tr class='athing' id='23255732'>\n",
      "      <td align=\"right\" valign=\"top\" class=\"title\"><span class=\"rank\">15.</span></td>      <td valign=\"top\" class=\"votelinks\"><center><a id='up_23255732' href='vote?id=23255732&amp;how=up&amp;goto=news'><div class='votearrow' title='upvote'></div></a></center></td><td class=\"title\"><a href=\"https://github.com/kotartemiy/newscatcher/blob/master/README.md\" class=\"storylink\">Show HN: Python package to collect normalized news from almost any website</a><span class=\"sitebit comhead\"> (<a href=\"from?site=github.com\"><span class=\"sitestr\">github.com</span></a>)</span></td></tr><tr><td colspan=\"2\"></td><td class=\"subtext\">\n",
      "        <span class=\"score\" id=\"score_23255732\">354 points</span> by <a href=\"user?id=kizy25\" class=\"hnuser\">kizy25</a> <span class=\"age\"><a href=\"item?id=23255732\">12 hours ago</a></span> <span id=\"unv_23255732\"></span> | <a href=\"hide?id=23255732&amp;goto=news\">hide</a> | <a href=\"item?id=23255732\">175&nbsp;comments</a>              </td></tr>\n",
      "      <tr class=\"spacer\" style=\"height:5px\"></tr>\n",
      "                <tr class='athing' id='23262873'>\n",
      "      <td align=\"right\" valign=\"top\" class=\"title\"><span class=\"rank\">16.</span></td>      <td valign=\"top\" class=\"votelinks\"><center><a id='up_23262873' href='vote?id=23262873&amp;how=up&amp;goto=news'><div class='votearrow' title='upvote'></div></a></center></td><td class=\"title\"><a href=\"https://github.com/nccgroup/ScoutSuite\" class=\"storylink\">ScoutSuite: Multi-cloud security auditing tool</a><span class=\"sitebit comhead\"> (<a href=\"from?site=github.com\"><span class=\"sitestr\">github.com</span></a>)</span></td></tr><tr><td colspan=\"2\"></td><td class=\"subtext\">\n",
      "        <span class=\"score\" id=\"score_23262873\">10 points</span> by <a href=\"user?id=vngzs\" class=\"hnuser\">vngzs</a> <span class=\"age\"><a href=\"item?id=23262873\">1 hour ago</a></span> <span id=\"unv_23262873\"></span> | <a href=\"hide?id=23262873&amp;goto=news\">hide</a> | <a href=\"item?id=23262873\">discuss</a>              </td></tr>\n",
      "      <tr class=\"spacer\" style=\"height:5px\"></tr>\n",
      "                <tr class='athing' id='23257195'>\n",
      "      <td align=\"right\" valign=\"top\" class=\"title\"><span class=\"rank\">17.</span></td>      <td valign=\"top\" class=\"votelinks\"><center><a id='up_23257195' href='vote?id=23257195&amp;how=up&amp;goto=news'><div class='votearrow' title='upvote'></div></a></center></td><td class=\"title\"><a href=\"https://github.com/DaniruKun/spacex-iss-docking-sim-autopilot\" class=\"storylink\">Show HN: SpaceX Dragon simulator docking autopilot in Clojure</a><span class=\"sitebit comhead\"> (<a href=\"from?site=github.com\"><span class=\"sitestr\">github.com</span></a>)</span></td></tr><tr><td colspan=\"2\"></td><td class=\"subtext\">\n",
      "        <span class=\"score\" id=\"score_23257195\">138 points</span> by <a href=\"user?id=danpetrov\" class=\"hnuser\">danpetrov</a> <span class=\"age\"><a href=\"item?id=23257195\">8 hours ago</a></span> <span id=\"unv_23257195\"></span> | <a href=\"hide?id=23257195&amp;goto=news\">hide</a> | <a href=\"item?id=23257195\">26&nbsp;comments</a>              </td></tr>\n",
      "      <tr class=\"spacer\" style=\"height:5px\"></tr>\n",
      "                <tr class='athing' id='23257912'>\n",
      "      <td align=\"right\" valign=\"top\" class=\"title\"><span class=\"rank\">18.</span></td>      <td valign=\"top\" class=\"votelinks\"><center><a id='up_23257912' href='vote?id=23257912&amp;how=up&amp;goto=news'><div class='votearrow' title='upvote'></div></a></center></td><td class=\"title\"><a href=\"https://www.yahoo.com/entertainment/twitter-jack-dorsey-giving-andrew-090025479.html\" class=\"storylink\">Jack Dorsey is giving Andrew Yang $5M to build the case for a basic income</a><span class=\"sitebit comhead\"> (<a href=\"from?site=yahoo.com\"><span class=\"sitestr\">yahoo.com</span></a>)</span></td></tr><tr><td colspan=\"2\"></td><td class=\"subtext\">\n",
      "        <span class=\"score\" id=\"score_23257912\">187 points</span> by <a href=\"user?id=imartin2k\" class=\"hnuser\">imartin2k</a> <span class=\"age\"><a href=\"item?id=23257912\">6 hours ago</a></span> <span id=\"unv_23257912\"></span> | <a href=\"hide?id=23257912&amp;goto=news\">hide</a> | <a href=\"item?id=23257912\">243&nbsp;comments</a>              </td></tr>\n",
      "      <tr class=\"spacer\" style=\"height:5px\"></tr>\n",
      "                <tr class='athing' id='23262615'>\n",
      "      <td align=\"right\" valign=\"top\" class=\"title\"><span class=\"rank\">19.</span></td>      <td valign=\"top\" class=\"votelinks\"><center><a id='up_23262615' href='vote?id=23262615&amp;how=up&amp;goto=news'><div class='votearrow' title='upvote'></div></a></center></td><td class=\"title\"><a href=\"https://en.wikipedia.org/wiki/Hypothetical_types_of_biochemistry\" class=\"storylink\">Hypothetical Types of Biochemistry</a><span class=\"sitebit comhead\"> (<a href=\"from?site=wikipedia.org\"><span class=\"sitestr\">wikipedia.org</span></a>)</span></td></tr><tr><td colspan=\"2\"></td><td class=\"subtext\">\n",
      "        <span class=\"score\" id=\"score_23262615\">12 points</span> by <a href=\"user?id=occamschainsaw\" class=\"hnuser\">occamschainsaw</a> <span class=\"age\"><a href=\"item?id=23262615\">1 hour ago</a></span> <span id=\"unv_23262615\"></span> | <a href=\"hide?id=23262615&amp;goto=news\">hide</a> | <a href=\"item?id=23262615\">1&nbsp;comment</a>              </td></tr>\n",
      "      <tr class=\"spacer\" style=\"height:5px\"></tr>\n",
      "                <tr class='athing' id='23262324'>\n",
      "      <td align=\"right\" valign=\"top\" class=\"title\"><span class=\"rank\">20.</span></td>      <td></td><td class=\"title\"><a href=\"https://jobs.lever.co/givecampus/874d7233-b7a3-488d-892e-13ef717ceab7\" class=\"storylink\" rel=\"nofollow\">GiveCampus (YC S15) wants Rails engineers who care about education</a><span class=\"sitebit comhead\"> (<a href=\"from?site=lever.co\"><span class=\"sitestr\">lever.co</span></a>)</span></td></tr><tr><td colspan=\"2\"></td><td class=\"subtext\">\n",
      "        <span class=\"age\"><a href=\"item?id=23262324\">1 hour ago</a></span> | <a href=\"hide?id=23262324&amp;goto=news\">hide</a>      </td></tr>\n",
      "      <tr class=\"spacer\" style=\"height:5px\"></tr>\n",
      "                <tr class='athing' id='23261464'>\n",
      "      <td align=\"right\" valign=\"top\" class=\"title\"><span class=\"rank\">21.</span></td>      <td valign=\"top\" class=\"votelinks\"><center><a id='up_23261464' href='vote?id=23261464&amp;how=up&amp;goto=news'><div class='votearrow' title='upvote'></div></a></center></td><td class=\"title\"><a href=\"https://ai.googleblog.com/2020/05/open-sourcing-bit-exploring-large-scale.html\" class=\"storylink\">Open-Sourcing Bit: Exploring Large-Scale Pre-Training for Computer Vision</a><span class=\"sitebit comhead\"> (<a href=\"from?site=googleblog.com\"><span class=\"sitestr\">googleblog.com</span></a>)</span></td></tr><tr><td colspan=\"2\"></td><td class=\"subtext\">\n",
      "        <span class=\"score\" id=\"score_23261464\">15 points</span> by <a href=\"user?id=theafh\" class=\"hnuser\">theafh</a> <span class=\"age\"><a href=\"item?id=23261464\">2 hours ago</a></span> <span id=\"unv_23261464\"></span> | <a href=\"hide?id=23261464&amp;goto=news\">hide</a> | <a href=\"item?id=23261464\">discuss</a>              </td></tr>\n",
      "      <tr class=\"spacer\" style=\"height:5px\"></tr>\n",
      "                <tr class='athing' id='23259159'>\n",
      "      <td align=\"right\" valign=\"top\" class=\"title\"><span class=\"rank\">22.</span></td>      <td valign=\"top\" class=\"votelinks\"><center><a id='up_23259159' href='vote?id=23259159&amp;how=up&amp;goto=news'><div class='votearrow' title='upvote'></div></a></center></td><td class=\"title\"><a href=\"https://twitter.com/tobi/status/1263483496087064579\" class=\"storylink\">Shopify Goes Digital by Default</a><span class=\"sitebit comhead\"> (<a href=\"from?site=twitter.com\"><span class=\"sitestr\">twitter.com</span></a>)</span></td></tr><tr><td colspan=\"2\"></td><td class=\"subtext\">\n",
      "        <span class=\"score\" id=\"score_23259159\">224 points</span> by <a href=\"user?id=sachitgupta\" class=\"hnuser\">sachitgupta</a> <span class=\"age\"><a href=\"item?id=23259159\">5 hours ago</a></span> <span id=\"unv_23259159\"></span> | <a href=\"hide?id=23259159&amp;goto=news\">hide</a> | <a href=\"item?id=23259159\">340&nbsp;comments</a>              </td></tr>\n",
      "      <tr class=\"spacer\" style=\"height:5px\"></tr>\n",
      "                <tr class='athing' id='23250885'>\n",
      "      <td align=\"right\" valign=\"top\" class=\"title\"><span class=\"rank\">23.</span></td>      <td valign=\"top\" class=\"votelinks\"><center><a id='up_23250885' href='vote?id=23250885&amp;how=up&amp;goto=news'><div class='votearrow' title='upvote'></div></a></center></td><td class=\"title\"><a href=\"https://news.ucsc.edu/2020/05/fehrenschmitz-andes.html\" class=\"storylink\">Team reveals genomic history of ancient civilizations in the Andes</a><span class=\"sitebit comhead\"> (<a href=\"from?site=ucsc.edu\"><span class=\"sitestr\">ucsc.edu</span></a>)</span></td></tr><tr><td colspan=\"2\"></td><td class=\"subtext\">\n",
      "        <span class=\"score\" id=\"score_23250885\">33 points</span> by <a href=\"user?id=Thevet\" class=\"hnuser\">Thevet</a> <span class=\"age\"><a href=\"item?id=23250885\">5 hours ago</a></span> <span id=\"unv_23250885\"></span> | <a href=\"hide?id=23250885&amp;goto=news\">hide</a> | <a href=\"item?id=23250885\">4&nbsp;comments</a>              </td></tr>\n",
      "      <tr class=\"spacer\" style=\"height:5px\"></tr>\n",
      "                <tr class='athing' id='23262763'>\n",
      "      <td align=\"right\" valign=\"top\" class=\"title\"><span class=\"rank\">24.</span></td>      <td valign=\"top\" class=\"votelinks\"><center><a id='up_23262763' href='vote?id=23262763&amp;how=up&amp;goto=news'><div class='votearrow' title='upvote'></div></a></center></td><td class=\"title\"><a href=\"https://pastebin.com/BjD84BQ3\" class=\"storylink\">An Amazon programmer’s perspective (2015)</a><span class=\"sitebit comhead\"> (<a href=\"from?site=pastebin.com\"><span class=\"sitestr\">pastebin.com</span></a>)</span></td></tr><tr><td colspan=\"2\"></td><td class=\"subtext\">\n",
      "        <span class=\"score\" id=\"score_23262763\">196 points</span> by <a href=\"user?id=neofrommatrix\" class=\"hnuser\">neofrommatrix</a> <span class=\"age\"><a href=\"item?id=23262763\">1 hour ago</a></span> <span id=\"unv_23262763\"></span> | <a href=\"hide?id=23262763&amp;goto=news\">hide</a> | <a href=\"item?id=23262763\">139&nbsp;comments</a>              </td></tr>\n",
      "      <tr class=\"spacer\" style=\"height:5px\"></tr>\n",
      "                <tr class='athing' id='23249457'>\n",
      "      <td align=\"right\" valign=\"top\" class=\"title\"><span class=\"rank\">25.</span></td>      <td valign=\"top\" class=\"votelinks\"><center><a id='up_23249457' href='vote?id=23249457&amp;how=up&amp;goto=news'><div class='votearrow' title='upvote'></div></a></center></td><td class=\"title\"><a href=\"https://www.theatlantic.com/technology/archive/2014/11/the-first-bar-code-was-round/383171/\" class=\"storylink\">The First Bar Code Was Round (2014)</a><span class=\"sitebit comhead\"> (<a href=\"from?site=theatlantic.com\"><span class=\"sitestr\">theatlantic.com</span></a>)</span></td></tr><tr><td colspan=\"2\"></td><td class=\"subtext\">\n",
      "        <span class=\"score\" id=\"score_23249457\">32 points</span> by <a href=\"user?id=benbreen\" class=\"hnuser\">benbreen</a> <span class=\"age\"><a href=\"item?id=23249457\">4 hours ago</a></span> <span id=\"unv_23249457\"></span> | <a href=\"hide?id=23249457&amp;goto=news\">hide</a> | <a href=\"item?id=23249457\">10&nbsp;comments</a>              </td></tr>\n",
      "      <tr class=\"spacer\" style=\"height:5px\"></tr>\n",
      "                <tr class='athing' id='23261029'>\n",
      "      <td align=\"right\" valign=\"top\" class=\"title\"><span class=\"rank\">26.</span></td>      <td valign=\"top\" class=\"votelinks\"><center><a id='up_23261029' href='vote?id=23261029&amp;how=up&amp;goto=news'><div class='votearrow' title='upvote'></div></a></center></td><td class=\"title\"><a href=\"https://en.wikipedia.org/wiki/McLibel_case\" class=\"storylink\">McLibel Case</a><span class=\"sitebit comhead\"> (<a href=\"from?site=wikipedia.org\"><span class=\"sitestr\">wikipedia.org</span></a>)</span></td></tr><tr><td colspan=\"2\"></td><td class=\"subtext\">\n",
      "        <span class=\"score\" id=\"score_23261029\">37 points</span> by <a href=\"user?id=feross\" class=\"hnuser\">feross</a> <span class=\"age\"><a href=\"item?id=23261029\">3 hours ago</a></span> <span id=\"unv_23261029\"></span> | <a href=\"hide?id=23261029&amp;goto=news\">hide</a> | <a href=\"item?id=23261029\">12&nbsp;comments</a>              </td></tr>\n",
      "      <tr class=\"spacer\" style=\"height:5px\"></tr>\n",
      "                <tr class='athing' id='23258111'>\n",
      "      <td align=\"right\" valign=\"top\" class=\"title\"><span class=\"rank\">27.</span></td>      <td valign=\"top\" class=\"votelinks\"><center><a id='up_23258111' href='vote?id=23258111&amp;how=up&amp;goto=news'><div class='votearrow' title='upvote'></div></a></center></td><td class=\"title\"><a href=\"item?id=23258111\" class=\"storylink\">Ask HN: Ways to generate income when you're at home without pay?</a></td></tr><tr><td colspan=\"2\"></td><td class=\"subtext\">\n",
      "        <span class=\"score\" id=\"score_23258111\">227 points</span> by <a href=\"user?id=throwawayt856\" class=\"hnuser\">throwawayt856</a> <span class=\"age\"><a href=\"item?id=23258111\">6 hours ago</a></span> <span id=\"unv_23258111\"></span> | <a href=\"hide?id=23258111&amp;goto=news\">hide</a> | <a href=\"item?id=23258111\">196&nbsp;comments</a>              </td></tr>\n",
      "      <tr class=\"spacer\" style=\"height:5px\"></tr>\n",
      "                <tr class='athing' id='23255642'>\n",
      "      <td align=\"right\" valign=\"top\" class=\"title\"><span class=\"rank\">28.</span></td>      <td valign=\"top\" class=\"votelinks\"><center><a id='up_23255642' href='vote?id=23255642&amp;how=up&amp;goto=news'><div class='votearrow' title='upvote'></div></a></center></td><td class=\"title\"><a href=\"http://k1ss.org\" class=\"storylink\">Kiss Linux – A distribution with a focus on less is more</a><span class=\"sitebit comhead\"> (<a href=\"from?site=k1ss.org\"><span class=\"sitestr\">k1ss.org</span></a>)</span></td></tr><tr><td colspan=\"2\"></td><td class=\"subtext\">\n",
      "        <span class=\"score\" id=\"score_23255642\">181 points</span> by <a href=\"user?id=joshuareed\" class=\"hnuser\">joshuareed</a> <span class=\"age\"><a href=\"item?id=23255642\">12 hours ago</a></span> <span id=\"unv_23255642\"></span> | <a href=\"hide?id=23255642&amp;goto=news\">hide</a> | <a href=\"item?id=23255642\">113&nbsp;comments</a>              </td></tr>\n",
      "      <tr class=\"spacer\" style=\"height:5px\"></tr>\n",
      "                <tr class='athing' id='23257843'>\n",
      "      <td align=\"right\" valign=\"top\" class=\"title\"><span class=\"rank\">29.</span></td>      <td valign=\"top\" class=\"votelinks\"><center><a id='up_23257843' href='vote?id=23257843&amp;how=up&amp;goto=news'><div class='votearrow' title='upvote'></div></a></center></td><td class=\"title\"><a href=\"https://github.com/microsoft/winget-cli/issues/179\" class=\"storylink\">Windows package manager does not permit opting out of telemetry</a><span class=\"sitebit comhead\"> (<a href=\"from?site=github.com\"><span class=\"sitestr\">github.com</span></a>)</span></td></tr><tr><td colspan=\"2\"></td><td class=\"subtext\">\n",
      "        <span class=\"score\" id=\"score_23257843\">358 points</span> by <a href=\"user?id=ccmcarey\" class=\"hnuser\">ccmcarey</a> <span class=\"age\"><a href=\"item?id=23257843\">6 hours ago</a></span> <span id=\"unv_23257843\"></span> | <a href=\"hide?id=23257843&amp;goto=news\">hide</a> | <a href=\"item?id=23257843\">274&nbsp;comments</a>              </td></tr>\n",
      "      <tr class=\"spacer\" style=\"height:5px\"></tr>\n",
      "                <tr class='athing' id='23257645'>\n",
      "      <td align=\"right\" valign=\"top\" class=\"title\"><span class=\"rank\">30.</span></td>      <td valign=\"top\" class=\"votelinks\"><center><a id='up_23257645' href='vote?id=23257645&amp;how=up&amp;goto=news'><div class='votearrow' title='upvote'></div></a></center></td><td class=\"title\"><a href=\"https://www.citylab.com/equity/2020/05/nextdoor-local-partnerships-police-government-privacy-app/611827/\" class=\"storylink\">How Nextdoor courts police and public officials</a><span class=\"sitebit comhead\"> (<a href=\"from?site=citylab.com\"><span class=\"sitestr\">citylab.com</span></a>)</span></td></tr><tr><td colspan=\"2\"></td><td class=\"subtext\">\n",
      "        <span class=\"score\" id=\"score_23257645\">104 points</span> by <a href=\"user?id=SamWhited\" class=\"hnuser\">SamWhited</a> <span class=\"age\"><a href=\"item?id=23257645\">6 hours ago</a></span> <span id=\"unv_23257645\"></span> | <a href=\"hide?id=23257645&amp;goto=news\">hide</a> | <a href=\"item?id=23257645\">88&nbsp;comments</a>              </td></tr>\n",
      "      <tr class=\"spacer\" style=\"height:5px\"></tr>\n",
      "            <tr class=\"morespace\" style=\"height:10px\"></tr><tr><td colspan=\"2\"></td><td class=\"title\"><a href=\"news?p=2\" class=\"morelink\" rel=\"next\">More</a></td></tr>\n",
      "  </table>\n",
      "</td></tr>\n",
      "<tr><td><img src=\"s.gif\" height=\"10\" width=\"0\"><table width=\"100%\" cellspacing=\"0\" cellpadding=\"1\"><tr><td bgcolor=\"#ff6600\"></td></tr></table><br><center><span class=\"yclinks\"><a href=\"newsguidelines.html\">Guidelines</a>\n",
      "        | <a href=\"newsfaq.html\">FAQ</a>\n",
      "        | <a href=\"mailto:hn@ycombinator.com\">Support</a>\n",
      "        | <a href=\"https://github.com/HackerNews/API\">API</a>\n",
      "        | <a href=\"security.html\">Security</a>\n",
      "        | <a href=\"lists\">Lists</a>\n",
      "        | <a href=\"bookmarklet.html\" rel=\"nofollow\">Bookmarklet</a>\n",
      "        | <a href=\"http://www.ycombinator.com/legal/\">Legal</a>\n",
      "        | <a href=\"http://www.ycombinator.com/apply/\">Apply to YC</a>\n",
      "        | <a href=\"mailto:hn@ycombinator.com\">Contact</a></span><br><br><form method=\"get\" action=\"//hn.algolia.com/\">Search:\n",
      "          <input type=\"text\" name=\"q\" value=\"\" size=\"17\" autocorrect=\"off\" spellcheck=\"false\" autocapitalize=\"off\" autocomplete=\"false\"></form>\n",
      "            </center></td></tr>\n",
      "      </table></center></body><script type='text/javascript' src='hn.js?UfBXOkGWYp7umUVc7AHl'></script></html>\n",
      "\n"
     ]
    }
   ],
   "source": [
    "import requests\n",
    "\n",
    "# Fetch a web page\n",
    "r = requests.get(\"https://news.ycombinator.com\")\n",
    "print(r.text)"
   ]
  },
  {
   "cell_type": "code",
   "execution_count": 9,
   "metadata": {},
   "outputs": [
    {
     "name": "stdout",
     "output_type": "stream",
     "text": [
      "\n",
      "        \n",
      "          \n",
      "        Hacker News\n",
      "        \n",
      "                  Hacker News\n",
      "              new | past | comments | ask | show | jobs | submit            \n",
      "                              login\n",
      "                          \n",
      "              \n",
      "\n",
      "              \n",
      "      1.      An introduction to RabbitMQ (erlang-solutions.com)\n",
      "        300 points by olikas 6 hours ago  | hide | 135&nbsp;comments              \n",
      "      \n",
      "                \n",
      "      2.      Students are failing AP tests because the College Board can’t handle HEIC images (theverge.com)\n",
      "        353 points by danso 4 hours ago  | hide | 300&nbsp;comments              \n",
      "      \n",
      "                \n",
      "      3.      Grandmother ordered to delete Facebook photos under GDPR (bbc.com)\n",
      "        30 points by pseudolus 1 hour ago  | hide | 17&nbsp;comments              \n",
      "      \n",
      "                \n",
      "      4.      Stealing secrets from developers using WebSockets (medium.com)\n",
      "        257 points by stestagg 6 hours ago  | hide | 65&nbsp;comments              \n",
      "      \n",
      "                \n",
      "      5.      TI removes access to assembly programs on the TI-83 Premium CE (ticalc.org)\n",
      "        137 points by dTal 5 hours ago  | hide | 77&nbsp;comments              \n",
      "      \n",
      "                \n",
      "      6.      Dead Sea Scroll fragments thought to be blank reveal text (manchester.ac.uk)\n",
      "        47 points by Hooke 3 hours ago  | hide | 13&nbsp;comments              \n",
      "      \n",
      "                \n",
      "      7.      The Atlantic lays off almost 20% of staff (axios.com)\n",
      "        8 points by augustocallejas 29 minutes ago  | hide | 2&nbsp;comments              \n",
      "      \n",
      "                \n",
      "      8.      YouTube removes interview with professor of medicine on Covid stats and policy (unherd.com)\n",
      "        117 points by ppod 6 hours ago  | hide | 208&nbsp;comments              \n",
      "      \n",
      "                \n",
      "      9.      Where Have all the Gophers Gone? Why the Web beat Gopher (1999) (unc.edu)\n",
      "        7 points by alokrai 1 hour ago  | hide | discuss              \n",
      "      \n",
      "                \n",
      "      10.      Facebook to shift permanently toward more remote work after coronavirus (wsj.com)\n",
      "        300 points by Bahamut 2 hours ago  | hide | 308&nbsp;comments              \n",
      "      \n",
      "                \n",
      "      11.      Arduino Pinball Machine That Plays Itself (instructables.com)\n",
      "        53 points by bwidlar 4 hours ago  | hide | 11&nbsp;comments              \n",
      "      \n",
      "                \n",
      "      12.      Calculus Made Easy (1914) [pdf] (gutenberg.org)\n",
      "        29 points by luu 2 hours ago  | hide | 6&nbsp;comments              \n",
      "      \n",
      "                \n",
      "      13.      Dolphins at popular spot miss tourists and keep leaving 'gifts' on shore (7news.com.au)\n",
      "        138 points by SirLJ 3 hours ago  | hide | 50&nbsp;comments              \n",
      "      \n",
      "                \n",
      "      14.      Show HN: Blunt – A CSS Layout Framework for Minimalists (github.com)\n",
      "        60 points by max0563 4 hours ago  | hide | 27&nbsp;comments              \n",
      "      \n",
      "                \n",
      "      15.      Show HN: Python package to collect normalized news from almost any website (github.com)\n",
      "        354 points by kizy25 12 hours ago  | hide | 175&nbsp;comments              \n",
      "      \n",
      "                \n",
      "      16.      ScoutSuite: Multi-cloud security auditing tool (github.com)\n",
      "        10 points by vngzs 1 hour ago  | hide | discuss              \n",
      "      \n",
      "                \n",
      "      17.      Show HN: SpaceX Dragon simulator docking autopilot in Clojure (github.com)\n",
      "        138 points by danpetrov 8 hours ago  | hide | 26&nbsp;comments              \n",
      "      \n",
      "                \n",
      "      18.      Jack Dorsey is giving Andrew Yang $5M to build the case for a basic income (yahoo.com)\n",
      "        187 points by imartin2k 6 hours ago  | hide | 243&nbsp;comments              \n",
      "      \n",
      "                \n",
      "      19.      Hypothetical Types of Biochemistry (wikipedia.org)\n",
      "        12 points by occamschainsaw 1 hour ago  | hide | 1&nbsp;comment              \n",
      "      \n",
      "                \n",
      "      20.      GiveCampus (YC S15) wants Rails engineers who care about education (lever.co)\n",
      "        1 hour ago | hide      \n",
      "      \n",
      "                \n",
      "      21.      Open-Sourcing Bit: Exploring Large-Scale Pre-Training for Computer Vision (googleblog.com)\n",
      "        15 points by theafh 2 hours ago  | hide | discuss              \n",
      "      \n",
      "                \n",
      "      22.      Shopify Goes Digital by Default (twitter.com)\n",
      "        224 points by sachitgupta 5 hours ago  | hide | 340&nbsp;comments              \n",
      "      \n",
      "                \n",
      "      23.      Team reveals genomic history of ancient civilizations in the Andes (ucsc.edu)\n",
      "        33 points by Thevet 5 hours ago  | hide | 4&nbsp;comments              \n",
      "      \n",
      "                \n",
      "      24.      An Amazon programmer’s perspective (2015) (pastebin.com)\n",
      "        196 points by neofrommatrix 1 hour ago  | hide | 139&nbsp;comments              \n",
      "      \n",
      "                \n",
      "      25.      The First Bar Code Was Round (2014) (theatlantic.com)\n",
      "        32 points by benbreen 4 hours ago  | hide | 10&nbsp;comments              \n",
      "      \n",
      "                \n",
      "      26.      McLibel Case (wikipedia.org)\n",
      "        37 points by feross 3 hours ago  | hide | 12&nbsp;comments              \n",
      "      \n",
      "                \n",
      "      27.      Ask HN: Ways to generate income when you're at home without pay?\n",
      "        227 points by throwawayt856 6 hours ago  | hide | 196&nbsp;comments              \n",
      "      \n",
      "                \n",
      "      28.      Kiss Linux – A distribution with a focus on less is more (k1ss.org)\n",
      "        181 points by joshuareed 12 hours ago  | hide | 113&nbsp;comments              \n",
      "      \n",
      "                \n",
      "      29.      Windows package manager does not permit opting out of telemetry (github.com)\n",
      "        358 points by ccmcarey 6 hours ago  | hide | 274&nbsp;comments              \n",
      "      \n",
      "                \n",
      "      30.      How Nextdoor courts police and public officials (citylab.com)\n",
      "        104 points by SamWhited 6 hours ago  | hide | 88&nbsp;comments              \n",
      "      \n",
      "            More\n",
      "  \n",
      "\n",
      "Guidelines\n",
      "        | FAQ\n",
      "        | Support\n",
      "        | API\n",
      "        | Security\n",
      "        | Lists\n",
      "        | Bookmarklet\n",
      "        | Legal\n",
      "        | Apply to YC\n",
      "        | ContactSearch:\n",
      "          \n",
      "            \n",
      "      \n",
      "\n"
     ]
    }
   ],
   "source": [
    "import re\n",
    "\n",
    "# Remove HTML tags using RegEx\n",
    "pattern = re.compile(r'<.*?>')  # tags look like <...>\n",
    "print(pattern.sub('', r.text))  # replace them with blank"
   ]
  },
  {
   "cell_type": "code",
   "execution_count": 10,
   "metadata": {},
   "outputs": [
    {
     "name": "stdout",
     "output_type": "stream",
     "text": [
      "\n",
      "        \n",
      "          \n",
      "        Hacker News\n",
      "        \n",
      "                  Hacker News\n",
      "              new | past | comments | ask | show | jobs | submit            \n",
      "                              login\n",
      "                          \n",
      "              \n",
      "\n",
      "              \n",
      "      1.      An introduction to RabbitMQ (erlang-solutions.com)\n",
      "        300 points by olikas 6 hours ago  | hide | 135 comments              \n",
      "      \n",
      "                \n",
      "      2.      Students are failing AP tests because the College Board can’t handle HEIC images (theverge.com)\n",
      "        353 points by danso 4 hours ago  | hide | 300 comments              \n",
      "      \n",
      "                \n",
      "      3.      Grandmother ordered to delete Facebook photos under GDPR (bbc.com)\n",
      "        30 points by pseudolus 1 hour ago  | hide | 17 comments              \n",
      "      \n",
      "                \n",
      "      4.      Stealing secrets from developers using WebSockets (medium.com)\n",
      "        257 points by stestagg 6 hours ago  | hide | 65 comments              \n",
      "      \n",
      "                \n",
      "      5.      TI removes access to assembly programs on the TI-83 Premium CE (ticalc.org)\n",
      "        137 points by dTal 5 hours ago  | hide | 77 comments              \n",
      "      \n",
      "                \n",
      "      6.      Dead Sea Scroll fragments thought to be blank reveal text (manchester.ac.uk)\n",
      "        47 points by Hooke 3 hours ago  | hide | 13 comments              \n",
      "      \n",
      "                \n",
      "      7.      The Atlantic lays off almost 20% of staff (axios.com)\n",
      "        8 points by augustocallejas 29 minutes ago  | hide | 2 comments              \n",
      "      \n",
      "                \n",
      "      8.      YouTube removes interview with professor of medicine on Covid stats and policy (unherd.com)\n",
      "        117 points by ppod 6 hours ago  | hide | 208 comments              \n",
      "      \n",
      "                \n",
      "      9.      Where Have all the Gophers Gone? Why the Web beat Gopher (1999) (unc.edu)\n",
      "        7 points by alokrai 1 hour ago  | hide | discuss              \n",
      "      \n",
      "                \n",
      "      10.      Facebook to shift permanently toward more remote work after coronavirus (wsj.com)\n",
      "        300 points by Bahamut 2 hours ago  | hide | 308 comments              \n",
      "      \n",
      "                \n",
      "      11.      Arduino Pinball Machine That Plays Itself (instructables.com)\n",
      "        53 points by bwidlar 4 hours ago  | hide | 11 comments              \n",
      "      \n",
      "                \n",
      "      12.      Calculus Made Easy (1914) [pdf] (gutenberg.org)\n",
      "        29 points by luu 2 hours ago  | hide | 6 comments              \n",
      "      \n",
      "                \n",
      "      13.      Dolphins at popular spot miss tourists and keep leaving 'gifts' on shore (7news.com.au)\n",
      "        138 points by SirLJ 3 hours ago  | hide | 50 comments              \n",
      "      \n",
      "                \n",
      "      14.      Show HN: Blunt – A CSS Layout Framework for Minimalists (github.com)\n",
      "        60 points by max0563 4 hours ago  | hide | 27 comments              \n",
      "      \n",
      "                \n",
      "      15.      Show HN: Python package to collect normalized news from almost any website (github.com)\n",
      "        354 points by kizy25 12 hours ago  | hide | 175 comments              \n",
      "      \n",
      "                \n",
      "      16.      ScoutSuite: Multi-cloud security auditing tool (github.com)\n",
      "        10 points by vngzs 1 hour ago  | hide | discuss              \n",
      "      \n",
      "                \n",
      "      17.      Show HN: SpaceX Dragon simulator docking autopilot in Clojure (github.com)\n",
      "        138 points by danpetrov 8 hours ago  | hide | 26 comments              \n",
      "      \n",
      "                \n",
      "      18.      Jack Dorsey is giving Andrew Yang $5M to build the case for a basic income (yahoo.com)\n",
      "        187 points by imartin2k 6 hours ago  | hide | 243 comments              \n",
      "      \n",
      "                \n",
      "      19.      Hypothetical Types of Biochemistry (wikipedia.org)\n",
      "        12 points by occamschainsaw 1 hour ago  | hide | 1 comment              \n",
      "      \n",
      "                \n",
      "      20.      GiveCampus (YC S15) wants Rails engineers who care about education (lever.co)\n",
      "        1 hour ago | hide      \n",
      "      \n",
      "                \n",
      "      21.      Open-Sourcing Bit: Exploring Large-Scale Pre-Training for Computer Vision (googleblog.com)\n",
      "        15 points by theafh 2 hours ago  | hide | discuss              \n",
      "      \n",
      "                \n",
      "      22.      Shopify Goes Digital by Default (twitter.com)\n",
      "        224 points by sachitgupta 5 hours ago  | hide | 340 comments              \n",
      "      \n",
      "                \n",
      "      23.      Team reveals genomic history of ancient civilizations in the Andes (ucsc.edu)\n",
      "        33 points by Thevet 5 hours ago  | hide | 4 comments              \n",
      "      \n",
      "                \n",
      "      24.      An Amazon programmer’s perspective (2015) (pastebin.com)\n",
      "        196 points by neofrommatrix 1 hour ago  | hide | 139 comments              \n",
      "      \n",
      "                \n",
      "      25.      The First Bar Code Was Round (2014) (theatlantic.com)\n",
      "        32 points by benbreen 4 hours ago  | hide | 10 comments              \n",
      "      \n",
      "                \n",
      "      26.      McLibel Case (wikipedia.org)\n",
      "        37 points by feross 3 hours ago  | hide | 12 comments              \n",
      "      \n",
      "                \n",
      "      27.      Ask HN: Ways to generate income when you're at home without pay?\n",
      "        227 points by throwawayt856 6 hours ago  | hide | 196 comments              \n",
      "      \n",
      "                \n",
      "      28.      Kiss Linux – A distribution with a focus on less is more (k1ss.org)\n",
      "        181 points by joshuareed 12 hours ago  | hide | 113 comments              \n",
      "      \n",
      "                \n",
      "      29.      Windows package manager does not permit opting out of telemetry (github.com)\n",
      "        358 points by ccmcarey 6 hours ago  | hide | 274 comments              \n",
      "      \n",
      "                \n",
      "      30.      How Nextdoor courts police and public officials (citylab.com)\n",
      "        104 points by SamWhited 6 hours ago  | hide | 88 comments              \n",
      "      \n",
      "            More\n",
      "  \n",
      "\n",
      "Guidelines\n",
      "        | FAQ\n",
      "        | Support\n",
      "        | API\n",
      "        | Security\n",
      "        | Lists\n",
      "        | Bookmarklet\n",
      "        | Legal\n",
      "        | Apply to YC\n",
      "        | ContactSearch:\n",
      "          \n",
      "            \n",
      "      \n",
      "\n"
     ]
    }
   ],
   "source": [
    "from bs4 import BeautifulSoup\n",
    "\n",
    "# Remove HTML tags using Beautiful Soup library\n",
    "soup = BeautifulSoup(r.text, \"html5lib\")\n",
    "print(soup.get_text())"
   ]
  },
  {
   "cell_type": "code",
   "execution_count": 11,
   "metadata": {
    "scrolled": true
   },
   "outputs": [
    {
     "data": {
      "text/plain": [
       "<tr class=\"athing\" id=\"23258301\">\n",
       "      <td align=\"right\" class=\"title\" valign=\"top\"><span class=\"rank\">1.</span></td>      <td class=\"votelinks\" valign=\"top\"><center><a href=\"vote?id=23258301&amp;how=up&amp;goto=news\" id=\"up_23258301\"><div class=\"votearrow\" title=\"upvote\"></div></a></center></td><td class=\"title\"><a class=\"storylink\" href=\"https://www.erlang-solutions.com/blog/an-introduction-to-rabbitmq-what-is-rabbitmq.html\">An introduction to RabbitMQ</a><span class=\"sitebit comhead\"> (<a href=\"from?site=erlang-solutions.com\"><span class=\"sitestr\">erlang-solutions.com</span></a>)</span></td></tr>"
      ]
     },
     "execution_count": 11,
     "metadata": {},
     "output_type": "execute_result"
    }
   ],
   "source": [
    "# Find all articles\n",
    "summaries = soup.find_all(\"tr\", class_=\"athing\")\n",
    "summaries[0]"
   ]
  },
  {
   "cell_type": "code",
   "execution_count": 12,
   "metadata": {},
   "outputs": [
    {
     "data": {
      "text/plain": [
       "'An introduction to RabbitMQ'"
      ]
     },
     "execution_count": 12,
     "metadata": {},
     "output_type": "execute_result"
    }
   ],
   "source": [
    "# Extract title\n",
    "summaries[0].find(\"a\", class_=\"storylink\").get_text().strip()"
   ]
  },
  {
   "cell_type": "code",
   "execution_count": 16,
   "metadata": {},
   "outputs": [
    {
     "name": "stdout",
     "output_type": "stream",
     "text": [
      "30 Article summaries found. Sample:\n",
      "An introduction to RabbitMQ\n"
     ]
    }
   ],
   "source": [
    "# Find all articles, extract titles\n",
    "articles = []\n",
    "summaries = soup.find_all(\"tr\", class_=\"athing\")\n",
    "for summary in summaries:\n",
    "    title = summary.find(\"a\", class_=\"storylink\").get_text().strip()\n",
    "    articles.append((title))\n",
    "\n",
    "print(len(articles), \"Article summaries found. Sample:\")\n",
    "print(articles[0])"
   ]
  },
  {
   "cell_type": "markdown",
   "metadata": {
    "collapsed": true
   },
   "source": [
    "## Normalization"
   ]
  },
  {
   "cell_type": "markdown",
   "metadata": {},
   "source": [
    "### Case Normalization"
   ]
  },
  {
   "cell_type": "code",
   "execution_count": 17,
   "metadata": {},
   "outputs": [
    {
     "name": "stdout",
     "output_type": "stream",
     "text": [
      "The first time you see The Second Renaissance it may look boring. Look at it at least twice and definitely watch part 2. It will change your view of the matrix. Are the human people the ones who started the war ? Is AI a bad thing ?\n"
     ]
    }
   ],
   "source": [
    "# Sample text\n",
    "text = \"The first time you see The Second Renaissance it may look boring. Look at it at least twice and definitely watch part 2. It will change your view of the matrix. Are the human people the ones who started the war ? Is AI a bad thing ?\"\n",
    "print(text)\n"
   ]
  },
  {
   "cell_type": "code",
   "execution_count": 18,
   "metadata": {},
   "outputs": [
    {
     "name": "stdout",
     "output_type": "stream",
     "text": [
      "the first time you see the second renaissance it may look boring. look at it at least twice and definitely watch part 2. it will change your view of the matrix. are the human people the ones who started the war ? is ai a bad thing ?\n"
     ]
    }
   ],
   "source": [
    "# Convert to lowercase\n",
    "text = text.lower() \n",
    "print(text)"
   ]
  },
  {
   "cell_type": "markdown",
   "metadata": {},
   "source": [
    "### Punctuation Removal"
   ]
  },
  {
   "cell_type": "code",
   "execution_count": 19,
   "metadata": {},
   "outputs": [
    {
     "name": "stdout",
     "output_type": "stream",
     "text": [
      "the first time you see the second renaissance it may look boring  look at it at least twice and definitely watch part 2  it will change your view of the matrix  are the human people the ones who started the war   is ai a bad thing  \n"
     ]
    }
   ],
   "source": [
    "import re\n",
    "\n",
    "# Remove punctuation characters\n",
    "text = re.sub(r\"[^a-zA-Z0-9]\", \" \", text) \n",
    "print(text)"
   ]
  },
  {
   "cell_type": "markdown",
   "metadata": {},
   "source": [
    "## Tokenization"
   ]
  },
  {
   "cell_type": "code",
   "execution_count": 20,
   "metadata": {},
   "outputs": [
    {
     "name": "stdout",
     "output_type": "stream",
     "text": [
      "['the', 'first', 'time', 'you', 'see', 'the', 'second', 'renaissance', 'it', 'may', 'look', 'boring', 'look', 'at', 'it', 'at', 'least', 'twice', 'and', 'definitely', 'watch', 'part', '2', 'it', 'will', 'change', 'your', 'view', 'of', 'the', 'matrix', 'are', 'the', 'human', 'people', 'the', 'ones', 'who', 'started', 'the', 'war', 'is', 'ai', 'a', 'bad', 'thing']\n"
     ]
    }
   ],
   "source": [
    "# Split text into tokens (words)\n",
    "words = text.split()\n",
    "print(words)"
   ]
  },
  {
   "cell_type": "markdown",
   "metadata": {},
   "source": [
    "### NLTK: Natural Language ToolKit"
   ]
  },
  {
   "cell_type": "code",
   "execution_count": 21,
   "metadata": {},
   "outputs": [],
   "source": [
    "import os\n",
    "import nltk\n",
    "nltk.data.path.append(os.path.join(os.getcwd(), \"nltk_data\"))"
   ]
  },
  {
   "cell_type": "code",
   "execution_count": 23,
   "metadata": {},
   "outputs": [
    {
     "name": "stdout",
     "output_type": "stream",
     "text": [
      "Dr. Smith graduated from the University of Washington. He later started an analytics firm called Lux, which catered to enterprise customers.\n"
     ]
    }
   ],
   "source": [
    "# Another sample text\n",
    "text = \"Dr. Smith graduated from the University of Washington. He later started an analytics firm called Lux, which catered to enterprise customers.\"\n",
    "print(text)"
   ]
  },
  {
   "cell_type": "code",
   "execution_count": 24,
   "metadata": {},
   "outputs": [
    {
     "name": "stdout",
     "output_type": "stream",
     "text": [
      "['Dr.', 'Smith', 'graduated', 'from', 'the', 'University', 'of', 'Washington', '.', 'He', 'later', 'started', 'an', 'analytics', 'firm', 'called', 'Lux', ',', 'which', 'catered', 'to', 'enterprise', 'customers', '.']\n"
     ]
    }
   ],
   "source": [
    "from nltk.tokenize import word_tokenize\n",
    "\n",
    "# Split text into words using NLTK\n",
    "words = word_tokenize(text)\n",
    "print(words)"
   ]
  },
  {
   "cell_type": "code",
   "execution_count": 25,
   "metadata": {},
   "outputs": [
    {
     "name": "stdout",
     "output_type": "stream",
     "text": [
      "['Dr. Smith graduated from the University of Washington.', 'He later started an analytics firm called Lux, which catered to enterprise customers.']\n"
     ]
    }
   ],
   "source": [
    "from nltk.tokenize import sent_tokenize\n",
    "\n",
    "# Split text into sentences\n",
    "sentences = sent_tokenize(text)\n",
    "print(sentences)"
   ]
  },
  {
   "cell_type": "code",
   "execution_count": 26,
   "metadata": {},
   "outputs": [
    {
     "name": "stdout",
     "output_type": "stream",
     "text": [
      "['i', 'me', 'my', 'myself', 'we', 'our', 'ours', 'ourselves', 'you', \"you're\", \"you've\", \"you'll\", \"you'd\", 'your', 'yours', 'yourself', 'yourselves', 'he', 'him', 'his', 'himself', 'she', \"she's\", 'her', 'hers', 'herself', 'it', \"it's\", 'its', 'itself', 'they', 'them', 'their', 'theirs', 'themselves', 'what', 'which', 'who', 'whom', 'this', 'that', \"that'll\", 'these', 'those', 'am', 'is', 'are', 'was', 'were', 'be', 'been', 'being', 'have', 'has', 'had', 'having', 'do', 'does', 'did', 'doing', 'a', 'an', 'the', 'and', 'but', 'if', 'or', 'because', 'as', 'until', 'while', 'of', 'at', 'by', 'for', 'with', 'about', 'against', 'between', 'into', 'through', 'during', 'before', 'after', 'above', 'below', 'to', 'from', 'up', 'down', 'in', 'out', 'on', 'off', 'over', 'under', 'again', 'further', 'then', 'once', 'here', 'there', 'when', 'where', 'why', 'how', 'all', 'any', 'both', 'each', 'few', 'more', 'most', 'other', 'some', 'such', 'no', 'nor', 'not', 'only', 'own', 'same', 'so', 'than', 'too', 'very', 's', 't', 'can', 'will', 'just', 'don', \"don't\", 'should', \"should've\", 'now', 'd', 'll', 'm', 'o', 're', 've', 'y', 'ain', 'aren', \"aren't\", 'couldn', \"couldn't\", 'didn', \"didn't\", 'doesn', \"doesn't\", 'hadn', \"hadn't\", 'hasn', \"hasn't\", 'haven', \"haven't\", 'isn', \"isn't\", 'ma', 'mightn', \"mightn't\", 'mustn', \"mustn't\", 'needn', \"needn't\", 'shan', \"shan't\", 'shouldn', \"shouldn't\", 'wasn', \"wasn't\", 'weren', \"weren't\", 'won', \"won't\", 'wouldn', \"wouldn't\"]\n"
     ]
    }
   ],
   "source": [
    "# List stop words\n",
    "from nltk.corpus import stopwords\n",
    "print(stopwords.words(\"english\"))"
   ]
  },
  {
   "cell_type": "code",
   "execution_count": 27,
   "metadata": {},
   "outputs": [
    {
     "name": "stdout",
     "output_type": "stream",
     "text": [
      "['the', 'first', 'time', 'you', 'see', 'the', 'second', 'renaissance', 'it', 'may', 'look', 'boring', 'look', 'at', 'it', 'at', 'least', 'twice', 'and', 'definitely', 'watch', 'part', '2', 'it', 'will', 'change', 'your', 'view', 'of', 'the', 'matrix', 'are', 'the', 'human', 'people', 'the', 'ones', 'who', 'started', 'the', 'war', 'is', 'ai', 'a', 'bad', 'thing']\n"
     ]
    }
   ],
   "source": [
    "# Reset text\n",
    "text = \"The first time you see The Second Renaissance it may look boring. Look at it at least twice and definitely watch part 2. It will change your view of the matrix. Are the human people the ones who started the war ? Is AI a bad thing ?\"\n",
    "\n",
    "# Normalize it\n",
    "text = re.sub(r\"[^a-zA-Z0-9]\", \" \", text.lower())\n",
    "\n",
    "# Tokenize it\n",
    "words = text.split()\n",
    "print(words)"
   ]
  },
  {
   "cell_type": "code",
   "execution_count": 28,
   "metadata": {},
   "outputs": [
    {
     "name": "stdout",
     "output_type": "stream",
     "text": [
      "['first', 'time', 'see', 'second', 'renaissance', 'may', 'look', 'boring', 'look', 'least', 'twice', 'definitely', 'watch', 'part', '2', 'change', 'view', 'matrix', 'human', 'people', 'ones', 'started', 'war', 'ai', 'bad', 'thing']\n"
     ]
    }
   ],
   "source": [
    "# Remove stop words\n",
    "words = [w for w in words if w not in stopwords.words(\"english\")]\n",
    "print(words)"
   ]
  },
  {
   "cell_type": "markdown",
   "metadata": {},
   "source": [
    "### Sentence Parsing"
   ]
  },
  {
   "cell_type": "code",
   "execution_count": 29,
   "metadata": {},
   "outputs": [
    {
     "name": "stdout",
     "output_type": "stream",
     "text": [
      "(S\n",
      "  (NP I)\n",
      "  (VP\n",
      "    (VP (V shot) (NP (Det an) (N elephant)))\n",
      "    (PP (P in) (NP (Det my) (N pajamas)))))\n",
      "(S\n",
      "  (NP I)\n",
      "  (VP\n",
      "    (V shot)\n",
      "    (NP (Det an) (N elephant) (PP (P in) (NP (Det my) (N pajamas))))))\n"
     ]
    }
   ],
   "source": [
    "import nltk\n",
    "\n",
    "# Define a custom grammar\n",
    "my_grammar = nltk.CFG.fromstring(\"\"\"\n",
    "S -> NP VP\n",
    "PP -> P NP\n",
    "NP -> Det N | Det N PP | 'I'\n",
    "VP -> V NP | VP PP\n",
    "Det -> 'an' | 'my'\n",
    "N -> 'elephant' | 'pajamas'\n",
    "V -> 'shot'\n",
    "P -> 'in'\n",
    "\"\"\")\n",
    "parser = nltk.ChartParser(my_grammar)\n",
    "\n",
    "# Parse a sentence\n",
    "sentence = word_tokenize(\"I shot an elephant in my pajamas\")\n",
    "for tree in parser.parse(sentence):\n",
    "    print(tree)"
   ]
  },
  {
   "cell_type": "markdown",
   "metadata": {},
   "source": [
    "## Stemming & Lemmatization\n",
    "\n",
    "### Stemming"
   ]
  },
  {
   "cell_type": "code",
   "execution_count": 30,
   "metadata": {},
   "outputs": [
    {
     "name": "stdout",
     "output_type": "stream",
     "text": [
      "['first', 'time', 'see', 'second', 'renaiss', 'may', 'look', 'bore', 'look', 'least', 'twice', 'definit', 'watch', 'part', '2', 'chang', 'view', 'matrix', 'human', 'peopl', 'one', 'start', 'war', 'ai', 'bad', 'thing']\n"
     ]
    }
   ],
   "source": [
    "from nltk.stem.porter import PorterStemmer\n",
    "\n",
    "# Reduce words to their stems\n",
    "stemmed = [PorterStemmer().stem(w) for w in words]\n",
    "print(stemmed)"
   ]
  },
  {
   "cell_type": "markdown",
   "metadata": {},
   "source": [
    "### Lemmatization"
   ]
  },
  {
   "cell_type": "code",
   "execution_count": 31,
   "metadata": {},
   "outputs": [
    {
     "name": "stdout",
     "output_type": "stream",
     "text": [
      "['first', 'time', 'see', 'second', 'renaissance', 'may', 'look', 'boring', 'look', 'least', 'twice', 'definitely', 'watch', 'part', '2', 'change', 'view', 'matrix', 'human', 'people', 'one', 'started', 'war', 'ai', 'bad', 'thing']\n"
     ]
    }
   ],
   "source": [
    "from nltk.stem.wordnet import WordNetLemmatizer\n",
    "\n",
    "# Reduce words to their root form\n",
    "lemmed = [WordNetLemmatizer().lemmatize(w) for w in words]\n",
    "print(lemmed)"
   ]
  },
  {
   "cell_type": "code",
   "execution_count": 32,
   "metadata": {},
   "outputs": [
    {
     "name": "stdout",
     "output_type": "stream",
     "text": [
      "['first', 'time', 'see', 'second', 'renaissance', 'may', 'look', 'bore', 'look', 'least', 'twice', 'definitely', 'watch', 'part', '2', 'change', 'view', 'matrix', 'human', 'people', 'one', 'start', 'war', 'ai', 'bad', 'thing']\n"
     ]
    }
   ],
   "source": [
    "# Lemmatize verbs by specifying pos\n",
    "lemmed = [WordNetLemmatizer().lemmatize(w, pos='v') for w in lemmed]\n",
    "print(lemmed)"
   ]
  },
  {
   "cell_type": "code",
   "execution_count": null,
   "metadata": {},
   "outputs": [],
   "source": []
  }
 ],
 "metadata": {
  "kernelspec": {
   "display_name": "Python 3",
   "language": "python",
   "name": "python3"
  },
  "language_info": {
   "codemirror_mode": {
    "name": "ipython",
    "version": 3
   },
   "file_extension": ".py",
   "mimetype": "text/x-python",
   "name": "python",
   "nbconvert_exporter": "python",
   "pygments_lexer": "ipython3",
   "version": "3.7.3"
  }
 },
 "nbformat": 4,
 "nbformat_minor": 2
}
