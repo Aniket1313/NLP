{
  "nbformat": 4,
  "nbformat_minor": 0,
  "metadata": {
    "colab": {
      "name": "Advanced NLP_01_spacy.ipynb",
      "provenance": [],
      "authorship_tag": "ABX9TyNJvsyWG+ZJx9cKzMmt8UxS",
      "include_colab_link": true
    },
    "kernelspec": {
      "name": "python3",
      "display_name": "Python 3"
    }
  },
  "cells": [
    {
      "cell_type": "markdown",
      "metadata": {
        "id": "view-in-github",
        "colab_type": "text"
      },
      "source": [
        "<a href=\"https://colab.research.google.com/github/Aniket1313/NLP/blob/master/Advanced_NLP_01_spacy.ipynb\" target=\"_parent\"><img src=\"https://colab.research.google.com/assets/colab-badge.svg\" alt=\"Open In Colab\"/></a>"
      ]
    },
    {
      "cell_type": "markdown",
      "metadata": {
        "id": "Pr-nJFTvw4KP",
        "colab_type": "text"
      },
      "source": [
        "## Advanced NLP"
      ]
    },
    {
      "cell_type": "markdown",
      "metadata": {
        "id": "3SwvITFxx0dH",
        "colab_type": "text"
      },
      "source": [
        "#1.Introduction to NLP and SPacy"
      ]
    },
    {
      "cell_type": "code",
      "metadata": {
        "id": "KCiQqE5Two8c",
        "colab_type": "code",
        "colab": {
          "base_uri": "https://localhost:8080/",
          "height": 34
        },
        "outputId": "3a0bcdd7-0a82-4ac5-8172-4d73e344d2a4"
      },
      "source": [
        "# Import the English language class\n",
        "from spacy.lang.en import English\n",
        "\n",
        "# Create the nlp object\n",
        "nlp = English()\n",
        "\n",
        "# Process a text\n",
        "doc = nlp(\"This is a sentence.\")\n",
        "\n",
        "# Print the document text\n",
        "print(doc.text)"
      ],
      "execution_count": 2,
      "outputs": [
        {
          "output_type": "stream",
          "text": [
            "This is a sentence.\n"
          ],
          "name": "stdout"
        }
      ]
    },
    {
      "cell_type": "code",
      "metadata": {
        "id": "XewnsotkwzAo",
        "colab_type": "code",
        "colab": {
          "base_uri": "https://localhost:8080/",
          "height": 34
        },
        "outputId": "0c9c59ff-9304-4417-ed9a-4edfa0c1360c"
      },
      "source": [
        "# Import the German language class\n",
        "from spacy.lang.de import German\n",
        "\n",
        "# Create the nlp object\n",
        "nlp = German()\n",
        "\n",
        "# Process a text (this is German for: \"Kind regards!\")\n",
        "doc = nlp(\"Liebe Grüße!\")\n",
        "\n",
        "# Print the document text\n",
        "print(doc.text)"
      ],
      "execution_count": 3,
      "outputs": [
        {
          "output_type": "stream",
          "text": [
            "Liebe Grüße!\n"
          ],
          "name": "stdout"
        }
      ]
    },
    {
      "cell_type": "code",
      "metadata": {
        "id": "vrU0EtRExr6u",
        "colab_type": "code",
        "colab": {
          "base_uri": "https://localhost:8080/",
          "height": 34
        },
        "outputId": "c6d61952-7623-4b1a-f40c-8c978ddc187d"
      },
      "source": [
        "# Import the Spanish language class\n",
        "from spacy.lang.es import Spanish\n",
        "\n",
        "# Create the nlp object\n",
        "nlp = Spanish()\n",
        "\n",
        "# Process a text (this is Spanish for: \"How are you?\")\n",
        "doc = nlp(\"¿Cómo estás?\")\n",
        "\n",
        "# Print the document text\n",
        "print(doc.text)"
      ],
      "execution_count": 4,
      "outputs": [
        {
          "output_type": "stream",
          "text": [
            "¿Cómo estás?\n"
          ],
          "name": "stdout"
        }
      ]
    },
    {
      "cell_type": "markdown",
      "metadata": {
        "id": "FWLq-3RRymoQ",
        "colab_type": "text"
      },
      "source": [
        "#Documents, spans and tokens\n",
        "When you call nlp on a string, spaCy first tokenizes the text and creates a document object. In this exercise, you'll learn more about the Doc, as well as its views Token and Span."
      ]
    },
    {
      "cell_type": "code",
      "metadata": {
        "id": "cLy6Wj1sylKl",
        "colab_type": "code",
        "colab": {
          "base_uri": "https://localhost:8080/",
          "height": 34
        },
        "outputId": "10193e7b-aa44-424b-d197-ee88c85f7312"
      },
      "source": [
        "# Import the English language class and create the nlp object\n",
        "from spacy.lang.en import English\n",
        "nlp = English()\n",
        "\n",
        "# Process the text\n",
        "doc = nlp(\"I like tree kangaroos and narwhals.\")\n",
        "\n",
        "# Select the first token\n",
        "first_token = doc[0]\n",
        "\n",
        "# Print the first token's text\n",
        "print(first_token.text)"
      ],
      "execution_count": 5,
      "outputs": [
        {
          "output_type": "stream",
          "text": [
            "I\n"
          ],
          "name": "stdout"
        }
      ]
    },
    {
      "cell_type": "code",
      "metadata": {
        "id": "Bv7y7-b8ylM2",
        "colab_type": "code",
        "colab": {
          "base_uri": "https://localhost:8080/",
          "height": 51
        },
        "outputId": "c12648c5-e98d-4aef-d015-64be115cd1dc"
      },
      "source": [
        "# Import the English language class and create the nlp object\n",
        "from spacy.lang.en import English\n",
        "nlp = English()\n",
        "\n",
        "# Process the text\n",
        "doc = nlp(\"I like tree kangaroos and narwhals.\")\n",
        "\n",
        "# A slice of the Doc for \"tree kangaroos\"\n",
        "tree_kangaroos = doc[2:4]\n",
        "print(tree_kangaroos.text)\n",
        "\n",
        "# A slice of the Doc for \"tree kangaroos and narwhals\" (without the \".\")\n",
        "tree_kangaroos_and_narwhals = doc[2:6]\n",
        "print(tree_kangaroos_and_narwhals)"
      ],
      "execution_count": 6,
      "outputs": [
        {
          "output_type": "stream",
          "text": [
            "tree kangaroos\n",
            "tree kangaroos and narwhals\n"
          ],
          "name": "stdout"
        }
      ]
    },
    {
      "cell_type": "markdown",
      "metadata": {
        "id": "jIYVlIDJ20dh",
        "colab_type": "text"
      },
      "source": [
        "# Lexical attributes\n",
        "\n",
        "\n",
        "In this example, you'll use spaCy's Doc and Token objects, and lexical attributes to find percentages in a text. You'll be looking for two subsequent tokens: a number and a percent sign. The English nlp object has already been created.\n"
      ]
    },
    {
      "cell_type": "code",
      "metadata": {
        "id": "F6lKagEMylPa",
        "colab_type": "code",
        "colab": {
          "base_uri": "https://localhost:8080/",
          "height": 51
        },
        "outputId": "ef9df29d-7618-4ae3-e783-af82cae3bd32"
      },
      "source": [
        "# Process the text\n",
        "doc = nlp(\"In 1990, more than 60% of people in East Asia were in extreme poverty. Now less than 4% are.\")\n",
        "\n",
        "# Iterate over the tokens in the doc\n",
        "for token in doc:\n",
        "    # Check if the token resembles a number\n",
        "    if token.like_num:\n",
        "        # Get the next token in the document\n",
        "        next_token = doc[token.i + 1]\n",
        "        # Check if the next token's text equals '%'\n",
        "        if next_token.text == '%':\n",
        "          print('Percentage found:', token.text)"
      ],
      "execution_count": 7,
      "outputs": [
        {
          "output_type": "stream",
          "text": [
            "Percentage found: 60\n",
            "Percentage found: 4\n"
          ],
          "name": "stdout"
        }
      ]
    },
    {
      "cell_type": "code",
      "metadata": {
        "id": "Yfd7FqEFAMhO",
        "colab_type": "code",
        "colab": {
          "base_uri": "https://localhost:8080/",
          "height": 51
        },
        "outputId": "2072d572-7668-4845-a006-20253f3a2e55"
      },
      "source": [
        "import spacy.cli\n",
        "spacy.cli.download('en_core_web_sm')"
      ],
      "execution_count": 8,
      "outputs": [
        {
          "output_type": "stream",
          "text": [
            "\u001b[38;5;2m✔ Download and installation successful\u001b[0m\n",
            "You can now load the model via spacy.load('en_core_web_sm')\n"
          ],
          "name": "stdout"
        }
      ]
    },
    {
      "cell_type": "code",
      "metadata": {
        "id": "QaWg6HSfylUU",
        "colab_type": "code",
        "colab": {
          "base_uri": "https://localhost:8080/",
          "height": 34
        },
        "outputId": "1eefc9a4-316f-49ac-9a5f-fcf223968c7c"
      },
      "source": [
        "# Load the small English model – spaCy is already imported\n",
        "nlp = spacy.load('en_core_web_sm')\n",
        "\n",
        "text = \"It’s official: Apple is the first U.S. public company to reach a $1 trillion market value\"\n",
        "\n",
        "# Process the text\n",
        "doc = nlp(text)\n",
        "\n",
        "# Print the document text\n",
        "print(doc.text)"
      ],
      "execution_count": 9,
      "outputs": [
        {
          "output_type": "stream",
          "text": [
            "It’s official: Apple is the first U.S. public company to reach a $1 trillion market value\n"
          ],
          "name": "stdout"
        }
      ]
    },
    {
      "cell_type": "code",
      "metadata": {
        "id": "PFRaoYkWylW0",
        "colab_type": "code",
        "colab": {
          "base_uri": "https://localhost:8080/",
          "height": 340
        },
        "outputId": "2ca37b66-7222-4ef7-9b84-2025ae27375c"
      },
      "source": [
        "text = \"It’s official: Apple is the first U.S. public company to reach a $1 trillion market value\"\n",
        "\n",
        "# Process the text\n",
        "doc = nlp(text)\n",
        "\n",
        "for token in doc:\n",
        "    # Get the token text, part-of-speech tag and dependency label\n",
        "    token_text = token.text\n",
        "    token_pos = token.pos_\n",
        "    token_dep = token.dep_\n",
        "    # This is for formatting only\n",
        "    print('{:<12}{:<10}{:<10}'.format(token_text, token_pos, token_dep))"
      ],
      "execution_count": 10,
      "outputs": [
        {
          "output_type": "stream",
          "text": [
            "It          PRON      nsubj     \n",
            "’s          VERB      punct     \n",
            "official    NOUN      ccomp     \n",
            ":           PUNCT     punct     \n",
            "Apple       PROPN     nsubj     \n",
            "is          AUX       ROOT      \n",
            "the         DET       det       \n",
            "first       ADJ       amod      \n",
            "U.S.        PROPN     nmod      \n",
            "public      ADJ       amod      \n",
            "company     NOUN      attr      \n",
            "to          PART      aux       \n",
            "reach       VERB      relcl     \n",
            "a           DET       det       \n",
            "$           SYM       quantmod  \n",
            "1           NUM       compound  \n",
            "trillion    NUM       nummod    \n",
            "market      NOUN      compound  \n",
            "value       NOUN      dobj      \n"
          ],
          "name": "stdout"
        }
      ]
    },
    {
      "cell_type": "markdown",
      "metadata": {
        "id": "zdRwnNKIirL4",
        "colab_type": "text"
      },
      "source": [
        "#Predicting linguistic annotations\n",
        "You'll now get to try one of spaCy's pre-trained model packages and see its predictions in action. Feel free to try it out on your own text! The small English model is already available as the variable nlp.\n",
        "\n",
        "To find out what a tag or label means, you can call spacy.explain in the IPython shell. For example: spacy.explain('PROPN') or spacy.explain('GPE')."
      ]
    },
    {
      "cell_type": "code",
      "metadata": {
        "id": "tgzLLKTTylZd",
        "colab_type": "code",
        "colab": {
          "base_uri": "https://localhost:8080/",
          "height": 85
        },
        "outputId": "42b407ba-26f4-4962-f23c-b7446c2c238c"
      },
      "source": [
        "text = \"It’s official: Apple is the first U.S. public company to reach a $1 trillion market value\"\n",
        "\n",
        "# Process the text\n",
        "doc = nlp(text)\n",
        "\n",
        "# Iterate over the predicted entities\n",
        "for ent in doc.ents:\n",
        "    # print the entity text and its label\n",
        "    print(ent.text, ent.label_)"
      ],
      "execution_count": 11,
      "outputs": [
        {
          "output_type": "stream",
          "text": [
            "Apple ORG\n",
            "first ORDINAL\n",
            "U.S. GPE\n",
            "$1 trillion MONEY\n"
          ],
          "name": "stdout"
        }
      ]
    },
    {
      "cell_type": "markdown",
      "metadata": {
        "id": "GTA2XEJOjqqy",
        "colab_type": "text"
      },
      "source": [
        "#Predicting named entities in context\n",
        "Models are statistical and not always right. Whether their predictions are correct depends on the training data and the text you're processing. Let's take a look at an example. The small English model is available as the variable nlp."
      ]
    },
    {
      "cell_type": "code",
      "metadata": {
        "id": "VvlutrlajPl0",
        "colab_type": "code",
        "colab": {
          "base_uri": "https://localhost:8080/",
          "height": 51
        },
        "outputId": "58cb1260-1a86-429c-b8c4-cf6b31a63e48"
      },
      "source": [
        "text = \"New iPhone X release date leaked as Apple reveals pre-orders by mistake\"\n",
        "\n",
        "# Process the text\n",
        "doc = nlp(text)\n",
        "\n",
        "# Iterate over the entities\n",
        "for ent in doc.ents:\n",
        "    # print the entity text and label\n",
        "    print(ent.text, ent.label_)"
      ],
      "execution_count": 12,
      "outputs": [
        {
          "output_type": "stream",
          "text": [
            "New iPhone EVENT\n",
            "Apple ORG\n"
          ],
          "name": "stdout"
        }
      ]
    },
    {
      "cell_type": "markdown",
      "metadata": {
        "id": "UB1Ic-MElauS",
        "colab_type": "text"
      },
      "source": [
        "Iphone is **incorrectly** classfied as EVENT!\n",
        "\n",
        "Looks like the model didn't predict \"iPhone X\". Create a span for those tokens manually."
      ]
    },
    {
      "cell_type": "code",
      "metadata": {
        "id": "hb2c1L7-kdBE",
        "colab_type": "code",
        "colab": {}
      },
      "source": [
        "text = \"New iPhone X release date leaked as Apple reveals pre-orders by mistake\"\n",
        "\n",
        "# Process the text\n",
        "doc = nlp(text)\n",
        "\n",
        "# Iterate over the entities\n",
        "for ent in doc.ents:\n",
        "    # print the entity text and label\n",
        "    print(ent.text, ent.label_)\n",
        "\n",
        "# Get the span for \"iPhone X\"\n",
        "iphone_x = doc[1:3]\n",
        "\n",
        "# Print the span text\n",
        "print('Missing entity:', iphone_x.text)"
      ],
      "execution_count": 13,
      "outputs": []
    },
    {
      "cell_type": "markdown",
      "metadata": {
        "id": "CGBIn80O1dMl",
        "colab_type": "text"
      },
      "source": [
        "#Using the Matcher\n",
        "Let's try spaCy's rule-based Matcher. You'll be using the example from the previous exercise and write a pattern that can match the phrase \"iPhone X\" in the text. The nlp object and a processed doc are already available."
      ]
    },
    {
      "cell_type": "code",
      "metadata": {
        "id": "jAo185Iikhvx",
        "colab_type": "code",
        "colab": {}
      },
      "source": [
        "# Import the Matcher\n",
        "from spacy.matcher import Matcher\n",
        "\n",
        "# Initialize the Matcher with the shared vocabulary\n",
        "matcher = Matcher(nlp.vocab)"
      ],
      "execution_count": 16,
      "outputs": []
    },
    {
      "cell_type": "markdown",
      "metadata": {
        "id": "jYWywNoy9KYs",
        "colab_type": "text"
      },
      "source": [
        "#Using the Matcher\n",
        "\n",
        "Let's try spaCy's rule-based Matcher. You'll be using the example from the previous exercise and write a pattern that can match the phrase \"iPhone X\" in the text. The nlp object and a processed doc are already available."
      ]
    },
    {
      "cell_type": "code",
      "metadata": {
        "id": "xUVg7Ff_1XzK",
        "colab_type": "code",
        "colab": {}
      },
      "source": [
        "# Import the Matcher\n",
        "from spacy.matcher import Matcher\n",
        "\n",
        "# Initialize the Matcher with the shared vocabulary\n",
        "matcher = Matcher(nlp.vocab)\n",
        "\n",
        "# Create a pattern matching two tokens: \"iPhone\" and \"X\"\n",
        "pattern = [{'TEXT': 'iPhone'}, {'TEXT': 'X'}]\n",
        "\n",
        "# Add the pattern to the matcher\n",
        "matcher.add('IPHONE_X_PATTERN', None, pattern)"
      ],
      "execution_count": 17,
      "outputs": []
    },
    {
      "cell_type": "code",
      "metadata": {
        "id": "-ptAmEzF9Ueb",
        "colab_type": "code",
        "colab": {
          "base_uri": "https://localhost:8080/",
          "height": 34
        },
        "outputId": "e884f112-180e-4fa9-86ba-f164f36c896e"
      },
      "source": [
        "# Import the Matcher and initialize it with the shared vocabulary\n",
        "from spacy.matcher import Matcher\n",
        "matcher = Matcher(nlp.vocab)\n",
        "\n",
        "# Create a pattern matching two tokens: \"iPhone\" and \"X\"\n",
        "pattern = [{'TEXT': 'iPhone'}, {'TEXT': 'X'}]\n",
        "\n",
        "# Add the pattern to the matcher\n",
        "matcher.add('IPHONE_X_PATTERN', None, pattern)\n",
        "\n",
        "# Use the matcher on the doc\n",
        "matches = matcher(doc)\n",
        "print('Matches:', [doc[start:end].text for match_id, start, end in matches])"
      ],
      "execution_count": 18,
      "outputs": [
        {
          "output_type": "stream",
          "text": [
            "Matches: ['iPhone X']\n"
          ],
          "name": "stdout"
        }
      ]
    },
    {
      "cell_type": "markdown",
      "metadata": {
        "id": "hvmeQD0W_7qC",
        "colab_type": "text"
      },
      "source": [
        "Write one pattern that only matches mentions of the full iOS versions: \"iOS 7\", \"iOS 11\" and \"iOS 10\"."
      ]
    },
    {
      "cell_type": "code",
      "metadata": {
        "id": "yd7zcBVR_7At",
        "colab_type": "code",
        "colab": {
          "base_uri": "https://localhost:8080/",
          "height": 85
        },
        "outputId": "739ccbaf-51c7-4d9f-afc1-ac93fdedb660"
      },
      "source": [
        "doc = nlp(\"After making the iOS update you won't notice a radical system-wide redesign: nothing like the aesthetic upheaval we got with iOS 7. Most of iOS 11's furniture remains the same as in iOS 10. But you will discover some tweaks once you delve a little deeper.\")\n",
        "\n",
        "# Write a pattern for full iOS versions (\"iOS 7\", \"iOS 11\", \"iOS 10\")\n",
        "pattern = [{'TEXT': 'iOS'},{'IS_DIGIT': True}]\n",
        "\n",
        "\n",
        "# Add the pattern to the matcher and apply the matcher to the doc\n",
        "matcher.add('IOS_VERSION_PATTERN', None, pattern)\n",
        "matches = matcher(doc)\n",
        "print('Total matches found:', len(matches))\n",
        "\n",
        "# Iterate over the matches and print the span text\n",
        "for match_id, start, end in matches:\n",
        "    print('Match found:', doc[start:end].text)"
      ],
      "execution_count": 19,
      "outputs": [
        {
          "output_type": "stream",
          "text": [
            "Total matches found: 3\n",
            "Match found: iOS 7\n",
            "Match found: iOS 11\n",
            "Match found: iOS 10\n"
          ],
          "name": "stdout"
        }
      ]
    },
    {
      "cell_type": "markdown",
      "metadata": {
        "id": "OD7JzJlcAxQP",
        "colab_type": "text"
      },
      "source": [
        "To specify a lemma, you can use the 'LEMMA' attribute in the token pattern. For example, {'LEMMA': 'be'} will match tokens like \"is\", \"was\" or \"being\"."
      ]
    },
    {
      "cell_type": "code",
      "metadata": {
        "id": "B2ilaWi89GWf",
        "colab_type": "code",
        "colab": {}
      },
      "source": [
        "#Write one pattern that only matches mentions of the full iOS versions: \"iOS 7\", \"iOS 11\" and \"iOS 10\".\n"
      ],
      "execution_count": 20,
      "outputs": []
    },
    {
      "cell_type": "code",
      "metadata": {
        "id": "K3W2gizj9Rle",
        "colab_type": "code",
        "colab": {}
      },
      "source": [
        "doc = nlp(\"After making the iOS update you won't notice a radical system-wide redesign: nothing like the aesthetic upheaval we got with iOS 7. Most of iOS 11's furniture remains the same as in iOS 10. But you will discover some tweaks once you delve a little deeper.\")\n",
        "\n",
        "# Write a pattern for full iOS versions (\"iOS 7\", \"iOS 11\", \"iOS 10\")\n",
        "pattern = [{'TEXT': 'iOS'},{'IS_DIGIT': True}]\n",
        "\n",
        "\n",
        "# Add the pattern to the matcher and apply the matcher to the doc\n",
        "matcher.add('IOS_VERSION_PATTERN', None, pattern)\n",
        "matches = matcher(doc)"
      ],
      "execution_count": 22,
      "outputs": []
    },
    {
      "cell_type": "markdown",
      "metadata": {
        "id": "aN2xzZZo90qg",
        "colab_type": "text"
      },
      "source": [
        "Write one pattern that only matches forms of \"download\" (tokens with the lemma \"download\"), followed by a token with the part-of-speech tag 'PROPN' (proper noun).\n"
      ]
    },
    {
      "cell_type": "code",
      "metadata": {
        "id": "kI9rgTWU-TnE",
        "colab_type": "code",
        "colab": {
          "base_uri": "https://localhost:8080/",
          "height": 85
        },
        "outputId": "e006747f-4ad7-4ef3-da0f-706e0eccb0b3"
      },
      "source": [
        "doc = nlp(\"i downloaded Fortnite on my laptop and can't open the game at all. Help? so when I was downloading Minecraft, I got the Windows version where it is the '.zip' folder and I used the default program to unpack it... do I also need to download Winzip?\")\n",
        "\n",
        "# Write a pattern that matches a form of \"download\" plus proper noun\n",
        "pattern = [{'LEMMA': 'download'}, {'POS': 'PROPN'}]\n",
        "\n",
        "# Add the pattern to the matcher and apply the matcher to the doc\n",
        "matcher.add('DOWNLOAD_THINGS_PATTERN', None, pattern)\n",
        "matches = matcher(doc)\n",
        "print('Total matches found:', len(matches))\n",
        "\n",
        "# Iterate over the matches and print the span text\n",
        "for match_id, start, end in matches:\n",
        "    print('Match found:', doc[start:end].text)"
      ],
      "execution_count": 21,
      "outputs": [
        {
          "output_type": "stream",
          "text": [
            "Total matches found: 3\n",
            "Match found: downloaded Fortnite\n",
            "Match found: downloading Minecraft\n",
            "Match found: download Winzip\n"
          ],
          "name": "stdout"
        }
      ]
    },
    {
      "cell_type": "markdown",
      "metadata": {
        "id": "oAMcyV_pCwgz",
        "colab_type": "text"
      },
      "source": [
        "Write one pattern that matches adjectives ('ADJ') followed by one or two 'NOUN's (one noun and one optional noun).\n"
      ]
    },
    {
      "cell_type": "markdown",
      "metadata": {
        "id": "4Rl_2ejlDOH4",
        "colab_type": "text"
      },
      "source": [
        ""
      ]
    },
    {
      "cell_type": "code",
      "metadata": {
        "id": "AF4i6fne9d_q",
        "colab_type": "code",
        "colab": {}
      },
      "source": [
        ""
      ],
      "execution_count": null,
      "outputs": []
    },
    {
      "cell_type": "code",
      "metadata": {
        "id": "Cm8n0c2i9LZy",
        "colab_type": "code",
        "colab": {
          "base_uri": "https://localhost:8080/",
          "height": 119
        },
        "outputId": "3f262d00-b937-4998-fde2-18e14c586c5c"
      },
      "source": [
        "doc = nlp(\"Features of the app include a beautiful design, smart search, automatic labels and optional voice responses.\")\n",
        "\n",
        "# Write a pattern for adjective plus one or two nouns\n",
        "pattern = [{'POS': 'ADJ'}, {'POS': 'NOUN'}, {'POS': 'NOUN', 'OP': '?'}]\n",
        "\n",
        "# Add the pattern to the matcher and apply the matcher to the doc\n",
        "matcher.add('ADJ_NOUN_PATTERN', None, pattern)\n",
        "matches = matcher(doc)\n",
        "print('Total matches found:', len(matches))\n",
        "\n",
        "# Iterate over the matches and print the span text\n",
        "for match_id, start, end in matches:\n",
        "    print('Match found:', doc[start:end].text)"
      ],
      "execution_count": 23,
      "outputs": [
        {
          "output_type": "stream",
          "text": [
            "Total matches found: 5\n",
            "Match found: beautiful design\n",
            "Match found: smart search\n",
            "Match found: automatic labels\n",
            "Match found: optional voice\n",
            "Match found: optional voice responses\n"
          ],
          "name": "stdout"
        }
      ]
    },
    {
      "cell_type": "code",
      "metadata": {
        "id": "WJ2VInnvDOnt",
        "colab_type": "code",
        "colab": {}
      },
      "source": [
        ""
      ],
      "execution_count": null,
      "outputs": []
    }
  ]
}